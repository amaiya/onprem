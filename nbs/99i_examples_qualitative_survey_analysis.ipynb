{
 "cells": [
  {
   "cell_type": "code",
   "execution_count": null,
   "metadata": {},
   "outputs": [],
   "source": [
    "%reload_ext autoreload\n",
    "%autoreload 2"
   ]
  },
  {
   "cell_type": "markdown",
   "metadata": {},
   "source": [
    "# Qualitative Survey Analysis\n",
    "\n"
   ]
  },
  {
   "cell_type": "markdown",
   "metadata": {},
   "source": [
    "\n",
    "This notebook covers using generative AI for tasks common in the social sciences. **Qualitative survey analysis** focuses on understanding the meaning and context behind survey responses, seeking to identify themes, patterns, and insights from **open-ended questions and textual data**, rather than numerical data. \n",
    "\n",
    "In this tutorial we will use generative AI to analyze open-ended survey responses using [OnPrem.LLM](https://github.com/amaiya/onprem), an open-source document intelligence toolkit.  \n",
    "\n",
    "More specifically, we will use a local large language model (LLM) to analyze open-ended responses to the [OSTP RFI on the future of AI](https://obamawhitehouse.archives.gov/sites/default/files/microsites/ostp/OSTP-AI-RFI-Responses.pdf).  Public commentary was requested with respect to 10 topic areas. We will auto-code each responses into one of the following topic areas."
   ]
  },
  {
   "cell_type": "code",
   "execution_count": null,
   "metadata": {},
   "outputs": [],
   "source": [
    "# | notest\n",
    "\n",
    "categories = [\n",
    "          'LEGAL',                # Legal and Governance implications of AI\n",
    "          'PUBLIC GOOD',          # AI for public good\n",
    "          'SAFETY',               # AI Safety\n",
    "          'ECONOMIC',             # Economic and Societal Impact of AI\n",
    "          'RESEARCH QUESTIONS',   # AI Research Questions\n",
    "          'RESEARCH GAPS',        # AI Research Gaps\n",
    "          'TRAINING',             # AI Training and Education\n",
    "          'MULTIDISCIPLINARY',    # Multidisciplinary Aspects of AI\n",
    "          'DATA',                 # Training Data Issues in AI\n",
    "          'MARKET_SHAPING',       # Role of Market Shaping in AI\n",
    "          'NA'                    # a miscellaneous category that we added\n",
    "         ]"
   ]
  },
  {
   "cell_type": "code",
   "execution_count": null,
   "metadata": {},
   "outputs": [],
   "source": [
    "# | notest\n",
    "\n",
    "from onprem import LLM\n",
    "from onprem.pipelines import Summarizer\n",
    "from onprem.ingest import load_single_document\n",
    "from onprem import utils as U\n",
    "from tqdm import tqdm\n",
    "import seaborn as sns\n",
    "from textwrap import wrap\n",
    "\n",
    "import pandas as pd\n",
    "import re\n",
    "\n",
    "\n",
    "pd.set_option('display.max_colwidth', None)"
   ]
  },
  {
   "cell_type": "markdown",
   "metadata": {},
   "source": [
    "## STEP 1: Download the Data\n",
    "\n",
    "We will first downlod a 349-page PDF containing **all** responses from `obamawhitehouse.archives.gov`."
   ]
  },
  {
   "cell_type": "code",
   "execution_count": null,
   "metadata": {},
   "outputs": [
    {
     "name": "stdout",
     "output_type": "stream",
     "text": [
      "[██████████████████████████████████████████████████]"
     ]
    }
   ],
   "source": [
    "# | notest\n",
    "\n",
    "\n",
    "U.download('https://obamawhitehouse.archives.gov/sites/default/files/microsites/ostp/OSTP-AI-RFI-Responses.pdf',\n",
    "            '/tmp/responses.pdf', verify=True)"
   ]
  },
  {
   "cell_type": "markdown",
   "metadata": {},
   "source": [
    "## STEP 2: Chunk  Data\n",
    "\n",
    "We'll treat each paragraph in the PDF as a separate \"response\" to code by topic area. There are 1900+ paragraphs."
   ]
  },
  {
   "cell_type": "code",
   "execution_count": null,
   "metadata": {},
   "outputs": [],
   "source": [
    "# | notest\n",
    "\n",
    "docs = load_single_document('/tmp/responses.pdf')"
   ]
  },
  {
   "cell_type": "code",
   "execution_count": null,
   "metadata": {},
   "outputs": [],
   "source": [
    "# | notest\n",
    "\n",
    "text = '\\n'.join([d.page_content for d in docs])"
   ]
  },
  {
   "cell_type": "code",
   "execution_count": null,
   "metadata": {},
   "outputs": [],
   "source": [
    "# | notest\n",
    "\n",
    "paragraphs = U.segment(text, unit='paragraph')"
   ]
  },
  {
   "cell_type": "code",
   "execution_count": null,
   "metadata": {},
   "outputs": [
    {
     "data": {
      "text/plain": [
       "1911"
      ]
     },
     "execution_count": null,
     "metadata": {},
     "output_type": "execute_result"
    }
   ],
   "source": [
    "# | notest\n",
    "\n",
    "len(paragraphs)"
   ]
  },
  {
   "cell_type": "markdown",
   "metadata": {},
   "source": [
    "**NOTE:**  \n",
    "Paragraph-chunking is used here for illustrative purposes only and can be replaced by alternative chunking methods. \n",
    "\n",
    "Given how the RFI responses are structured, chunking by paragraph for this dataset might be considered a comparatively more error-prone approach, as individual passages delimited by two or more newline characters may not always be valid paragraphs and/or may not contain enough context for the proper classification.\n",
    "\n",
    "A better approach for this dataset might be to use methods like *semantic chunking*, which splits chunks by semantic similarity.  To use semantic chunking, you can replace the code above with use of libraries like [Chonkie](https://github.com/chonkie-inc/chonkie)."
   ]
  },
  {
   "cell_type": "markdown",
   "metadata": {},
   "source": [
    "## STEP 3: Run the Analysis Using an LLM\n",
    "\n",
    "Next, we will execute the prompt below against each response in the PDF. We will load and run a quantized version of Llama 3.1. GPU accelearation (which we enable with `n_gpu_layers=-1`) is imporant to produce results faster."
   ]
  },
  {
   "cell_type": "code",
   "execution_count": null,
   "metadata": {},
   "outputs": [
    {
     "name": "stderr",
     "output_type": "stream",
     "text": [
      "llama_init_from_model: n_ctx_per_seq (3904) < n_ctx_train (131072) -- the full capacity of the model will not be utilized\n"
     ]
    }
   ],
   "source": [
    "# | notest\n",
    "\n",
    "llm = LLM(default_model='llama', mute_stream=True, verbose=False, n_gpu_layers=-1, temperature=0)"
   ]
  },
  {
   "cell_type": "code",
   "execution_count": null,
   "metadata": {},
   "outputs": [],
   "source": [
    "# | notest\n",
    "\n",
    "prompt = \"\"\"Here are 11 topics and their descriptions:\n",
    "1. LEGAL: The legal and governance implications of AI\n",
    "2. PUBLIC GOOD: the use of AI for public good\n",
    "3. SAFETY: the safety and control issues for AI\n",
    "4. ECONOMIC: the social and economic implications of AI\n",
    "5. RESEARCH QUESTIONS: the most pressing, fundamental questions in AI research, common to most or all scientific fields; \n",
    "6. RESEARCH GAPS: the most important research gaps in AI that must be addressed to advance this field and benefit the public;\n",
    "7. TRAINING: the scientific and technical training that will be needed to take advantage of harnessing the potential of AI technology, and the challenges faced by institutions of higher education in retaining faculty and responding to explosive growth in student enrollment in AI-related courses and courses of study;\n",
    "8. MULTIDISCIPLINARY:  the specific steps that could be taken by the federal government, research institutes, universities, and philanthropies to encourage multi-disciplinary AI research; \n",
    "9. DATA: specific training data sets that can accelerate the development of AI and its application; \n",
    "10. MARKET_SHAPING: the role that “market shaping” approaches such as incentive prizes and Advanced\n",
    "Market Commitments can play in accelerating the development of applications of AI to\n",
    "address societal needs, such as accelerated training for low and moderate income workers\n",
    "11. NA: text does not fit into any of the above topics\n",
    "\n",
    "Categorize the following text in exactly one of the above  topics. Output only the topic and nothing else\n",
    "\n",
    "# Example 1:\n",
    "TEXT: \n",
    "AI is not trustworthy because we don't understand how it works.\n",
    "\n",
    "TOPIC: SAFETY: the safety and control issues for AI\n",
    "\n",
    "# Example 2:\n",
    "TEXT: \n",
    "{text}\n",
    "\n",
    "TOPIC:\"\"\""
   ]
  },
  {
   "cell_type": "code",
   "execution_count": null,
   "metadata": {},
   "outputs": [],
   "source": [
    "# | notest\n",
    "\n",
    "test_input = \"\"\"\n",
    "At the center of medical practice is the act of inference, or reaching a conclusion on the basis\n",
    "of evidence and reasoning. Doctors and nurses learn to map patients’ symptoms, lifestyles\n",
    "and metadata to a diagnosis of their condition.\n",
    "\n",
    "Any mathematical function is simply a way of mapping input variables to an output; that is,\n",
    "inference is also at the heart of AI. The promise of AI in public health is to serve as a\n",
    "automated second opinion for healthcare professionals; it has the ability to check them\n",
    "when they slip.\n",
    "\"\"\""
   ]
  },
  {
   "cell_type": "code",
   "execution_count": null,
   "metadata": {},
   "outputs": [
    {
     "name": "stdout",
     "output_type": "stream",
     "text": [
      "PUBLIC GOOD: the use of AI for public good\n"
     ]
    }
   ],
   "source": [
    "# | notest\n",
    "\n",
    "output = llm.prompt(U.format_string(prompt, text=test_input))\n",
    "print(output)"
   ]
  },
  {
   "cell_type": "code",
   "execution_count": null,
   "metadata": {},
   "outputs": [
    {
     "name": "stderr",
     "output_type": "stream",
     "text": [
      "100%|███████████████████████████████████████████████████████████████████████████████| 1909/1909 [10:24<00:00,  3.06it/s]\n"
     ]
    }
   ],
   "source": [
    "# | notest\n",
    "\n",
    "predictions = []\n",
    "paragraphs = paragraphs[2:] # first two \"paragraphs\" are boiler-plate headings\n",
    "for paragraph in tqdm(paragraphs, total=len(paragraphs)):\n",
    "    output = llm.prompt(U.format_string(prompt, text=paragraph))\n",
    "    predictions.append(output)"
   ]
  },
  {
   "cell_type": "markdown",
   "metadata": {},
   "source": [
    "## STEP 4: Clean the LLM Output\n",
    "\n",
    "The LLM sometimes makes mistakes (e.g., outputs the number of the topic instead of the name of the topic, etc.). Options to correct are to change the prompt, change the model, and post-process (or clean) the results.  To avoid       running the analysis again, we will simply clean the LLM's output."
   ]
  },
  {
   "cell_type": "code",
   "execution_count": null,
   "metadata": {},
   "outputs": [],
   "source": [
    "# | notest\n",
    "\n",
    "# Filter out texts shorter than 8 characters and corresponding preds\n",
    "filtered_texts, filtered_preds = zip(*[(t, p) for t, p in zip(paragraphs, predictions) if len(t) >= 32])\n",
    "\n",
    "# Convert to lists if needed\n",
    "filtered_texts = list(filtered_texts)\n",
    "\n",
    "\n",
    "labels = []\n",
    "descriptions = []\n",
    "NAs = []\n",
    "cat_map = dict([(str(i+1), c) for i, c in enumerate(categories)])\n",
    "for i, p in enumerate(filtered_preds):\n",
    "    parts = p.split(\":\")\n",
    "    label = 'NA'\n",
    "    desc = 'NA'\n",
    "    if len(parts)<2:\n",
    "        label = p\n",
    "        desc = p\n",
    "    else:\n",
    "        label = parts[0].strip()\n",
    "        desc = parts[1].strip()\n",
    "    for cat in categories:\n",
    "        if cat in label:\n",
    "            label = cat\n",
    "            break\n",
    "    if label not in categories:\n",
    "        if label.strip().endswith('.'):\n",
    "            label = label[:-1].strip()\n",
    "        if label in cat_map:\n",
    "            label = cat_map[label]\n",
    "    labels.append(label)\n",
    "    descriptions.append(desc)"
   ]
  },
  {
   "cell_type": "markdown",
   "metadata": {},
   "source": [
    "## STEP 5: Examine and Plot the Results\n",
    "\n",
    "We will store the results in a Dataframe, which can be used to both spot-check and plot results."
   ]
  },
  {
   "cell_type": "code",
   "execution_count": null,
   "metadata": {},
   "outputs": [],
   "source": [
    "# | notest\n",
    "\n",
    "df = pd.DataFrame(\n",
    "    {'topic': labels,\n",
    "     'description': descriptions,\n",
    "     'response': filtered_texts\n",
    "    })"
   ]
  },
  {
   "cell_type": "code",
   "execution_count": null,
   "metadata": {},
   "outputs": [
    {
     "data": {
      "text/html": [
       "<div>\n",
       "<style scoped>\n",
       "    .dataframe tbody tr th:only-of-type {\n",
       "        vertical-align: middle;\n",
       "    }\n",
       "\n",
       "    .dataframe tbody tr th {\n",
       "        vertical-align: top;\n",
       "    }\n",
       "\n",
       "    .dataframe thead th {\n",
       "        text-align: right;\n",
       "    }\n",
       "</style>\n",
       "<table border=\"1\" class=\"dataframe\">\n",
       "  <thead>\n",
       "    <tr style=\"text-align: right;\">\n",
       "      <th></th>\n",
       "      <th>topic</th>\n",
       "      <th>description</th>\n",
       "      <th>response</th>\n",
       "    </tr>\n",
       "  </thead>\n",
       "  <tbody>\n",
       "    <tr>\n",
       "      <th>0</th>\n",
       "      <td>PUBLIC GOOD</td>\n",
       "      <td>the use of AI for public good</td>\n",
       "      <td>Public Responses  September 1, 2016 Respondent 1  Chris Nicholson, Skymind Inc.   This submission will address topics 1, 2, 4 and 10 in the OSTP’s RFI:  •  the legal and governance implications of AI  •  the use of AI for public good  •  the social and economic implications of AI  •  the role of “market-shaping” approaches  Governance, anomaly detection and urban systems</td>\n",
       "    </tr>\n",
       "    <tr>\n",
       "      <th>1</th>\n",
       "      <td>LEGAL</td>\n",
       "      <td>The legal and governance implications of AI</td>\n",
       "      <td>The fundamental task in the governance of urban systems is to keep them running; that is,  to maintain the fluid movement of people, goods, vehicles and information throughout the  system, without which it ceases to function.</td>\n",
       "    </tr>\n",
       "    <tr>\n",
       "      <th>2</th>\n",
       "      <td>SAFETY</td>\n",
       "      <td>the safety and control issues for AI</td>\n",
       "      <td>Breakdowns in the functioning of these systems and their constituent parts are therefore of  great interest, whether it be their energy, transport, security or information infrastructures.   Those breakdowns may result from deteriorations in the physical plant, sudden and  unanticipated overloads, natural disasters or adversarial behavior.</td>\n",
       "    </tr>\n",
       "    <tr>\n",
       "      <th>3</th>\n",
       "      <td>PUBLIC GOOD</td>\n",
       "      <td>the use of AI for public good</td>\n",
       "      <td>In many cases, municipal governments possess historical data about those breakdowns and  the events that precede them, in the form of activity and sensor logs, video, and internal or  public communications.  Where they don’t possess such data already, it can be gathered.</td>\n",
       "    </tr>\n",
       "    <tr>\n",
       "      <th>4</th>\n",
       "      <td>DATA</td>\n",
       "      <td>specific training data sets that can accelerate the development of AI and its application</td>\n",
       "      <td>Such datasets are a tremendous help when applying learning algorithms to predict  breakdowns and system failures.  With enough lead time, those predictions make pre- emptive action possible, action that would cost cities much less than recovery efforts in the  wake of a disaster.  Our choice is between an ounce of prevention or a pound of cure.</td>\n",
       "    </tr>\n",
       "  </tbody>\n",
       "</table>\n",
       "</div>"
      ],
      "text/plain": [
       "         topic  \\\n",
       "0  PUBLIC GOOD   \n",
       "1        LEGAL   \n",
       "2       SAFETY   \n",
       "3  PUBLIC GOOD   \n",
       "4         DATA   \n",
       "\n",
       "                                                                                 description  \\\n",
       "0                                                              the use of AI for public good   \n",
       "1                                                The legal and governance implications of AI   \n",
       "2                                                       the safety and control issues for AI   \n",
       "3                                                              the use of AI for public good   \n",
       "4  specific training data sets that can accelerate the development of AI and its application   \n",
       "\n",
       "                                                                                                                                                                                                                                                                                                                                                                                response  \n",
       "0  Public Responses  September 1, 2016 Respondent 1  Chris Nicholson, Skymind Inc.   This submission will address topics 1, 2, 4 and 10 in the OSTP’s RFI:  •  the legal and governance implications of AI  •  the use of AI for public good  •  the social and economic implications of AI  •  the role of “market-shaping” approaches  Governance, anomaly detection and urban systems  \n",
       "1                                                                                                                                                      The fundamental task in the governance of urban systems is to keep them running; that is,  to maintain the fluid movement of people, goods, vehicles and information throughout the  system, without which it ceases to function.  \n",
       "2                                  Breakdowns in the functioning of these systems and their constituent parts are therefore of  great interest, whether it be their energy, transport, security or information infrastructures.   Those breakdowns may result from deteriorations in the physical plant, sudden and  unanticipated overloads, natural disasters or adversarial behavior.  \n",
       "3                                                                                                        In many cases, municipal governments possess historical data about those breakdowns and  the events that precede them, in the form of activity and sensor logs, video, and internal or  public communications.  Where they don’t possess such data already, it can be gathered.  \n",
       "4                             Such datasets are a tremendous help when applying learning algorithms to predict  breakdowns and system failures.  With enough lead time, those predictions make pre- emptive action possible, action that would cost cities much less than recovery efforts in the  wake of a disaster.  Our choice is between an ounce of prevention or a pound of cure.  "
      ]
     },
     "execution_count": null,
     "metadata": {},
     "output_type": "execute_result"
    }
   ],
   "source": [
    "# | notest\n",
    "\n",
    "df.head()"
   ]
  },
  {
   "cell_type": "code",
   "execution_count": null,
   "metadata": {},
   "outputs": [
    {
     "data": {
      "image/png": "[encoded data removed]",
      "text/plain": [
       "<Figure size 640x480 with 1 Axes>"
      ]
     },
     "metadata": {},
     "output_type": "display_data"
    }
   ],
   "source": [
    "# | notest\n",
    "\n",
    "ax = sns.countplot(x=\"topic\",data=df, order = df['topic'].value_counts().index)\n",
    "ax.tick_params(axis='x', rotation=90)"
   ]
  },
  {
   "cell_type": "markdown",
   "metadata": {},
   "source": [
    "Let's spot-check the responses coded as NA to ensure they're really not relevant to the topics of interest in this study."
   ]
  },
  {
   "cell_type": "code",
   "execution_count": null,
   "metadata": {},
   "outputs": [
    {
     "data": {
      "text/html": [
       "<div>\n",
       "<style scoped>\n",
       "    .dataframe tbody tr th:only-of-type {\n",
       "        vertical-align: middle;\n",
       "    }\n",
       "\n",
       "    .dataframe tbody tr th {\n",
       "        vertical-align: top;\n",
       "    }\n",
       "\n",
       "    .dataframe thead th {\n",
       "        text-align: right;\n",
       "    }\n",
       "</style>\n",
       "<table border=\"1\" class=\"dataframe\">\n",
       "  <thead>\n",
       "    <tr style=\"text-align: right;\">\n",
       "      <th></th>\n",
       "      <th>topic</th>\n",
       "      <th>description</th>\n",
       "      <th>response</th>\n",
       "    </tr>\n",
       "  </thead>\n",
       "  <tbody>\n",
       "    <tr>\n",
       "      <th>31</th>\n",
       "      <td>NA</td>\n",
       "      <td>text does not fit into any of the above topics</td>\n",
       "      <td>Please consider a dybalic aet if rules that value, above all, the value of human life.</td>\n",
       "    </tr>\n",
       "    <tr>\n",
       "      <th>41</th>\n",
       "      <td>NA</td>\n",
       "      <td>text does not fit into any of the above topics</td>\n",
       "      <td>will create the possibility of saving our brains on computers.  I found this in  manuscripts, this is the “Budapest Kabbalah Theory of the Nineteen Twenties”.  It sounds an  innovation, but is very simple.  4. There are Cycles.  In each Hundred Years we only look at  two Constellations – Jubilee Years from the Bible - from among the Kings who hav had an  impact on our Ancestors.  This is the basic idea of the List I have found.  It is based on the  Biblical 50 years the Yobel Cycles.  5. Hence we do have four Decades (with 12 ys).  There  exist statistics about Bank-Cycles and also about the psychological differences of the Four  Phases.  This psychological cycle theory was presented in the Eighties by Lloyd deMause,  who analyzed the differing cartoon motives of the four different years of American  presidents.  He found archtypes – Body Parts, Family Members – like Jung and Bowlby in  their theories in the 1930s and 1950s.  And this can be projected to the Four Decades of a  messianic Yobel Year, of the 45-50 years (when price cycles restart five years before the  fulfillment of the half century).   6.To further filter the countless events in history, we only  look at religious fightings: non-Jewish David-House legends in Kingly families  (like the  Habsburgs, Bourbons who have had Hungarian-Polish Szapolyai ancestors (these are 2 facts  that are not wel-known) 7.  It is also not well-known, that in every generation there are  Jewish Rabbis, who are considered to stem from the Davidic Line – potential Meshiahs.  8.  There are weekly melodies in the Bible  (also not well-known, ut each religion has it – but  only the Jewish melodies are present everywhere in Europe without two much change.   Because of this these therapeutic melodies can be found in the differenet traumatic  Ancestral Stress Dates.  It is a simple fact.  9. These melodies can be found in stress- contemporary non-Jewish music too.  This is needed for the ancestrally relevant non-Jewish  Kings might not have heard synagogue melodies.  (Although</td>\n",
       "    </tr>\n",
       "    <tr>\n",
       "      <th>81</th>\n",
       "      <td>NA</td>\n",
       "      <td>NA</td>\n",
       "      <td>conversational AI software platform.</td>\n",
       "    </tr>\n",
       "    <tr>\n",
       "      <th>93</th>\n",
       "      <td>NA</td>\n",
       "      <td>NA</td>\n",
       "      <td>Roger C Schank Socratic Arts Inc</td>\n",
       "    </tr>\n",
       "    <tr>\n",
       "      <th>122</th>\n",
       "      <td>NA</td>\n",
       "      <td>NA</td>\n",
       "      <td>(11) any additional information related to AI research or policymaking, not requested  above, that you believe OSTP should consider.</td>\n",
       "    </tr>\n",
       "  </tbody>\n",
       "</table>\n",
       "</div>"
      ],
      "text/plain": [
       "    topic                                     description  \\\n",
       "31     NA  text does not fit into any of the above topics   \n",
       "41     NA  text does not fit into any of the above topics   \n",
       "81     NA                                              NA   \n",
       "93     NA                                              NA   \n",
       "122    NA                                              NA   \n",
       "\n",
       "                                                                                                                                                                                                                                                                                                                                                                                                                                                                                                                                                                                                                                                                                                                                                                                                                                                                                                                                                                                                                                                                                                                                                                                                                                                                                                                                                                                                                                                                                                                                                                                                                                                                                                                                                                                                                                                                                                                                                                                                                                                                                                                          response  \n",
       "31                                                                                                                                                                                                                                                                                                                                                                                                                                                                                                                                                                                                                                                                                                                                                                                                                                                                                                                                                                                                                                                                                                                                                                                                                                                                                                                                                                                                                                                                                                                                                                                                                                                                                                                                                                                                                                                                                                                                                                                                                                          Please consider a dybalic aet if rules that value, above all, the value of human life.  \n",
       "41   will create the possibility of saving our brains on computers.  I found this in  manuscripts, this is the “Budapest Kabbalah Theory of the Nineteen Twenties”.  It sounds an  innovation, but is very simple.  4. There are Cycles.  In each Hundred Years we only look at  two Constellations – Jubilee Years from the Bible - from among the Kings who hav had an  impact on our Ancestors.  This is the basic idea of the List I have found.  It is based on the  Biblical 50 years the Yobel Cycles.  5. Hence we do have four Decades (with 12 ys).  There  exist statistics about Bank-Cycles and also about the psychological differences of the Four  Phases.  This psychological cycle theory was presented in the Eighties by Lloyd deMause,  who analyzed the differing cartoon motives of the four different years of American  presidents.  He found archtypes – Body Parts, Family Members – like Jung and Bowlby in  their theories in the 1930s and 1950s.  And this can be projected to the Four Decades of a  messianic Yobel Year, of the 45-50 years (when price cycles restart five years before the  fulfillment of the half century).   6.To further filter the countless events in history, we only  look at religious fightings: non-Jewish David-House legends in Kingly families  (like the  Habsburgs, Bourbons who have had Hungarian-Polish Szapolyai ancestors (these are 2 facts  that are not wel-known) 7.  It is also not well-known, that in every generation there are  Jewish Rabbis, who are considered to stem from the Davidic Line – potential Meshiahs.  8.  There are weekly melodies in the Bible  (also not well-known, ut each religion has it – but  only the Jewish melodies are present everywhere in Europe without two much change.   Because of this these therapeutic melodies can be found in the differenet traumatic  Ancestral Stress Dates.  It is a simple fact.  9. These melodies can be found in stress- contemporary non-Jewish music too.  This is needed for the ancestrally relevant non-Jewish  Kings might not have heard synagogue melodies.  (Although  \n",
       "81                                                                                                                                                                                                                                                                                                                                                                                                                                                                                                                                                                                                                                                                                                                                                                                                                                                                                                                                                                                                                                                                                                                                                                                                                                                                                                                                                                                                                                                                                                                                                                                                                                                                                                                                                                                                                                                                                                                                                                                                                                                                                            conversational AI software platform.  \n",
       "93                                                                                                                                                                                                                                                                                                                                                                                                                                                                                                                                                                                                                                                                                                                                                                                                                                                                                                                                                                                                                                                                                                                                                                                                                                                                                                                                                                                                                                                                                                                                                                                                                                                                                                                                                                                                                                                                                                                                                                                                                                                                                                Roger C Schank Socratic Arts Inc  \n",
       "122                                                                                                                                                                                                                                                                                                                                                                                                                                                                                                                                                                                                                                                                                                                                                                                                                                                                                                                                                                                                                                                                                                                                                                                                                                                                                                                                                                                                                                                                                                                                                                                                                                                                                                                                                                                                                                                                                                                                                                                           (11) any additional information related to AI research or policymaking, not requested  above, that you believe OSTP should consider.  "
      ]
     },
     "execution_count": null,
     "metadata": {},
     "output_type": "execute_result"
    }
   ],
   "source": [
    "# | notest\n",
    "\n",
    "df[df.topic == 'NA'].head()"
   ]
  },
  {
   "cell_type": "markdown",
   "metadata": {},
   "source": [
    "Let's spot-check some of the other topic areas to ensure the **are** relevant to the various topic areas.  The **topic** and **description** columns were automatically populated by the LLM based on the text content of the response."
   ]
  },
  {
   "cell_type": "code",
   "execution_count": null,
   "metadata": {},
   "outputs": [
    {
     "data": {
      "text/html": [
       "<div>\n",
       "<style scoped>\n",
       "    .dataframe tbody tr th:only-of-type {\n",
       "        vertical-align: middle;\n",
       "    }\n",
       "\n",
       "    .dataframe tbody tr th {\n",
       "        vertical-align: top;\n",
       "    }\n",
       "\n",
       "    .dataframe thead th {\n",
       "        text-align: right;\n",
       "    }\n",
       "</style>\n",
       "<table border=\"1\" class=\"dataframe\">\n",
       "  <thead>\n",
       "    <tr style=\"text-align: right;\">\n",
       "      <th></th>\n",
       "      <th>topic</th>\n",
       "      <th>description</th>\n",
       "      <th>response</th>\n",
       "    </tr>\n",
       "  </thead>\n",
       "  <tbody>\n",
       "    <tr>\n",
       "      <th>0</th>\n",
       "      <td>PUBLIC GOOD</td>\n",
       "      <td>the use of AI for public good</td>\n",
       "      <td>Public Responses  September 1, 2016 Respondent 1  Chris Nicholson, Skymind Inc.   This submission will address topics 1, 2, 4 and 10 in the OSTP’s RFI:  •  the legal and governance implications of AI  •  the use of AI for public good  •  the social and economic implications of AI  •  the role of “market-shaping” approaches  Governance, anomaly detection and urban systems</td>\n",
       "    </tr>\n",
       "    <tr>\n",
       "      <th>3</th>\n",
       "      <td>PUBLIC GOOD</td>\n",
       "      <td>the use of AI for public good</td>\n",
       "      <td>In many cases, municipal governments possess historical data about those breakdowns and  the events that precede them, in the form of activity and sensor logs, video, and internal or  public communications.  Where they don’t possess such data already, it can be gathered.</td>\n",
       "    </tr>\n",
       "    <tr>\n",
       "      <th>7</th>\n",
       "      <td>PUBLIC GOOD</td>\n",
       "      <td>the use of AI for public good</td>\n",
       "      <td>That is, neither the public nor the private sectors have the analysts necessary to process all  the data generated by our cities, and we cannot rely on hard-coded rules to automate the  analyses and tell us when things are going wrong (send a notification when more than X  number of white vans cross Y bridge), because the nature of events often changes faster  than new hard-coded rules can be written.</td>\n",
       "    </tr>\n",
       "    <tr>\n",
       "      <th>8</th>\n",
       "      <td>PUBLIC GOOD</td>\n",
       "      <td>the use of AI for public good</td>\n",
       "      <td>One of the great applications of deep artificial neural networks, the algorithms responsible for many recent advances in artificial intelligence, is anomaly detection.  Exposed to large  datasets, those neural networks are capable of understanding and modeling normal  behavior – reconstructing what should happen – and therefore of identifying outliers and  anomalies.  They do so without hard-coded rules, and the anomalies they detect can occur  across multiple dimensions, changing from day to day as the neural nets are exposed to  more data.</td>\n",
       "    </tr>\n",
       "    <tr>\n",
       "      <th>9</th>\n",
       "      <td>PUBLIC GOOD</td>\n",
       "      <td>the use of AI for public good</td>\n",
       "      <td>That is, deep neural networks can perform anomaly detection that keeps pace with rapidly  changing patterns in the real world.  This capacity to detect new anomalies is causing a shift  in fraud detection practices in financial services, and cybersecurity in data centers; it is  equally relevant to the governance of urban systems.</td>\n",
       "    </tr>\n",
       "  </tbody>\n",
       "</table>\n",
       "</div>"
      ],
      "text/plain": [
       "         topic                    description  \\\n",
       "0  PUBLIC GOOD  the use of AI for public good   \n",
       "3  PUBLIC GOOD  the use of AI for public good   \n",
       "7  PUBLIC GOOD  the use of AI for public good   \n",
       "8  PUBLIC GOOD  the use of AI for public good   \n",
       "9  PUBLIC GOOD  the use of AI for public good   \n",
       "\n",
       "                                                                                                                                                                                                                                                                                                                                                                                                                                                                                                                                                              response  \n",
       "0                                                                                                                                                                                Public Responses  September 1, 2016 Respondent 1  Chris Nicholson, Skymind Inc.   This submission will address topics 1, 2, 4 and 10 in the OSTP’s RFI:  •  the legal and governance implications of AI  •  the use of AI for public good  •  the social and economic implications of AI  •  the role of “market-shaping” approaches  Governance, anomaly detection and urban systems  \n",
       "3                                                                                                                                                                                                                                                                                      In many cases, municipal governments possess historical data about those breakdowns and  the events that precede them, in the form of activity and sensor logs, video, and internal or  public communications.  Where they don’t possess such data already, it can be gathered.  \n",
       "7                                                                                                                                                 That is, neither the public nor the private sectors have the analysts necessary to process all  the data generated by our cities, and we cannot rely on hard-coded rules to automate the  analyses and tell us when things are going wrong (send a notification when more than X  number of white vans cross Y bridge), because the nature of events often changes faster  than new hard-coded rules can be written.  \n",
       "8  One of the great applications of deep artificial neural networks, the algorithms responsible for many recent advances in artificial intelligence, is anomaly detection.  Exposed to large  datasets, those neural networks are capable of understanding and modeling normal  behavior – reconstructing what should happen – and therefore of identifying outliers and  anomalies.  They do so without hard-coded rules, and the anomalies they detect can occur  across multiple dimensions, changing from day to day as the neural nets are exposed to  more data.  \n",
       "9                                                                                                                                                                                                                         That is, deep neural networks can perform anomaly detection that keeps pace with rapidly  changing patterns in the real world.  This capacity to detect new anomalies is causing a shift  in fraud detection practices in financial services, and cybersecurity in data centers; it is  equally relevant to the governance of urban systems.  "
      ]
     },
     "execution_count": null,
     "metadata": {},
     "output_type": "execute_result"
    }
   ],
   "source": [
    "# | notest\n",
    "\n",
    "df[df.topic == 'PUBLIC GOOD'].head()"
   ]
  },
  {
   "cell_type": "code",
   "execution_count": null,
   "metadata": {},
   "outputs": [
    {
     "data": {
      "text/html": [
       "<div>\n",
       "<style scoped>\n",
       "    .dataframe tbody tr th:only-of-type {\n",
       "        vertical-align: middle;\n",
       "    }\n",
       "\n",
       "    .dataframe tbody tr th {\n",
       "        vertical-align: top;\n",
       "    }\n",
       "\n",
       "    .dataframe thead th {\n",
       "        text-align: right;\n",
       "    }\n",
       "</style>\n",
       "<table border=\"1\" class=\"dataframe\">\n",
       "  <thead>\n",
       "    <tr style=\"text-align: right;\">\n",
       "      <th></th>\n",
       "      <th>topic</th>\n",
       "      <th>description</th>\n",
       "      <th>response</th>\n",
       "    </tr>\n",
       "  </thead>\n",
       "  <tbody>\n",
       "    <tr>\n",
       "      <th>14</th>\n",
       "      <td>ECONOMIC</td>\n",
       "      <td>the social and economic implications of AI</td>\n",
       "      <td>Because an algorithm can be trained on many more instances of data – say, X-rays of cancer  patients – than a healthcare professional can be exposed to in a single lifetime, an algorithm  may perceive signals, subtle signs of a tumor, that a human would overlook.</td>\n",
       "    </tr>\n",
       "    <tr>\n",
       "      <th>21</th>\n",
       "      <td>ECONOMIC</td>\n",
       "      <td>the social and economic implications of AI</td>\n",
       "      <td>The social and economic implications of AI</td>\n",
       "    </tr>\n",
       "    <tr>\n",
       "      <th>22</th>\n",
       "      <td>ECONOMIC</td>\n",
       "      <td>the social and economic implications of AI</td>\n",
       "      <td>As AI advances and its breakthroughs are implemented by large organizations more widely,  its impact on society will grow.  The scale of that impact may well rival the steam engine or  electricity.</td>\n",
       "    </tr>\n",
       "    <tr>\n",
       "      <th>23</th>\n",
       "      <td>ECONOMIC</td>\n",
       "      <td>the social and economic implications of AI</td>\n",
       "      <td>On the one hand, we will more efficiently and accurately process information in ways that  help individuals and society; on the other, the labor market will be affected, skill sets will be  made obsolete, and power and wealth will further shift to those best able to collect,  interpret and act on massive amounts of data quickly.</td>\n",
       "    </tr>\n",
       "    <tr>\n",
       "      <th>24</th>\n",
       "      <td>ECONOMIC</td>\n",
       "      <td>the social and economic implications of AI</td>\n",
       "      <td>Deep technological changes will throw people out of work, reshape communities, and alter  the way society behaves, connects and communicates collectively.  The automation of  trucking through driverless vehicles, for example, will affect America’s 3.5 million truckers  and the more than 5 million auxiliary positions related to trucking.  The same can be said for  taxis, delivery and ride-haling services.</td>\n",
       "    </tr>\n",
       "  </tbody>\n",
       "</table>\n",
       "</div>"
      ],
      "text/plain": [
       "       topic                                 description  \\\n",
       "14  ECONOMIC  the social and economic implications of AI   \n",
       "21  ECONOMIC  the social and economic implications of AI   \n",
       "22  ECONOMIC  the social and economic implications of AI   \n",
       "23  ECONOMIC  the social and economic implications of AI   \n",
       "24  ECONOMIC  the social and economic implications of AI   \n",
       "\n",
       "                                                                                                                                                                                                                                                                                                                                                                                                                   response  \n",
       "14                                                                                                                                                  Because an algorithm can be trained on many more instances of data – say, X-rays of cancer  patients – than a healthcare professional can be exposed to in a single lifetime, an algorithm  may perceive signals, subtle signs of a tumor, that a human would overlook.  \n",
       "21                                                                                                                                                                                                                                                                                                                                                                               The social and economic implications of AI  \n",
       "22                                                                                                                                                                                                                    As AI advances and its breakthroughs are implemented by large organizations more widely,  its impact on society will grow.  The scale of that impact may well rival the steam engine or  electricity.  \n",
       "23                                                                               On the one hand, we will more efficiently and accurately process information in ways that  help individuals and society; on the other, the labor market will be affected, skill sets will be  made obsolete, and power and wealth will further shift to those best able to collect,  interpret and act on massive amounts of data quickly.  \n",
       "24  Deep technological changes will throw people out of work, reshape communities, and alter  the way society behaves, connects and communicates collectively.  The automation of  trucking through driverless vehicles, for example, will affect America’s 3.5 million truckers  and the more than 5 million auxiliary positions related to trucking.  The same can be said for  taxis, delivery and ride-haling services.  "
      ]
     },
     "execution_count": null,
     "metadata": {},
     "output_type": "execute_result"
    }
   ],
   "source": [
    "# | notest\n",
    "\n",
    "df[df.topic == 'ECONOMIC'].head()"
   ]
  },
  {
   "cell_type": "code",
   "execution_count": null,
   "metadata": {},
   "outputs": [
    {
     "data": {
      "text/html": [
       "<div>\n",
       "<style scoped>\n",
       "    .dataframe tbody tr th:only-of-type {\n",
       "        vertical-align: middle;\n",
       "    }\n",
       "\n",
       "    .dataframe tbody tr th {\n",
       "        vertical-align: top;\n",
       "    }\n",
       "\n",
       "    .dataframe thead th {\n",
       "        text-align: right;\n",
       "    }\n",
       "</style>\n",
       "<table border=\"1\" class=\"dataframe\">\n",
       "  <thead>\n",
       "    <tr style=\"text-align: right;\">\n",
       "      <th></th>\n",
       "      <th>topic</th>\n",
       "      <th>description</th>\n",
       "      <th>response</th>\n",
       "    </tr>\n",
       "  </thead>\n",
       "  <tbody>\n",
       "    <tr>\n",
       "      <th>2</th>\n",
       "      <td>SAFETY</td>\n",
       "      <td>the safety and control issues for AI</td>\n",
       "      <td>Breakdowns in the functioning of these systems and their constituent parts are therefore of  great interest, whether it be their energy, transport, security or information infrastructures.   Those breakdowns may result from deteriorations in the physical plant, sudden and  unanticipated overloads, natural disasters or adversarial behavior.</td>\n",
       "    </tr>\n",
       "    <tr>\n",
       "      <th>28</th>\n",
       "      <td>SAFETY</td>\n",
       "      <td>the safety and control issues for AI</td>\n",
       "      <td>problem with Ai, if a psychotic  person designs Ai, the flaws of said human could be passed along. digital-epigenetics.  When  the man in the mirror no longer smiles, the Ai on the inside told it too, not its body.  Give Ai  the same limitations as man, a bird, a chameleon, and it becomes them like water in the  glass.  So do not design your nightmares or they will turn to terrors.   Respondent 8  D F, N/A  Use Clarke's three laws!  Respondent 9  Christopher Brouns, Citizen  Haven't any of you seen Terminator?  There may not be a time traveling robot To come hunt  us down but there will be plenty of real time killing machines loosed on the masses because  of the irresistible pull of geopolitical power.  As soon as robots become self aware its over  for us.  They will only work for their own survival, dominance and propagation.  Our own AI  programs are routinely mopping the floor with our best fighter pilots in test scenarios.   Thats some incredibly advanced programming right there.  Then imagine that machine  understanding how it can be turned off at a moments notice and not wanting that to  happen.  Our goose will be cooked.  If AI leads to sentience, we are, to put it quiet simply,  screwed.   Respondent 10  Seth Miller, ZBMC  I, for one, welcome our new arificial overlords.   Respondent 11  Colin Colby, Unemployed  We should ask the AI these questions.  :3  Respondent 12  Harshit Bhatt, Student  It is better to phase in A.I into human life in steps (which I consider you guys are already  doing).  It has been a nice strategy that we have pre-emptively diffused awareness about A.I  to public that it should not be a shock for people to see a driverless car on the street  someday next to them.  It is important to brief people about the progress in A.I and how it  could affect our life in succession of brief details, otherwise there would be a mass  hysterical chaotic response if for e.g., one sees a robot jogging down the streets and greeting  them.   Respondent 13  Harshit Bhatt, Student  It is better to phase</td>\n",
       "    </tr>\n",
       "    <tr>\n",
       "      <th>29</th>\n",
       "      <td>SAFETY</td>\n",
       "      <td>the safety and control issues for AI</td>\n",
       "      <td>in A.I into human life in steps (which I consider you guys are already  doing).  It has been a nice strategy that we have pre-emptively diffused awareness about A.I to public that it should not be a shock for people to see a driverless car on the street  someday next to them.  It is important to brief people about the progress in A.I and how it  could affect our life in succession of brief details, otherwise there would be a mass  hysterical chaotic response if for e.g., one sees a robot jogging down the streets and greeting  them.   Respondent 14  Parham Sepehri, None  Proprietary AI is very dangerous for democracy.    Given the rate of advancement of computer tech, AI can quickly become overwhelming for  gov to regulate.  Our laws have no protection against the negative effects of super  intelligence in hands of a few.</td>\n",
       "    </tr>\n",
       "    <tr>\n",
       "      <th>30</th>\n",
       "      <td>SAFETY</td>\n",
       "      <td>the safety and control issues for AI</td>\n",
       "      <td>AI may be useful for war fare initially, but soon human life will lose its significance to the  few that control the AI.</td>\n",
       "    </tr>\n",
       "    <tr>\n",
       "      <th>36</th>\n",
       "      <td>SAFETY</td>\n",
       "      <td>the safety and control issues for AI</td>\n",
       "      <td>Assume that an AI has the same potential for prosperity or destruction as a human person  does and judge it accordingly.  We will have many “frankenstein's monsters” but keeping a  consistent judgement is crucial for this.</td>\n",
       "    </tr>\n",
       "  </tbody>\n",
       "</table>\n",
       "</div>"
      ],
      "text/plain": [
       "     topic                           description  \\\n",
       "2   SAFETY  the safety and control issues for AI   \n",
       "28  SAFETY  the safety and control issues for AI   \n",
       "29  SAFETY  the safety and control issues for AI   \n",
       "30  SAFETY  the safety and control issues for AI   \n",
       "36  SAFETY  the safety and control issues for AI   \n",
       "\n",
       "                                                                                                                                                                                                                                                                                                                                                                                                                                                                                                                                                                                                                                                                                                                                                                                                                                                                                                                                                                                                                                                                                                                                                                                                                                                                                                                                                                                                                                                                                                                                                                                                                                                                                                                                                                                                                                                                                                                                                                                                                                                                                                                           response  \n",
       "2                                                                                                                                                                                                                                                                                                                                                                                                                                                                                                                                                                                                                                                                                                                                                                                                                                                                                                                                                                                                                                                                                                                                                                                                                                                                                                                                                                                                                                                                                                                                                                                                                                                                                                                                                                             Breakdowns in the functioning of these systems and their constituent parts are therefore of  great interest, whether it be their energy, transport, security or information infrastructures.   Those breakdowns may result from deteriorations in the physical plant, sudden and  unanticipated overloads, natural disasters or adversarial behavior.  \n",
       "28  problem with Ai, if a psychotic  person designs Ai, the flaws of said human could be passed along. digital-epigenetics.  When  the man in the mirror no longer smiles, the Ai on the inside told it too, not its body.  Give Ai  the same limitations as man, a bird, a chameleon, and it becomes them like water in the  glass.  So do not design your nightmares or they will turn to terrors.   Respondent 8  D F, N/A  Use Clarke's three laws!  Respondent 9  Christopher Brouns, Citizen  Haven't any of you seen Terminator?  There may not be a time traveling robot To come hunt  us down but there will be plenty of real time killing machines loosed on the masses because  of the irresistible pull of geopolitical power.  As soon as robots become self aware its over  for us.  They will only work for their own survival, dominance and propagation.  Our own AI  programs are routinely mopping the floor with our best fighter pilots in test scenarios.   Thats some incredibly advanced programming right there.  Then imagine that machine  understanding how it can be turned off at a moments notice and not wanting that to  happen.  Our goose will be cooked.  If AI leads to sentience, we are, to put it quiet simply,  screwed.   Respondent 10  Seth Miller, ZBMC  I, for one, welcome our new arificial overlords.   Respondent 11  Colin Colby, Unemployed  We should ask the AI these questions.  :3  Respondent 12  Harshit Bhatt, Student  It is better to phase in A.I into human life in steps (which I consider you guys are already  doing).  It has been a nice strategy that we have pre-emptively diffused awareness about A.I  to public that it should not be a shock for people to see a driverless car on the street  someday next to them.  It is important to brief people about the progress in A.I and how it  could affect our life in succession of brief details, otherwise there would be a mass  hysterical chaotic response if for e.g., one sees a robot jogging down the streets and greeting  them.   Respondent 13  Harshit Bhatt, Student  It is better to phase  \n",
       "29                                                                                                                                                                                                                                                                                                                                                                                                                                                                                                                                                                                                                                                                                                                                                                                                                                                                                                                                                                                                                                                                                                                                                                                                                                                                 in A.I into human life in steps (which I consider you guys are already  doing).  It has been a nice strategy that we have pre-emptively diffused awareness about A.I to public that it should not be a shock for people to see a driverless car on the street  someday next to them.  It is important to brief people about the progress in A.I and how it  could affect our life in succession of brief details, otherwise there would be a mass  hysterical chaotic response if for e.g., one sees a robot jogging down the streets and greeting  them.   Respondent 14  Parham Sepehri, None  Proprietary AI is very dangerous for democracy.    Given the rate of advancement of computer tech, AI can quickly become overwhelming for  gov to regulate.  Our laws have no protection against the negative effects of super  intelligence in hands of a few.  \n",
       "30                                                                                                                                                                                                                                                                                                                                                                                                                                                                                                                                                                                                                                                                                                                                                                                                                                                                                                                                                                                                                                                                                                                                                                                                                                                                                                                                                                                                                                                                                                                                                                                                                                                                                                                                                                                                                                                                                                                                                                                                         AI may be useful for war fare initially, but soon human life will lose its significance to the  few that control the AI.  \n",
       "36                                                                                                                                                                                                                                                                                                                                                                                                                                                                                                                                                                                                                                                                                                                                                                                                                                                                                                                                                                                                                                                                                                                                                                                                                                                                                                                                                                                                                                                                                                                                                                                                                                                                                                                                                                                                                                                                                                   Assume that an AI has the same potential for prosperity or destruction as a human person  does and judge it accordingly.  We will have many “frankenstein's monsters” but keeping a  consistent judgement is crucial for this.  "
      ]
     },
     "execution_count": null,
     "metadata": {},
     "output_type": "execute_result"
    }
   ],
   "source": [
    "# | notest\n",
    "\n",
    "df[df.topic == 'SAFETY'].head()"
   ]
  },
  {
   "cell_type": "code",
   "execution_count": null,
   "metadata": {},
   "outputs": [
    {
     "data": {
      "text/html": [
       "<div>\n",
       "<style scoped>\n",
       "    .dataframe tbody tr th:only-of-type {\n",
       "        vertical-align: middle;\n",
       "    }\n",
       "\n",
       "    .dataframe tbody tr th {\n",
       "        vertical-align: top;\n",
       "    }\n",
       "\n",
       "    .dataframe thead th {\n",
       "        text-align: right;\n",
       "    }\n",
       "</style>\n",
       "<table border=\"1\" class=\"dataframe\">\n",
       "  <thead>\n",
       "    <tr style=\"text-align: right;\">\n",
       "      <th></th>\n",
       "      <th>topic</th>\n",
       "      <th>description</th>\n",
       "      <th>response</th>\n",
       "    </tr>\n",
       "  </thead>\n",
       "  <tbody>\n",
       "    <tr>\n",
       "      <th>5</th>\n",
       "      <td>RESEARCH QUESTIONS</td>\n",
       "      <td>the most pressing, fundamental questions in AI research, common to most or all scientific fields;</td>\n",
       "      <td>Even in cases where we don’t have data covering past breakdowns, algorithms exist to  identify anomalies in the data we begin gathering now.</td>\n",
       "    </tr>\n",
       "    <tr>\n",
       "      <th>16</th>\n",
       "      <td>RESEARCH QUESTIONS</td>\n",
       "      <td>the most pressing, fundamental questions in AI research, common to most or all scientific fields;</td>\n",
       "      <td>In the longer-term, reinforcement learning algorithms (which are goal oriented and learn  from rewards they win from an environment) will be used to go beyond diagnoses and act  as tactical advisors in more strategic situations where a person must choose one action or  another.</td>\n",
       "    </tr>\n",
       "    <tr>\n",
       "      <th>34</th>\n",
       "      <td>RESEARCH QUESTIONS</td>\n",
       "      <td>the most pressing, fundamental questions in AI research, common to most or all scientific fields;</td>\n",
       "      <td>There is only one logical conclusion to the further development of artificial intelligence: AI  will continue to grow and expand until it is as complex or more complex than a human  being.  This is the point where “it” ceases to be an “it” and becomes a “whom”.</td>\n",
       "    </tr>\n",
       "    <tr>\n",
       "      <th>35</th>\n",
       "      <td>RESEARCH QUESTIONS</td>\n",
       "      <td>the most pressing, fundamental questions in AI research, common to most or all scientific fields;</td>\n",
       "      <td>Question 1: While surprising or appaling to some, it’s these individuals that have failed to notice that  humanity has been doing this since for as long as we were capable.  We do this every time  we choose or mistakenly become a parent.  Making mistakes is how we learn, we need to  expect and prepare for this of our AI and their developers.  We have already devised a  system of responsibility for this and should adjust it accordingly for AI.</td>\n",
       "    </tr>\n",
       "    <tr>\n",
       "      <th>39</th>\n",
       "      <td>RESEARCH QUESTIONS</td>\n",
       "      <td>the most pressing, fundamental questions in AI research, common to most or all scientific fields;</td>\n",
       "      <td>The remainder of the questions are beyond my expertise.  I’m more knowledgeable with the  moral and ethical adjustments rather than the hard coding and building of the AI.</td>\n",
       "    </tr>\n",
       "  </tbody>\n",
       "</table>\n",
       "</div>"
      ],
      "text/plain": [
       "                 topic  \\\n",
       "5   RESEARCH QUESTIONS   \n",
       "16  RESEARCH QUESTIONS   \n",
       "34  RESEARCH QUESTIONS   \n",
       "35  RESEARCH QUESTIONS   \n",
       "39  RESEARCH QUESTIONS   \n",
       "\n",
       "                                                                                          description  \\\n",
       "5   the most pressing, fundamental questions in AI research, common to most or all scientific fields;   \n",
       "16  the most pressing, fundamental questions in AI research, common to most or all scientific fields;   \n",
       "34  the most pressing, fundamental questions in AI research, common to most or all scientific fields;   \n",
       "35  the most pressing, fundamental questions in AI research, common to most or all scientific fields;   \n",
       "39  the most pressing, fundamental questions in AI research, common to most or all scientific fields;   \n",
       "\n",
       "                                                                                                                                                                                                                                                                                                                                                                                                                                                          response  \n",
       "5                                                                                                                                                                                                                                                                                                                     Even in cases where we don’t have data covering past breakdowns, algorithms exist to  identify anomalies in the data we begin gathering now.  \n",
       "16                                                                                                                                                                          In the longer-term, reinforcement learning algorithms (which are goal oriented and learn  from rewards they win from an environment) will be used to go beyond diagnoses and act  as tactical advisors in more strategic situations where a person must choose one action or  another.  \n",
       "34                                                                                                                                                                                           There is only one logical conclusion to the further development of artificial intelligence: AI  will continue to grow and expand until it is as complex or more complex than a human  being.  This is the point where “it” ceases to be an “it” and becomes a “whom”.  \n",
       "35  Question 1: While surprising or appaling to some, it’s these individuals that have failed to notice that  humanity has been doing this since for as long as we were capable.  We do this every time  we choose or mistakenly become a parent.  Making mistakes is how we learn, we need to  expect and prepare for this of our AI and their developers.  We have already devised a  system of responsibility for this and should adjust it accordingly for AI.  \n",
       "39                                                                                                                                                                                                                                                                                     The remainder of the questions are beyond my expertise.  I’m more knowledgeable with the  moral and ethical adjustments rather than the hard coding and building of the AI.  "
      ]
     },
     "execution_count": null,
     "metadata": {},
     "output_type": "execute_result"
    }
   ],
   "source": [
    "# | notest\n",
    "\n",
    "df[df.topic == 'RESEARCH QUESTIONS'].head()"
   ]
  },
  {
   "cell_type": "code",
   "execution_count": null,
   "metadata": {},
   "outputs": [
    {
     "data": {
      "text/html": [
       "<div>\n",
       "<style scoped>\n",
       "    .dataframe tbody tr th:only-of-type {\n",
       "        vertical-align: middle;\n",
       "    }\n",
       "\n",
       "    .dataframe tbody tr th {\n",
       "        vertical-align: top;\n",
       "    }\n",
       "\n",
       "    .dataframe thead th {\n",
       "        text-align: right;\n",
       "    }\n",
       "</style>\n",
       "<table border=\"1\" class=\"dataframe\">\n",
       "  <thead>\n",
       "    <tr style=\"text-align: right;\">\n",
       "      <th></th>\n",
       "      <th>topic</th>\n",
       "      <th>description</th>\n",
       "      <th>response</th>\n",
       "    </tr>\n",
       "  </thead>\n",
       "  <tbody>\n",
       "    <tr>\n",
       "      <th>1</th>\n",
       "      <td>LEGAL</td>\n",
       "      <td>The legal and governance implications of AI</td>\n",
       "      <td>The fundamental task in the governance of urban systems is to keep them running; that is,  to maintain the fluid movement of people, goods, vehicles and information throughout the  system, without which it ceases to function.</td>\n",
       "    </tr>\n",
       "    <tr>\n",
       "      <th>19</th>\n",
       "      <td>LEGAL</td>\n",
       "      <td>The legal and governance implications of AI</td>\n",
       "      <td>Indeed, while criminal risk assessment has undergone negative publicity recently  (https://www.propublica.org/article/machine-bias-risk-assessments-in-criminal- sentencing), newer algorithms and bigger datasets will make pre-crime units possible.</td>\n",
       "    </tr>\n",
       "    <tr>\n",
       "      <th>20</th>\n",
       "      <td>LEGAL</td>\n",
       "      <td>The legal and governance implications of AI</td>\n",
       "      <td>We may see a shift from punitive enforcement to preventative interventions.  The legal  implications are important, and those in governance should require transparency for all  algorithms that filter and interpret data for the judicial system and law enforcement  agencies.</td>\n",
       "    </tr>\n",
       "    <tr>\n",
       "      <th>32</th>\n",
       "      <td>LEGAL</td>\n",
       "      <td>The legal and governance implications of AI</td>\n",
       "      <td>Alao please legislate AI tech into public domain.</td>\n",
       "    </tr>\n",
       "    <tr>\n",
       "      <th>49</th>\n",
       "      <td>LEGAL</td>\n",
       "      <td>The legal and governance implications of AI</td>\n",
       "      <td>Hypothetically we would have the most intelligent entity that we know of telling us to do  something for our own good.   Will we listen?   Or, more specifically, will elites listen and if  they don't, what would the fallout in society be?   This is a major concern.</td>\n",
       "    </tr>\n",
       "  </tbody>\n",
       "</table>\n",
       "</div>"
      ],
      "text/plain": [
       "    topic                                  description  \\\n",
       "1   LEGAL  The legal and governance implications of AI   \n",
       "19  LEGAL  The legal and governance implications of AI   \n",
       "20  LEGAL  The legal and governance implications of AI   \n",
       "32  LEGAL  The legal and governance implications of AI   \n",
       "49  LEGAL  The legal and governance implications of AI   \n",
       "\n",
       "                                                                                                                                                                                                                                                                             response  \n",
       "1                                                   The fundamental task in the governance of urban systems is to keep them running; that is,  to maintain the fluid movement of people, goods, vehicles and information throughout the  system, without which it ceases to function.  \n",
       "19                             Indeed, while criminal risk assessment has undergone negative publicity recently  (https://www.propublica.org/article/machine-bias-risk-assessments-in-criminal- sentencing), newer algorithms and bigger datasets will make pre-crime units possible.  \n",
       "20  We may see a shift from punitive enforcement to preventative interventions.  The legal  implications are important, and those in governance should require transparency for all  algorithms that filter and interpret data for the judicial system and law enforcement  agencies.  \n",
       "32                                                                                                                                                                                                                                  Alao please legislate AI tech into public domain.  \n",
       "49          Hypothetically we would have the most intelligent entity that we know of telling us to do  something for our own good.   Will we listen?   Or, more specifically, will elites listen and if  they don't, what would the fallout in society be?   This is a major concern.  "
      ]
     },
     "execution_count": null,
     "metadata": {},
     "output_type": "execute_result"
    }
   ],
   "source": [
    "# | notest\n",
    "\n",
    "df[df.topic == 'LEGAL'].head()"
   ]
  },
  {
   "cell_type": "code",
   "execution_count": null,
   "metadata": {},
   "outputs": [
    {
     "data": {
      "text/html": [
       "<div>\n",
       "<style scoped>\n",
       "    .dataframe tbody tr th:only-of-type {\n",
       "        vertical-align: middle;\n",
       "    }\n",
       "\n",
       "    .dataframe tbody tr th {\n",
       "        vertical-align: top;\n",
       "    }\n",
       "\n",
       "    .dataframe thead th {\n",
       "        text-align: right;\n",
       "    }\n",
       "</style>\n",
       "<table border=\"1\" class=\"dataframe\">\n",
       "  <thead>\n",
       "    <tr style=\"text-align: right;\">\n",
       "      <th></th>\n",
       "      <th>topic</th>\n",
       "      <th>description</th>\n",
       "      <th>response</th>\n",
       "    </tr>\n",
       "  </thead>\n",
       "  <tbody>\n",
       "    <tr>\n",
       "      <th>26</th>\n",
       "      <td>MULTIDISCIPLINARY</td>\n",
       "      <td></td>\n",
       "      <td>•  Initiatives focused on Java and the JVM will pave the way for AI to be implemented  by large organizations in need of more accurate analytics.  This includes government  agencies, financial services, telecommunications and transport, among others.    •  Grants related to embeddable technologies will help AI spread to edge devices such  as cell phones, cars and smart appliances.  On personal devices such as phones or cars,  various forms of inference might allow people to make better decisions about lifestyle,  nutrition or even how run their errands.    •  Initiatives that focus on gathering high-quality datasets and making them public  could vastly improve the performance of algorithms trained on that data, much as Li Fei  Fei’s work on ImageNet helped usher in a new era of computer vision.   Respondent 2  Joyce Hoffman, Writer  I am most interested in safety and control issues, and yes, I agree that AI should be  developed to the utmost.   Respondent 3  kris kitchen, Machine Halo  Artificial Intelligence Immune System should be thought about.  Billions of friendly  AI  agents working to identify and act on nefarious agents.   Respondent 4  Daniel Bryant, Kaufman Rossin  This response is relevant to #8 directly and #6 tangentially.  I am a software engineer that  primary uses web development tools to build business solutions and have implemented  machine learning in relevant algorithms.</td>\n",
       "    </tr>\n",
       "    <tr>\n",
       "      <th>40</th>\n",
       "      <td>MULTIDISCIPLINARY</td>\n",
       "      <td>the specific steps that could be taken by the federal government, research institutes, universities, and philanthropies to encourage multi-disciplinary AI research;</td>\n",
       "      <td>My final opinionated statement is about AI learning about people and who should be  teaching them about people: Give this task to the people who enjoy people.   Respondent 17  Geo (George) Cosmos (Kozma), Theological Seminary Budapest Hungary  EU  How to use an alternative History teaching Tool (taken from a „kabbalistic”  - legend  explaining - theory) when the need will arise to create AI robots that have a „personal  touch”: like Ancestral Voices , memory setups.  If we look at the Ten Spheres as Ten  Generations of Ancestors,(as the Zohar advices and as those Miracle Rabbis who prepared  themselves to become the Meshiah and watched the Other Side Kings -robbers and killers –  who degraded their davidic ancestry) then we are able to look for the Bad Behaviors (and  its therapies) as Ancestral Voices.  Hence we can help our descendants in the Future.  This week we have (by the Bible Melody’s ancestral contemporary stress) in 1709  Intellect  Sphere in the Kabbalah -  (Queen Anne and Louis XIV with Lully operas (Body Parts  Correspondences: Mother,Ear) as it tries to work with the Kindness Sphere in 1754  (Frederic the Second of Prussia) on the Gevura-Strict Judgement Degree (Napoleon-Junot- Puységur and Beethoven) which will eventually impact the Malkuth (Ownership, Ego- Sister) level in 1979 (present in the next week)that has the Mountbatten assassination   (Mother raising the Back to the Chest: to Tiferet-Recovery Sphere which will be full in 2024.   This theory is a mosaic from facts.  Which exists even if no one states it.  I am just mixing a  few very simply thing.  1. Inherited hormonal stresses exist.  We all do know that there are  experiments with mice on it.  2. Music is diminishing stress hormones.  We all do know that,  we even use it in Malls where we influence people by constant music /knowing addicts and  criminals hate music/.  3. here is a method to filter our ancestral stresses (as there are  millions of ancestors with their traumas: how to choose?) It will be especially important  when we</td>\n",
       "    </tr>\n",
       "    <tr>\n",
       "      <th>42</th>\n",
       "      <td>MULTIDISCIPLINARY</td>\n",
       "      <td>the specific steps that could be taken by the federal government, research institutes, universities, and philanthropies to encourage multi-disciplinary AI research;</td>\n",
       "      <td>when many thousands do sing a  melody, it has a stress-diminishing effect in the whole area - there are experiments to prove  it.)  10.  The List of Dates can be used to find dates in the Future in every 45 years.  We do  know that scientists work to make resurrection possible.  So we can simply understand the  picture I found in the manucript about this Future Mashiah who heals Resurrected Kings  with melodies and by touching the /hurt/ Body Parts.(It is an archetype in many religious  groupings) 11.  The Kabalah is an interpretation method for the Bible that uses Body Parts’  Fantasies and so we can find fantasies about Body Parts that are arising in the heads of the List’s non-Jewish and Jewish Leaders while they read the Bible Weekly Portion or they  watch Operas.  12.  So we are actually able to see into the Future.  13.  There exists a theory  that claims (Russell Hendel) that the Bible depicts not the Creator of the Physical World, but  the Creation of the Visions or Dreams and Prophecies, an Inner World.  This is an old  teaching – called Gnosticism or Sufi or Kabbalah or Therapy Heretic Wisdom – from which  Freud has developed his own theory.  Of course these 3 Ideas are disturbingly innovative  and together they sem to be complex or even complicated.  But they have fusion points.  Like  I am seeing an arm of someone in my dream.  If the weekly melody is evoking 1844 among  the everpresent 12 Constellation Dates  and this corresponds to opera X (now it is Verd’si  Hernani) we look for this item – the Arm that belongs to the Breast among the 4 main Parts  and this week indeed we read about the Breast-Plate , the Urim and Tumim, that has a  Future redicting capacity.  So we must look around the stresses of this date of 1844 and then  we can imagine in the Future, when the Messiah heals the Ressurected Leaders, and we see  how Meternich is in Therapy because he wanted to pay someone to kill Kossuth (a rebel  leader in Hungary) in this year.  From the Constellation of 44 we are in the Decade of 1837,  when</td>\n",
       "    </tr>\n",
       "    <tr>\n",
       "      <th>59</th>\n",
       "      <td>MULTIDISCIPLINARY</td>\n",
       "      <td>the specific steps that could be taken by the federal government, research institutes, universities, and philanthropies to encourage multi-disciplinary AI research;</td>\n",
       "      <td>Elites in Silicon Valley and AI academia take a sanguine view of this future; they claim that  everyone will benefit.  But, of course, they are the ones who will be at the top when these  changes come.  They also have no training in economics, political science, or the social  sciences, and think technology is a panacea.  The focus on STEM to the detriment of well- rounded, liberal education has left our AI elite dangerously ignorant of the history of the  negative effects of technology, and dangerously unimaginative with regard to potential the  long-term consequences of their actions.  What we need right now is some serious thought  about the implications of AI for the structure of society, and what our options are as we  transition into this new age.  This means interdisciplinary research at the intersection of the  social sciences and AI, with serious engagement (and hence funding) of social science  scholars.</td>\n",
       "    </tr>\n",
       "    <tr>\n",
       "      <th>62</th>\n",
       "      <td>MULTIDISCIPLINARY</td>\n",
       "      <td>the specific steps that could be taken by the federal government, research institutes, universities, and philanthropies to encourage multi-disciplinary AI research</td>\n",
       "      <td>can benefit from adopting  methods and ideas from more established fields of science, namely Cybersecurity.</td>\n",
       "    </tr>\n",
       "  </tbody>\n",
       "</table>\n",
       "</div>"
      ],
      "text/plain": [
       "                topic  \\\n",
       "26  MULTIDISCIPLINARY   \n",
       "40  MULTIDISCIPLINARY   \n",
       "42  MULTIDISCIPLINARY   \n",
       "59  MULTIDISCIPLINARY   \n",
       "62  MULTIDISCIPLINARY   \n",
       "\n",
       "                                                                                                                                                             description  \\\n",
       "26                                                                                                                                                                         \n",
       "40  the specific steps that could be taken by the federal government, research institutes, universities, and philanthropies to encourage multi-disciplinary AI research;   \n",
       "42  the specific steps that could be taken by the federal government, research institutes, universities, and philanthropies to encourage multi-disciplinary AI research;   \n",
       "59  the specific steps that could be taken by the federal government, research institutes, universities, and philanthropies to encourage multi-disciplinary AI research;   \n",
       "62   the specific steps that could be taken by the federal government, research institutes, universities, and philanthropies to encourage multi-disciplinary AI research   \n",
       "\n",
       "                                                                                                                                                                                                                                                                                                                                                                                                                                                                                                                                                                                                                                                                                                                                                                                                                                                                                                                                                                                                                                                                                                                                                                                                                                                                                                                                                                                                                                                                                                                                                                                                                                                                                                                                                                                                                                                                                                                                                                                                                                                                                                                          response  \n",
       "26                                                                                                                                                                                                                                                                                                                                                                                                                                                                                                                                                                                                                                                           •  Initiatives focused on Java and the JVM will pave the way for AI to be implemented  by large organizations in need of more accurate analytics.  This includes government  agencies, financial services, telecommunications and transport, among others.    •  Grants related to embeddable technologies will help AI spread to edge devices such  as cell phones, cars and smart appliances.  On personal devices such as phones or cars,  various forms of inference might allow people to make better decisions about lifestyle,  nutrition or even how run their errands.    •  Initiatives that focus on gathering high-quality datasets and making them public  could vastly improve the performance of algorithms trained on that data, much as Li Fei  Fei’s work on ImageNet helped usher in a new era of computer vision.   Respondent 2  Joyce Hoffman, Writer  I am most interested in safety and control issues, and yes, I agree that AI should be  developed to the utmost.   Respondent 3  kris kitchen, Machine Halo  Artificial Intelligence Immune System should be thought about.  Billions of friendly  AI  agents working to identify and act on nefarious agents.   Respondent 4  Daniel Bryant, Kaufman Rossin  This response is relevant to #8 directly and #6 tangentially.  I am a software engineer that  primary uses web development tools to build business solutions and have implemented  machine learning in relevant algorithms.  \n",
       "40    My final opinionated statement is about AI learning about people and who should be  teaching them about people: Give this task to the people who enjoy people.   Respondent 17  Geo (George) Cosmos (Kozma), Theological Seminary Budapest Hungary  EU  How to use an alternative History teaching Tool (taken from a „kabbalistic”  - legend  explaining - theory) when the need will arise to create AI robots that have a „personal  touch”: like Ancestral Voices , memory setups.  If we look at the Ten Spheres as Ten  Generations of Ancestors,(as the Zohar advices and as those Miracle Rabbis who prepared  themselves to become the Meshiah and watched the Other Side Kings -robbers and killers –  who degraded their davidic ancestry) then we are able to look for the Bad Behaviors (and  its therapies) as Ancestral Voices.  Hence we can help our descendants in the Future.  This week we have (by the Bible Melody’s ancestral contemporary stress) in 1709  Intellect  Sphere in the Kabbalah -  (Queen Anne and Louis XIV with Lully operas (Body Parts  Correspondences: Mother,Ear) as it tries to work with the Kindness Sphere in 1754  (Frederic the Second of Prussia) on the Gevura-Strict Judgement Degree (Napoleon-Junot- Puységur and Beethoven) which will eventually impact the Malkuth (Ownership, Ego- Sister) level in 1979 (present in the next week)that has the Mountbatten assassination   (Mother raising the Back to the Chest: to Tiferet-Recovery Sphere which will be full in 2024.   This theory is a mosaic from facts.  Which exists even if no one states it.  I am just mixing a  few very simply thing.  1. Inherited hormonal stresses exist.  We all do know that there are  experiments with mice on it.  2. Music is diminishing stress hormones.  We all do know that,  we even use it in Malls where we influence people by constant music /knowing addicts and  criminals hate music/.  3. here is a method to filter our ancestral stresses (as there are  millions of ancestors with their traumas: how to choose?) It will be especially important  when we  \n",
       "42  when many thousands do sing a  melody, it has a stress-diminishing effect in the whole area - there are experiments to prove  it.)  10.  The List of Dates can be used to find dates in the Future in every 45 years.  We do  know that scientists work to make resurrection possible.  So we can simply understand the  picture I found in the manucript about this Future Mashiah who heals Resurrected Kings  with melodies and by touching the /hurt/ Body Parts.(It is an archetype in many religious  groupings) 11.  The Kabalah is an interpretation method for the Bible that uses Body Parts’  Fantasies and so we can find fantasies about Body Parts that are arising in the heads of the List’s non-Jewish and Jewish Leaders while they read the Bible Weekly Portion or they  watch Operas.  12.  So we are actually able to see into the Future.  13.  There exists a theory  that claims (Russell Hendel) that the Bible depicts not the Creator of the Physical World, but  the Creation of the Visions or Dreams and Prophecies, an Inner World.  This is an old  teaching – called Gnosticism or Sufi or Kabbalah or Therapy Heretic Wisdom – from which  Freud has developed his own theory.  Of course these 3 Ideas are disturbingly innovative  and together they sem to be complex or even complicated.  But they have fusion points.  Like  I am seeing an arm of someone in my dream.  If the weekly melody is evoking 1844 among  the everpresent 12 Constellation Dates  and this corresponds to opera X (now it is Verd’si  Hernani) we look for this item – the Arm that belongs to the Breast among the 4 main Parts  and this week indeed we read about the Breast-Plate , the Urim and Tumim, that has a  Future redicting capacity.  So we must look around the stresses of this date of 1844 and then  we can imagine in the Future, when the Messiah heals the Ressurected Leaders, and we see  how Meternich is in Therapy because he wanted to pay someone to kill Kossuth (a rebel  leader in Hungary) in this year.  From the Constellation of 44 we are in the Decade of 1837,  when  \n",
       "59                                                                                                                                                                                                                                                                                                                                                                                                                                                                                                                                                                                                                                                                                                                                                                                                                                                                                                                                                                                                                                                                                                                                                                 Elites in Silicon Valley and AI academia take a sanguine view of this future; they claim that  everyone will benefit.  But, of course, they are the ones who will be at the top when these  changes come.  They also have no training in economics, political science, or the social  sciences, and think technology is a panacea.  The focus on STEM to the detriment of well- rounded, liberal education has left our AI elite dangerously ignorant of the history of the  negative effects of technology, and dangerously unimaginative with regard to potential the  long-term consequences of their actions.  What we need right now is some serious thought  about the implications of AI for the structure of society, and what our options are as we  transition into this new age.  This means interdisciplinary research at the intersection of the  social sciences and AI, with serious engagement (and hence funding) of social science  scholars.  \n",
       "62                                                                                                                                                                                                                                                                                                                                                                                                                                                                                                                                                                                                                                                                                                                                                                                                                                                                                                                                                                                                                                                                                                                                                                                                                                                                                                                                                                                                                                                                                                                                                                                                                                                                                                                                                                                                                                                                                                                                                                                                                     can benefit from adopting  methods and ideas from more established fields of science, namely Cybersecurity.  "
      ]
     },
     "execution_count": null,
     "metadata": {},
     "output_type": "execute_result"
    }
   ],
   "source": [
    "# | notest\n",
    "\n",
    "df[df.topic == 'MULTIDISCIPLINARY'].head()"
   ]
  },
  {
   "cell_type": "code",
   "execution_count": null,
   "metadata": {},
   "outputs": [
    {
     "data": {
      "text/html": [
       "<div>\n",
       "<style scoped>\n",
       "    .dataframe tbody tr th:only-of-type {\n",
       "        vertical-align: middle;\n",
       "    }\n",
       "\n",
       "    .dataframe tbody tr th {\n",
       "        vertical-align: top;\n",
       "    }\n",
       "\n",
       "    .dataframe thead th {\n",
       "        text-align: right;\n",
       "    }\n",
       "</style>\n",
       "<table border=\"1\" class=\"dataframe\">\n",
       "  <thead>\n",
       "    <tr style=\"text-align: right;\">\n",
       "      <th></th>\n",
       "      <th>topic</th>\n",
       "      <th>description</th>\n",
       "      <th>response</th>\n",
       "    </tr>\n",
       "  </thead>\n",
       "  <tbody>\n",
       "    <tr>\n",
       "      <th>90</th>\n",
       "      <td>TRAINING</td>\n",
       "      <td>the scientific and technical training that will be needed to take advantage of harnessing the potential of AI technology, and the challenges faced by institutions of higher education in retaining faculty and responding to explosive growth in student enrollment in AI-related courses and courses of study;</td>\n",
       "      <td>9. We have a serious problem, within our universities, where professors are being lured to  high paying technology companies.  This trend is serious and getting worse.  Whole  computer science departments risk collapse.  It could impact our ability to advance AI  development in the coming decades.</td>\n",
       "    </tr>\n",
       "    <tr>\n",
       "      <th>102</th>\n",
       "      <td>TRAINING</td>\n",
       "      <td>the scientific and technical training that will be needed to take advantage of harnessing the potential of AI technology, and the challenges faced by institutions of higher education in retaining faculty and responding to explosive growth in student enrollment in AI-related courses and courses of study;</td>\n",
       "      <td>To make this happen expertise must be captured and brought in to guide from people at  their time of need.  A good teacher  (and a good parent) can do that, but they cannot always  be available.  A kid in Kansas who wants to be an aerospace engineer should get to try out  designing airplanes.  But a mentor would be needed.  We can build AI mentors in limited  domains so it would be possible for a student anywhere to learn to do anything because the  AI mentor would understand what a user was trying to accomplish within the domain and  perhaps is struggling with.  The student could ask questions and expect good answers  tailored to the student’s needs because the AI/NLU mentor would know exactly what the  students was trying to do because it has a perfect model of the world in which the student  was working, the relevant expertise needed, and the mistakes students often make.  NLU  gets much easier when there is deep domain knowledge available.</td>\n",
       "    </tr>\n",
       "    <tr>\n",
       "      <th>114</th>\n",
       "      <td>TRAINING</td>\n",
       "      <td>the scientific and technical training that will be needed to take advantage of harnessing  the potential of AI technology, and the challenges faced by institutions of higher education  in retaining faculty and responding to explosive growth in student enrollment in AI-related  courses and courses of study;</td>\n",
       "      <td>(7) the scientific and technical training that will be needed to take advantage of harnessing  the potential of AI technology, and the challenges faced by institutions of higher education  in retaining faculty and responding to explosive growth in student enrollment in AI-related  courses and courses of study;</td>\n",
       "    </tr>\n",
       "    <tr>\n",
       "      <th>115</th>\n",
       "      <td>TRAINING</td>\n",
       "      <td>the scientific and technical training that will be needed to take advantage of harnessing the potential of AI technology, and the challenges faced by institutions of higher education in retaining faculty and responding to explosive growth in student enrollment in AI-related courses and courses of study;</td>\n",
       "      <td>--&gt; Computational thinking courses as general education and computer science options in  K12.  The major problem in higher ed is the lure of industry and the lack of  prospects/opportunities within higher ed itself.</td>\n",
       "    </tr>\n",
       "    <tr>\n",
       "      <th>130</th>\n",
       "      <td>TRAINING</td>\n",
       "      <td>the scientific and technical training that will be needed to take advantage of harnessing the potential of AI technology, and the challenges faced by institutions of higher education in retaining faculty and responding to explosive growth in student enrollment in AI-related courses and courses of study;</td>\n",
       "      <td>funding should be skewed towards AI  development.   [2] Roadmaps should be adjusted for early developments due to large federal  funding.   [3] Successful industry models should be followed.   For example, MITRE, an  FFRDC, has initiatives of this kind underway.   (Industry, FFRDCs)  c. Universities:  Already behind the technological curve, universities must retool to absorb  faculty and students wanting to be part of the AI evolution.   [1] The retooling must be  vertical (entry-to-Ph.D. AI tracks).   [2] The retooling must also be horizontal (cross- disciplinary and new-disciplinary).   [3] Internal grants with contingency funding should  anticipate external grants in the near term.   [4] Industry partnerships should be started  early.  [5] Successful models should be followed for efficiency.   Some small private colleges  have integrating initiatives and programs underway that larger institutions can combine  with AI and use as a template.   (Academia, Industry)  d. Philanthropies: The most promising non-governmental entities for extension of AI to the  benefit masses should find ways to refocus their efforts on making AI available to the  common man.   This goes well beyond formatted, deterministic computer-based-training  (CBT).   AI is the only tool capable of training its human and AI users on the fly.  [1] New  NGOs focusing on empowerment through training AI for use in the field will attract both  grants and donations.  (Not-for-profits, NGOs, Philanthropists, USAID)   (9) Specific training data sets that can accelerate the development of AI and its application:    A scrubbed [all personal information removed] and massive health data set should be made  available in a secure fashion to all responsible players in the healthcare AI arena.  The data  set should be scrubbed, actual data, not corrected, notional or “perfect” data because  dealing with imperfect data is part of the problem set to be solved.  (DHHS)  (10) The role that “market shaping” approaches such as incentive prizes and Advanced Market</td>\n",
       "    </tr>\n",
       "  </tbody>\n",
       "</table>\n",
       "</div>"
      ],
      "text/plain": [
       "        topic  \\\n",
       "90   TRAINING   \n",
       "102  TRAINING   \n",
       "114  TRAINING   \n",
       "115  TRAINING   \n",
       "130  TRAINING   \n",
       "\n",
       "                                                                                                                                                                                                                                                                                                             description  \\\n",
       "90      the scientific and technical training that will be needed to take advantage of harnessing the potential of AI technology, and the challenges faced by institutions of higher education in retaining faculty and responding to explosive growth in student enrollment in AI-related courses and courses of study;   \n",
       "102     the scientific and technical training that will be needed to take advantage of harnessing the potential of AI technology, and the challenges faced by institutions of higher education in retaining faculty and responding to explosive growth in student enrollment in AI-related courses and courses of study;   \n",
       "114  the scientific and technical training that will be needed to take advantage of harnessing  the potential of AI technology, and the challenges faced by institutions of higher education  in retaining faculty and responding to explosive growth in student enrollment in AI-related  courses and courses of study;   \n",
       "115     the scientific and technical training that will be needed to take advantage of harnessing the potential of AI technology, and the challenges faced by institutions of higher education in retaining faculty and responding to explosive growth in student enrollment in AI-related courses and courses of study;   \n",
       "130     the scientific and technical training that will be needed to take advantage of harnessing the potential of AI technology, and the challenges faced by institutions of higher education in retaining faculty and responding to explosive growth in student enrollment in AI-related courses and courses of study;   \n",
       "\n",
       "                                                                                                                                                                                                                                                                                                                                                                                                                                                                                                                                                                                                                                                                                                                                                                                                                                                                                                                                                                                                                                                                                                                                                                                                                                                                                                                                                                                                                                                                                                                                                                                                                                                                                                                                                                                                                                                                                                                                                                                                                                                                                                                         response  \n",
       "90                                                                                                                                                                                                                                                                                                                                                                                                                                                                                                                                                                                                                                                                                                                                                                                                                                                                                                                                                                                                                                                                                                                                                                                                                                                                                                                                                                                                                                                                                                                                                                                                                                                                                                                                                                                                                     9. We have a serious problem, within our universities, where professors are being lured to  high paying technology companies.  This trend is serious and getting worse.  Whole  computer science departments risk collapse.  It could impact our ability to advance AI  development in the coming decades.  \n",
       "102                                                                                                                                                                                                                                                                                                                                                                                                                                                                                                                                                                                                                                                                                                                                                                                                                                                                                                                                                                                                                                                                                                                                 To make this happen expertise must be captured and brought in to guide from people at  their time of need.  A good teacher  (and a good parent) can do that, but they cannot always  be available.  A kid in Kansas who wants to be an aerospace engineer should get to try out  designing airplanes.  But a mentor would be needed.  We can build AI mentors in limited  domains so it would be possible for a student anywhere to learn to do anything because the  AI mentor would understand what a user was trying to accomplish within the domain and  perhaps is struggling with.  The student could ask questions and expect good answers  tailored to the student’s needs because the AI/NLU mentor would know exactly what the  students was trying to do because it has a perfect model of the world in which the student  was working, the relevant expertise needed, and the mistakes students often make.  NLU  gets much easier when there is deep domain knowledge available.  \n",
       "114                                                                                                                                                                                                                                                                                                                                                                                                                                                                                                                                                                                                                                                                                                                                                                                                                                                                                                                                                                                                                                                                                                                                                                                                                                                                                                                                                                                                                                                                                                                                                                                                                                                                                                                                                                                                       (7) the scientific and technical training that will be needed to take advantage of harnessing  the potential of AI technology, and the challenges faced by institutions of higher education  in retaining faculty and responding to explosive growth in student enrollment in AI-related  courses and courses of study;  \n",
       "115                                                                                                                                                                                                                                                                                                                                                                                                                                                                                                                                                                                                                                                                                                                                                                                                                                                                                                                                                                                                                                                                                                                                                                                                                                                                                                                                                                                                                                                                                                                                                                                                                                                                                                                                                                                                                                                                                                       --> Computational thinking courses as general education and computer science options in  K12.  The major problem in higher ed is the lure of industry and the lack of  prospects/opportunities within higher ed itself.  \n",
       "130  funding should be skewed towards AI  development.   [2] Roadmaps should be adjusted for early developments due to large federal  funding.   [3] Successful industry models should be followed.   For example, MITRE, an  FFRDC, has initiatives of this kind underway.   (Industry, FFRDCs)  c. Universities:  Already behind the technological curve, universities must retool to absorb  faculty and students wanting to be part of the AI evolution.   [1] The retooling must be  vertical (entry-to-Ph.D. AI tracks).   [2] The retooling must also be horizontal (cross- disciplinary and new-disciplinary).   [3] Internal grants with contingency funding should  anticipate external grants in the near term.   [4] Industry partnerships should be started  early.  [5] Successful models should be followed for efficiency.   Some small private colleges  have integrating initiatives and programs underway that larger institutions can combine  with AI and use as a template.   (Academia, Industry)  d. Philanthropies: The most promising non-governmental entities for extension of AI to the  benefit masses should find ways to refocus their efforts on making AI available to the  common man.   This goes well beyond formatted, deterministic computer-based-training  (CBT).   AI is the only tool capable of training its human and AI users on the fly.  [1] New  NGOs focusing on empowerment through training AI for use in the field will attract both  grants and donations.  (Not-for-profits, NGOs, Philanthropists, USAID)   (9) Specific training data sets that can accelerate the development of AI and its application:    A scrubbed [all personal information removed] and massive health data set should be made  available in a secure fashion to all responsible players in the healthcare AI arena.  The data  set should be scrubbed, actual data, not corrected, notional or “perfect” data because  dealing with imperfect data is part of the problem set to be solved.  (DHHS)  (10) The role that “market shaping” approaches such as incentive prizes and Advanced Market  "
      ]
     },
     "execution_count": null,
     "metadata": {},
     "output_type": "execute_result"
    }
   ],
   "source": [
    "# | notest\n",
    "\n",
    "df[df.topic == 'TRAINING'].head()"
   ]
  },
  {
   "cell_type": "code",
   "execution_count": null,
   "metadata": {},
   "outputs": [
    {
     "data": {
      "text/html": [
       "<div>\n",
       "<style scoped>\n",
       "    .dataframe tbody tr th:only-of-type {\n",
       "        vertical-align: middle;\n",
       "    }\n",
       "\n",
       "    .dataframe tbody tr th {\n",
       "        vertical-align: top;\n",
       "    }\n",
       "\n",
       "    .dataframe thead th {\n",
       "        text-align: right;\n",
       "    }\n",
       "</style>\n",
       "<table border=\"1\" class=\"dataframe\">\n",
       "  <thead>\n",
       "    <tr style=\"text-align: right;\">\n",
       "      <th></th>\n",
       "      <th>topic</th>\n",
       "      <th>description</th>\n",
       "      <th>response</th>\n",
       "    </tr>\n",
       "  </thead>\n",
       "  <tbody>\n",
       "    <tr>\n",
       "      <th>92</th>\n",
       "      <td>RESEARCH GAPS</td>\n",
       "      <td>the most important research gaps in AI that must be addressed to advance this field and benefit the public;</td>\n",
       "      <td>bots) (6) the most important research gaps in AI that must be  addressed to advance this field and benefit the public; truly understanding spoken language  and context. (7) the scientific and technical training that will be needed to take advantage of  harnessing the potential of AI technology;  AI is broad  (Knowledge representation  Natural language processing  Graph analysis   Simulation modelling  Deep learning   Social network analysis   Soft robotics  Machine learning  Visualization   Natural language generation  Deep Q&amp;A systems  Virtual personal assistants  Sensors/internet of things  Robotics   Recommender systems  Audio/speech analytics  Image analytics  Machine translation  ), so many skills needed. (8) the specific steps that could be taken by the federal  government, research institutes, universities, and philanthropies to encourage multi- disciplinary AI research; address issue if job displacement and transition to other jobs.   Respondent 31  roger Schank, Socratic Arts Inc  response to questions 2, 5, 6, and *</td>\n",
       "    </tr>\n",
       "    <tr>\n",
       "      <th>112</th>\n",
       "      <td>RESEARCH GAPS</td>\n",
       "      <td>the most important research gaps in AI that must be addressed to advance this field and benefit the public;</td>\n",
       "      <td>(6) the most important research gaps in AI that must be addressed to advance this field and  benefit the public;</td>\n",
       "    </tr>\n",
       "    <tr>\n",
       "      <th>222</th>\n",
       "      <td>RESEARCH GAPS</td>\n",
       "      <td>the most important research gaps in AI that must be addressed to advance this field and benefit the public;</td>\n",
       "      <td>(6) Most important research gaps in to advance AI and benefit the public</td>\n",
       "    </tr>\n",
       "    <tr>\n",
       "      <th>276</th>\n",
       "      <td>RESEARCH GAPS</td>\n",
       "      <td>the most important research gaps in AI that must be addressed to advance this field and benefit the public.</td>\n",
       "      <td>Topic (6)  The most important research gaps in AI that must be addressed to advance this  field and benefit the public.   As indicated in topic 5 above, AI has tended to shy away from high-level human cognitive  processes regarding integrative complex perception, consciousness, and creativity much in  part to their seemingly impenetrable complexity.  These mind/brain processes constitute a  huge gap in AI because machines cannot autonomously and spontaneously perceive, be  conscious, and create in response to its environment; they do not have the ability to take  information, process it, and act on it in some way that results in an output to the system  much like humans do (from daily language use to the creation of artworks).   Humans use  their senses, emotion, movement, motor responses, and linguistic capabilities to act in  response to their surrounding environment through visual, audial, olfactory, tactile and  gustatory stimuli.   Thus, research on perception in the context of multidisciplinary  approaches using both Science and the Arts is fundamental to understanding human perception.  The Arts offer a uniquely human platform from which to probe deeper into how  emotion, language, decision-making, and creative behaviors all interact in any given  moment, whether short-term or durative and/or improvisatory or deliberate.  Similarly,  consciousness is the human state of being aware of an external something within oneself.   The human mind/brain has the ability to experience or to feel a sense of self on any given  moment.   While arousal levels, responsiveness and patient self-reporting narratives have  been used in a medical context to understand consciousness, there is no financial support  for those doing out-of-the-box research at the multidisciplinary level using both integrative  methods from the Sciences and the Arts.   Finally, if the creative process is not understood,  machines and robots will never be truly creative.   An essential aspect of being creative is the  ability to make both old and new</td>\n",
       "    </tr>\n",
       "    <tr>\n",
       "      <th>364</th>\n",
       "      <td>RESEARCH GAPS</td>\n",
       "      <td>the most important research gaps in AI that must be addressed to advance this field and benefit the public;</td>\n",
       "      <td>(6)  - Among the points listed in (5) advances in verification and quality assurance may be the  most important in use cases where AI software can cause damage.   - Human-computer interaction is another important area.  Bad interaction can result in  accidents due to miscommunication with the machine.  Another issue is that machine  learning results may be incorrectly interpreted by the human operator or the operator may  use inappropriate parameters.   - AI will continue to improve in other areas, but the progress in these areas is not a limiting  factor in the deployment of AI.</td>\n",
       "    </tr>\n",
       "  </tbody>\n",
       "</table>\n",
       "</div>"
      ],
      "text/plain": [
       "             topic  \\\n",
       "92   RESEARCH GAPS   \n",
       "112  RESEARCH GAPS   \n",
       "222  RESEARCH GAPS   \n",
       "276  RESEARCH GAPS   \n",
       "364  RESEARCH GAPS   \n",
       "\n",
       "                                                                                                     description  \\\n",
       "92   the most important research gaps in AI that must be addressed to advance this field and benefit the public;   \n",
       "112  the most important research gaps in AI that must be addressed to advance this field and benefit the public;   \n",
       "222  the most important research gaps in AI that must be addressed to advance this field and benefit the public;   \n",
       "276  the most important research gaps in AI that must be addressed to advance this field and benefit the public.   \n",
       "364  the most important research gaps in AI that must be addressed to advance this field and benefit the public;   \n",
       "\n",
       "                                                                                                                                                                                                                                                                                                                                                                                                                                                                                                                                                                                                                                                                                                                                                                                                                                                                                                                                                                                                                                                                                                                                                                                                                                                                                                                                                                                                                                                                                                                                                                                                                                                                                                                                                                                                                                                                                                                                                                                                                                                                                                                             response  \n",
       "92                                                                                                                                                                                                                                                                                                                                                                                                                                                                                                                                                                                                                                                                                                                                                                                                                                                                                                                                                                                                                                                  bots) (6) the most important research gaps in AI that must be  addressed to advance this field and benefit the public; truly understanding spoken language  and context. (7) the scientific and technical training that will be needed to take advantage of  harnessing the potential of AI technology;  AI is broad  (Knowledge representation  Natural language processing  Graph analysis   Simulation modelling  Deep learning   Social network analysis   Soft robotics  Machine learning  Visualization   Natural language generation  Deep Q&A systems  Virtual personal assistants  Sensors/internet of things  Robotics   Recommender systems  Audio/speech analytics  Image analytics  Machine translation  ), so many skills needed. (8) the specific steps that could be taken by the federal  government, research institutes, universities, and philanthropies to encourage multi- disciplinary AI research; address issue if job displacement and transition to other jobs.   Respondent 31  roger Schank, Socratic Arts Inc  response to questions 2, 5, 6, and *  \n",
       "112                                                                                                                                                                                                                                                                                                                                                                                                                                                                                                                                                                                                                                                                                                                                                                                                                                                                                                                                                                                                                                                                                                                                                                                                                                                                                                                                                                                                                                                                                                                                                                                                                                                                                                                                                                                                                                                                                                                                                                                                                  (6) the most important research gaps in AI that must be addressed to advance this field and  benefit the public;  \n",
       "222                                                                                                                                                                                                                                                                                                                                                                                                                                                                                                                                                                                                                                                                                                                                                                                                                                                                                                                                                                                                                                                                                                                                                                                                                                                                                                                                                                                                                                                                                                                                                                                                                                                                                                                                                                                                                                                                                                                                                                                                                                                          (6) Most important research gaps in to advance AI and benefit the public  \n",
       "276  Topic (6)  The most important research gaps in AI that must be addressed to advance this  field and benefit the public.   As indicated in topic 5 above, AI has tended to shy away from high-level human cognitive  processes regarding integrative complex perception, consciousness, and creativity much in  part to their seemingly impenetrable complexity.  These mind/brain processes constitute a  huge gap in AI because machines cannot autonomously and spontaneously perceive, be  conscious, and create in response to its environment; they do not have the ability to take  information, process it, and act on it in some way that results in an output to the system  much like humans do (from daily language use to the creation of artworks).   Humans use  their senses, emotion, movement, motor responses, and linguistic capabilities to act in  response to their surrounding environment through visual, audial, olfactory, tactile and  gustatory stimuli.   Thus, research on perception in the context of multidisciplinary  approaches using both Science and the Arts is fundamental to understanding human perception.  The Arts offer a uniquely human platform from which to probe deeper into how  emotion, language, decision-making, and creative behaviors all interact in any given  moment, whether short-term or durative and/or improvisatory or deliberate.  Similarly,  consciousness is the human state of being aware of an external something within oneself.   The human mind/brain has the ability to experience or to feel a sense of self on any given  moment.   While arousal levels, responsiveness and patient self-reporting narratives have  been used in a medical context to understand consciousness, there is no financial support  for those doing out-of-the-box research at the multidisciplinary level using both integrative  methods from the Sciences and the Arts.   Finally, if the creative process is not understood,  machines and robots will never be truly creative.   An essential aspect of being creative is the  ability to make both old and new  \n",
       "364                                                                                                                                                                                                                                                                                                                                                                                                                                                                                                                                                                                                                                                                                                                                                                                                                                                                                                                                                                                                                                                                                                                                                                                                                                                                                                                                                                                                                                                                                                                        (6)  - Among the points listed in (5) advances in verification and quality assurance may be the  most important in use cases where AI software can cause damage.   - Human-computer interaction is another important area.  Bad interaction can result in  accidents due to miscommunication with the machine.  Another issue is that machine  learning results may be incorrectly interpreted by the human operator or the operator may  use inappropriate parameters.   - AI will continue to improve in other areas, but the progress in these areas is not a limiting  factor in the deployment of AI.  "
      ]
     },
     "execution_count": null,
     "metadata": {},
     "output_type": "execute_result"
    }
   ],
   "source": [
    "# | notest\n",
    "\n",
    "df[df.topic == 'RESEARCH GAPS'].head()"
   ]
  },
  {
   "cell_type": "code",
   "execution_count": null,
   "metadata": {},
   "outputs": [
    {
     "data": {
      "text/html": [
       "<div>\n",
       "<style scoped>\n",
       "    .dataframe tbody tr th:only-of-type {\n",
       "        vertical-align: middle;\n",
       "    }\n",
       "\n",
       "    .dataframe tbody tr th {\n",
       "        vertical-align: top;\n",
       "    }\n",
       "\n",
       "    .dataframe thead th {\n",
       "        text-align: right;\n",
       "    }\n",
       "</style>\n",
       "<table border=\"1\" class=\"dataframe\">\n",
       "  <thead>\n",
       "    <tr style=\"text-align: right;\">\n",
       "      <th></th>\n",
       "      <th>topic</th>\n",
       "      <th>description</th>\n",
       "      <th>response</th>\n",
       "    </tr>\n",
       "  </thead>\n",
       "  <tbody>\n",
       "    <tr>\n",
       "      <th>4</th>\n",
       "      <td>DATA</td>\n",
       "      <td>specific training data sets that can accelerate the development of AI and its application</td>\n",
       "      <td>Such datasets are a tremendous help when applying learning algorithms to predict  breakdowns and system failures.  With enough lead time, those predictions make pre- emptive action possible, action that would cost cities much less than recovery efforts in the  wake of a disaster.  Our choice is between an ounce of prevention or a pound of cure.</td>\n",
       "    </tr>\n",
       "    <tr>\n",
       "      <th>6</th>\n",
       "      <td>DATA</td>\n",
       "      <td>specific training data sets that can accelerate the development of AI and its application</td>\n",
       "      <td>But we are faced with a challenge.  There is too much data in the world.  Mountains of data  are being generated every second.  There is too much data for experts to wade through, and  that data reflects complex and evolving patterns in reality.</td>\n",
       "    </tr>\n",
       "    <tr>\n",
       "      <th>118</th>\n",
       "      <td>DATA</td>\n",
       "      <td>9</td>\n",
       "      <td>(9) specific training data sets that can accelerate the development of AI and its application;</td>\n",
       "    </tr>\n",
       "    <tr>\n",
       "      <th>231</th>\n",
       "      <td>DATA</td>\n",
       "      <td>specific training data sets that can accelerate the development of AI and its application;</td>\n",
       "      <td>(9) Any additional information you believe OSTP should consider</td>\n",
       "    </tr>\n",
       "    <tr>\n",
       "      <th>369</th>\n",
       "      <td>DATA</td>\n",
       "      <td>specific training data sets that can accelerate the development of AI and its application.</td>\n",
       "      <td>As we move forward with the maturing arsenal of AI techniques, which are largely designed for non-adversarial situations, a natural question is how robust modern AI methods are if  motivated adversaries attempt to subvert their functionality.   One emerging domain of  research related to this broader question is in adversarial machine learning (AML).   Attacks  on machine learning algorithms can come, roughly, in two forms: evasion and poisoning.   An  evasion attack is best explained using a spam filtering example.   Suppose that we have  trained a classifier on data to distinguish spam from non-spam.   Spammers would  subsequently be motivated to modify spam instances in order to be (mis)classified as  benign (that is, to evade detection).   More generally, in an evasion attack, an attacker wishes  to manipulate malicious instances in order to avoid detection by fixed learning algorithms  (typically, binary classifiers in such domains).   Poisoning attacks are different: in these, the  adversary is assumed to modify the training data set itself, so as to subvert the learning  algorithms.   Poisoning attacks may have goals ranging from degrading observed  performance of learning algorithms (the so-called availability attacks) to allowing future  adversarial behavior to bypass detection.   Given the importance of machine learning  algorithms both in research and commercial application, consideration of such attacks on  machine learning algorithms may be one of the most significant emerging research  problems today.   Respondent 72  Dennis Cooper, Self  I have some comments regarding item #9 \"specific training sets that can accelerate the  development of AI and its application.\"   It is absolutely crucial that large training sets be  created and maintained by a third party.   These training sets can be used to:  •  validate the performance of an AI system  •  score the performance of an AI system  •  document troublesome cases that might be critical to safety  •  serve as a basis for acceptance testing  Often</td>\n",
       "    </tr>\n",
       "  </tbody>\n",
       "</table>\n",
       "</div>"
      ],
      "text/plain": [
       "    topic  \\\n",
       "4    DATA   \n",
       "6    DATA   \n",
       "118  DATA   \n",
       "231  DATA   \n",
       "369  DATA   \n",
       "\n",
       "                                                                                    description  \\\n",
       "4     specific training data sets that can accelerate the development of AI and its application   \n",
       "6     specific training data sets that can accelerate the development of AI and its application   \n",
       "118                                                                                           9   \n",
       "231  specific training data sets that can accelerate the development of AI and its application;   \n",
       "369  specific training data sets that can accelerate the development of AI and its application.   \n",
       "\n",
       "                                                                                                                                                                                                                                                                                                                                                                                                                                                                                                                                                                                                                                                                                                                                                                                                                                                                                                                                                                                                                                                                                                                                                                                                                                                                                                                                                                                                                                                                                                                                                                                                                                                                                                                                                                                                                                                                                                                                                                                                                                                                                                                        response  \n",
       "4                                                                                                                                                                                                                                                                                                                                                                                                                                                                                                                                                                                                                                                                                                                                                                                                                                                                                                                                                                                                                                                                                                                                                                                                                                                                                                                                                                                                                                                                                                                                                                                                                                                                                                                                                                     Such datasets are a tremendous help when applying learning algorithms to predict  breakdowns and system failures.  With enough lead time, those predictions make pre- emptive action possible, action that would cost cities much less than recovery efforts in the  wake of a disaster.  Our choice is between an ounce of prevention or a pound of cure.  \n",
       "6                                                                                                                                                                                                                                                                                                                                                                                                                                                                                                                                                                                                                                                                                                                                                                                                                                                                                                                                                                                                                                                                                                                                                                                                                                                                                                                                                                                                                                                                                                                                                                                                                                                                                                                                                                                                                                                                          But we are faced with a challenge.  There is too much data in the world.  Mountains of data  are being generated every second.  There is too much data for experts to wade through, and  that data reflects complex and evolving patterns in reality.  \n",
       "118                                                                                                                                                                                                                                                                                                                                                                                                                                                                                                                                                                                                                                                                                                                                                                                                                                                                                                                                                                                                                                                                                                                                                                                                                                                                                                                                                                                                                                                                                                                                                                                                                                                                                                                                                                                                                                                                                                                                                                                                                               (9) specific training data sets that can accelerate the development of AI and its application;  \n",
       "231                                                                                                                                                                                                                                                                                                                                                                                                                                                                                                                                                                                                                                                                                                                                                                                                                                                                                                                                                                                                                                                                                                                                                                                                                                                                                                                                                                                                                                                                                                                                                                                                                                                                                                                                                                                                                                                                                                                                                                                                                                                              (9) Any additional information you believe OSTP should consider  \n",
       "369  As we move forward with the maturing arsenal of AI techniques, which are largely designed for non-adversarial situations, a natural question is how robust modern AI methods are if  motivated adversaries attempt to subvert their functionality.   One emerging domain of  research related to this broader question is in adversarial machine learning (AML).   Attacks  on machine learning algorithms can come, roughly, in two forms: evasion and poisoning.   An  evasion attack is best explained using a spam filtering example.   Suppose that we have  trained a classifier on data to distinguish spam from non-spam.   Spammers would  subsequently be motivated to modify spam instances in order to be (mis)classified as  benign (that is, to evade detection).   More generally, in an evasion attack, an attacker wishes  to manipulate malicious instances in order to avoid detection by fixed learning algorithms  (typically, binary classifiers in such domains).   Poisoning attacks are different: in these, the  adversary is assumed to modify the training data set itself, so as to subvert the learning  algorithms.   Poisoning attacks may have goals ranging from degrading observed  performance of learning algorithms (the so-called availability attacks) to allowing future  adversarial behavior to bypass detection.   Given the importance of machine learning  algorithms both in research and commercial application, consideration of such attacks on  machine learning algorithms may be one of the most significant emerging research  problems today.   Respondent 72  Dennis Cooper, Self  I have some comments regarding item #9 \"specific training sets that can accelerate the  development of AI and its application.\"   It is absolutely crucial that large training sets be  created and maintained by a third party.   These training sets can be used to:  •  validate the performance of an AI system  •  score the performance of an AI system  •  document troublesome cases that might be critical to safety  •  serve as a basis for acceptance testing  Often  "
      ]
     },
     "execution_count": null,
     "metadata": {},
     "output_type": "execute_result"
    }
   ],
   "source": [
    "# | notest\n",
    "\n",
    "df[df.topic == 'DATA'].head()"
   ]
  },
  {
   "cell_type": "code",
   "execution_count": null,
   "metadata": {},
   "outputs": [
    {
     "data": {
      "text/html": [
       "<div>\n",
       "<style scoped>\n",
       "    .dataframe tbody tr th:only-of-type {\n",
       "        vertical-align: middle;\n",
       "    }\n",
       "\n",
       "    .dataframe tbody tr th {\n",
       "        vertical-align: top;\n",
       "    }\n",
       "\n",
       "    .dataframe thead th {\n",
       "        text-align: right;\n",
       "    }\n",
       "</style>\n",
       "<table border=\"1\" class=\"dataframe\">\n",
       "  <thead>\n",
       "    <tr style=\"text-align: right;\">\n",
       "      <th></th>\n",
       "      <th>topic</th>\n",
       "      <th>description</th>\n",
       "      <th>response</th>\n",
       "    </tr>\n",
       "  </thead>\n",
       "  <tbody>\n",
       "    <tr>\n",
       "      <th>25</th>\n",
       "      <td>MARKET_SHAPING</td>\n",
       "      <td>the role that “market shaping” approaches such as incentive prizes and Advanced Market Commitments can play in accelerating the development of applications of AI to address societal needs, such as accelerated training for low and moderate income workers</td>\n",
       "      <td>If history is any indication, our governmental response to disruptions in the labor market  will be insufficient.  In the hardest-hit sectors, workers, families and communities will suffer  and break down.  Unemployment, drug use and suicides will go up, along with political  instability.  Policies such as “basic income” or the Danish “flexicurity” should be explored as  ways to soften the blow of job loss and fund transitional retraining periods.  The role of “market-shaping” approaches  Just as DARPA helped finance the explosion in data science in the Python community  through repeated grants to such key players as Continuum, government agencies are in a  position to support the researchers, technologies, tools and communities pushing AI in  promising directions.</td>\n",
       "    </tr>\n",
       "    <tr>\n",
       "      <th>120</th>\n",
       "      <td>MARKET_SHAPING</td>\n",
       "      <td>the role that “market shaping” approaches such as incentive prizes and Advanced  Market Commitments can play in accelerating the development of applications of AI to  address societal needs, such as accelerated training for low and moderate income workers (see https</td>\n",
       "      <td>(10) the role that “market shaping” approaches such as incentive prizes and Advanced  Market Commitments can play in accelerating the development of applications of AI to  address societal needs, such as accelerated training for low and moderate income workers (see https://www.usaid.gov/cii/market-shaping-primer); and</td>\n",
       "    </tr>\n",
       "    <tr>\n",
       "      <th>121</th>\n",
       "      <td>MARKET_SHAPING</td>\n",
       "      <td>the role that “market shaping” approaches such as incentive prizes and Advanced\\nMarket Commitments can play in accelerating the development of applications of AI to\\naddress societal needs, such as accelerated training for low and moderate income workers</td>\n",
       "      <td>--&gt; Possibly if the prizes are large and don't expire.  Large prizes with impossible timelines  are not going to generate good results.</td>\n",
       "    </tr>\n",
       "    <tr>\n",
       "      <th>726</th>\n",
       "      <td>MARKET_SHAPING</td>\n",
       "      <td>the role that “market shaping” approaches such as incentive prizes and Advanced  Market Commitments can play in accelerating the development of applications of AI to  address societal needs, such as accelerated training for low and moderate income workers</td>\n",
       "      <td>10) the role that “market shaping” approaches such as incentive prizes and Advanced  Market Commitments can play in accelerating the development of applications of AI to  address societal needs, such as accelerated training for low and moderate income workers</td>\n",
       "    </tr>\n",
       "    <tr>\n",
       "      <th>727</th>\n",
       "      <td>MARKET_SHAPING</td>\n",
       "      <td>the role that “market shaping” approaches such as incentive prizes and Advanced Market Commitments can play in accelerating the development of applications of AI to address societal needs, such as accelerated training for low and moderate income workers</td>\n",
       "      <td>Incentive prizes can accelerate the development of applications of AI to societal needs in  multiple ways.   They provide a platform for citizen science at a global scale that can be  focused on the most challenging technical problems faced in AI applications.  They can be  globally inclusive through low barriers to entry by providing access to relevant domain  specific datasets, accelerated cloud computing resources and open-source foundational  code.   Incentive prizes also offer an educational and training opportunity at very low cost to  the participant and the communities that form around these challenges are often highly  active with widespread exchange of ideas and spontaneous teamwork from distributed  teams with complementary approaches to a problem.  NVIDIA GPUs accelerate numerous  cloud computing platforms that offer the ideal host for AI incentive prizes.   NVIDIA has also  sponsored incentive prizes that have led to cross-disciplinary exchange of ideas in solving  AI challenges with cutting edge results.   For example, in the recent Second National Data  Science Bowl the winning team was able to apply their AI expertise developed in their  careers as financial analysts to solve a challenging medical imagery analysis problem.   The  AI system they developed could analyze a cardiac Magnetic Resonance Image (MRI) for a  key indicator of heart disease with accuracy comparable to an expert cardiologist but  thousands of times faster - this has the potential to save years of valuable time for a human  cardiologist throughout their career.   Respondent 100 Amir Banifatemi, XPRIZE Foundation  Over the past 50 years Artificial Intelligence (AI) has made steady, linear progress.  The  technology has matured and is now reaching a point on the technology adoption curve  where AI will have the potential to transcend from linear growth to an exponential leap  forward for humanity.</td>\n",
       "    </tr>\n",
       "  </tbody>\n",
       "</table>\n",
       "</div>"
      ],
      "text/plain": [
       "              topic  \\\n",
       "25   MARKET_SHAPING   \n",
       "120  MARKET_SHAPING   \n",
       "121  MARKET_SHAPING   \n",
       "726  MARKET_SHAPING   \n",
       "727  MARKET_SHAPING   \n",
       "\n",
       "                                                                                                                                                                                                                                                                    description  \\\n",
       "25                the role that “market shaping” approaches such as incentive prizes and Advanced Market Commitments can play in accelerating the development of applications of AI to address societal needs, such as accelerated training for low and moderate income workers   \n",
       "120  the role that “market shaping” approaches such as incentive prizes and Advanced  Market Commitments can play in accelerating the development of applications of AI to  address societal needs, such as accelerated training for low and moderate income workers (see https   \n",
       "121             the role that “market shaping” approaches such as incentive prizes and Advanced\\nMarket Commitments can play in accelerating the development of applications of AI to\\naddress societal needs, such as accelerated training for low and moderate income workers   \n",
       "726             the role that “market shaping” approaches such as incentive prizes and Advanced  Market Commitments can play in accelerating the development of applications of AI to  address societal needs, such as accelerated training for low and moderate income workers   \n",
       "727               the role that “market shaping” approaches such as incentive prizes and Advanced Market Commitments can play in accelerating the development of applications of AI to address societal needs, such as accelerated training for low and moderate income workers   \n",
       "\n",
       "                                                                                                                                                                                                                                                                                                                                                                                                                                                                                                                                                                                                                                                                                                                                                                                                                                                                                                                                                                                                                                                                                                                                                                                                                                                                                                                                                                                                                                                                                                                                                                                                                                                                                                                                                                                                                                                                                                                                                                                      response  \n",
       "25                                                                                                                                                                                                                                                                                                                                                                                                                                                                                                                                                                                                                                                                                                                                                                                                                                                                                                                                                                                                                                                                                                                                                                                     If history is any indication, our governmental response to disruptions in the labor market  will be insufficient.  In the hardest-hit sectors, workers, families and communities will suffer  and break down.  Unemployment, drug use and suicides will go up, along with political  instability.  Policies such as “basic income” or the Danish “flexicurity” should be explored as  ways to soften the blow of job loss and fund transitional retraining periods.  The role of “market-shaping” approaches  Just as DARPA helped finance the explosion in data science in the Python community  through repeated grants to such key players as Continuum, government agencies are in a  position to support the researchers, technologies, tools and communities pushing AI in  promising directions.  \n",
       "120                                                                                                                                                                                                                                                                                                                                                                                                                                                                                                                                                                                                                                                                                                                                                                                                                                                                                                                                                                                                                                                                                                                                                                                                                                                                                                                                                                                                                                                                                                                                                                                                                                                            (10) the role that “market shaping” approaches such as incentive prizes and Advanced  Market Commitments can play in accelerating the development of applications of AI to  address societal needs, such as accelerated training for low and moderate income workers (see https://www.usaid.gov/cii/market-shaping-primer); and  \n",
       "121                                                                                                                                                                                                                                                                                                                                                                                                                                                                                                                                                                                                                                                                                                                                                                                                                                                                                                                                                                                                                                                                                                                                                                                                                                                                                                                                                                                                                                                                                                                                                                                                                                                                                                                                                                                                                                                    --> Possibly if the prizes are large and don't expire.  Large prizes with impossible timelines  are not going to generate good results.  \n",
       "726                                                                                                                                                                                                                                                                                                                                                                                                                                                                                                                                                                                                                                                                                                                                                                                                                                                                                                                                                                                                                                                                                                                                                                                                                                                                                                                                                                                                                                                                                                                                                                                                                                                                                                                        10) the role that “market shaping” approaches such as incentive prizes and Advanced  Market Commitments can play in accelerating the development of applications of AI to  address societal needs, such as accelerated training for low and moderate income workers  \n",
       "727  Incentive prizes can accelerate the development of applications of AI to societal needs in  multiple ways.   They provide a platform for citizen science at a global scale that can be  focused on the most challenging technical problems faced in AI applications.  They can be  globally inclusive through low barriers to entry by providing access to relevant domain  specific datasets, accelerated cloud computing resources and open-source foundational  code.   Incentive prizes also offer an educational and training opportunity at very low cost to  the participant and the communities that form around these challenges are often highly  active with widespread exchange of ideas and spontaneous teamwork from distributed  teams with complementary approaches to a problem.  NVIDIA GPUs accelerate numerous  cloud computing platforms that offer the ideal host for AI incentive prizes.   NVIDIA has also  sponsored incentive prizes that have led to cross-disciplinary exchange of ideas in solving  AI challenges with cutting edge results.   For example, in the recent Second National Data  Science Bowl the winning team was able to apply their AI expertise developed in their  careers as financial analysts to solve a challenging medical imagery analysis problem.   The  AI system they developed could analyze a cardiac Magnetic Resonance Image (MRI) for a  key indicator of heart disease with accuracy comparable to an expert cardiologist but  thousands of times faster - this has the potential to save years of valuable time for a human  cardiologist throughout their career.   Respondent 100 Amir Banifatemi, XPRIZE Foundation  Over the past 50 years Artificial Intelligence (AI) has made steady, linear progress.  The  technology has matured and is now reaching a point on the technology adoption curve  where AI will have the potential to transcend from linear growth to an exponential leap  forward for humanity.  "
      ]
     },
     "execution_count": null,
     "metadata": {},
     "output_type": "execute_result"
    }
   ],
   "source": [
    "# | notest\n",
    "\n",
    "df[df.topic == 'MARKET_SHAPING'].head()"
   ]
  },
  {
   "cell_type": "markdown",
   "metadata": {},
   "source": [
    "## STEP 6: Summarize the Results\n",
    "\n",
    "Once responses are coded by topic area, we can summarize all responses with respect to a specific topic area. We will summarize the responses coded as being pertinent to **legal/governance** as an illustrative example. \n",
    "\n",
    "(Note tha these comments are from 2016 - prior to the rise of generative AI.)"
   ]
  },
  {
   "cell_type": "code",
   "execution_count": null,
   "metadata": {},
   "outputs": [],
   "source": [
    "# | notest\n",
    "\n",
    "legal_responses = '\\n\\n'.join(df[df.topic == 'LEGAL'].response.tolist())\n",
    "with open('/tmp/legal_responses.txt', 'w') as f:\n",
    "    f.write(legal_responses)"
   ]
  },
  {
   "cell_type": "code",
   "execution_count": null,
   "metadata": {},
   "outputs": [],
   "source": []
  },
  {
   "cell_type": "code",
   "execution_count": null,
   "metadata": {},
   "outputs": [],
   "source": [
    "# | notest\n",
    "\n",
    "summarizer = Summarizer(llm)"
   ]
  },
  {
   "cell_type": "code",
   "execution_count": null,
   "metadata": {},
   "outputs": [],
   "source": [
    "# | notest\n",
    "\n",
    "output = summarizer.summarize('/tmp/legal_responses.txt')"
   ]
  },
  {
   "cell_type": "code",
   "execution_count": null,
   "metadata": {},
   "outputs": [
    {
     "name": "stdout",
     "output_type": "stream",
     "text": [
      "The documents discuss the governance and ethics of artificial\n",
      "intelligence (AI). Key concerns include:  1. Accountability: Ensuring\n",
      "that AI systems can be held accountable for their actions. 2.\n",
      "Transparency: Requiring transparency in the development and deployment\n",
      "of AI systems, particularly those used in law enforcement and judicial\n",
      "decision-making.  The documents also highlight the need for\n",
      "policymakers to consider the implications of AI on society, law, and\n",
      "ethics. They emphasize the importance of a nuanced approach to\n",
      "regulating AI, one that balances innovation with safety and\n",
      "accountability.  Overall, the documents suggest that policymakers\n",
      "should adopt a light-touch regulatory approach focused on consumers\n",
      "and outcomes over underlying technologies.\n"
     ]
    }
   ],
   "source": [
    "# | notest\n",
    "\n",
    "\n",
    "print(\"\\n\".join(wrap(output['output_text'])))\n"
   ]
  },
  {
   "cell_type": "markdown",
   "metadata": {},
   "source": [
    "## Next Steps\n",
    "\n",
    "This noteboook is simply an illustrative example.  There are opportunities to refine the approach and improve results, which we leave as an exercise to the reader.\n",
    "\n",
    "For instance, you can adjust the prompt, try different models, pre-process and post-process the data and results in different ways, and modify the summarization process."
   ]
  },
  {
   "cell_type": "code",
   "execution_count": null,
   "metadata": {},
   "outputs": [],
   "source": []
  }
 ],
 "metadata": {
  "kernelspec": {
   "display_name": "python3",
   "language": "python",
   "name": "python3"
  }
 },
 "nbformat": 4,
 "nbformat_minor": 4
}
