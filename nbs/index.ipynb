{
 "cells": [
  {
   "cell_type": "markdown",
   "metadata": {},
   "source": [
    "# OnPrem.LLM"
   ]
  },
  {
   "cell_type": "markdown",
   "metadata": {},
   "source": [
    "> A privacy-conscious toolkit for document intelligence — local by default, cloud-capable\n",
    "\n",
    "**[OnPrem.LLM](https://github.com/amaiya/onprem)** (or \"OnPrem\" for short) is a Python-based toolkit for applying large language models (LLMs) to sensitive, non-public data in offline or restricted environments. Inspired largely by the [privateGPT](https://github.com/imartinez/privateGPT) project, **OnPrem.LLM** is designed for fully local execution, but also supports integration with a wide range of cloud LLM providers (e.g., OpenAI, Anthropic).\n",
    "\n",
    "**Key Features:** \n",
    "\n",
    "- Fully local execution with option to leverage cloud as needed. See [the cheatsheet](https://amaiya.github.io/onprem/#cheat-sheet)\n",
    "- Easily integrate with existing tools in your local environment like [Elasticsearch and Sharepoint](https://amaiya.github.io/onprem/examples_vectorstore_factory.html)\n",
    "- Support for environments with modest computational resources through modules like the [SparseStore](https://amaiya.github.io/onprem/examples_rag.html#advanced-example-nsf-awards) (e.g., RAG without advanced computation/storage of embeddings)\n",
    "- A [visual workflow builder](https://amaiya.github.io/onprem/workflows.html#visual-workflow-builder) to assemble complex document analysis pipelines with a point-and-click interface.\n",
    "\n",
    "The full documentation is [here](https://amaiya.github.io/onprem/). \n",
    "\n",
    "<!--A Google Colab demo of installing and using **OnPrem.LLM** is [here](https://colab.research.google.com/drive/1LVeacsQ9dmE1BVzwR3eTLukpeRIMmUqi?usp=sharing).\n",
    "-->\n",
    "\n",
    "**Quick Start**\n",
    "\n",
    "```python\n",
    "# install\n",
    "!pip install onprem[chroma]\n",
    "from onprem import LLM, utils\n",
    "\n",
    "# local LLM with Ollama as backend\n",
    "!ollama pull llama3.2\n",
    "llm = LLM('ollama/llama3.2')\n",
    "\n",
    "# basic prompting\n",
    "result = llm.prompt('Give me a short one sentence definition of an LLM.')\n",
    "\n",
    "# RAG\n",
    "utils.download('https://www.arxiv.org/pdf/2505.07672', '/tmp/my_documents/paper.pdf')\n",
    "llm.ingest('/tmp/my_documents')\n",
    "result = llm.ask('What is OnPrem.LLM?')\n",
    "\n",
    "# switch to cloud LLM using Anthropic as backend\n",
    "llm = LLM(\"anthropic/claude-3-7-sonnet-latest\")\n",
    "\n",
    "# structured outputs\n",
    "from pydantic import BaseModel, Field\n",
    "class MeasuredQuantity(BaseModel):\n",
    "    value: str = Field(description=\"numerical value\")\n",
    "    unit: str = Field(description=\"unit of measurement\")\n",
    "structured_output = llm.pydantic_prompt('He was going 35 mph.', pydantic_model=MeasuredQuantity)\n",
    "print(structured_output.value) # 35\n",
    "print(structured_output.unit)  # mph\n",
    " ```\n",
    "Many LLM backends are supported (e.g., [llama_cpp](https://github.com/abetlen/llama-cpp-python), [transformers](https://github.com/huggingface/transformers), [Ollama](https://ollama.com/), [vLLM](https://github.com/vllm-project/vllm), [OpenAI](https://platform.openai.com/docs/models), [Anthropic](https://docs.anthropic.com/en/docs/about-claude/models/overview), etc.)."
   ]
  },
  {
   "cell_type": "markdown",
   "metadata": {},
   "source": [
    "---\n",
    "\n",
    "<center>\n",
    "<p align=\"center\">\n",
    "<img src=\"https://raw.githubusercontent.com/amaiya/onprem/refs/heads/master/images/onprem.png\" border=\"0\" alt=\"onprem.llm\" width=\"200\"/>\n",
    "</p>\n",
    "</center>\n",
    "\n",
    "<center>\n",
    "<p align=\"center\">\n",
    "    \n",
    "**[Install](https://amaiya.github.io/onprem/#install) | [Usage](https://amaiya.github.io/onprem/#how-to-use) | [Examples](https://amaiya.github.io/onprem/#examples) | [Web UI](https://amaiya.github.io/onprem/webapp.html) | [FAQ](https://amaiya.github.io/onprem/#faq) | [How to Cite](https://amaiya.github.io/onprem/#how-to-cite)**\n",
    "\n",
    "</p>\n",
    "</center>\n",
    "\n",
    "*Latest News* 🔥\n",
    "\n",
    "- [2025/09] v0.19.0 released and now includes support for **workflows**: YAML-configured pipelines for complex document analyses.  See [the workflow documentation](https://amaiya.github.io/onprem/workflows.html) for more information.\n",
    "- [2025/08] v0.18.0 released and can now be used with AWS GovCloud LLMs.  See [this example](https://amaiya.github.io/onprem/llm.backends.html#examples) for more information.\n",
    "- [2025/07] v0.17.0 released and now allows you to connect directly to SharePoint for search and RAG.  See the [example notebook on vector stores](https://amaiya.github.io/onprem/examples_vectorstore_factory.html#rag-with-sharepoint-documents) for more information.\n",
    "- [2025/07] v0.16.0 released and now includes out-of-the-box support for **Elasticsearch** as a vector store for RAG and semantic search in addition to other vector store backends.  See the [example notebook on vector stores](https://amaiya.github.io/onprem/examples_vectorstore_factory.html) for more information.\n",
    "- [2025/06] v0.15.0 released and now includes support for solving tasks with **agents**.  See the [example notebook on agents](https://amaiya.github.io/onprem/examples_agent.html) for more information.\n",
    "- [2025/05] v0.14.0 released and now includes a point-and-click interface for **Document Analysis**: applying prompts to individual passages in uploaded documents.  See the [Web UI documentation](https://amaiya.github.io/onprem/webapp.html) for more information.\n",
    "- [2025/04] v0.13.0 released and now includes streamlined support for Ollama and many cloud LLMs via special URLs (e.g., `model_url=\"ollama://llama3.2\"`, `model_url=\"anthropic://claude-3-7-sonnet-latest\"`). See the [cheat sheet](https://amaiya.github.io/onprem/#how-to-use) for examples. (**Note: Please use `onprem>=0.13.1` due to bug in v0.13.0.**)\n",
    "- [2025/04] v0.12.0 released and now includes a re-vamped and improved Web UI with support for interactive chatting, document question-answering (RAG), and document search (both keyword searches and semantic searches).  See the [Web UI documentation](https://amaiya.github.io/onprem/webapp.html) for more information.\n",
    "\n",
    "\n",
    "\n",
    "---"
   ]
  },
  {
   "cell_type": "markdown",
   "metadata": {},
   "source": [
    "## Install"
   ]
  },
  {
   "cell_type": "markdown",
   "metadata": {},
   "source": [
    "Once you have [installed PyTorch](https://pytorch.org/get-started/locally/), you can install **OnPrem.LLM** with the following steps:\n",
    "\n",
    "1. Install **llama-cpp-python** (*optional* - see below):\n",
    "    - **CPU:** `pip install llama-cpp-python` ([extra steps](https://github.com/amaiya/onprem/blob/master/MSWindows.md) required for Microsoft Windows)\n",
    "    - **GPU**: Follow [instructions below](https://amaiya.github.io/onprem/#on-gpu-accelerated-inference).\n",
    "2. Install **OnPrem.LLM** with Chroma packages: `pip install onprem[chroma]`\n",
    "\n",
    "For RAG using only a [sparse vectorstore](https://amaiya.github.io/onprem/#step-1-ingest-the-documents-into-a-vector-database), you can install OnPrem.LLM without the extra chroma packages: `pip install onprem`.\n",
    "\n",
    "**Note:**  Installing **llama-cpp-python** is *optional* if any of the following is true:\n",
    "\n",
    "- You are using [Ollama](https://ollama.com/) as the LLM backend.\n",
    "- You use Hugging Face Transformers (instead of llama-cpp-python) as the LLM backend by supplying the `model_id` parameter when instantiating an LLM, as [shown here](https://amaiya.github.io/onprem/#using-hugging-face-transformers-instead-of-llama.cpp).\n",
    "- You are using **OnPrem.LLM** with an LLM being served through an [external REST API](#connecting-to-llms-served-through-rest-apis) (e.g., vLLM, OpenLLM).\n",
    "- You are using **OnPrem.LLM** with a cloud LLM (more information below).\n",
    "\n",
    "\n",
    "### On GPU-Accelerated Inference With `llama-cpp-python`\n",
    "\n",
    "When installing **llama-cpp-python** with `pip install llama-cpp-python`, the LLM will run on your **CPU**.  To generate answers much faster, you can run the LLM on your **GPU** by building **llama-cpp-python** based on your operating system.\n",
    "\n",
    "- **Linux**: `CMAKE_ARGS=\"-DGGML_CUDA=on\" FORCE_CMAKE=1 pip install --upgrade --force-reinstall llama-cpp-python --no-cache-dir` \n",
    "- **Mac**: `CMAKE_ARGS=\"-DGGML_METAL=on\" pip install llama-cpp-python`\n",
    "- **Windows 11**: Follow the instructions [here](https://github.com/amaiya/onprem/blob/master/MSWindows.md#using-the-system-python-in-windows-11s).\n",
    "- **Windows Subsystem for Linux (WSL2)**: Follow the instructions [here](https://github.com/amaiya/onprem/blob/master/MSWindows.md#using-wsl2-with-gpu-acceleration).\n",
    "\n",
    "\n",
    "For Linux and Windows, you will need [an up-to-date NVIDIA driver](https://www.nvidia.com/en-us/drivers/) along with the [CUDA toolkit](https://developer.nvidia.com/cuda-downloads) installed before running the installation commands above.\n",
    "\n",
    "After following the instructions above, supply the `n_gpu_layers=-1` parameter when instantiating an LLM to use your GPU for fast inference:\n",
    "```python\n",
    "llm = LLM(n_gpu_layers=-1, ...)\n",
    "```\n",
    "\n",
    "Quantized models with 8B parameters and below can typically run on GPUs with as little as 6GB of VRAM.  If a model does not fit on your GPU (e.g., you get a \"CUDA Error: Out-of-Memory\" error), you can offload a subset of layers to the GPU by experimenting with different values for the `n_gpu_layers` parameter (e.g., `n_gpu_layers=20`). Setting `n_gpu_layers=-1`, as shown above, offloads all layers to the GPU. \n",
    "\n",
    "See [the FAQ](https://amaiya.github.io/onprem/#faq) for extra tips, if you experience issues with [llama-cpp-python](https://pypi.org/project/llama-cpp-python/) installation.\n"
   ]
  },
  {
   "cell_type": "markdown",
   "metadata": {},
   "source": [
    "## How to Use"
   ]
  },
  {
   "cell_type": "markdown",
   "metadata": {},
   "source": [
    "### Setup"
   ]
  },
  {
   "cell_type": "code",
   "execution_count": null,
   "metadata": {},
   "outputs": [],
   "source": [
    "# | notest\n",
    "\n",
    "from onprem import LLM\n",
    "\n",
    "llm = LLM(verbose=False) # default model and backend are used"
   ]
  },
  {
   "cell_type": "markdown",
   "metadata": {},
   "source": [
    "#### Cheat Sheet\n",
    "\n",
    "*Local Models:* A number of different local LLM backends are supported.\n",
    "\n",
    "- **Llama-cpp**: `llm = LLM(default_model=\"llama\", n_gpu_layers=-1)`\n",
    "- **Llama-cpp with selected GGUF model via URL**:\n",
    "  ```python\n",
    "   # prompt templates are required for user-supplied GGUF models (see FAQ)\n",
    "   llm = LLM(model_url='https://huggingface.co/TheBloke/zephyr-7B-beta-GGUF/resolve/main/zephyr-7b-beta.Q4_K_M.gguf', \n",
    "             prompt_template= \"<|system|>\\n</s>\\n<|user|>\\n{prompt}</s>\\n<|assistant|>\", n_gpu_layers=-1)\n",
    "   ```\n",
    "- **Llama-cpp with selected GGUF model via file path**:\n",
    "  ```python\n",
    "   # prompt templates are required for user-supplied GGUF models (see FAQ)\n",
    "   llm = LLM(model_url='zephyr-7b-beta.Q4_K_M.gguf', \n",
    "             model_download_path='/path/to/folder/to/where/you/downloaded/model',\n",
    "             prompt_template= \"<|system|>\\n</s>\\n<|user|>\\n{prompt}</s>\\n<|assistant|>\", n_gpu_layers=-1)\n",
    "   ```\n",
    "- **Hugging Face Transformers**: `llm = LLM(model_id='Qwen/Qwen2.5-0.5B-Instruct', device='cuda')`\n",
    "- **Ollama**: `llm = LLM(model_url=\"ollama://llama3.2\", api_key='na')`\n",
    "- **Also Ollama**: `llm = LLM(model_url=\"ollama/llama3.2\", api_key='na')`\n",
    "- **Also Ollama**: `llm = LLM(model_url='http://localhost:11434/v1', api_key='na', model='llama3.2')`\n",
    "- **vLLM**: `llm = LLM(model_url='http://localhost:8666/v1', api_key='na', model='Qwen/Qwen2.5-0.5B-Instruct')`\n",
    "- **Also vLLM**: `llm = LLM('hosted_vllm/served-model-name', api_base=\"http://localhost:8666/v1\", model_kwargs={'api_key':\"test123\"})` (assumes `served-model-name` parameter is supplied to `vllm.entrypoints.openai.api_server`).\n",
    "\n",
    "*Cloud Models:*  Despite the focus on local LLMs, cloud LLMs are also supported:\n",
    "\n",
    "- **Anthropic Claude**:  `llm = LLM(model_url=\"anthropic://claude-3-7-sonnet-latest\")`\n",
    "- **Also Anthropic Claude**:  `llm = LLM(model_url=\"anthropic/claude-3-7-sonnet-latest\")`\n",
    "- **OpenAI GPT-4o**: `llm = LLM(model_url=\"openai://gpt-4o\")`\n",
    "- **Also OpenAI GPT-4o**: `llm = LLM(model_url=\"openai/gpt-4o\")`\n",
    "\n",
    "\n",
    "The instantiations above are described in more detail below.\n",
    "\n",
    "#### Specifying the Local Model to Use\n",
    "\n",
    "The default LLM backend is [llama-cpp-python](https://github.com/abetlen/llama-cpp-python), and the default model is currently a 7B-parameter model called **Zephyr-7B-beta**, which is automatically downloaded and used.  The two other default models are `llama` and `mistral`. For instance, if `default_model='llama'` is supplied, then a **Llama-3.1-8B-Instsruct** model is  automatically downloaded and used:\n",
    "```python\n",
    "# Llama 3.1 is downloaded here and the correct prompt template for Llama-3.1 is automatically configured and used\n",
    "llm = LLM(default_model='llama')\n",
    "```\n",
    "\n",
    "*Choosing Your Own Models:* Of course, you can also easily supply the URL or path to an LLM of your choosing to `LLM` (see the [FAQ](https://amaiya.github.io/onprem/#faq) for an example). \n",
    "\n",
    "\n",
    "*Supplying Extra Parameters:* Any extra parameters supplied to `LLM` are forwarded directly to [llama-cpp-python](https://github.com/abetlen/llama-cpp-python), the default LLM backend.  \n",
    "\n",
    "\n",
    "#### Changing the Default LLM Backend\n",
    "\n",
    "If `default_engine=\"transformers\"` is supplied to `LLM`, Hugging Face [transformers](https://github.com/huggingface/transformers) is used as the LLM backend. Extra parameters to `LLM` (e.g., 'device='cuda'`) are forwarded diretly to  `transformers.pipeline`. If supplying a `model_id` parameter, the default LLM backend is automatically changed to Hugging Face [transformers](https://github.com/huggingface/transformers). \n",
    "\n",
    "```python\n",
    "# LLama-3.1 model quantized using AWQ is downloaded and run with Hugging Face transformers (requires GPU)\n",
    "llm = LLM(default_model='llama', default_engine='transformers')\n",
    "\n",
    "# Using a custom model with Hugging Face Transformers\n",
    "llm = LLM(model_id='Qwen/Qwen2.5-0.5B-Instruct', device_map='cpu')\n",
    "```\n",
    "\n",
    "See [here](https://amaiya.github.io/onprem/#using-hugging-face-transformers-instead-of-llama.cpp) for more information about using Hugging Face [transformers](https://github.com/huggingface/transformers) as the LLM backend.\n",
    "\n",
    "You can also connect to **Ollama**, local LLM APIs (e.g., vLLM), and cloud LLMs.\n",
    "\n",
    "```python\n",
    "# connecting to an LLM served by Ollama\n",
    "lm = LLM(model_url='ollama/llama3.2')\n",
    "\n",
    "# connecting to an LLM served through vLLM (set API key as needed)\n",
    "llm = LLM(model_url='http://localhost:8000/v1', api_key='token-abc123', model='Qwen/Qwen2.5-0.5B-Instruct')`\n",
    "\n",
    "# connecting to a cloud-backed LLM (e.g., OpenAI, Anthropic).\n",
    "llm = LLM(model_url=\"openai/gpt-4o-mini\")  # OpenAI\n",
    "llm = LLM(model_url=\"anthropic/claude-3-7-sonnet-20250219\") # Anthropic\n",
    "```\n",
    "\n",
    "**OnPrem.LLM** suppports any provider and model supported by the [LiteLLM](https://github.com/BerriAI/litellm) package.\n",
    "\n",
    "See [here](https://amaiya.github.io/onprem/#connecting-to-llms-served-through-rest-apis) for more information on *local* LLM APIs.\n",
    "\n",
    "More information on using OpenAI models specifically with **OnPrem.LLM** is [here](https://amaiya.github.io/onprem/examples_openai.html)."
   ]
  },
  {
   "cell_type": "markdown",
   "metadata": {},
   "source": [
    "#### Supplying Parameters to the LLM Backend\n",
    "\n",
    "Extra parameters supplied to `LLM` and `LLM.prompt` are passed directly to the LLM backend.  Parameter names will vary depending on the backend you chose.\n",
    "\n",
    "For instance, with the default llama-cpp backend, the default context window size (`n_ctx`) is set to 3900 and the default output size (`max_tokens`) is set 512. Both are configurable parameters to `LLM`.  Increase if you  have larger prompts or need longer outputs.  Other parameters (e.g., `api_key`, `device_map`, etc.) can be supplied directly to `LLM` and will be routed to the LLM backend or API (e.g., llama-cpp-python, Hugging Face transformers, vLLM, OpenAI, etc.).  The `max_tokens` parameter can also be adjusted on-the-fly by supplying it to `LLM.prompt`.\n",
    "\n",
    "On the other hand, for Ollama models, context window and output size are controlled by `num_ctx` and `num_predict`, respectively.\n",
    "\n",
    "With the Hugging Face transformers, setting the context window size is not needed, but the output size is controlled by the `max_new_tokens` parameter to `LLM.prompt`.\n",
    "\n"
   ]
  },
  {
   "cell_type": "markdown",
   "metadata": {},
   "source": [
    "### Send Prompts to the LLM to Solve Problems\n",
    "This is an example of few-shot prompting, where we provide an example of what we want the LLM to do."
   ]
  },
  {
   "cell_type": "code",
   "execution_count": null,
   "metadata": {},
   "outputs": [
    {
     "name": "stdout",
     "output_type": "stream",
     "text": [
      "\n",
      "Cillian Murphy, Florence Pugh"
     ]
    }
   ],
   "source": [
    "# | notest\n",
    "\n",
    "prompt = \"\"\"Extract the names of people in the supplied sentences.\n",
    "Separate names with commas and place on a single line.\n",
    "\n",
    "# Example 1:\n",
    "Sentence: James Gandolfini and Paul Newman were great actors.\n",
    "People:\n",
    "James Gandolfini, Paul Newman\n",
    "\n",
    "# Example 2:\n",
    "Sentence:\n",
    "I like Cillian Murphy's acting. Florence Pugh is great, too.\n",
    "People:\"\"\"\n",
    "\n",
    "saved_output = llm.prompt(prompt, stop=['\\n\\n'])"
   ]
  },
  {
   "cell_type": "markdown",
   "metadata": {},
   "source": [
    "**Additional prompt examples are [shown here](https://amaiya.github.io/onprem/examples.html).**"
   ]
  },
  {
   "cell_type": "markdown",
   "metadata": {},
   "source": [
    "### Talk to Your Documents\n",
    "\n",
    "Answers are generated from the content of your documents (i.e., [retrieval augmented generation](https://arxiv.org/abs/2005.11401) or RAG). Here, we will use [GPU offloading](https://amaiya.github.io/onprem/#speeding-up-inference-using-a-gpu) to speed up answer generation using the default model. However, the Zephyr-7B model may perform even better, responds faster, and is used in our **[RAG example notebook](https://amaiya.github.io/onprem/examples_rag.html)**.\n",
    "\n"
   ]
  },
  {
   "cell_type": "code",
   "execution_count": null,
   "metadata": {},
   "outputs": [
    {
     "name": "stderr",
     "output_type": "stream",
     "text": [
      "llama_new_context_with_model: n_ctx_per_seq (3904) < n_ctx_train (32768) -- the full capacity of the model will not be utilized\n"
     ]
    }
   ],
   "source": [
    "# | notest\n",
    "from onprem import LLM\n",
    "\n",
    "llm = LLM(n_gpu_layers=-1, store_type='sparse', verbose=False)"
   ]
  },
  {
   "cell_type": "markdown",
   "metadata": {},
   "source": [
    "#### Step 1: Ingest the  Documents into a Vector Database\n",
    "\n",
    "As of v0.10.0, you have the option of storing documents in either a dense vector store (i.e., Chroma) or a sparse vector store (i.e., a built-in keyword search index). Sparse vector stores sacrifice a small amount of inference speed for significant improvements in ingestion speed (useful for larger document sets) and also assume answer sources will include at least one word from the question. To select the store type, supply either `store_type=\"dense\"` or `store_type=\"sparse\"` when creating the `LLM`. As you can see above, we use a sparse vector store here."
   ]
  },
  {
   "cell_type": "code",
   "execution_count": null,
   "metadata": {},
   "outputs": [
    {
     "name": "stdout",
     "output_type": "stream",
     "text": [
      "Creating new vectorstore at /home/amaiya/onprem_data/vectordb/sparse\n",
      "Loading documents from ./tests/sample_data\n"
     ]
    },
    {
     "name": "stderr",
     "output_type": "stream",
     "text": [
      "Loading new documents: 100%|██████████████████████| 6/6 [00:09<00:00,  1.51s/it]\n",
      "Processing and chunking 43 new documents: 100%|██████████████████████████████████████████████████████████████████| 1/1 [00:00<00:00, 116.11it/s]\n"
     ]
    },
    {
     "name": "stdout",
     "output_type": "stream",
     "text": [
      "Split into 354 chunks of text (max. 500 chars each for text; max. 2000 chars for tables)\n"
     ]
    },
    {
     "name": "stderr",
     "output_type": "stream",
     "text": [
      "100%|███████████████████████████████████████████████████████████████████████████████████████████████████████| 354/354 [00:00<00:00, 2548.70it/s]\n"
     ]
    },
    {
     "name": "stdout",
     "output_type": "stream",
     "text": [
      "Ingestion complete! You can now query your documents using the LLM.ask or LLM.chat methods\n"
     ]
    }
   ],
   "source": [
    "# | notest\n",
    "llm.ingest(\"./tests/sample_data\")"
   ]
  },
  {
   "cell_type": "markdown",
   "metadata": {},
   "source": [
    "#### Step 2: Answer Questions About the Documents"
   ]
  },
  {
   "cell_type": "code",
   "execution_count": null,
   "metadata": {},
   "outputs": [
    {
     "name": "stdout",
     "output_type": "stream",
     "text": [
      " ktrain is a low-code machine learning platform. It provides out-of-the-box support for training models on various types of data such as text, vision, graph, and tabular."
     ]
    }
   ],
   "source": [
    "# | notest\n",
    "question = \"\"\"What is  ktrain?\"\"\"\n",
    "result = llm.ask(question)"
   ]
  },
  {
   "cell_type": "markdown",
   "metadata": {},
   "source": [
    "The sources used by the model to generate the answer are stored in `result['source_documents']`:"
   ]
  },
  {
   "cell_type": "code",
   "execution_count": null,
   "metadata": {},
   "outputs": [
    {
     "name": "stdout",
     "output_type": "stream",
     "text": [
      "\n",
      "Sources:\n",
      "\n",
      "\n",
      "1.> /home/amaiya/projects/ghub/onprem/nbs/tests/sample_data/ktrain_paper/ktrain_paper.pdf:\n",
      "transferred to, and executed on new data in a production environment.\n",
      "ktrain is a Python library for machine learning with the goal of presenting a simple,\n",
      "uniﬁed interface to easily perform the above steps regardless of the type of data (e.g., text\n",
      "vs. images vs. graphs). Moreover, each of the three steps above can be accomplished in\n",
      "©2022 Arun S. Maiya.\n",
      "License: CC-BY 4.0, see https://creativecommons.org/licenses/by/4.0/. Attribution requirements are\n",
      "\n",
      "2.> /home/amaiya/projects/ghub/onprem/nbs/tests/sample_data/ktrain_paper/ktrain_paper.pdf:\n",
      "custom models and data formats, as well. Inspired by other low-code (and no-code) open-\n",
      "source ML libraries such as fastai (Howard and Gugger, 2020) and ludwig (Molino et al.,\n",
      "2019), ktrain is intended to help further democratize machine learning by enabling begin-\n",
      "ners and domain experts with minimal programming or data science experience to build\n",
      "sophisticated machine learning models with minimal coding. It is also a useful toolbox for\n",
      "\n",
      "3.> /home/amaiya/projects/ghub/onprem/nbs/tests/sample_data/ktrain_paper/ktrain_paper.pdf:\n",
      "Apache license, and available on GitHub at: https://github.com/amaiya/ktrain.\n",
      "2. Building Models\n",
      "Supervised learning tasks in ktrain follow a standard, easy-to-use template.\n",
      "STEP 1: Load and Preprocess Data. This step involves loading data from diﬀerent\n",
      "sources and preprocessing it in a way that is expected by the model. In the case of text,\n",
      "this may involve language-speciﬁc preprocessing (e.g., tokenization). In the case of images,\n",
      "\n",
      "4.> /home/amaiya/projects/ghub/onprem/nbs/tests/sample_data/ktrain_paper/ktrain_paper.pdf:\n",
      "AutoKeras (Jin et al., 2019) and AutoGluon (Erickson et al., 2020) lack some key “pre-\n",
      "canned” features in ktrain, which has the strongest support for natural language processing\n",
      "and graph-based data. Support for additional features is planned for the future.\n",
      "5. Conclusion\n",
      "This work presented ktrain, a low-code platform for machine learning. ktrain currently in-\n",
      "cludes out-of-the-box support for training models on text, vision, graph, and tabular\n"
     ]
    }
   ],
   "source": [
    "# | notest\n",
    "print(\"\\nSources:\\n\")\n",
    "for i, document in enumerate(result[\"source_documents\"]):\n",
    "    print(f\"\\n{i+1}.> \" + document.metadata[\"source\"] + \":\")\n",
    "    print(document.page_content)"
   ]
  },
  {
   "cell_type": "markdown",
   "metadata": {},
   "source": [
    "### Extract Text from Documents\n",
    "\n",
    "The `load_single_document` function can extract text from a range of different document formats (e.g., PDFs, Microsoft PowerPoint, Microsoft Word, etc.). It is automatically invoked when calling `LLM.ingest`. Extracted text is represented as LangChain `Document` objects, where `Document.page_content` stores the extracted text and `Document.metadata` stores any extracted document metadata. \n",
    "\n",
    "For PDFs, in particular, a number of different options are available depending on your use case.  \n",
    "\n",
    "**Fast PDF Extraction (default)**\n",
    "\n",
    "- **Pro:** Fast\n",
    "- **Con:** Does not infer/retain structure of tables in PDF documents"
   ]
  },
  {
   "cell_type": "code",
   "execution_count": null,
   "metadata": {},
   "outputs": [
    {
     "data": {
      "text/plain": [
       "{'source': '/home/amaiya/projects/ghub/onprem/nbs/sample_data/1/ktrain_paper.pdf',\n",
       " 'file_path': '/home/amaiya/projects/ghub/onprem/nbs/sample_data/1/ktrain_paper.pdf',\n",
       " 'page': 0,\n",
       " 'total_pages': 9,\n",
       " 'format': 'PDF 1.4',\n",
       " 'title': '',\n",
       " 'author': '',\n",
       " 'subject': '',\n",
       " 'keywords': '',\n",
       " 'creator': 'LaTeX with hyperref',\n",
       " 'producer': 'dvips + GPL Ghostscript GIT PRERELEASE 9.22',\n",
       " 'creationDate': \"D:20220406214054-04'00'\",\n",
       " 'modDate': \"D:20220406214054-04'00'\",\n",
       " 'trapped': ''}"
      ]
     },
     "execution_count": null,
     "metadata": {},
     "output_type": "execute_result"
    }
   ],
   "source": [
    "# | notest\n",
    "\n",
    "\n",
    "from onprem.ingest import load_single_document\n",
    "\n",
    "docs = load_single_document('tests/sample_data/ktrain_paper/ktrain_paper.pdf')\n",
    "docs[0].metadata"
   ]
  },
  {
   "cell_type": "markdown",
   "metadata": {},
   "source": [
    "**Automatic OCR of PDFs**\n",
    "\n",
    "- **Pro:** Automatically extracts text from scanned PDFs\n",
    "- **Con:** Slow\n",
    "\n",
    "The `load_single_document` function will automatically OCR PDFs that require it (i.e., PDFs that are scanned hard-copies of documents). If a document is OCR'ed during extraction, the `metadata['ocr']` field will be populated with `True`.\n"
   ]
  },
  {
   "cell_type": "code",
   "execution_count": null,
   "metadata": {},
   "outputs": [
    {
     "data": {
      "text/plain": [
       "{'source': '/home/amaiya/projects/ghub/onprem/nbs/sample_data/4/lynn1975.pdf',\n",
       " 'ocr': True}"
      ]
     },
     "execution_count": null,
     "metadata": {},
     "output_type": "execute_result"
    }
   ],
   "source": [
    "# | notest\n",
    "\n",
    "docs = load_single_document('tests/sample_data/ocr_document/lynn1975.pdf')\n",
    "docs[0].metadata"
   ]
  },
  {
   "cell_type": "markdown",
   "metadata": {},
   "source": [
    "**Markdown Conversion in PDFs**\n",
    "\n",
    "- **Pro**: Better chunking for QA\n",
    "- **Con**: Slower than default PDF extraction\n",
    "\n",
    "The `load_single_document` function can convert PDFs to Markdown instead of plain text by supplying the `pdf_markdown=True` as an argument:\n",
    "\n",
    "```python\n",
    "docs = load_single_document('your_pdf_document.pdf', \n",
    "                            pdf_markdown=True)\n",
    "```\n",
    "Converting to Markdown can facilitate downstream tasks like question-answering. For instance, when supplying `pdf_markdown=True` to `LLM.ingest`, documents are chunked in a Markdown-aware fashion (e.g., the abstract of a research paper tends to be kept together into a single chunk instead of being split up). Note that Markdown will not be extracted if the document requires OCR.\n",
    "\n",
    "**Inferring Table Structure in PDFs**\n",
    "\n",
    "- **Pro**: Makes it easier for LLMs to analyze information in tables\n",
    "- **Con**: Slower than default PDF extraction\n",
    "\n",
    "When supplying `infer_table_structure=True` to either `load_single_document` or `LLM.ingest`, tables are inferred and extracted from PDFs using a TableTransformer model.  Tables are represented as **Markdown** (or **HTML** if Markdown conversion is not possible).\n",
    "\n",
    "```python\n",
    "docs = load_single_document('your_pdf_document.pdf', \n",
    "                            infer_table_structure=True)\n",
    "```\n",
    "\n",
    "**Parsing Extracted Text Into Sentences or Paragraphs**\n",
    "\n",
    "For some analyses (e.g., using prompts for information extraction), it may be useful to parse the text extracted from documents into individual sentences or paragraphs. This can be accomplished using the `segment` function:\n"
   ]
  },
  {
   "cell_type": "code",
   "execution_count": null,
   "metadata": {},
   "outputs": [],
   "source": [
    "# | notest\n",
    "\n",
    "from onprem.ingest import load_single_document\n",
    "from onprem.utils import segment\n",
    "text = load_single_document('tests/sample_data/sotu/state_of_the_union.txt')[0].page_content"
   ]
  },
  {
   "cell_type": "code",
   "execution_count": null,
   "metadata": {},
   "outputs": [
    {
     "data": {
      "text/plain": [
       "'Madam Speaker, Madam Vice President, our First Lady and Second Gentleman.  Members of Congress and the Cabinet.  Justices of the Supreme Court.  My fellow Americans.'"
      ]
     },
     "execution_count": null,
     "metadata": {},
     "output_type": "execute_result"
    }
   ],
   "source": [
    "# | notest\n",
    "\n",
    "segment(text, unit='paragraph')[0]"
   ]
  },
  {
   "cell_type": "code",
   "execution_count": null,
   "metadata": {},
   "outputs": [
    {
     "data": {
      "text/plain": [
       "'Madam Speaker, Madam Vice President, our First Lady and Second Gentleman.'"
      ]
     },
     "execution_count": null,
     "metadata": {},
     "output_type": "execute_result"
    }
   ],
   "source": [
    "# | notest\n",
    "\n",
    "segment(text, unit='sentence')[0]"
   ]
  },
  {
   "cell_type": "markdown",
   "metadata": {},
   "source": [
    "### Summarization Pipeline\n",
    "\n",
    "Summarize your raw documents (e.g., PDFs, MS Word) with an LLM.\n",
    "\n",
    "#### Map-Reduce Summarization\n",
    "Summarize each chunk in a document and then generate a single summary from the individual summaries."
   ]
  },
  {
   "cell_type": "code",
   "execution_count": null,
   "metadata": {},
   "outputs": [],
   "source": [
    "# | notest\n",
    "\n",
    "from onprem import LLM\n",
    "llm = LLM(n_gpu_layers=-1, verbose=False, mute_stream=True) # disabling viewing of intermediate summarization prompts/inferences"
   ]
  },
  {
   "cell_type": "code",
   "execution_count": null,
   "metadata": {},
   "outputs": [
    {
     "name": "stdout",
     "output_type": "stream",
     "text": [
      " Ktrain is an open-source machine learning library that offers a unified interface for various machine learning tasks. The library supports both supervised and non-supervised machine learning, and includes methods for training models, evaluating models, making predictions on new data, and providing explanations for model decisions. Additionally, the library integrates with various explainable AI libraries such as shap, eli5 with lime, and others to provide more interpretable models.\n"
     ]
    }
   ],
   "source": [
    "# | notest\n",
    "\n",
    "from onprem.pipelines import Summarizer\n",
    "summ = Summarizer(llm)\n",
    "\n",
    "resp = summ.summarize('tests/sample_data/ktrain_paper/ktrain_paper.pdf', max_chunks_to_use=5) # omit max_chunks_to_use parameter to consider entire document\n",
    "print(resp['output_text'])"
   ]
  },
  {
   "cell_type": "markdown",
   "metadata": {},
   "source": [
    "#### Concept-Focused Summarization\n",
    "\n",
    "Summarize a large document with respect to a particular concept of interest."
   ]
  },
  {
   "cell_type": "code",
   "execution_count": null,
   "metadata": {},
   "outputs": [],
   "source": [
    "# | notest\n",
    "\n",
    "from onprem import LLM\n",
    "from onprem.pipelines import Summarizer"
   ]
  },
  {
   "cell_type": "code",
   "execution_count": null,
   "metadata": {},
   "outputs": [
    {
     "name": "stdout",
     "output_type": "stream",
     "text": [
      "\n",
      "The context provided describes the implementation of an open-domain question-answering system using ktrain, a low-code library for augmented machine learning. The system follows three main steps: indexing documents into a search engine, locating documents containing words in the question, and extracting candidate answers from those documents using a BERT model pretrained on the SQuAD dataset. Confidence scores are used to sort and prune candidate answers before returning results. The entire workflow can be implemented with only three lines of code using ktrain's SimpleQA module. This system allows for the submission of natural language questions and receives exact answers, as demonstrated in the provided example. Overall, the context highlights the ease and accessibility of building sophisticated machine learning models, including open-domain question-answering systems, through ktrain's low-code interface."
     ]
    }
   ],
   "source": [
    "# | notest\n",
    "\n",
    "llm = LLM(default_model='zephyr', n_gpu_layers=-1, verbose=False, temperature=0)\n",
    "summ = Summarizer(llm)\n",
    "summary, sources = summ.summarize_by_concept('tests/sample_data/ktrain_paper/ktrain_paper.pdf', concept_description=\"question answering\")"
   ]
  },
  {
   "cell_type": "markdown",
   "metadata": {},
   "source": [
    "### Information Extraction Pipeline\n",
    "\n",
    "Extract information from raw documents (e.g., PDFs, MS Word documents) with an LLM. "
   ]
  },
  {
   "cell_type": "code",
   "execution_count": null,
   "metadata": {},
   "outputs": [
    {
     "name": "stderr",
     "output_type": "stream",
     "text": [
      "/home/amaiya/projects/ghub/onprem/onprem/core.py:159: UserWarning: The model you supplied is gpt-3.5-turbo, an external service (i.e., not on-premises). Use with caution, as your data and prompts will be sent externally.\n",
      "  warnings.warn(f'The model you supplied is {self.model_name}, an external service (i.e., not on-premises). '+\\\n"
     ]
    },
    {
     "data": {
      "text/plain": [
       "'Institute for Defense Analyses'"
      ]
     },
     "execution_count": null,
     "metadata": {},
     "output_type": "execute_result"
    }
   ],
   "source": [
    "# | notest\n",
    "from onprem import LLM\n",
    "from onprem.pipelines import Extractor\n",
    "# Notice that we're using a cloud-based, off-premises model here! See \"OpenAI\" section below.\n",
    "llm = LLM(model_url='openai://gpt-3.5-turbo', verbose=False, mute_stream=True, temperature=0) \n",
    "extractor = Extractor(llm)\n",
    "prompt = \"\"\"Extract the names of research institutions (e.g., universities, research labs, corporations, etc.) \n",
    "from the following sentence delimited by three backticks. If there are no organizations, return NA.  \n",
    "If there are multiple organizations, separate them with commas.\n",
    "```{text}```\n",
    "\"\"\"\n",
    "df = extractor.apply(prompt, fpath='tests/sample_data/ktrain_paper/ktrain_paper.pdf', pdf_pages=[1], stop=['\\n'])\n",
    "df.loc[df['Extractions'] != 'NA'].Extractions[0]"
   ]
  },
  {
   "cell_type": "markdown",
   "metadata": {},
   "source": [
    "### Few-Shot Classification\n",
    "\n",
    "Make accurate text classification predictions using only a tiny number of labeled examples.\n",
    "\n",
    "```python\n",
    "# create classifier\n",
    "from onprem.pipelines import FewShotClassifier\n",
    "clf = FewShotClassifier(use_smaller=True)\n",
    "\n",
    "# Fetching data\n",
    "from sklearn.datasets import fetch_20newsgroups\n",
    "import pandas as pd\n",
    "import numpy as np\n",
    "classes = [\"soc.religion.christian\", \"sci.space\"]\n",
    "newsgroups = fetch_20newsgroups(subset=\"all\", categories=classes)\n",
    "corpus, group_labels = np.array(newsgroups.data), np.array(newsgroups.target_names)[newsgroups.target]\n",
    "\n",
    "# Wrangling data into a dataframe and selecting training examples\n",
    "data = pd.DataFrame({\"text\": corpus, \"label\": group_labels})\n",
    "train_df = data.groupby(\"label\").sample(5)\n",
    "test_df = data.drop(index=train_df.index)\n",
    "\n",
    "# X_sample only contains 5 examples of each class!\n",
    "X_sample, y_sample = train_df['text'].values, train_df['label'].values\n",
    "\n",
    "# test set\n",
    "X_test, y_test = test_df['text'].values, test_df['label'].values\n",
    "\n",
    "# train\n",
    "clf.train(X_sample,  y_sample, max_steps=20)\n",
    "\n",
    "# evaluate\n",
    "print(clf.evaluate(X_test, y_test, print_report=False)['accuracy'])\n",
    "#output: 0.98\n",
    "\n",
    "# make predictions\n",
    "clf.predict(['Elon Musk likes launching satellites.']).tolist()[0]\n",
    "#output: sci.space\n",
    "```\n",
    "\n",
    "**TIP:** You can also easily train a wide range of [traditional text classification models](https://amaiya.github.io/onprem/pipelines.classifier.html) using both Hugging Face transformers and scikit-learn as backends."
   ]
  },
  {
   "cell_type": "markdown",
   "metadata": {},
   "source": [
    "### Using Hugging Face Transformers Instead of Llama.cpp\n",
    "\n",
    "By default, the LLM backend employed by **OnPrem.LLM** is [llama-cpp-python](https://github.com/abetlen/llama-cpp-python), which requires models in [GGUF format](https://huggingface.co/docs/hub/gguf). As of v0.5.0, it is now possible to use [Hugging Face transformers](https://github.com/huggingface/transformers) as the LLM backend instead. This is accomplished by using the `model_id` parameter (instead of supplying a `model_url` argument). In the example below, we run the [Llama-3.1-8B](https://huggingface.co/hugging-quants/Meta-Llama-3.1-8B-Instruct-AWQ-INT4) model.\n",
    "\n",
    "```python\n",
    "# llama-cpp-python does NOT need to be installed when using model_id parameter\n",
    "llm = LLM(model_id=\"hugging-quants/Meta-Llama-3.1-8B-Instruct-AWQ-INT4\", device_map='cuda')\n",
    "```\n",
    "\n",
    "This allows you to more easily use any model on the Hugging Face hub in [SafeTensors format](https://huggingface.co/docs/safetensors/index) provided it can be loaded with the Hugging Face `transformers.pipeline`. Note that, when using the `model_id` parameter, the `prompt_template` is set automatically by `transformers`.\n",
    "\n",
    "The Llama-3.1 model loaded above was quantized using [AWQ](https://huggingface.co/docs/transformers/main/en/quantization/awq), which allows the model to fit onto smaller GPUs (e.g., laptop GPUs with 6GB of VRAM) similar to the default GGUF format. AWQ models will require the [autoawq](https://pypi.org/project/autoawq/) package to be installed: `pip install autoawq` (AWQ only supports Linux system, including Windows Subsystem for Linux). If you do need to load a model that is not quantized, you can supply a quantization configuration at load time (known as \"inflight quantization\"). In the following example, we load an unquantized [Zephyr-7B-beta model](https://huggingface.co/HuggingFaceH4/zephyr-7b-beta) that will be quantized during loading to fit on GPUs with as little as 6GB of VRAM:\n",
    "\n",
    "```python\n",
    "from transformers import BitsAndBytesConfig\n",
    "quantization_config = BitsAndBytesConfig(\n",
    "    load_in_4bit=True,\n",
    "    bnb_4bit_quant_type=\"nf4\",\n",
    "    bnb_4bit_compute_dtype=\"float16\",\n",
    "    bnb_4bit_use_double_quant=True,\n",
    ")\n",
    "llm = LLM(model_id=\"HuggingFaceH4/zephyr-7b-beta\", device_map='cuda', \n",
    "          model_kwargs={\"quantization_config\":quantization_config})\n",
    "```\n",
    "When supplying a `quantization_config`, the [bitsandbytes](https://huggingface.co/docs/bitsandbytes/main/en/installation) library, a lightweight Python wrapper around CUDA custom functions, in particular 8-bit optimizers, matrix multiplication (LLM.int8()), and 8 & 4-bit quantization functions, is used.  There are ongoing efforts by the bitsandbytes team to support multiple backends in addition to CUDA. If you receive errors related to bitsandbytes, please refer to the [bitsandbytes documentation](https://huggingface.co/docs/bitsandbytes/main/en/installation). "
   ]
  },
  {
   "cell_type": "markdown",
   "metadata": {},
   "source": [
    "### Connecting to LLMs Served Through REST APIs\n",
    "\n",
    "**OnPrem.LLM** can be used with LLMs being served through any OpenAI-compatible REST API.  This means you can easily use **OnPrem.LLM** with tools like [vLLM](https://github.com/vllm-project/vllm), [OpenLLM](https://github.com/bentoml/OpenLLM), [Ollama](https://ollama.com/blog/openai-compatibility), and the [llama.cpp server](https://github.com/ggerganov/llama.cpp/blob/master/examples/server/README.md).\n",
    "\n",
    "\n",
    "#### vLLM Example\n",
    "For instance, using [vLLM](https://github.com/vllm-project/vllm), you can serve an LLM as follows (replace the `--model` argument with model you want to use):\n",
    "```sh\n",
    "python -m vllm.entrypoints.openai.api_server --model Qwen/Qwen2.5-0.5B-Instruct --dtype auto --api-key token-abc123\n",
    "```\n",
    "You can then connect OnPrem.LLM to the LLM by supplying the URL of the server you just started:\n",
    "```python\n",
    "from onprem import LLM\n",
    "llm = LLM(model_url='http://localhost:8000/v1', api_key='token-abc123', model='Qwen/Qwen2.5-0.5B-Instruct') \n",
    "# Note: The API key can either be supplied directly or stored in the OPENAI_API_KEY environment variable.\n",
    "#       If the server does not require an API key, `api_key` should still be supplied with a dummy value like 'na'.\n",
    "#       The model argument must exactly match what was supplied when starting the vLLM server.\n",
    "```\n",
    "\n",
    "That's it! Solve problems with **OnPrem.LLM** as you normally would (e.g., RAG question-answering, summarization, few-shot prompting, code generation, etc.).\n",
    "\n",
    "#### Ollama Example\n",
    "\n",
    "After [downloading and installing Ollama](https://ollama.com/) and pulling a model (eg., `ollama pull llama3.2`), you can use it in OnPrem.LLM as follows:\n",
    "\n",
    "```python\n",
    "from onprem import LLM\n",
    "llm = LLM(model_url='http://localhost:11434/v1', api_key='NA', model='llama3.2')\n",
    "output = llm.prompt('What is the capital of France?')\n",
    "\n",
    "# OUTPUT:\n",
    "# The capital of France is Paris.\n",
    "```\n",
    "If using OnPrem.LLM with Ollama or vLLM, then `llama-cpp-python` does **not** need to be installed.\n",
    "\n"
   ]
  },
  {
   "cell_type": "markdown",
   "metadata": {},
   "source": [
    "### Using OpenAI Models with OnPrem.LLM\n",
    "\n",
    "Even when using on-premises language models, it can sometimes be useful to have easy access to non-local, cloud-based models (e.g., OpenAI) for testing, producing baselines for comparison, and generating synthetic examples for fine-tuning. For these reasons, in spite of the name, **OnPrem.LLM** now includes support for OpenAI chat models:  "
   ]
  },
  {
   "cell_type": "code",
   "execution_count": null,
   "metadata": {},
   "outputs": [
    {
     "name": "stderr",
     "output_type": "stream",
     "text": [
      "/home/amaiya/projects/ghub/onprem/onprem/core.py:196: UserWarning: The model you supplied is gpt-4o, an external service (i.e., not on-premises). Use with caution, as your data and prompts will be sent externally.\n",
      "  warnings.warn(f'The model you supplied is {self.model_name}, an external service (i.e., not on-premises). '+\\\n"
     ]
    }
   ],
   "source": [
    "# | notest\n",
    "\n",
    "from onprem import LLM\n",
    "llm = LLM(model_url='openai://gpt-4o', temperature=0)"
   ]
  },
  {
   "cell_type": "markdown",
   "metadata": {},
   "source": [
    "This OpenAI `LLM` instance can now be used for most features in OnPrem.LLM (e.g., RAG, information extraction, summarization, etc.). Here we simply use it for general prompting:"
   ]
  },
  {
   "cell_type": "code",
   "execution_count": null,
   "metadata": {},
   "outputs": [
    {
     "name": "stdout",
     "output_type": "stream",
     "text": [
      "Certainly! Here are three cute names for a cat, along with explanations for why each is adorable:\n",
      "\n",
      "1. **Whiskers**: This name is cute because it highlights one of the most distinctive and charming features of a cat—their whiskers. It's playful and endearing, evoking the image of a curious cat twitching its whiskers as it explores its surroundings.\n",
      "\n",
      "2. **Mittens**: This name is cute because it conjures up the image of a cat with little white paws that look like they are wearing mittens. It's a cozy and affectionate name that suggests warmth and cuddliness, much like a pair of soft mittens.\n",
      "\n",
      "3. **Pumpkin**: This name is cute because it brings to mind the warm, orange hues of a pumpkin, which can be reminiscent of certain cat fur colors. It's also associated with the fall season, which is often linked to comfort and coziness. Plus, the name \"Pumpkin\" has a sweet and affectionate ring to it, making it perfect for a beloved pet."
     ]
    }
   ],
   "source": [
    "# | notest\n",
    "\n",
    "saved_result = llm.prompt('List three cute  names for a cat and explain why each is cute.')"
   ]
  },
  {
   "cell_type": "markdown",
   "metadata": {},
   "source": [
    "**Using Vision Capabilities in GPT-4o**"
   ]
  },
  {
   "cell_type": "code",
   "execution_count": null,
   "metadata": {},
   "outputs": [
    {
     "name": "stdout",
     "output_type": "stream",
     "text": [
      "The weather in the image appears to be clear and sunny. The sky is mostly blue with some scattered clouds, suggesting a pleasant day with good visibility. The sunlight is bright, illuminating the green grass and landscape."
     ]
    }
   ],
   "source": [
    "# | notest\n",
    "\n",
    "image_url = \"https://upload.wikimedia.org/wikipedia/commons/thumb/d/dd/Gfp-wisconsin-madison-the-nature-boardwalk.jpg/2560px-Gfp-wisconsin-madison-the-nature-boardwalk.jpg\"\n",
    "saved_result = llm.prompt('Describe the weather in this image.', image_path_or_url=image_url)"
   ]
  },
  {
   "cell_type": "markdown",
   "metadata": {},
   "source": [
    "**Using OpenAI-Style Message Dictionaries**"
   ]
  },
  {
   "cell_type": "code",
   "execution_count": null,
   "metadata": {},
   "outputs": [
    {
     "name": "stdout",
     "output_type": "stream",
     "text": [
      "The weather in the image appears to be clear and sunny. The sky is mostly blue with some scattered clouds, suggesting a pleasant day with good visibility. The sunlight is bright, casting clear shadows and illuminating the green landscape."
     ]
    }
   ],
   "source": [
    "# | notest\n",
    "\n",
    "messages = [\n",
    "    {'content': [{'text': 'describe the weather in this image', \n",
    "                  'type': 'text'},\n",
    "                 {'image_url': {'url': image_url},\n",
    "                  'type': 'image_url'}],\n",
    "     'role': 'user'}]\n",
    "saved_result = llm.prompt(messages)"
   ]
  },
  {
   "cell_type": "markdown",
   "metadata": {},
   "source": [
    "**Azure OpenAI**\n",
    "\n",
    "For Azure OpenAI models, use the following URL format:\n",
    "```python\n",
    "llm = LLM(model_url='azure://<deployment_name>', ...) \n",
    "# <deployment_name> is the Azure deployment name and additional Azure-specific parameters \n",
    "# can be supplied as extra arguments to LLM (or set as environment variables)\n",
    "```"
   ]
  },
  {
   "cell_type": "markdown",
   "metadata": {},
   "source": [
    "### Structured and Guided Outputs\n",
    "\n",
    "The `LLM.pydantic_prompt` method allows you to specify the desired structure of the LLM's output as a Pydantic model."
   ]
  },
  {
   "cell_type": "code",
   "execution_count": null,
   "metadata": {},
   "outputs": [
    {
     "name": "stderr",
     "output_type": "stream",
     "text": [
      "llama_new_context_with_model: n_ctx_per_seq (3904) < n_ctx_train (131072) -- the full capacity of the model will not be utilized\n"
     ]
    },
    {
     "name": "stdout",
     "output_type": "stream",
     "text": [
      "{\n",
      "  \"setup\": \"Why couldn't the bicycle stand alone?\",\n",
      "  \"punchline\": \"Because it was two-tired!\"\n",
      "}"
     ]
    }
   ],
   "source": [
    "# | notest\n",
    "\n",
    "from pydantic import BaseModel, Field\n",
    "\n",
    "class Joke(BaseModel):\n",
    "    setup: str = Field(description=\"question to set up a joke\")\n",
    "    punchline: str = Field(description=\"answer to resolve the joke\")\n",
    "\n",
    "from onprem import LLM\n",
    "llm = LLM(default_model='llama', verbose=False)\n",
    "structured_output = llm.pydantic_prompt('Tell me a joke.', pydantic_model=Joke)"
   ]
  },
  {
   "cell_type": "markdown",
   "metadata": {},
   "source": [
    "The output is a Pydantic object instead of a string:"
   ]
  },
  {
   "cell_type": "code",
   "execution_count": null,
   "metadata": {},
   "outputs": [
    {
     "data": {
      "text/plain": [
       "Joke(setup=\"Why couldn't the bicycle stand alone?\", punchline='Because it was two-tired!')"
      ]
     },
     "execution_count": null,
     "metadata": {},
     "output_type": "execute_result"
    }
   ],
   "source": [
    "# | notest\n",
    "\n",
    "structured_output"
   ]
  },
  {
   "cell_type": "code",
   "execution_count": null,
   "metadata": {},
   "outputs": [
    {
     "name": "stdout",
     "output_type": "stream",
     "text": [
      "Why couldn't the bicycle stand alone?\n",
      "\n",
      "Because it was two-tired!\n"
     ]
    }
   ],
   "source": [
    "# | notest\n",
    "\n",
    "print(structured_output.setup)\n",
    "print()\n",
    "print(structured_output.punchline)"
   ]
  },
  {
   "cell_type": "markdown",
   "metadata": {},
   "source": [
    "\n",
    "You can also use **OnPrem.LLM** with the [Guidance](https://github.com/guidance-ai/guidance) package to guide the LLM to generate outputs based on your conditions and constraints. We'll show a couple of examples here, but see [our documentation on guided prompts](https://amaiya.github.io/onprem/examples_guided_prompts.html) for more information.\n"
   ]
  },
  {
   "cell_type": "code",
   "execution_count": null,
   "metadata": {},
   "outputs": [],
   "source": [
    "# | notest\n",
    "\n",
    "from onprem import LLM\n",
    "\n",
    "llm = LLM(n_gpu_layers=-1, verbose=False)\n",
    "from onprem.pipelines.guider import Guider\n",
    "guider = Guider(llm)"
   ]
  },
  {
   "cell_type": "markdown",
   "metadata": {},
   "source": [
    "With the Guider, you can use use Regular Expressions to control LLM generation:"
   ]
  },
  {
   "cell_type": "code",
   "execution_count": null,
   "metadata": {},
   "outputs": [
    {
     "data": {
      "text/plain": [
       "{'answer': '7'}"
      ]
     },
     "execution_count": null,
     "metadata": {},
     "output_type": "execute_result"
    }
   ],
   "source": [
    "# | notest\n",
    "\n",
    "prompt = f\"\"\"Question: Luke has ten balls. He gives three to his brother. How many balls does he have left?\n",
    "Answer: \"\"\" + gen(name='answer', regex='\\d+')\n",
    "\n",
    "guider.prompt(prompt, echo=False)"
   ]
  },
  {
   "cell_type": "code",
   "execution_count": null,
   "metadata": {},
   "outputs": [
    {
     "data": {
      "text/html": [
       "<pre style='margin: 0px; padding: 0px; padding-left: 8px; margin-left: -8px; border-radius: 0px; border-left: 1px solid rgba(127, 127, 127, 0.2); white-space: pre-wrap; font-family: ColfaxAI, Arial; font-size: 15px; line-height: 23px;'>19, 18<span style='background-color: rgba(0, 165, 0, 0.15); border-radius: 3px;' title='0.0'>,</span><span style='background-color: rgba(0, 165, 0, 0.15); border-radius: 3px;' title='0.0'> 1</span><span style='background-color: rgba(0, 165, 0, 0.15); border-radius: 3px;' title='0.0'>7</span><span style='background-color: rgba(0, 165, 0, 0.15); border-radius: 3px;' title='0.0'>,</span><span style='background-color: rgba(0, 165, 0, 0.15); border-radius: 3px;' title='0.0'> 1</span><span style='background-color: rgba(0, 165, 0, 0.15); border-radius: 3px;' title='0.0'>6</span><span style='background-color: rgba(0, 165, 0, 0.15); border-radius: 3px;' title='0.0'>,</span><span style='background-color: rgba(0, 165, 0, 0.15); border-radius: 3px;' title='0.0'> 1</span><span style='background-color: rgba(0, 165, 0, 0.15); border-radius: 3px;' title='0.0'>5</span><span style='background-color: rgba(0, 165, 0, 0.15); border-radius: 3px;' title='0.0'>,</span><span style='background-color: rgba(0, 165, 0, 0.15); border-radius: 3px;' title='0.0'> 1</span><span style='background-color: rgba(0, 165, 0, 0.15); border-radius: 3px;' title='0.0'>4</span><span style='background-color: rgba(0, 165, 0, 0.15); border-radius: 3px;' title='0.0'>,</span><span style='background-color: rgba(0, 165, 0, 0.15); border-radius: 3px;' title='0.0'> 1</span><span style='background-color: rgba(0, 165, 0, 0.15); border-radius: 3px;' title='0.0'>3</span><span style='background-color: rgba(0, 165, 0, 0.15); border-radius: 3px;' title='0.0'>,</span><span style='background-color: rgba(0, 165, 0, 0.15); border-radius: 3px;' title='0.0'> 1</span><span style='background-color: rgba(0, 165, 0, 0.15); border-radius: 3px;' title='0.0'>2</span><span style='background-color: rgba(0, 165, 0, 0.15); border-radius: 3px;' title='0.0'>,</span><span style='background-color: rgba(0, 165, 0, 0.15); border-radius: 3px;' title='0.0'> 1</span><span style='background-color: rgba(0, 165, 0, 0.15); border-radius: 3px;' title='0.0'>1</span><span style='background-color: rgba(0, 165, 0, 0.15); border-radius: 3px;' title='0.0'>,</span><span style='background-color: rgba(0, 165, 0, 0.15); border-radius: 3px;' title='0.0'> 1</span><span style='background-color: rgba(0, 165, 0, 0.15); border-radius: 3px;' title='0.0'>0</span><span style='background-color: rgba(0, 165, 0, 0.15); border-radius: 3px;' title='0.0'>,</span><span style='background-color: rgba(0, 165, 0, 0.15); border-radius: 3px;' title='0.0'> 9</span><span style='background-color: rgba(0, 165, 0, 0.15); border-radius: 3px;' title='0.0'>,</span><span style='background-color: rgba(0, 165, 0, 0.15); border-radius: 3px;' title='0.0'> 8</span><span style='background-color: rgba(0, 165, 0, 0.15); border-radius: 3px;' title='0.0'>,</span></pre>"
      ],
      "text/plain": [
       "<IPython.core.display.HTML object>"
      ]
     },
     "metadata": {},
     "output_type": "display_data"
    },
    {
     "data": {
      "text/plain": [
       "{'output': ' 17, 16, 15, 14, 13, 12, 11, 10, 9, 8,'}"
      ]
     },
     "execution_count": null,
     "metadata": {},
     "output_type": "execute_result"
    }
   ],
   "source": [
    "# | notest\n",
    "\n",
    "prompt = '19, 18,' + gen(name='output', max_tokens=50, stop_regex='[^\\d]7[^\\d]')\n",
    "guider.prompt(prompt)"
   ]
  },
  {
   "cell_type": "markdown",
   "metadata": {},
   "source": [
    "See [the documentation](https://amaiya.github.io/onprem/examples_guided_prompts.html) for more examples of how to use [Guidance](https://github.com/guidance-ai/guidance) with **OnPrem.LLM**."
   ]
  },
  {
   "cell_type": "markdown",
   "metadata": {},
   "source": [
    "## Solving Tasks With Agents\n",
    "\n",
    "```python\n",
    "from onprem import LLM\n",
    "from onprem.pipelines import Agent\n",
    "llm = LLM('openai/gpt-4o-mini', mute_stream=True) \n",
    "agent = Agent(llm)\n",
    "agent.add_webview_tool()\n",
    "answer = agent.run(\"What is the highest level of education of the person listed on this page: https://arun.maiya.net?\")\n",
    "# ANSWER: Ph.D. in Computer Science\n",
    "```\n",
    "\n",
    "See the **[example notebook on agents](https://amaiya.github.io/onprem/examples_agent.html)** for more information"
   ]
  },
  {
   "cell_type": "markdown",
   "metadata": {},
   "source": [
    "## Built-In Web App\n",
    "\n",
    "**OnPrem.LLM** includes a built-in Web app to access the LLM. To start it, run the following command after installation:\n",
    "\n",
    "```shell\n",
    "onprem --port 8000\n",
    "```\n",
    "Then, enter `localhost:8000` (or `<domain_name>:8000` if running on remote server) in a Web browser to access the application:\n",
    "\n",
    "<img src=\"https://raw.githubusercontent.com/amaiya/onprem/master/images/onprem_welcome.png\" border=\"1\" alt=\"screenshot\" width=\"775\"/>"
   ]
  },
  {
   "cell_type": "markdown",
   "metadata": {},
   "source": [
    "For more information, [see the corresponding documentation](https://amaiya.github.io/onprem/webapp.html)."
   ]
  },
  {
   "cell_type": "markdown",
   "metadata": {},
   "source": [
    "## Examples\n",
    "\n",
    "The [documentation](https://amaiya.github.io/onprem/) includes many examples, including:\n",
    "\n",
    "- [Prompts for Problem-Solving](https://amaiya.github.io/onprem/examples.html)\n",
    "- [RAG Example](https://amaiya.github.io/onprem/examples_rag.html)\n",
    "- [Code Generation](https://amaiya.github.io/onprem/examples_code.html)\n",
    "- [Semantic Similarity](https://amaiya.github.io/onprem/examples_semantic.html)\n",
    "- [Document Summarization](https://amaiya.github.io/onprem/examples_summarization.html)\n",
    "- [Information Extraction](https://amaiya.github.io/onprem/examples_information_extraction.html)\n",
    "- [Text Classification](https://amaiya.github.io/onprem/examples_classification.html)\n",
    "- [Agent-Based Task Execution](https://amaiya.github.io/onprem/examples_agent.html)\n",
    "- [Audo-Coding Survey Responses](https://amaiya.github.io/onprem/examples_qualitative_survey_analysis.html)\n",
    "- [Legal and Regulatory Analysis](https://amaiya.github.io/onprem/examples_legal_analysis.html)\n"
   ]
  },
  {
   "cell_type": "markdown",
   "metadata": {},
   "source": [
    "## FAQ\n",
    "\n",
    "1. **How do I use other models with OnPrem.LLM?**\n",
    "\n",
    "    > You can supply any model of your choice using the `model_url` and `model_id` parameters to `LLM` (see cheat sheet above).\n",
    "    \n",
    "    > Here, we will go into detail on how to supply a custom GGUF model using the llma.cpp backend.\n",
    "    \n",
    "    > You can find llama.cpp-supported models with `GGUF` in the file name on [huggingface.co](https://huggingface.co/models?sort=trending&search=gguf).\n",
    "    \n",
    "    >Make sure you are pointing to the URL of the actual GGUF model file, which is the \"download\" link on the model's page. An example for **Mistral-7B** is shown below:\n",
    "\n",
    "    ><img src=\"https://raw.githubusercontent.com/amaiya/onprem/master/images/model_download_link.png\" border=\"1\" alt=\"screenshot\" width=\"775\"/>\n",
    "\n",
    "    > When using the llama.cpp backend, GGUF models have specific prompt formats that  need to supplied to `LLM`.\n",
    "    > For instance, the prompt template required for **Zephyr-7B**, as described on the [model's page](https://huggingface.co/TheBloke/zephyr-7B-beta-GGUF), is:\n",
    "    >\n",
    "    > ```<|system|>\\n</s>\\n<|user|>\\n{prompt}</s>\\n<|assistant|>```\n",
    "    >\n",
    "    > So, to use the **Zephyr-7B** model, you must supply the `prompt_template` argument to the `LLM` constructor (or specify it in the `webapp.yml` configuration for the Web app).\n",
    "    >\n",
    "    > ```python\n",
    "    > # how to use Zephyr-7B with OnPrem.LLM\n",
    "    > llm = LLM(model_url='https://huggingface.co/TheBloke/zephyr-7B-beta-GGUF/resolve/main/zephyr-7b-beta.Q4_K_M.gguf',\n",
    "    >           prompt_template = \"<|system|>\\n</s>\\n<|user|>\\n{prompt}</s>\\n<|assistant|>\",\n",
    "    >           n_gpu_layers=33)\n",
    "    > llm.prompt(\"List three cute names for a cat.\")\n",
    "    >```\n",
    "\n",
    "    > Prompt templates are **not** required for any other LLM backend (e.g., when using Ollama as backend or when using `model_id` parameter for transformers models).\n",
    "    > Prompt templates are also not required if using any of the default models.\n",
    "    \n",
    "    \n",
    "2. **When installing `onprem`, I'm getting \"build\" errors related to `llama-cpp-python` (or `chroma-hnswlib`) on Windows/Mac/Linux?** \n",
    "\n",
    "    > See [this LangChain documentation on LLama.cpp](https://python.langchain.com/docs/integrations/llms/llamacpp) for help on installing the `llama-cpp-python` package for your system. Additional tips for different operating systems are shown below:\n",
    "   \n",
    "    > For **Linux** systems like Ubuntu, try this: `sudo apt-get install build-essential g++ clang`.  Other tips are [here](https://github.com/oobabooga/text-generation-webui/issues/1534).\n",
    "    \n",
    "    > For **Windows** systems, please try following [these instructions](https://github.com/amaiya/onprem/blob/master/MSWindows.md).  We recommend you use [Windows Subsystem for Linux (WSL)](https://learn.microsoft.com/en-us/windows/wsl/install) instead of using Microsoft Windows directly. If you do need to use Microsoft Window directly, be sure to install the [Microsoft C++ Build Tools](https://visualstudio.microsoft.com/visual-cpp-build-tools/) and make sure the **Desktop development with C++** is selected. \n",
    "    \n",
    "    > For **Macs**, try following [these tips](https://github.com/imartinez/privateGPT/issues/445#issuecomment-1563333950).\n",
    "    \n",
    "    > There are also various other tips for each of the above OSes in [this privateGPT repo thread](https://github.com/imartinez/privateGPT/issues/445).  Of course, you can also [easily use](https://colab.research.google.com/drive/1LVeacsQ9dmE1BVzwR3eTLukpeRIMmUqi?usp=sharing) **OnPrem.LLM** on Google Colab.\n",
    "    \n",
    "    >  Finally, if you still can't overcome issues with building `llama-cpp-python`, you can try [installing the pre-built wheel file](https://abetlen.github.io/llama-cpp-python/whl/cpu/llama-cpp-python/) for your system:\n",
    "    \n",
    "    > **Example:** `pip install llama-cpp-python==0.2.90 --extra-index-url https://abetlen.github.io/llama-cpp-python/whl/cpu`\n",
    "    >\n",
    "    > **Tip:** There are [pre-built wheel files for `chroma-hnswlib`](https://pypi.org/project/chroma-hnswlib/#files), as well. If running `pip install onprem` fails on building `chroma-hnswlib`, it may be because a pre-built wheel doesn't yet exist for the version of Python you're using (in which case you can try downgrading Python).   \n",
    "\n",
    "\n",
    "3. **I'm behind a corporate firewall and am receiving an SSL error when trying to download the model?**\n",
    "\n",
    "    >Try this:\n",
    "    >```python\n",
    "    >from onprem import LLM\n",
    "    >LLM.download_model(url, ssl_verify=False)\n",
    "    >```\n",
    "\n",
    "    >You can download the embedding model (used by `LLM.ingest` and `LLM.ask`) as follows:\n",
    "    >```sh\n",
    "    >wget --no-check-certificate https://public.ukp.informatik.tu-darmstadt.de/reimers/sentence-transformers/v0.2/all-MiniLM-L6-v2.zip\n",
    "    >```\n",
    "    \n",
    "    >Supply the unzipped folder name as the `embedding_model_name` argument to `LLM`.\n",
    "    \n",
    "    > If you're getting SSL errors when even running `pip install`, try this:\n",
    "    >```sh\n",
    "    > pip install –-trusted-host pypi.org –-trusted-host files.pythonhosted.org pip_system_certs\n",
    "    >```\n",
    "    \n",
    "\n",
    "4. **How do I use this on a machine with no internet access?**\n",
    "\n",
    "    >Use the `LLM.download_model` method to download the model files to `<your_home_directory>/onprem_data` and transfer them to the same location on the air-gapped  machine.\n",
    "\n",
    "    >For the `ingest` and `ask` methods, you will need to also download and transfer the embedding model files:\n",
    "    >```python\n",
    "    >from sentence_transformers import SentenceTransformer\n",
    "    >model = SentenceTransformer('sentence-transformers/all-MiniLM-L6-v2')\n",
    "    >model.save('/some/folder')\n",
    "    >```\n",
    "    \n",
    "    >Copy the `some/folder` folder to the air-gapped machine and supply the path to `LLM` via the `embedding_model_name` parameter.\n",
    " \n",
    " \n",
    "\n",
    "5. **My model is not loading when I call `llm = LLM(...)`?** \n",
    "\n",
    "    > This can happen if the model file is corrupt (in which case you should delete from `<home directory>/onprem_data` and re-download). It can also  happen if the version of `llama-cpp-python` needs to be upgraded to the latest.\n",
    "\n",
    "6. **I'm getting an `“Illegal instruction (core dumped)` error when instantiating a `langchain.llms.Llamacpp` or `onprem.LLM` object?**\n",
    "\n",
    "   > Your CPU may not support instructions that `cmake` is using for one reason or another (e.g., [due to Hyper-V in VirtualBox settings](https://stackoverflow.com/questions/65780506/how-to-enable-avx-avx2-in-virtualbox-6-1-16-with-ubuntu-20-04-64bit)). You can try turning them off when building and installing `llama-cpp-python`:\n",
    "\n",
    "    >```sh\n",
    "    ># example\n",
    "    >CMAKE_ARGS=\"-DGGML_CUDA=ON -DGGML_AVX2=OFF -DGGML_AVX=OFF -DGGML_F16C=OFF -DGGML_FMA=OFF\" FORCE_CMAKE=1 pip install --force-reinstall llama-cpp-python --no-cache-dir\n",
    "    >```\n",
    "\n",
    "7. **How can I speed up `LLM.ingest`?**\n",
    "\n",
    "    > By default, a GPU, if available, will be used to compute embeddings, so ensure PyTorch is installed with GPU support.\n",
    "    > You can explicitly control the device used for computing embeddings with the `embedding_model_kwargs` argument.\n",
    "    >```python\n",
    "    >from onprem import LLM\n",
    "    >llm  = LLM(embedding_model_kwargs={'device':'cuda'})\n",
    "    >```\n",
    " \n",
    "    > You can also supply `store_type=\"sparse\"` to `LLM` to use a sparse vector store, which sacrifices a small amount of inference speed (`LLM.ask`)\n",
    "    > for significant speed ups during ingestion (`LLM.ingest`).\n",
    "    >```python\n",
    "    >from onprem import LLM\n",
    "    >llm  = LLM(store_type=\"sparse\")\n",
    "    >```\n",
    "    > Note, however, that, unlike dense vector stores, sparse vector stores assume answer sources will contain at least one word in common with the question.\n",
    "\n",
    "<!--\n",
    "8. **What are ways in which OnPrem.LLM has been used?**\n",
    "    > Examples include:\n",
    "    > - extracting key performance parameters and other performance attributes from engineering documents\n",
    "    > - auto-coding responses to government requests for information (RFIs)\n",
    "    > - analyzing the Federal Aquisition Regulations (FAR)\n",
    "    > - understanding where and how Executive Order 14028 on cybersecurity aligns with the National Cybersecurity Strategy\n",
    "    > - generating a summary of ways to improve a course from thousdands of reviews\n",
    "    > - extracting specific information of interest from resumes for talent acquisition.\n",
    "\n",
    "-->\n",
    "   "
   ]
  },
  {
   "cell_type": "markdown",
   "metadata": {},
   "source": [
    "## How to Cite\n",
    "\n",
    "Please cite the [following paper](https://arxiv.org/abs/2509.21040) when using **OnPrem.LLM**:\n",
    "\n",
    "```\n",
    "@article{maiya2025generativeaiffrdcs,\n",
    "      title={Generative AI for FFRDCs}, \n",
    "      author={Arun S. Maiya},\n",
    "      year={2025},\n",
    "      eprint={2509.21040},\n",
    "      archivePrefix={arXiv},\n",
    "      primaryClass={cs.CL},\n",
    "      url={https://arxiv.org/abs/2509.21040}, \n",
    "}\n",
    "```"
   ]
  },
  {
   "cell_type": "code",
   "execution_count": null,
   "metadata": {},
   "outputs": [],
   "source": []
  }
 ],
 "metadata": {
  "kernelspec": {
   "display_name": "python3",
   "language": "python",
   "name": "python3"
  }
 },
 "nbformat": 4,
 "nbformat_minor": 4
}
