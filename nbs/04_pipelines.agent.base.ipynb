{
 "cells": [
  {
   "cell_type": "markdown",
   "metadata": {},
   "source": [
    "# pipelines.agent.base\n",
    "\n",
    "> Agent-based task execution pipeline that wraps smolagents to provide autonomous task completion capabilities using local LLMs."
   ]
  },
  {
   "cell_type": "code",
   "execution_count": null,
   "metadata": {},
   "outputs": [],
   "source": [
    "# | default_exp pipelines.agent.base"
   ]
  },
  {
   "cell_type": "code",
   "execution_count": null,
   "metadata": {},
   "outputs": [],
   "source": [
    "# | hide\n",
    "from nbdev.showdoc import *"
   ]
  },
  {
   "cell_type": "code",
   "execution_count": null,
   "metadata": {},
   "outputs": [],
   "source": [
    "# | export\n",
    "\n",
    "import onprem\n",
    "from typing import Callable\n",
    "import warnings\n",
    "from onprem.ingest.stores.base import VectorStore\n",
    "\n",
    "from smolagents import PythonInterpreterTool, WebSearchTool, VisitWebpageTool, Tool as SA_Tool\n",
    "from smolagents import ToolCallingAgent, CodeAgent\n",
    "from onprem.pipelines.agent.model import AgentModel\n",
    "from onprem.pipelines.agent import tools as tool_utils\n",
    "\n",
    "class Agent:\n",
    "    \"\"\"\n",
    "    Pipeline for agent-based task execution using smolagents.\n",
    "    Extra kwargs are supplied directly to agent instantation.\n",
    "    \n",
    "    Args:\n",
    "        llm (LLM): An onprem LLM instance to use for agent reasoning\n",
    "        agent_type (str, optional): Type of agent to use ('tool_calling' or 'code')\n",
    "        max_steps (int, optional): Maximum number of steps the agent can take\n",
    "        tools (dict, optional): a dictionary of tools for agent to use\n",
    "    \"\"\"\n",
    "    \n",
    "\n",
    "    \n",
    "    def __init__(\n",
    "        self, \n",
    "        llm: onprem.LLM,\n",
    "        agent_type: str = \"tool_calling\",\n",
    "        max_steps: int = 20,\n",
    "        tools:dict = {},\n",
    "        **kwargs,\n",
    "    ):\n",
    "\n",
    "        self.model = AgentModel(llm)\n",
    "        self.tools = tools or {}\n",
    "        self.agent_type = agent_type\n",
    "        self.max_steps = max_steps\n",
    "        self.kwargs = kwargs\n",
    "                     \n",
    "        # Initialize the agent\n",
    "        self._init_agent()\n",
    "    \n",
    "    def _init_agent(self):\n",
    "        \"\"\"Initialize the appropriate smolagents agent type.\"\"\"\n",
    "        # Convert the LLM to a smolagents-compatible model\n",
    "        \n",
    "        # Get the tool list\n",
    "        tool_list = list(self.tools.values())\n",
    "        \n",
    "        # Initialize the agent based on the agent type\n",
    "        if self.agent_type == \"tool_calling\":\n",
    "            self.agent = ToolCallingAgent(\n",
    "                tools=tool_list,\n",
    "                model=self.model,\n",
    "                max_steps = self.max_steps,\n",
    "                **self.kwargs\n",
    "             )\n",
    "        elif self.agent_type == \"code\":\n",
    "            self.agent = CodeAgent(\n",
    "                tools=tool_list,\n",
    "                model=self.model,\n",
    "                max_steps = self.max_steps,\n",
    "                **self.kwargs\n",
    "             )\n",
    "        else:\n",
    "            raise ValueError(f\"Unsupported agent type: {self.agent_type}\")\n",
    "    \n",
    "   \n",
    "    def add_tool(self, name: str, tool_instance): # tool_instance is SA_Tool\n",
    "        \"\"\"\n",
    "        Add a tool to the agent.\n",
    "        \n",
    "        Args:\n",
    "            name (str): The name of the tool\n",
    "            tool_instance (Tool): The tool instance\n",
    "        \"\"\"\n",
    "        self.tools[name] = tool_instance\n",
    "        self._init_agent()  # Reinitialize the agent with the new tool\n",
    "\n",
    "    def add_default_tool(\n",
    "        self, name:str\n",
    "    ):\n",
    "        \"\"\"\n",
    "        Create one of the built-in tools\n",
    "                 \n",
    "        Returns:\n",
    "            Tool: The created tool\n",
    "        \"\"\"\n",
    "        if name not in tool_utils.DEFAULT_TOOLS:\n",
    "            raise ValueError(f'{name} is not one of the built-in tools: {tool_utils.DEFAULT_TOOLS.keys()}')\n",
    "        self.add_tool(name, tool_utils.DEFAULT_TOOLS[name])\n",
    "    \n",
    "    def add_websearch_tool(\n",
    "        self, \n",
    "    ):\n",
    "        \"\"\"\n",
    "        Create a tool to perform Web searches.\n",
    "                 \n",
    "        Returns:\n",
    "            Tool: The created tool\n",
    "        \"\"\"\n",
    "        name = 'websearch'\n",
    "        self.add_default_tool(name)\n",
    "\n",
    "    \n",
    "    def add_webview_tool(\n",
    "        self, \n",
    "    ):\n",
    "        \"\"\"\n",
    "        Create a tool to visit Web page\n",
    "                 \n",
    "        Returns:\n",
    "            Tool: The created tool\n",
    "        \"\"\"\n",
    "        name = 'webview'\n",
    "        self.add_default_tool(name)\n",
    "\n",
    "    \n",
    "    def add_python_tool(\n",
    "        self, \n",
    "    ):\n",
    "        \"\"\"\n",
    "        Create a tool to access Python interpreter\n",
    "                 \n",
    "        Returns:\n",
    "            Tool: The created tool\n",
    "        \"\"\"\n",
    "        name = 'python'\n",
    "        self.add_default_tool(name)\n",
    "\n",
    "    \n",
    "    def add_function_tool(\n",
    "        self, \n",
    "        func: Callable, \n",
    "    ):\n",
    "        \"\"\"\n",
    "        Create a tool from a function and its documentation.\n",
    "        \n",
    "        Args:\n",
    "            func (Callable): The function to wrap as a tool\n",
    "            name (str, optional): The name of the tool (defaults to function name)\n",
    "            description (str, optional): The description of the tool (defaults to function docstring)\n",
    "            \n",
    "        Returns:\n",
    "            Tool: The created tool\n",
    "        \"\"\"\n",
    "        from types import FunctionType, MethodType\n",
    "\n",
    "        if not isinstance(func, SA_Tool) and (isinstance(func, (FunctionType, MethodType)) or hasattr(func, \"__call__\")):\n",
    "            name = func.__name__\n",
    "            tool = tool_utils.createtool(func)\n",
    "        else:\n",
    "            raise ValueError(f'{func} is not a callable method or function')\n",
    "        self.add_tool(name, tool)\n",
    "\n",
    "\n",
    "    def add_vectorstore_tool(\n",
    "        self, \n",
    "        name: str, \n",
    "        store: VectorStore, \n",
    "        description: str = \"Search a vector database for relevant information\",\n",
    "    ):\n",
    "        \"\"\"\n",
    "        Create a tool from a VectorStore instance.\n",
    "        \n",
    "        Args:\n",
    "            name (str): The name of the vector store tool\n",
    "            store (VectorStore): The vector store instance\n",
    "            description (str, optional): The description of the vector store  \n",
    "        Returns:\n",
    "            Tool: The created tool\n",
    "        \"\"\"\n",
    "        self.add_tool(name, tool_utils.VectorStoreTool(name, description, store))\n",
    "\n",
    "\n",
    "    def add_mcp_tool(self, url:str):\n",
    "        \"\"\"\n",
    "        Add tool to access MCP server\n",
    "        \"\"\"\n",
    "        import mcpadapt.core\n",
    "        from mcpadapt.smolagents_adapter import SmolAgentsAdapter\n",
    "        \n",
    "        mcp_tools = mcpadapt.core.MCPAdapt({\"url\": url}, SmolAgentsAdapter()).tools()\n",
    "        for i, mcp_tool in enumerate(mcp_tools):\n",
    "            self.add_tool(f'{url} (i)', mcp_tool)\n",
    "\n",
    "\n",
    "    def run(self, task: str) -> str:\n",
    "        \"\"\"\n",
    "        Run the agent on a given task.\n",
    "        \n",
    "        Args:\n",
    "            task (str): The task description\n",
    "            \n",
    "        Returns:\n",
    "            str: The agent's response\n",
    "        \"\"\"\n",
    "        if not self.tools and self.agent_type == \"tool_calling\":\n",
    "            raise ValueError('No tools have been added to agent. Please add at least one tool using on eof the Agent.add_* methods.')\n",
    "            \n",
    "        result = self.agent.run(task)\n",
    "        return '\\n'.join(result) if isinstance(result, list) else result"
   ]
  },
  {
   "cell_type": "code",
   "execution_count": null,
   "metadata": {},
   "outputs": [
    {
     "data": {
      "text/markdown": [
       "---\n",
       "\n",
       "[source](https://github.com/amaiya/onprem/blob/master/onprem/pipelines/agent/base.py#L77){target=\"_blank\" style=\"float:right; font-size:smaller\"}\n",
       "\n",
       "### Agent.add_tool\n",
       "\n",
       ">      Agent.add_tool (name:str, tool_instance)\n",
       "\n",
       "*Add a tool to the agent.\n",
       "\n",
       "Args:\n",
       "    name (str): The name of the tool\n",
       "    tool_instance (Tool): The tool instance*\n",
       "\n",
       "|    | **Type** | **Details** |\n",
       "| -- | -------- | ----------- |\n",
       "| name | str |  |\n",
       "| tool_instance |  | tool_instance is SA_Tool |"
      ],
      "text/plain": [
       "---\n",
       "\n",
       "[source](https://github.com/amaiya/onprem/blob/master/onprem/pipelines/agent/base.py#L77){target=\"_blank\" style=\"float:right; font-size:smaller\"}\n",
       "\n",
       "### Agent.add_tool\n",
       "\n",
       ">      Agent.add_tool (name:str, tool_instance)\n",
       "\n",
       "*Add a tool to the agent.\n",
       "\n",
       "Args:\n",
       "    name (str): The name of the tool\n",
       "    tool_instance (Tool): The tool instance*\n",
       "\n",
       "|    | **Type** | **Details** |\n",
       "| -- | -------- | ----------- |\n",
       "| name | str |  |\n",
       "| tool_instance |  | tool_instance is SA_Tool |"
      ]
     },
     "execution_count": null,
     "metadata": {},
     "output_type": "execute_result"
    }
   ],
   "source": [
    "show_doc(Agent.add_tool)"
   ]
  },
  {
   "cell_type": "code",
   "execution_count": null,
   "metadata": {},
   "outputs": [
    {
     "data": {
      "text/markdown": [
       "---\n",
       "\n",
       "[source](https://github.com/amaiya/onprem/blob/master/onprem/pipelines/agent/base.py#L140){target=\"_blank\" style=\"float:right; font-size:smaller\"}\n",
       "\n",
       "### Agent.add_function_tool\n",
       "\n",
       ">      Agent.add_function_tool (func:Callable)\n",
       "\n",
       "*Create a tool from a function and its documentation.\n",
       "\n",
       "Args:\n",
       "    func (Callable): The function to wrap as a tool\n",
       "    name (str, optional): The name of the tool (defaults to function name)\n",
       "    description (str, optional): The description of the tool (defaults to function docstring)\n",
       "\n",
       "Returns:\n",
       "    Tool: The created tool*"
      ],
      "text/plain": [
       "---\n",
       "\n",
       "[source](https://github.com/amaiya/onprem/blob/master/onprem/pipelines/agent/base.py#L140){target=\"_blank\" style=\"float:right; font-size:smaller\"}\n",
       "\n",
       "### Agent.add_function_tool\n",
       "\n",
       ">      Agent.add_function_tool (func:Callable)\n",
       "\n",
       "*Create a tool from a function and its documentation.\n",
       "\n",
       "Args:\n",
       "    func (Callable): The function to wrap as a tool\n",
       "    name (str, optional): The name of the tool (defaults to function name)\n",
       "    description (str, optional): The description of the tool (defaults to function docstring)\n",
       "\n",
       "Returns:\n",
       "    Tool: The created tool*"
      ]
     },
     "execution_count": null,
     "metadata": {},
     "output_type": "execute_result"
    }
   ],
   "source": [
    "show_doc(Agent.add_function_tool)"
   ]
  },
  {
   "cell_type": "code",
   "execution_count": null,
   "metadata": {},
   "outputs": [
    {
     "data": {
      "text/markdown": [
       "---\n",
       "\n",
       "[source](https://github.com/amaiya/onprem/blob/master/onprem/pipelines/agent/base.py#L165){target=\"_blank\" style=\"float:right; font-size:smaller\"}\n",
       "\n",
       "### Agent.add_vectorstore_tool\n",
       "\n",
       ">      Agent.add_vectorstore_tool (name:str,\n",
       ">                                  store:onprem.ingest.base.VectorStore,\n",
       ">                                  description:str='Search a vector database for\n",
       ">                                  relevant information')\n",
       "\n",
       "*Create a tool from a VectorStore instance.\n",
       "\n",
       "Args:\n",
       "    name (str): The name of the vector store tool\n",
       "    store (VectorStore): The vector store instance\n",
       "    description (str, optional): The description of the vector store  \n",
       "Returns:\n",
       "    Tool: The created tool*"
      ],
      "text/plain": [
       "---\n",
       "\n",
       "[source](https://github.com/amaiya/onprem/blob/master/onprem/pipelines/agent/base.py#L165){target=\"_blank\" style=\"float:right; font-size:smaller\"}\n",
       "\n",
       "### Agent.add_vectorstore_tool\n",
       "\n",
       ">      Agent.add_vectorstore_tool (name:str,\n",
       ">                                  store:onprem.ingest.base.VectorStore,\n",
       ">                                  description:str='Search a vector database for\n",
       ">                                  relevant information')\n",
       "\n",
       "*Create a tool from a VectorStore instance.\n",
       "\n",
       "Args:\n",
       "    name (str): The name of the vector store tool\n",
       "    store (VectorStore): The vector store instance\n",
       "    description (str, optional): The description of the vector store  \n",
       "Returns:\n",
       "    Tool: The created tool*"
      ]
     },
     "execution_count": null,
     "metadata": {},
     "output_type": "execute_result"
    }
   ],
   "source": [
    "show_doc(Agent.add_vectorstore_tool)"
   ]
  },
  {
   "cell_type": "code",
   "execution_count": null,
   "metadata": {},
   "outputs": [
    {
     "data": {
      "text/markdown": [
       "---\n",
       "\n",
       "[source](https://github.com/amaiya/onprem/blob/master/onprem/pipelines/agent/base.py#L101){target=\"_blank\" style=\"float:right; font-size:smaller\"}\n",
       "\n",
       "### Agent.add_websearch_tool\n",
       "\n",
       ">      Agent.add_websearch_tool ()\n",
       "\n",
       "*Create a tool to perform Web searches.\n",
       "\n",
       "Returns:\n",
       "    Tool: The created tool*"
      ],
      "text/plain": [
       "---\n",
       "\n",
       "[source](https://github.com/amaiya/onprem/blob/master/onprem/pipelines/agent/base.py#L101){target=\"_blank\" style=\"float:right; font-size:smaller\"}\n",
       "\n",
       "### Agent.add_websearch_tool\n",
       "\n",
       ">      Agent.add_websearch_tool ()\n",
       "\n",
       "*Create a tool to perform Web searches.\n",
       "\n",
       "Returns:\n",
       "    Tool: The created tool*"
      ]
     },
     "execution_count": null,
     "metadata": {},
     "output_type": "execute_result"
    }
   ],
   "source": [
    "show_doc(Agent.add_websearch_tool)"
   ]
  },
  {
   "cell_type": "code",
   "execution_count": null,
   "metadata": {},
   "outputs": [
    {
     "data": {
      "text/markdown": [
       "---\n",
       "\n",
       "[source](https://github.com/amaiya/onprem/blob/master/onprem/pipelines/agent/base.py#L114){target=\"_blank\" style=\"float:right; font-size:smaller\"}\n",
       "\n",
       "### Agent.add_webview_tool\n",
       "\n",
       ">      Agent.add_webview_tool ()\n",
       "\n",
       "*Create a tool to visit Web page\n",
       "\n",
       "Returns:\n",
       "    Tool: The created tool*"
      ],
      "text/plain": [
       "---\n",
       "\n",
       "[source](https://github.com/amaiya/onprem/blob/master/onprem/pipelines/agent/base.py#L114){target=\"_blank\" style=\"float:right; font-size:smaller\"}\n",
       "\n",
       "### Agent.add_webview_tool\n",
       "\n",
       ">      Agent.add_webview_tool ()\n",
       "\n",
       "*Create a tool to visit Web page\n",
       "\n",
       "Returns:\n",
       "    Tool: The created tool*"
      ]
     },
     "execution_count": null,
     "metadata": {},
     "output_type": "execute_result"
    }
   ],
   "source": [
    "show_doc(Agent.add_webview_tool)"
   ]
  },
  {
   "cell_type": "code",
   "execution_count": null,
   "metadata": {},
   "outputs": [
    {
     "data": {
      "text/markdown": [
       "---\n",
       "\n",
       "[source](https://github.com/amaiya/onprem/blob/master/onprem/pipelines/agent/base.py#L127){target=\"_blank\" style=\"float:right; font-size:smaller\"}\n",
       "\n",
       "### Agent.add_python_tool\n",
       "\n",
       ">      Agent.add_python_tool ()\n",
       "\n",
       "*Create a tool to access Python interpreter\n",
       "\n",
       "Returns:\n",
       "    Tool: The created tool*"
      ],
      "text/plain": [
       "---\n",
       "\n",
       "[source](https://github.com/amaiya/onprem/blob/master/onprem/pipelines/agent/base.py#L127){target=\"_blank\" style=\"float:right; font-size:smaller\"}\n",
       "\n",
       "### Agent.add_python_tool\n",
       "\n",
       ">      Agent.add_python_tool ()\n",
       "\n",
       "*Create a tool to access Python interpreter\n",
       "\n",
       "Returns:\n",
       "    Tool: The created tool*"
      ]
     },
     "execution_count": null,
     "metadata": {},
     "output_type": "execute_result"
    }
   ],
   "source": [
    "show_doc(Agent.add_python_tool)"
   ]
  },
  {
   "cell_type": "code",
   "execution_count": null,
   "metadata": {},
   "outputs": [
    {
     "data": {
      "text/markdown": [
       "---\n",
       "\n",
       "[source](https://github.com/amaiya/onprem/blob/master/onprem/pipelines/agent/base.py#L184){target=\"_blank\" style=\"float:right; font-size:smaller\"}\n",
       "\n",
       "### Agent.add_mcp_tool\n",
       "\n",
       ">      Agent.add_mcp_tool (url:str)\n",
       "\n",
       "*Add tool to access MCP server*"
      ],
      "text/plain": [
       "---\n",
       "\n",
       "[source](https://github.com/amaiya/onprem/blob/master/onprem/pipelines/agent/base.py#L184){target=\"_blank\" style=\"float:right; font-size:smaller\"}\n",
       "\n",
       "### Agent.add_mcp_tool\n",
       "\n",
       ">      Agent.add_mcp_tool (url:str)\n",
       "\n",
       "*Add tool to access MCP server*"
      ]
     },
     "execution_count": null,
     "metadata": {},
     "output_type": "execute_result"
    }
   ],
   "source": [
    "show_doc(Agent.add_mcp_tool)"
   ]
  },
  {
   "cell_type": "code",
   "execution_count": null,
   "metadata": {},
   "outputs": [
    {
     "data": {
      "text/markdown": [
       "---\n",
       "\n",
       "[source](https://github.com/amaiya/onprem/blob/master/onprem/pipelines/agent/base.py#L196){target=\"_blank\" style=\"float:right; font-size:smaller\"}\n",
       "\n",
       "### Agent.run\n",
       "\n",
       ">      Agent.run (task:str)\n",
       "\n",
       "*Run the agent on a given task.\n",
       "\n",
       "Args:\n",
       "    task (str): The task description\n",
       "\n",
       "Returns:\n",
       "    str: The agent's response*"
      ],
      "text/plain": [
       "---\n",
       "\n",
       "[source](https://github.com/amaiya/onprem/blob/master/onprem/pipelines/agent/base.py#L196){target=\"_blank\" style=\"float:right; font-size:smaller\"}\n",
       "\n",
       "### Agent.run\n",
       "\n",
       ">      Agent.run (task:str)\n",
       "\n",
       "*Run the agent on a given task.\n",
       "\n",
       "Args:\n",
       "    task (str): The task description\n",
       "\n",
       "Returns:\n",
       "    str: The agent's response*"
      ]
     },
     "execution_count": null,
     "metadata": {},
     "output_type": "execute_result"
    }
   ],
   "source": [
    "show_doc(Agent.run)"
   ]
  },
  {
   "cell_type": "code",
   "execution_count": null,
   "metadata": {},
   "outputs": [],
   "source": [
    "# | hide\n",
    "import nbdev\n",
    "\n",
    "nbdev.nbdev_export()"
   ]
  },
  {
   "cell_type": "code",
   "execution_count": null,
   "metadata": {},
   "outputs": [],
   "source": []
  }
 ],
 "metadata": {
  "kernelspec": {
   "display_name": "python3",
   "language": "python",
   "name": "python3"
  }
 },
 "nbformat": 4,
 "nbformat_minor": 4
}
