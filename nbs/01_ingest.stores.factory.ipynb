{
 "cells": [
  {
   "cell_type": "markdown",
   "metadata": {},
   "source": [
    "# ingest.stores.factory\n",
    "\n",
    "> Convenience class to create Vector Stores."
   ]
  },
  {
   "cell_type": "code",
   "execution_count": null,
   "metadata": {},
   "outputs": [],
   "source": [
    "# | default_exp ingest.stores.factory"
   ]
  },
  {
   "cell_type": "code",
   "execution_count": null,
   "metadata": {},
   "outputs": [],
   "source": [
    "# | hide\n",
    "from nbdev.showdoc import *"
   ]
  },
  {
   "cell_type": "code",
   "execution_count": null,
   "metadata": {},
   "outputs": [],
   "source": [
    "# | export\n",
    "\n",
    "from onprem.ingest.stores.dense import DenseStore, ChromaStore\n",
    "from onprem.ingest.stores.sparse import SparseStore, WhooshStore\n",
    "from onprem.ingest.stores.dual import DualStore, ElasticsearchStore\n",
    "\n",
    "class VectorStoreFactory:\n",
    "    \"\"\"\n",
    "    Convenience factory for creating vector stores with sensible defaults.\n",
    "    \n",
    "    Provides a simple interface to create the most commonly used vector stores:\n",
    "    - ChromaStore (default) - Dense vector store using Chroma\n",
    "    - WhooshStore - Sparse text search using Whoosh\n",
    "    - ElasticsearchStore - Unified dense + sparse using Elasticsearch\n",
    "    \"\"\"\n",
    "    \n",
    "    @classmethod\n",
    "    def create(cls, \n",
    "               kind: str = 'chroma',\n",
    "               persist_location: str = None,\n",
    "               **kwargs):\n",
    "        \"\"\"\n",
    "        Create a vector store instance.\n",
    "        \n",
    "        Args:\n",
    "            kind: Type of store to create. One of:\n",
    "                  - 'chroma' (default): ChromaStore for dense vector search\n",
    "                  - 'whoosh': WhooshStore for sparse text search  \n",
    "                  - 'elasticsearch': ElasticsearchStore for unified dense + sparse\n",
    "            persist_location: Where to store the index/database\n",
    "            **kwargs: Additional arguments passed to the store constructor\n",
    "            \n",
    "        Returns:\n",
    "            VectorStore instance\n",
    "            \n",
    "        Examples:\n",
    "            # Create default ChromaStore\n",
    "            store = VectorStoreFactory.create()\n",
    "            \n",
    "            # Create WhooshStore for text search\n",
    "            store = VectorStoreFactory.create('whoosh', persist_location='./search_index')\n",
    "            \n",
    "            # Create ElasticsearchStore for hybrid search\n",
    "            store = VectorStoreFactory.create('elasticsearch', \n",
    "                                             persist_location='http://localhost:9200',\n",
    "                                             index_name='my_docs')\n",
    "        \"\"\"\n",
    "        if kind == 'chroma':\n",
    "            return ChromaStore(persist_location=persist_location, **kwargs)\n",
    "        elif kind == 'whoosh':\n",
    "            return WhooshStore(persist_location=persist_location, **kwargs)\n",
    "        elif kind == 'elasticsearch':\n",
    "            return ElasticsearchStore(persist_location=persist_location, **kwargs)\n",
    "        else:\n",
    "            raise ValueError(f\"Unknown store kind: {kind}. Supported: 'chroma', 'whoosh', 'elasticsearch'\")\n"
   ]
  },
  {
   "cell_type": "code",
   "execution_count": null,
   "metadata": {},
   "outputs": [
    {
     "data": {
      "text/markdown": [
       "---\n",
       "\n",
       "[source](https://github.com/amaiya/onprem/blob/master/onprem/ingest/stores/factory.py#L24){target=\"_blank\" style=\"float:right; font-size:smaller\"}\n",
       "\n",
       "### VectorStoreFactory.create\n",
       "\n",
       ">      VectorStoreFactory.create (kind:str='chroma', persist_location:str=None,\n",
       ">                                 **kwargs)\n",
       "\n",
       "*Create a vector store instance.\n",
       "\n",
       "Args:\n",
       "    kind: Type of store to create. One of:\n",
       "          - 'chroma' (default): ChromaStore for dense vector search\n",
       "          - 'whoosh': WhooshStore for sparse text search  \n",
       "          - 'elasticsearch': ElasticsearchStore for unified dense + sparse\n",
       "    persist_location: Where to store the index/database\n",
       "    **kwargs: Additional arguments passed to the store constructor\n",
       "\n",
       "Returns:\n",
       "    VectorStore instance\n",
       "\n",
       "Examples:\n",
       "    # Create default ChromaStore\n",
       "    store = VectorStoreFactory.create()\n",
       "\n",
       "    # Create WhooshStore for text search\n",
       "    store = VectorStoreFactory.create('whoosh', persist_location='./search_index')\n",
       "\n",
       "    # Create ElasticsearchStore for hybrid search\n",
       "    store = VectorStoreFactory.create('elasticsearch', \n",
       "                                     persist_location='http://localhost:9200',\n",
       "                                     index_name='my_docs')*"
      ],
      "text/plain": [
       "---\n",
       "\n",
       "[source](https://github.com/amaiya/onprem/blob/master/onprem/ingest/stores/factory.py#L24){target=\"_blank\" style=\"float:right; font-size:smaller\"}\n",
       "\n",
       "### VectorStoreFactory.create\n",
       "\n",
       ">      VectorStoreFactory.create (kind:str='chroma', persist_location:str=None,\n",
       ">                                 **kwargs)\n",
       "\n",
       "*Create a vector store instance.\n",
       "\n",
       "Args:\n",
       "    kind: Type of store to create. One of:\n",
       "          - 'chroma' (default): ChromaStore for dense vector search\n",
       "          - 'whoosh': WhooshStore for sparse text search  \n",
       "          - 'elasticsearch': ElasticsearchStore for unified dense + sparse\n",
       "    persist_location: Where to store the index/database\n",
       "    **kwargs: Additional arguments passed to the store constructor\n",
       "\n",
       "Returns:\n",
       "    VectorStore instance\n",
       "\n",
       "Examples:\n",
       "    # Create default ChromaStore\n",
       "    store = VectorStoreFactory.create()\n",
       "\n",
       "    # Create WhooshStore for text search\n",
       "    store = VectorStoreFactory.create('whoosh', persist_location='./search_index')\n",
       "\n",
       "    # Create ElasticsearchStore for hybrid search\n",
       "    store = VectorStoreFactory.create('elasticsearch', \n",
       "                                     persist_location='http://localhost:9200',\n",
       "                                     index_name='my_docs')*"
      ]
     },
     "execution_count": null,
     "metadata": {},
     "output_type": "execute_result"
    }
   ],
   "source": [
    "show_doc(VectorStoreFactory.create)"
   ]
  },
  {
   "cell_type": "code",
   "execution_count": null,
   "metadata": {},
   "outputs": [],
   "source": [
    "# | hide\n",
    "import nbdev\n",
    "\n",
    "nbdev.nbdev_export()"
   ]
  },
  {
   "cell_type": "code",
   "execution_count": null,
   "metadata": {},
   "outputs": [],
   "source": []
  }
 ],
 "metadata": {
  "kernelspec": {
   "display_name": "python3",
   "language": "python",
   "name": "python3"
  }
 },
 "nbformat": 4,
 "nbformat_minor": 4
}
