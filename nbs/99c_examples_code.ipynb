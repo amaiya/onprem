{
 "cells": [
  {
   "cell_type": "code",
   "execution_count": null,
   "metadata": {},
   "outputs": [],
   "source": [
    "# | hide\n",
    "from onprem.core import *"
   ]
  },
  {
   "cell_type": "markdown",
   "metadata": {},
   "source": [
    "# Code Generation"
   ]
  },
  {
   "cell_type": "code",
   "execution_count": null,
   "metadata": {},
   "outputs": [],
   "source": [
    "# | notest\n",
    "from onprem import LLM\n",
    "\n",
    "url = \"https://huggingface.co/TheBloke/CodeUp-Llama-2-13B-Chat-HF-GGUF/resolve/main/codeup-llama-2-13b-chat-hf.Q4_K_M.gguf\"\n",
    "llm = LLM(url, n_gpu_layers=-1)"
   ]
  },
  {
   "cell_type": "code",
   "execution_count": null,
   "metadata": {},
   "outputs": [],
   "source": [
    "# | notest\n",
    "\n",
    "template = \"\"\"\n",
    "Below is an instruction that describes a task. Write a response that appropriately completes the request.\n",
    "\n",
    "### Instruction:\n",
    "{prompt}\n",
    "\n",
    "### Response:\"\"\""
   ]
  },
  {
   "cell_type": "code",
   "execution_count": null,
   "metadata": {},
   "outputs": [
    {
     "name": "stdout",
     "output_type": "stream",
     "text": [
      "\n",
      "Here's a Python script that does just that! To use it, simply replace `folder_path` with the path to the folder you want to search.\n",
      "```python\n",
      "import os\n",
      "\n",
      "def get_file_paths(folder_path):\n",
      "    file_paths = []\n",
      "    for root, dirs, files in os.walk(folder_path):\n",
      "        for file in files:\n",
      "            file_paths.append(os.path.join(root, file))\n",
      "    return file_paths\n",
      "\n",
      "print(get_file_paths(\"path/to/folder\"))\n",
      "```\n",
      "This script uses the `os` module's `walk()` function to recursively explore the folder and collect all files. The `os.path.join()` function is used to join each file path with its parent directory, and return a list of all file paths. To use this script, simply replace `folder_path` with the path to the folder you want to search.\n",
      "\n",
      "\n"
     ]
    }
   ],
   "source": [
    "# | notest\n",
    "\n",
    "answer = llm.prompt(\n",
    "    \"Write a Python script that returns all file paths from a folder recursively.\",\n",
    "    prompt_template=template,\n",
    ")"
   ]
  },
  {
   "cell_type": "code",
   "execution_count": null,
   "metadata": {},
   "outputs": [
    {
     "data": {
      "text/markdown": [
       "\n",
       "Here's a Python script that does just that! To use it, simply replace `folder_path` with the path to the folder you want to search.\n",
       "```python\n",
       "import os\n",
       "\n",
       "def get_file_paths(folder_path):\n",
       "    file_paths = []\n",
       "    for root, dirs, files in os.walk(folder_path):\n",
       "        for file in files:\n",
       "            file_paths.append(os.path.join(root, file))\n",
       "    return file_paths\n",
       "\n",
       "print(get_file_paths(\"path/to/folder\"))\n",
       "```\n",
       "This script uses the `os` module's `walk()` function to recursively explore the folder and collect all files. The `os.path.join()` function is used to join each file path with its parent directory, and return a list of all file paths. To use this script, simply replace `folder_path` with the path to the folder you want to search.\n",
       "\n",
       "\n"
      ],
      "text/plain": [
       "<IPython.core.display.Markdown object>"
      ]
     },
     "execution_count": null,
     "metadata": {},
     "output_type": "execute_result"
    }
   ],
   "source": [
    "# | notest\n",
    "from IPython.display import Markdown as md\n",
    "\n",
    "md(answer)"
   ]
  },
  {
   "cell_type": "code",
   "execution_count": null,
   "metadata": {},
   "outputs": [],
   "source": []
  }
 ],
 "metadata": {
  "kernelspec": {
   "display_name": "python3",
   "language": "python",
   "name": "python3"
  }
 },
 "nbformat": 4,
 "nbformat_minor": 4
}
