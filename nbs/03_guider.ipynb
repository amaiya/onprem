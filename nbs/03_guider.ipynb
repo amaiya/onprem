{
 "cells": [
  {
   "cell_type": "markdown",
   "metadata": {},
   "source": [
    "# guider\n",
    "\n",
    "> A module to guide the output of an LLM using conditions and constraints"
   ]
  },
  {
   "cell_type": "code",
   "execution_count": null,
   "metadata": {},
   "outputs": [],
   "source": [
    "# | default_exp guider"
   ]
  },
  {
   "cell_type": "code",
   "execution_count": null,
   "metadata": {},
   "outputs": [],
   "source": [
    "# | hide\n",
    "from nbdev.showdoc import *"
   ]
  },
  {
   "cell_type": "code",
   "execution_count": null,
   "metadata": {},
   "outputs": [],
   "source": [
    "# | export\n",
    "from onprem import LLM\n",
    "from guidance import select, gen, models, substring"
   ]
  },
  {
   "cell_type": "code",
   "execution_count": null,
   "metadata": {},
   "outputs": [],
   "source": [
    "# | export\n",
    "\n",
    "class Guider:\n",
    "    def __init__(\n",
    "        self,\n",
    "        llm,\n",
    "        **kwargs,\n",
    "    ):\n",
    "        \"\"\"\n",
    "        Guider Constructor. Note that the `callback` and`callback_manager` parameters to `onprem.LLM` \n",
    "        are not currently utilized by the `Guider`.\n",
    "\n",
    "        **Args:**\n",
    "\n",
    "        - *llm*: An `onprem.LLM` object\n",
    "\n",
    "        \"\"\"\n",
    "        self.llm = llm\n",
    "        if not llm.is_local():\n",
    "            raise ValueError(f'The suppplied LLM is {llm.model_url}, but the Guider currently only supports local, on-premises model.')\n",
    "\n",
    "\n",
    "    def prompt(self, guidance_program: str or guidance._grammar.Join, echo=True):\n",
    "        \"\"\"\n",
    "        A guided prompt. Input is a [Guidance program](https://github.com/guidance-ai/guidance) (`guidance>=0.1.0`) \n",
    "        that specifies constraints and conditions on the output for the prompt.\n",
    "\n",
    "        **Args:**\n",
    "\n",
    "        - *guidance_program*: A Guidance program (`>=0.1.0`) in the form a string or a `guidance._grammar.Join` object\n",
    "        - *echo*: If True, echo highlighted output in Jupyter notebook. Set `echo=False` if running stand-alone script.\n",
    "\n",
    "        **Returns:**\n",
    "\n",
    "        - A dictionary with keys specified in the Guidance program and values containing the model outputs\n",
    "        \"\"\"\n",
    "        model = models.LlamaCpp(self.llm.llm.client, echo=echo) \n",
    "        output = model + guidance_program\n",
    "        return output._variables"
   ]
  },
  {
   "cell_type": "code",
   "execution_count": null,
   "metadata": {},
   "outputs": [
    {
     "data": {
      "text/markdown": [
       "---\n",
       "\n",
       "### Guider.prompt\n",
       "\n",
       ">      Guider.prompt (guidance_program:str)\n",
       "\n",
       "A guided prompt. Input is a [Guidance program](https://github.com/guidance-ai/guidance) (`guidance>=0.1.0`) \n",
       "that specifies constraints and conditions on the output for the prompt.\n",
       "\n",
       "**Args:**\n",
       "\n",
       "- *guidance_program*: A Guidance program (`>=0.1.0`) in the form a string or a `guidance._grammar.Join` object\n",
       "\n",
       "**Returns:**\n",
       "\n",
       "- A dictionary with keys specified in the Guidance program and values containing the model outputs"
      ],
      "text/plain": [
       "---\n",
       "\n",
       "### Guider.prompt\n",
       "\n",
       ">      Guider.prompt (guidance_program:str)\n",
       "\n",
       "A guided prompt. Input is a [Guidance program](https://github.com/guidance-ai/guidance) (`guidance>=0.1.0`) \n",
       "that specifies constraints and conditions on the output for the prompt.\n",
       "\n",
       "**Args:**\n",
       "\n",
       "- *guidance_program*: A Guidance program (`>=0.1.0`) in the form a string or a `guidance._grammar.Join` object\n",
       "\n",
       "**Returns:**\n",
       "\n",
       "- A dictionary with keys specified in the Guidance program and values containing the model outputs"
      ]
     },
     "execution_count": null,
     "metadata": {},
     "output_type": "execute_result"
    }
   ],
   "source": [
    "show_doc(Guider.prompt)"
   ]
  },
  {
   "cell_type": "code",
   "execution_count": null,
   "metadata": {},
   "outputs": [],
   "source": [
    "# | hide\n",
    "import nbdev\n",
    "\n",
    "nbdev.nbdev_export()"
   ]
  },
  {
   "cell_type": "code",
   "execution_count": null,
   "metadata": {},
   "outputs": [],
   "source": []
  },
  {
   "cell_type": "code",
   "execution_count": null,
   "metadata": {},
   "outputs": [],
   "source": []
  }
 ],
 "metadata": {
  "kernelspec": {
   "display_name": "python3",
   "language": "python",
   "name": "python3"
  }
 },
 "nbformat": 4,
 "nbformat_minor": 4
}
