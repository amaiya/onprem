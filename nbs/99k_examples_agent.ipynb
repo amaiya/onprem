{
 "cells": [
  {
   "cell_type": "code",
   "execution_count": null,
   "metadata": {},
   "outputs": [],
   "source": [
    "%reload_ext autoreload\n",
    "%autoreload 2"
   ]
  },
  {
   "cell_type": "markdown",
   "metadata": {},
   "source": [
    "# Agent-Based Task Execution\n",
    "\n",
    "This notebook demonstrates how to use the `Agent` pipeline from **[OnPrem.LLM](https://github.com/amaiya/onprem)** to create autonomous agents that can execute complex tasks using a variety of tools."
   ]
  },
  {
   "cell_type": "markdown",
   "metadata": {},
   "source": [
    "## Setup the LLM and Agent\n",
    "\n",
    "First, we'll set up our LLM instance that will power our agent. We'll first use **GPT-4o-mini**, as cloud LLMs tend to handle agentic workflows faster (and sometimes better), but you can also try any number of tinier local models. (At the end of this notebook, we illustrate this using one of the examples.)"
   ]
  },
  {
   "cell_type": "code",
   "execution_count": null,
   "metadata": {},
   "outputs": [],
   "source": [
    "# | notest\n",
    "\n",
    "from onprem import LLM\n",
    "from onprem.pipelines import Agent\n",
    "llm = LLM('openai/gpt-4o-mini', mute_stream=True) \n",
    "agent = Agent(llm)"
   ]
  },
  {
   "cell_type": "markdown",
   "metadata": {},
   "source": [
    "## Giving the Agent Access to Tools\n",
    "\n",
    "Next, we will give the agent access tools when executing a given task.  Examples of tool types include the ability to do the following:\n",
    "1. perform a web search\n",
    "2. visit a web page\n",
    "3. search your documents stored within a vector store (e.g., agentic RAG)\n",
    "4. accessing Python interpreter\n",
    "5. accessing an MCP server\n",
    "6. executing a custom function that you provide (i.e., implementing your own custom tools)\n",
    "\n",
    "### Example: Using a Custom Tool with Web Search\n",
    "\n",
    "In this example, we will give the agent access to web search and a function that returns today's date to find historical events for the current day."
   ]
  },
  {
   "cell_type": "code",
   "execution_count": null,
   "metadata": {},
   "outputs": [
    {
     "name": "stdout",
     "output_type": "stream",
     "text": [
      "('today', <smolagents.tools.tool.<locals>.SimpleTool object>)\n",
      "('websearch', <smolagents.default_tools.WebSearchTool object>)\n"
     ]
    }
   ],
   "source": [
    "# | notest\n",
    "\n",
    "def today() -> str:\n",
    "    \"\"\"\n",
    "    Gets the current date and time\n",
    "\n",
    "    Returns:\n",
    "        current date and time\n",
    "    \"\"\"\n",
    "    from datetime import datetime\n",
    "    return datetime.today().isoformat()\n",
    "\n",
    "agent.add_function_tool(today)\n",
    "agent.add_websearch_tool()\n",
    "for tup in agent.tools.items():\n",
    "    print(tup)"
   ]
  },
  {
   "cell_type": "code",
   "execution_count": null,
   "metadata": {},
   "outputs": [
    {
     "data": {
      "text/html": [
       "<pre style=\"white-space:pre;overflow-x:auto;line-height:normal;font-family:Menlo,'DejaVu Sans Mono',consolas,'Courier New',monospace\"><span style=\"color: #d4b702; text-decoration-color: #d4b702\">╭──────────────────────────────────────────────────── </span><span style=\"color: #d4b702; text-decoration-color: #d4b702; font-weight: bold\">New run</span><span style=\"color: #d4b702; text-decoration-color: #d4b702\"> ────────────────────────────────────────────────────╮</span>\n",
       "<span style=\"color: #d4b702; text-decoration-color: #d4b702\">│</span>                                                                                                                 <span style=\"color: #d4b702; text-decoration-color: #d4b702\">│</span>\n",
       "<span style=\"color: #d4b702; text-decoration-color: #d4b702\">│</span> <span style=\"font-weight: bold\">Any famous events that happened on today's date?</span>                                                                <span style=\"color: #d4b702; text-decoration-color: #d4b702\">│</span>\n",
       "<span style=\"color: #d4b702; text-decoration-color: #d4b702\">│</span>                                                                                                                 <span style=\"color: #d4b702; text-decoration-color: #d4b702\">│</span>\n",
       "<span style=\"color: #d4b702; text-decoration-color: #d4b702\">╰─ AgentModel - None ─────────────────────────────────────────────────────────────────────────────────────────────╯</span>\n",
       "</pre>\n"
      ],
      "text/plain": [
       "\u001b[38;2;212;183;2m╭─\u001b[0m\u001b[38;2;212;183;2m───────────────────────────────────────────────────\u001b[0m\u001b[38;2;212;183;2m \u001b[0m\u001b[1;38;2;212;183;2mNew run\u001b[0m\u001b[38;2;212;183;2m \u001b[0m\u001b[38;2;212;183;2m───────────────────────────────────────────────────\u001b[0m\u001b[38;2;212;183;2m─╮\u001b[0m\n",
       "\u001b[38;2;212;183;2m│\u001b[0m                                                                                                                 \u001b[38;2;212;183;2m│\u001b[0m\n",
       "\u001b[38;2;212;183;2m│\u001b[0m \u001b[1mAny famous events that happened on today's date?\u001b[0m                                                                \u001b[38;2;212;183;2m│\u001b[0m\n",
       "\u001b[38;2;212;183;2m│\u001b[0m                                                                                                                 \u001b[38;2;212;183;2m│\u001b[0m\n",
       "\u001b[38;2;212;183;2m╰─\u001b[0m\u001b[38;2;212;183;2m AgentModel - None \u001b[0m\u001b[38;2;212;183;2m────────────────────────────────────────────────────────────────────────────────────────────\u001b[0m\u001b[38;2;212;183;2m─╯\u001b[0m\n"
      ]
     },
     "metadata": {},
     "output_type": "display_data"
    },
    {
     "data": {
      "text/html": [
       "<pre style=\"white-space:pre;overflow-x:auto;line-height:normal;font-family:Menlo,'DejaVu Sans Mono',consolas,'Courier New',monospace\"><span style=\"color: #d4b702; text-decoration-color: #d4b702\">━━━━━━━━━━━━━━━━━━━━━━━━━━━━━━━━━━━━━━━━━━━━━━━━━━━━━ </span><span style=\"font-weight: bold\">Step </span><span style=\"color: #008080; text-decoration-color: #008080; font-weight: bold\">1</span><span style=\"color: #d4b702; text-decoration-color: #d4b702\"> ━━━━━━━━━━━━━━━━━━━━━━━━━━━━━━━━━━━━━━━━━━━━━━━━━━━━━━</span>\n",
       "</pre>\n"
      ],
      "text/plain": [
       "\u001b[38;2;212;183;2m━━━━━━━━━━━━━━━━━━━━━━━━━━━━━━━━━━━━━━━━━━━━━━━━━━━━━ \u001b[0m\u001b[1mStep \u001b[0m\u001b[1;36m1\u001b[0m\u001b[38;2;212;183;2m ━━━━━━━━━━━━━━━━━━━━━━━━━━━━━━━━━━━━━━━━━━━━━━━━━━━━━━\u001b[0m\n"
      ]
     },
     "metadata": {},
     "output_type": "display_data"
    },
    {
     "data": {
      "text/html": [
       "<pre style=\"white-space:pre;overflow-x:auto;line-height:normal;font-family:Menlo,'DejaVu Sans Mono',consolas,'Courier New',monospace\">╭─────────────────────────────────────────────────────────────────────────────────────────────────────────────────╮\n",
       "│ Calling tool: 'today' with arguments: {}                                                                        │\n",
       "╰─────────────────────────────────────────────────────────────────────────────────────────────────────────────────╯\n",
       "</pre>\n"
      ],
      "text/plain": [
       "╭─────────────────────────────────────────────────────────────────────────────────────────────────────────────────╮\n",
       "│ Calling tool: 'today' with arguments: {}                                                                        │\n",
       "╰─────────────────────────────────────────────────────────────────────────────────────────────────────────────────╯\n"
      ]
     },
     "metadata": {},
     "output_type": "display_data"
    },
    {
     "data": {
      "text/html": [
       "<pre style=\"white-space:pre;overflow-x:auto;line-height:normal;font-family:Menlo,'DejaVu Sans Mono',consolas,'Courier New',monospace\">Observations: <span style=\"color: #008080; text-decoration-color: #008080; font-weight: bold\">2025</span>-<span style=\"color: #008080; text-decoration-color: #008080; font-weight: bold\">06</span>-24T<span style=\"color: #00ff00; text-decoration-color: #00ff00; font-weight: bold\">14:39:35</span>.<span style=\"color: #008080; text-decoration-color: #008080; font-weight: bold\">557320</span>\n",
       "</pre>\n"
      ],
      "text/plain": [
       "Observations: \u001b[1;36m2025\u001b[0m-\u001b[1;36m06\u001b[0m-24T\u001b[1;92m14:39:35\u001b[0m.\u001b[1;36m557320\u001b[0m\n"
      ]
     },
     "metadata": {},
     "output_type": "display_data"
    },
    {
     "data": {
      "text/html": [
       "<pre style=\"white-space:pre;overflow-x:auto;line-height:normal;font-family:Menlo,'DejaVu Sans Mono',consolas,'Courier New',monospace\"><span style=\"color: #7f7f7f; text-decoration-color: #7f7f7f\">[Step 1: Duration 1.96 seconds]</span>\n",
       "</pre>\n"
      ],
      "text/plain": [
       "\u001b[2m[Step 1: Duration 1.96 seconds]\u001b[0m\n"
      ]
     },
     "metadata": {},
     "output_type": "display_data"
    },
    {
     "data": {
      "text/html": [
       "<pre style=\"white-space:pre;overflow-x:auto;line-height:normal;font-family:Menlo,'DejaVu Sans Mono',consolas,'Courier New',monospace\"><span style=\"color: #d4b702; text-decoration-color: #d4b702\">━━━━━━━━━━━━━━━━━━━━━━━━━━━━━━━━━━━━━━━━━━━━━━━━━━━━━ </span><span style=\"font-weight: bold\">Step </span><span style=\"color: #008080; text-decoration-color: #008080; font-weight: bold\">2</span><span style=\"color: #d4b702; text-decoration-color: #d4b702\"> ━━━━━━━━━━━━━━━━━━━━━━━━━━━━━━━━━━━━━━━━━━━━━━━━━━━━━━</span>\n",
       "</pre>\n"
      ],
      "text/plain": [
       "\u001b[38;2;212;183;2m━━━━━━━━━━━━━━━━━━━━━━━━━━━━━━━━━━━━━━━━━━━━━━━━━━━━━ \u001b[0m\u001b[1mStep \u001b[0m\u001b[1;36m2\u001b[0m\u001b[38;2;212;183;2m ━━━━━━━━━━━━━━━━━━━━━━━━━━━━━━━━━━━━━━━━━━━━━━━━━━━━━━\u001b[0m\n"
      ]
     },
     "metadata": {},
     "output_type": "display_data"
    },
    {
     "data": {
      "text/html": [
       "<pre style=\"white-space:pre;overflow-x:auto;line-height:normal;font-family:Menlo,'DejaVu Sans Mono',consolas,'Courier New',monospace\">╭─────────────────────────────────────────────────────────────────────────────────────────────────────────────────╮\n",
       "│ Calling tool: 'web_search' with arguments: {'query': 'famous events on June 24th'}                              │\n",
       "╰─────────────────────────────────────────────────────────────────────────────────────────────────────────────────╯\n",
       "</pre>\n"
      ],
      "text/plain": [
       "╭─────────────────────────────────────────────────────────────────────────────────────────────────────────────────╮\n",
       "│ Calling tool: 'web_search' with arguments: {'query': 'famous events on June 24th'}                              │\n",
       "╰─────────────────────────────────────────────────────────────────────────────────────────────────────────────────╯\n"
      ]
     },
     "metadata": {},
     "output_type": "display_data"
    },
    {
     "data": {
      "text/html": [
       "<pre style=\"white-space:pre;overflow-x:auto;line-height:normal;font-family:Menlo,'DejaVu Sans Mono',consolas,'Courier New',monospace\">Observations: ## Search Results\n",
       "\n",
       "|Historical Events on June <span style=\"color: #008080; text-decoration-color: #008080; font-weight: bold\">24</span> - On This Day<span style=\"font-weight: bold\">](</span><span style=\"color: #0000ff; text-decoration-color: #0000ff; text-decoration: underline\">https://www.onthisday.com/events/june/24)</span>\n",
       " June in History. How the Qwerty Keyboard was Born June <span style=\"color: #008080; text-decoration-color: #008080; font-weight: bold\">23</span>, <span style=\"color: #008080; text-decoration-color: #008080; font-weight: bold\">1868</span>; The Fatal Dance Manias of Medieval Europe June \n",
       "<span style=\"color: #008080; text-decoration-color: #008080; font-weight: bold\">24</span>, <span style=\"color: #008080; text-decoration-color: #008080; font-weight: bold\">1374</span>; Custer's Last Stand June <span style=\"color: #008080; text-decoration-color: #008080; font-weight: bold\">25</span>, <span style=\"color: #008080; text-decoration-color: #008080; font-weight: bold\">1876</span>; Kennedy's Clarion Call for Freedom June <span style=\"color: #008080; text-decoration-color: #008080; font-weight: bold\">26</span>, <span style=\"color: #008080; text-decoration-color: #008080; font-weight: bold\">1963</span>\n",
       "\n",
       "|June 24th: All Facts &amp; Events That Happened Today In \n",
       "History<span style=\"font-weight: bold\">](</span><span style=\"color: #0000ff; text-decoration-color: #0000ff; text-decoration: underline\">https://facts.net/history/historical-events/june-24th-all-facts-events-that-happened-today-in-history/)</span>\n",
       " On  June  24th , significant events like the start of the War of <span style=\"color: #008080; text-decoration-color: #008080; font-weight: bold\">1812</span> and the birth of famous personalities like \n",
       "Lionel Messi and Mindy Kaling shaped history. June  24th witnessed the birth of legends, scientific breakthroughs, \n",
       "and cultural milestones, making it a day filled with diverse and impactful historical events .\n",
       "\n",
       "|On This Day - What Happened on June <span style=\"color: #008080; text-decoration-color: #008080; font-weight: bold\">24</span> | Britannica<span style=\"font-weight: bold\">](</span><span style=\"color: #0000ff; text-decoration-color: #0000ff; text-decoration: underline\">https://www.britannica.com/on-this-day/June-24)</span>\n",
       " On This Day In History - June <span style=\"color: #008080; text-decoration-color: #008080; font-weight: bold\">24</span>: anniversaries, birthdays, major events , and time capsules. This day's facts in \n",
       "the arts, politics, and sciences.\n",
       "\n",
       "|What Happened on June <span style=\"color: #008080; text-decoration-color: #008080; font-weight: bold\">24</span> - HISTORY<span style=\"font-weight: bold\">](</span><span style=\"color: #0000ff; text-decoration-color: #0000ff; text-decoration: underline\">https://www.history.com/this-day-in-history/June-24)</span>\n",
       " On  June <span style=\"color: #008080; text-decoration-color: #008080; font-weight: bold\">24</span>, <span style=\"color: #008080; text-decoration-color: #008080; font-weight: bold\">1973</span>, an arson fire at the UpStairs Lounge, a popular gathering spot for New Orleans' LGBT community \n",
       "in the French Quarter, results in <span style=\"color: #008080; text-decoration-color: #008080; font-weight: bold\">32</span> deaths and at least <span style=\"color: #008080; text-decoration-color: #008080; font-weight: bold\">15</span> injuries.\n",
       "\n",
       "|June <span style=\"color: #008080; text-decoration-color: #008080; font-weight: bold\">24</span>: Facts &amp; Historical Events On This Day - The Fact Site<span style=\"font-weight: bold\">](</span><span style=\"color: #0000ff; text-decoration-color: #0000ff; text-decoration: underline\">https://www.thefactsite.com/day/june-24/)</span>\n",
       " June  24th is the day we officially celebrate Fairy Day and Pralines Day. Today marks day <span style=\"color: #008080; text-decoration-color: #008080; font-weight: bold\">175</span> of the year, and we \n",
       "have <span style=\"color: #008080; text-decoration-color: #008080; font-weight: bold\">190</span> days remaining until the end of the year. You're about to unearth some incredible historical events that \n",
       "all happened throughout history on June <span style=\"color: #008080; text-decoration-color: #008080; font-weight: bold\">24</span>, including one of the longest sports matches of all time and some major \n",
       "<span style=\"color: #808000; text-decoration-color: #808000\">...</span>\n",
       "\n",
       "|This Day in History on June 24th - History and \n",
       "Headlines<span style=\"font-weight: bold\">](</span><span style=\"color: #0000ff; text-decoration-color: #0000ff; text-decoration: underline\">https://www.historyandheadlines.com/this-day-in-history-on-june-24th/)</span>\n",
       "This article presents a chronological list of notable events that happened on June  24th . For each date below, \n",
       "please click on the date to be taken to an article covering that date's event . Digging Deeper. On June <span style=\"color: #008080; text-decoration-color: #008080; font-weight: bold\">24</span>, <span style=\"color: #008080; text-decoration-color: #008080; font-weight: bold\">109</span> AD,\n",
       "Roman Emperor Trajan opened the aqueduct known as Aqua Traiana, bringing water to Rome from Lake Bracciano <span style=\"color: #008080; text-decoration-color: #008080; font-weight: bold\">25</span> miles\n",
       "away.\n",
       "\n",
       "|Events on June <span style=\"color: #008080; text-decoration-color: #008080; font-weight: bold\">24</span> - Key Moments Throughout History - Take Me Back To<span style=\"font-weight: bold\">](</span><span style=\"color: #0000ff; text-decoration-color: #0000ff; text-decoration: underline\">https://takemeback.to/events/date/June/24)</span>\n",
       "Historical Events  on  June <span style=\"color: #008080; text-decoration-color: #008080; font-weight: bold\">24</span>: Significant Moments in History. Throughout history, certain dates stand out for the\n",
       "remarkable events that unfolded on them. From turning points in politics to cultural breakthroughs, these days \n",
       "often carry significance that echoes through time. Explore the most important events that occurred on June <span style=\"color: #008080; text-decoration-color: #008080; font-weight: bold\">24</span>, \n",
       "revealing <span style=\"color: #808000; text-decoration-color: #808000\">...</span>\n",
       "\n",
       "|June <span style=\"color: #008080; text-decoration-color: #008080; font-weight: bold\">24</span> Events in History - Have Fun With History<span style=\"font-weight: bold\">](</span><span style=\"color: #0000ff; text-decoration-color: #0000ff; text-decoration: underline\">https://www.havefunwithhistory.com/june-24/)</span>\n",
       "This article explores significant historical events that occurred on June  24th , tracing pivotal moments from \n",
       "medieval battles to modern achievements. Starting with the Battle of Bannockburn in <span style=\"color: #008080; text-decoration-color: #008080; font-weight: bold\">1314</span>, which shaped Scottish \n",
       "independence, the narrative moves through milestones in exploration, arts, and technology, concluding with a \n",
       "record-breaking Wimbledon match in <span style=\"color: #008080; text-decoration-color: #008080; font-weight: bold\">2010</span>. Each entry examines the <span style=\"color: #808000; text-decoration-color: #808000\">...</span>\n",
       "\n",
       "|Historical Events on June <span style=\"color: #008080; text-decoration-color: #008080; font-weight: bold\">24</span>, Facts &amp; Special Events On This Day \n",
       "<span style=\"color: #808000; text-decoration-color: #808000\">...</span><span style=\"font-weight: bold\">](</span><span style=\"color: #0000ff; text-decoration-color: #0000ff; text-decoration: underline\">https://www.calendarz.com/on-this-day/events/june/24)</span>\n",
       "Historical events for June <span style=\"color: #008080; text-decoration-color: #008080; font-weight: bold\">24</span>. See what famous , interesting and special events &amp; facts happened throughout history\n",
       "on June <span style=\"color: #008080; text-decoration-color: #008080; font-weight: bold\">24</span> related to American Revolutionary War, Serbia, World War II, Apartheid, Thailand, and many more.\n",
       "\n",
       "|June <span style=\"color: #008080; text-decoration-color: #008080; font-weight: bold\">24</span> Holidays <span style=\"font-weight: bold\">(</span><span style=\"color: #008080; text-decoration-color: #008080; font-weight: bold\">2025</span>/<span style=\"color: #008080; text-decoration-color: #008080; font-weight: bold\">2026</span><span style=\"font-weight: bold\">)</span>, Historical Events, Famous Birthdays<span style=\"font-weight: bold\">](</span><span style=\"color: #0000ff; text-decoration-color: #0000ff; text-decoration: underline\">https://www.holidayscalendar.com/day/june-24/)</span>\n",
       "Historical Events  on  June <span style=\"color: #008080; text-decoration-color: #008080; font-weight: bold\">24</span>. <span style=\"color: #008080; text-decoration-color: #008080; font-weight: bold\">1340</span>: King Edward III and his fleet almost completely destroys the French fleet at \n",
       "the Battle of Sluys during the <span style=\"color: #008080; text-decoration-color: #008080; font-weight: bold\">100</span> Years War. <span style=\"color: #008080; text-decoration-color: #008080; font-weight: bold\">1374</span>: In Aachen, Germany, cases of St. John's Dance mysteriously \n",
       "erupt in the streets of the city. <span style=\"color: #008080; text-decoration-color: #008080; font-weight: bold\">1497</span>: At Newfoundland, John Cabot lands. It's the first European landing at the \n",
       "area since the Vikings landed there previously.\n",
       "</pre>\n"
      ],
      "text/plain": [
       "Observations: ## Search Results\n",
       "\n",
       "|Historical Events on June \u001b[1;36m24\u001b[0m - On This Day\u001b[1m]\u001b[0m\u001b[1m(\u001b[0m\u001b[4;94mhttps://www.onthisday.com/events/june/24\u001b[0m\u001b[4;94m)\u001b[0m\n",
       " June in History. How the Qwerty Keyboard was Born June \u001b[1;36m23\u001b[0m, \u001b[1;36m1868\u001b[0m; The Fatal Dance Manias of Medieval Europe June \n",
       "\u001b[1;36m24\u001b[0m, \u001b[1;36m1374\u001b[0m; Custer's Last Stand June \u001b[1;36m25\u001b[0m, \u001b[1;36m1876\u001b[0m; Kennedy's Clarion Call for Freedom June \u001b[1;36m26\u001b[0m, \u001b[1;36m1963\u001b[0m\n",
       "\n",
       "|June 24th: All Facts & Events That Happened Today In \n",
       "History\u001b[1m]\u001b[0m\u001b[1m(\u001b[0m\u001b[4;94mhttps://facts.net/history/historical-events/june-24th-all-facts-events-that-happened-today-in-history/\u001b[0m\u001b[4;94m)\u001b[0m\n",
       " On  June  24th , significant events like the start of the War of \u001b[1;36m1812\u001b[0m and the birth of famous personalities like \n",
       "Lionel Messi and Mindy Kaling shaped history. June  24th witnessed the birth of legends, scientific breakthroughs, \n",
       "and cultural milestones, making it a day filled with diverse and impactful historical events .\n",
       "\n",
       "|On This Day - What Happened on June \u001b[1;36m24\u001b[0m | Britannica\u001b[1m]\u001b[0m\u001b[1m(\u001b[0m\u001b[4;94mhttps://www.britannica.com/on-this-day/June-24\u001b[0m\u001b[4;94m)\u001b[0m\n",
       " On This Day In History - June \u001b[1;36m24\u001b[0m: anniversaries, birthdays, major events , and time capsules. This day's facts in \n",
       "the arts, politics, and sciences.\n",
       "\n",
       "|What Happened on June \u001b[1;36m24\u001b[0m - HISTORY\u001b[1m]\u001b[0m\u001b[1m(\u001b[0m\u001b[4;94mhttps://www.history.com/this-day-in-history/June-24\u001b[0m\u001b[4;94m)\u001b[0m\n",
       " On  June \u001b[1;36m24\u001b[0m, \u001b[1;36m1973\u001b[0m, an arson fire at the UpStairs Lounge, a popular gathering spot for New Orleans' LGBT community \n",
       "in the French Quarter, results in \u001b[1;36m32\u001b[0m deaths and at least \u001b[1;36m15\u001b[0m injuries.\n",
       "\n",
       "|June \u001b[1;36m24\u001b[0m: Facts & Historical Events On This Day - The Fact Site\u001b[1m]\u001b[0m\u001b[1m(\u001b[0m\u001b[4;94mhttps://www.thefactsite.com/day/june-24/\u001b[0m\u001b[4;94m)\u001b[0m\n",
       " June  24th is the day we officially celebrate Fairy Day and Pralines Day. Today marks day \u001b[1;36m175\u001b[0m of the year, and we \n",
       "have \u001b[1;36m190\u001b[0m days remaining until the end of the year. You're about to unearth some incredible historical events that \n",
       "all happened throughout history on June \u001b[1;36m24\u001b[0m, including one of the longest sports matches of all time and some major \n",
       "\u001b[33m...\u001b[0m\n",
       "\n",
       "|This Day in History on June 24th - History and \n",
       "Headlines\u001b[1m]\u001b[0m\u001b[1m(\u001b[0m\u001b[4;94mhttps://www.historyandheadlines.com/this-day-in-history-on-june-24th/\u001b[0m\u001b[4;94m)\u001b[0m\n",
       "This article presents a chronological list of notable events that happened on June  24th . For each date below, \n",
       "please click on the date to be taken to an article covering that date's event . Digging Deeper. On June \u001b[1;36m24\u001b[0m, \u001b[1;36m109\u001b[0m AD,\n",
       "Roman Emperor Trajan opened the aqueduct known as Aqua Traiana, bringing water to Rome from Lake Bracciano \u001b[1;36m25\u001b[0m miles\n",
       "away.\n",
       "\n",
       "|Events on June \u001b[1;36m24\u001b[0m - Key Moments Throughout History - Take Me Back To\u001b[1m]\u001b[0m\u001b[1m(\u001b[0m\u001b[4;94mhttps://takemeback.to/events/date/June/24\u001b[0m\u001b[4;94m)\u001b[0m\n",
       "Historical Events  on  June \u001b[1;36m24\u001b[0m: Significant Moments in History. Throughout history, certain dates stand out for the\n",
       "remarkable events that unfolded on them. From turning points in politics to cultural breakthroughs, these days \n",
       "often carry significance that echoes through time. Explore the most important events that occurred on June \u001b[1;36m24\u001b[0m, \n",
       "revealing \u001b[33m...\u001b[0m\n",
       "\n",
       "|June \u001b[1;36m24\u001b[0m Events in History - Have Fun With History\u001b[1m]\u001b[0m\u001b[1m(\u001b[0m\u001b[4;94mhttps://www.havefunwithhistory.com/june-24/\u001b[0m\u001b[4;94m)\u001b[0m\n",
       "This article explores significant historical events that occurred on June  24th , tracing pivotal moments from \n",
       "medieval battles to modern achievements. Starting with the Battle of Bannockburn in \u001b[1;36m1314\u001b[0m, which shaped Scottish \n",
       "independence, the narrative moves through milestones in exploration, arts, and technology, concluding with a \n",
       "record-breaking Wimbledon match in \u001b[1;36m2010\u001b[0m. Each entry examines the \u001b[33m...\u001b[0m\n",
       "\n",
       "|Historical Events on June \u001b[1;36m24\u001b[0m, Facts & Special Events On This Day \n",
       "\u001b[33m...\u001b[0m\u001b[1m]\u001b[0m\u001b[1m(\u001b[0m\u001b[4;94mhttps://www.calendarz.com/on-this-day/events/june/24\u001b[0m\u001b[4;94m)\u001b[0m\n",
       "Historical events for June \u001b[1;36m24\u001b[0m. See what famous , interesting and special events & facts happened throughout history\n",
       "on June \u001b[1;36m24\u001b[0m related to American Revolutionary War, Serbia, World War II, Apartheid, Thailand, and many more.\n",
       "\n",
       "|June \u001b[1;36m24\u001b[0m Holidays \u001b[1m(\u001b[0m\u001b[1;36m2025\u001b[0m/\u001b[1;36m2026\u001b[0m\u001b[1m)\u001b[0m, Historical Events, Famous Birthdays\u001b[1m]\u001b[0m\u001b[1m(\u001b[0m\u001b[4;94mhttps://www.holidayscalendar.com/day/june-24/\u001b[0m\u001b[4;94m)\u001b[0m\n",
       "Historical Events  on  June \u001b[1;36m24\u001b[0m. \u001b[1;36m1340\u001b[0m: King Edward III and his fleet almost completely destroys the French fleet at \n",
       "the Battle of Sluys during the \u001b[1;36m100\u001b[0m Years War. \u001b[1;36m1374\u001b[0m: In Aachen, Germany, cases of St. John's Dance mysteriously \n",
       "erupt in the streets of the city. \u001b[1;36m1497\u001b[0m: At Newfoundland, John Cabot lands. It's the first European landing at the \n",
       "area since the Vikings landed there previously.\n"
      ]
     },
     "metadata": {},
     "output_type": "display_data"
    },
    {
     "data": {
      "text/html": [
       "<pre style=\"white-space:pre;overflow-x:auto;line-height:normal;font-family:Menlo,'DejaVu Sans Mono',consolas,'Courier New',monospace\"><span style=\"color: #7f7f7f; text-decoration-color: #7f7f7f\">[Step 2: Duration 2.75 seconds]</span>\n",
       "</pre>\n"
      ],
      "text/plain": [
       "\u001b[2m[Step 2: Duration 2.75 seconds]\u001b[0m\n"
      ]
     },
     "metadata": {},
     "output_type": "display_data"
    },
    {
     "data": {
      "text/html": [
       "<pre style=\"white-space:pre;overflow-x:auto;line-height:normal;font-family:Menlo,'DejaVu Sans Mono',consolas,'Courier New',monospace\"><span style=\"color: #d4b702; text-decoration-color: #d4b702\">━━━━━━━━━━━━━━━━━━━━━━━━━━━━━━━━━━━━━━━━━━━━━━━━━━━━━ </span><span style=\"font-weight: bold\">Step </span><span style=\"color: #008080; text-decoration-color: #008080; font-weight: bold\">3</span><span style=\"color: #d4b702; text-decoration-color: #d4b702\"> ━━━━━━━━━━━━━━━━━━━━━━━━━━━━━━━━━━━━━━━━━━━━━━━━━━━━━━</span>\n",
       "</pre>\n"
      ],
      "text/plain": [
       "\u001b[38;2;212;183;2m━━━━━━━━━━━━━━━━━━━━━━━━━━━━━━━━━━━━━━━━━━━━━━━━━━━━━ \u001b[0m\u001b[1mStep \u001b[0m\u001b[1;36m3\u001b[0m\u001b[38;2;212;183;2m ━━━━━━━━━━━━━━━━━━━━━━━━━━━━━━━━━━━━━━━━━━━━━━━━━━━━━━\u001b[0m\n"
      ]
     },
     "metadata": {},
     "output_type": "display_data"
    },
    {
     "data": {
      "text/html": [
       "<pre style=\"white-space:pre;overflow-x:auto;line-height:normal;font-family:Menlo,'DejaVu Sans Mono',consolas,'Courier New',monospace\">╭─────────────────────────────────────────────────────────────────────────────────────────────────────────────────╮\n",
       "│ Calling tool: 'final_answer' with arguments: {'answer': \"Several historical events occurred on June 24th,       │\n",
       "│ including:\\n1. In 1374, cases of St. John's Dance mysteriously erupted in Aachen, Germany.\\n2. In 1497, John    │\n",
       "│ Cabot landed in Newfoundland, marking the first European landing at the site since the Vikings.\\n3. In 1340,    │\n",
       "│ King Edward III's fleet defeated the French fleet at the Battle of Sluys during the 100 Years War.\\n4. On June  │\n",
       "│ 24, 1973, an arson fire at the UpStairs Lounge in New Orleans' LGBT community resulted in 32 deaths.\"}          │\n",
       "╰─────────────────────────────────────────────────────────────────────────────────────────────────────────────────╯\n",
       "</pre>\n"
      ],
      "text/plain": [
       "╭─────────────────────────────────────────────────────────────────────────────────────────────────────────────────╮\n",
       "│ Calling tool: 'final_answer' with arguments: {'answer': \"Several historical events occurred on June 24th,       │\n",
       "│ including:\\n1. In 1374, cases of St. John's Dance mysteriously erupted in Aachen, Germany.\\n2. In 1497, John    │\n",
       "│ Cabot landed in Newfoundland, marking the first European landing at the site since the Vikings.\\n3. In 1340,    │\n",
       "│ King Edward III's fleet defeated the French fleet at the Battle of Sluys during the 100 Years War.\\n4. On June  │\n",
       "│ 24, 1973, an arson fire at the UpStairs Lounge in New Orleans' LGBT community resulted in 32 deaths.\"}          │\n",
       "╰─────────────────────────────────────────────────────────────────────────────────────────────────────────────────╯\n"
      ]
     },
     "metadata": {},
     "output_type": "display_data"
    },
    {
     "data": {
      "text/html": [
       "<pre style=\"white-space:pre;overflow-x:auto;line-height:normal;font-family:Menlo,'DejaVu Sans Mono',consolas,'Courier New',monospace\"><span style=\"color: #d4b702; text-decoration-color: #d4b702; font-weight: bold\">Final answer: Several historical events occurred on June 24th, including:</span>\n",
       "<span style=\"color: #d4b702; text-decoration-color: #d4b702; font-weight: bold\">1. In 1374, cases of St. John's Dance mysteriously erupted in Aachen, Germany.</span>\n",
       "<span style=\"color: #d4b702; text-decoration-color: #d4b702; font-weight: bold\">2. In 1497, John Cabot landed in Newfoundland, marking the first European landing at the site since the Vikings.</span>\n",
       "<span style=\"color: #d4b702; text-decoration-color: #d4b702; font-weight: bold\">3. In 1340, King Edward III's fleet defeated the French fleet at the Battle of Sluys during the 100 Years War.</span>\n",
       "<span style=\"color: #d4b702; text-decoration-color: #d4b702; font-weight: bold\">4. On June 24, 1973, an arson fire at the UpStairs Lounge in New Orleans' LGBT community resulted in 32 deaths.</span>\n",
       "</pre>\n"
      ],
      "text/plain": [
       "\u001b[1;38;2;212;183;2mFinal answer: Several historical events occurred on June 24th, including:\u001b[0m\n",
       "\u001b[1;38;2;212;183;2m1. In 1374, cases of St. John's Dance mysteriously erupted in Aachen, Germany.\u001b[0m\n",
       "\u001b[1;38;2;212;183;2m2. In 1497, John Cabot landed in Newfoundland, marking the first European landing at the site since the Vikings.\u001b[0m\n",
       "\u001b[1;38;2;212;183;2m3. In 1340, King Edward III's fleet defeated the French fleet at the Battle of Sluys during the 100 Years War.\u001b[0m\n",
       "\u001b[1;38;2;212;183;2m4. On June 24, 1973, an arson fire at the UpStairs Lounge in New Orleans' LGBT community resulted in 32 deaths.\u001b[0m\n"
      ]
     },
     "metadata": {},
     "output_type": "display_data"
    },
    {
     "data": {
      "text/html": [
       "<pre style=\"white-space:pre;overflow-x:auto;line-height:normal;font-family:Menlo,'DejaVu Sans Mono',consolas,'Courier New',monospace\"><span style=\"color: #7f7f7f; text-decoration-color: #7f7f7f\">[Step 3: Duration 3.53 seconds]</span>\n",
       "</pre>\n"
      ],
      "text/plain": [
       "\u001b[2m[Step 3: Duration 3.53 seconds]\u001b[0m\n"
      ]
     },
     "metadata": {},
     "output_type": "display_data"
    }
   ],
   "source": [
    "# |  notest\n",
    "\n",
    "answer = agent.run(\"Any famous events that happened on today's date?\")"
   ]
  },
  {
   "cell_type": "code",
   "execution_count": null,
   "metadata": {},
   "outputs": [
    {
     "data": {
      "text/markdown": [
       "Several historical events occurred on June 24th, including:\n",
       "1. In 1374, cases of St. John's Dance mysteriously erupted in Aachen, Germany.\n",
       "2. In 1497, John Cabot landed in Newfoundland, marking the first European landing at the site since the Vikings.\n",
       "3. In 1340, King Edward III's fleet defeated the French fleet at the Battle of Sluys during the 100 Years War.\n",
       "4. On June 24, 1973, an arson fire at the UpStairs Lounge in New Orleans' LGBT community resulted in 32 deaths."
      ],
      "text/plain": [
       "<IPython.core.display.Markdown object>"
      ]
     },
     "metadata": {},
     "output_type": "display_data"
    }
   ],
   "source": [
    "# |  notest\n",
    "\n",
    "from IPython.display import display, Markdown\n",
    "display(Markdown(answer))"
   ]
  },
  {
   "cell_type": "markdown",
   "metadata": {},
   "source": [
    "### Example: Web Information Extraction\n",
    "\n",
    "In the next example, we will use the Web View tool to extract information from a Web page."
   ]
  },
  {
   "cell_type": "code",
   "execution_count": null,
   "metadata": {},
   "outputs": [
    {
     "data": {
      "text/html": [
       "<pre style=\"white-space:pre;overflow-x:auto;line-height:normal;font-family:Menlo,'DejaVu Sans Mono',consolas,'Courier New',monospace\"><span style=\"color: #d4b702; text-decoration-color: #d4b702\">╭──────────────────────────────────────────────────── </span><span style=\"color: #d4b702; text-decoration-color: #d4b702; font-weight: bold\">New run</span><span style=\"color: #d4b702; text-decoration-color: #d4b702\"> ────────────────────────────────────────────────────╮</span>\n",
       "<span style=\"color: #d4b702; text-decoration-color: #d4b702\">│</span>                                                                                                                 <span style=\"color: #d4b702; text-decoration-color: #d4b702\">│</span>\n",
       "<span style=\"color: #d4b702; text-decoration-color: #d4b702\">│</span> <span style=\"font-weight: bold\">What is the highest level of education of the person listed on this page: https://arun.maiya.net?</span>               <span style=\"color: #d4b702; text-decoration-color: #d4b702\">│</span>\n",
       "<span style=\"color: #d4b702; text-decoration-color: #d4b702\">│</span>                                                                                                                 <span style=\"color: #d4b702; text-decoration-color: #d4b702\">│</span>\n",
       "<span style=\"color: #d4b702; text-decoration-color: #d4b702\">╰─ AgentModel - None ─────────────────────────────────────────────────────────────────────────────────────────────╯</span>\n",
       "</pre>\n"
      ],
      "text/plain": [
       "\u001b[38;2;212;183;2m╭─\u001b[0m\u001b[38;2;212;183;2m───────────────────────────────────────────────────\u001b[0m\u001b[38;2;212;183;2m \u001b[0m\u001b[1;38;2;212;183;2mNew run\u001b[0m\u001b[38;2;212;183;2m \u001b[0m\u001b[38;2;212;183;2m───────────────────────────────────────────────────\u001b[0m\u001b[38;2;212;183;2m─╮\u001b[0m\n",
       "\u001b[38;2;212;183;2m│\u001b[0m                                                                                                                 \u001b[38;2;212;183;2m│\u001b[0m\n",
       "\u001b[38;2;212;183;2m│\u001b[0m \u001b[1mWhat is the highest level of education of the person listed on this page: https://arun.maiya.net?\u001b[0m               \u001b[38;2;212;183;2m│\u001b[0m\n",
       "\u001b[38;2;212;183;2m│\u001b[0m                                                                                                                 \u001b[38;2;212;183;2m│\u001b[0m\n",
       "\u001b[38;2;212;183;2m╰─\u001b[0m\u001b[38;2;212;183;2m AgentModel - None \u001b[0m\u001b[38;2;212;183;2m────────────────────────────────────────────────────────────────────────────────────────────\u001b[0m\u001b[38;2;212;183;2m─╯\u001b[0m\n"
      ]
     },
     "metadata": {},
     "output_type": "display_data"
    },
    {
     "data": {
      "text/html": [
       "<pre style=\"white-space:pre;overflow-x:auto;line-height:normal;font-family:Menlo,'DejaVu Sans Mono',consolas,'Courier New',monospace\"><span style=\"color: #d4b702; text-decoration-color: #d4b702\">━━━━━━━━━━━━━━━━━━━━━━━━━━━━━━━━━━━━━━━━━━━━━━━━━━━━━ </span><span style=\"font-weight: bold\">Step </span><span style=\"color: #008080; text-decoration-color: #008080; font-weight: bold\">1</span><span style=\"color: #d4b702; text-decoration-color: #d4b702\"> ━━━━━━━━━━━━━━━━━━━━━━━━━━━━━━━━━━━━━━━━━━━━━━━━━━━━━━</span>\n",
       "</pre>\n"
      ],
      "text/plain": [
       "\u001b[38;2;212;183;2m━━━━━━━━━━━━━━━━━━━━━━━━━━━━━━━━━━━━━━━━━━━━━━━━━━━━━ \u001b[0m\u001b[1mStep \u001b[0m\u001b[1;36m1\u001b[0m\u001b[38;2;212;183;2m ━━━━━━━━━━━━━━━━━━━━━━━━━━━━━━━━━━━━━━━━━━━━━━━━━━━━━━\u001b[0m\n"
      ]
     },
     "metadata": {},
     "output_type": "display_data"
    },
    {
     "data": {
      "text/html": [
       "<pre style=\"white-space:pre;overflow-x:auto;line-height:normal;font-family:Menlo,'DejaVu Sans Mono',consolas,'Courier New',monospace\">╭─────────────────────────────────────────────────────────────────────────────────────────────────────────────────╮\n",
       "│ Calling tool: 'visit_webpage' with arguments: {'url': 'https://arun.maiya.net'}                                 │\n",
       "╰─────────────────────────────────────────────────────────────────────────────────────────────────────────────────╯\n",
       "</pre>\n"
      ],
      "text/plain": [
       "╭─────────────────────────────────────────────────────────────────────────────────────────────────────────────────╮\n",
       "│ Calling tool: 'visit_webpage' with arguments: {'url': 'https://arun.maiya.net'}                                 │\n",
       "╰─────────────────────────────────────────────────────────────────────────────────────────────────────────────────╯\n"
      ]
     },
     "metadata": {},
     "output_type": "display_data"
    },
    {
     "data": {
      "text/html": [
       "<pre style=\"white-space:pre;overflow-x:auto;line-height:normal;font-family:Menlo,'DejaVu Sans Mono',consolas,'Courier New',monospace\">Observations: Arun S. Maiya\n",
       "\n",
       "Arun S. Maiya   \n",
       "    \n",
       "arun |at<span style=\"font-weight: bold\">]</span> maiya |dot<span style=\"font-weight: bold\">]</span> net  \n",
       "|CV<span style=\"font-weight: bold\">](</span>asmcv.pdf<span style=\"font-weight: bold\">)</span> | |LinkedIn<span style=\"font-weight: bold\">](</span><span style=\"color: #0000ff; text-decoration-color: #0000ff; text-decoration: underline\">https://www.linkedin.com/in/arun-maiya/)</span> | |GitHub<span style=\"font-weight: bold\">](</span><span style=\"color: #0000ff; text-decoration-color: #0000ff; text-decoration: underline\">https://github.com/amaiya)</span>\n",
       "\n",
       "!|<span style=\"font-weight: bold\">](</span>asmpic.jpg<span style=\"font-weight: bold\">)</span>\n",
       "\n",
       "Basics\n",
       "======\n",
       "\n",
       "I am a computer scientist at the |Institute for Defense Analyses <span style=\"font-weight: bold\">(</span>IDA<span style=\"font-weight: bold\">)](</span><span style=\"color: #0000ff; text-decoration-color: #0000ff; text-decoration: underline\">http://www.ida.org),</span> a federally-funded \n",
       "|think tank<span style=\"font-weight: bold\">](</span><span style=\"color: #0000ff; text-decoration-color: #0000ff; text-decoration: underline\">http://en.wikipedia.org/wiki/List_of_federally_funded_research_and_development_centers)</span> in the \n",
       "Washington D.C. metro area. My research broadly focuses on the study of computational methods to *extract meaning \n",
       "from raw data* and includes the areas of natural language processing, machine learning, data mining, computer \n",
       "vision, and network science <span style=\"font-weight: bold\">(</span>e.g., social network analysis<span style=\"font-weight: bold\">)</span>. I like building tools to make machine learning easier \n",
       "to apply in new ways and new areas. Through my work, I have contributed to national-level strategic-planning \n",
       "activities and R&amp;D roadmaps. I completed a Ph.D. in Computer Science at the |Laboratory for Computational \n",
       "Population Biology<span style=\"font-weight: bold\">](</span><span style=\"color: #0000ff; text-decoration-color: #0000ff; text-decoration: underline\">http://compbio.cs.uic.edu/),</span> which is within the |Department of Computer \n",
       "Science<span style=\"font-weight: bold\">](</span><span style=\"color: #0000ff; text-decoration-color: #0000ff; text-decoration: underline\">http://www.cs.uic.edu/)</span> at the\n",
       "|University of Illinois at Chicago <span style=\"font-weight: bold\">(</span>UIC<span style=\"font-weight: bold\">)](</span><span style=\"color: #0000ff; text-decoration-color: #0000ff; text-decoration: underline\">http://www.uic.edu/).</span> My CV is |here<span style=\"font-weight: bold\">](</span><span style=\"color: #0000ff; text-decoration-color: #0000ff; text-decoration: underline\">http://arun.maiya.net/asmcv.pdf).</span>\n",
       "\n",
       "Software\n",
       "========\n",
       "\n",
       "* **|ktrain<span style=\"font-weight: bold\">](</span><span style=\"color: #0000ff; text-decoration-color: #0000ff; text-decoration: underline\">https://github.com/amaiya/ktrain)</span>** is a Python library that makes deep learning and AI more \n",
       "accessible and easier to apply. With support for many different data types including text, images, and graphs, \n",
       "ktrain has been used for a wide range of use cases in industry, government, and academia. Examples include analyses\n",
       "for the U.S. Economic Census, financial crime analytics at Big <span style=\"color: #008080; text-decoration-color: #008080; font-weight: bold\">4</span> accounting firms, intelligence analyses, and \n",
       "|CoronaCentral.ai<span style=\"font-weight: bold\">](</span><span style=\"color: #0000ff; text-decoration-color: #0000ff; text-decoration: underline\">https://coronacentral.ai),</span> a machine-learning-enhanced search engine for coronavirus \n",
       "publications at Stanford University.\n",
       "* **|CausalNLP<span style=\"font-weight: bold\">](</span><span style=\"color: #0000ff; text-decoration-color: #0000ff; text-decoration: underline\">https://github.com/amaiya/causalnlp)</span>** is a practical toolkit for causal inference with text as \n",
       "treatment, outcome, or <span style=\"color: #008000; text-decoration-color: #008000\">\"controlled-for\"</span> variable.\n",
       "* **|IDATA<span style=\"font-weight: bold\">](</span><span style=\"color: #0000ff; text-decoration-color: #0000ff; text-decoration: underline\">https://arxiv.org/abs/1308.2359)</span>** is a suite of software capabilities designed to facilitate search, \n",
       "exploration, and analyses of very large document sets using state-of-the-art machine learning, NLP, and information\n",
       "retrieval. It has been used for a variety of different application in the |DoD<span style=\"font-weight: bold\">](</span><span style=\"color: #0000ff; text-decoration-color: #0000ff; text-decoration: underline\">https://www.defense.gov)</span> including \n",
       "cyber damage assessments, biosurveillance, and policy analyses.\n",
       "* **|OnPrem.LLM<span style=\"font-weight: bold\">](</span><span style=\"color: #0000ff; text-decoration-color: #0000ff; text-decoration: underline\">https://github.com/amaiya/onprem)</span>** is a simple Python package for generative AI that makes it \n",
       "easier to run large language models <span style=\"font-weight: bold\">(</span>LLMs<span style=\"font-weight: bold\">)</span> on your own machine using non-public data.\n",
       "\n",
       "Publications\n",
       "============\n",
       "\n",
       "|**ktrain: A Low-Code Library for Augmented Machine \n",
       "Learning**<span style=\"font-weight: bold\">](</span><span style=\"color: #0000ff; text-decoration-color: #0000ff; text-decoration: underline\">https://www.jmlr.org/papers/volume23/21-1124/21-1124.pdf)</span>  \n",
       "A.S. Maiya  \n",
       " *Journal of Machine Learning Research <span style=\"font-weight: bold\">(</span>JMLR<span style=\"font-weight: bold\">)</span>.*  May <span style=\"color: #008080; text-decoration-color: #008080; font-weight: bold\">2022</span>.\n",
       "\n",
       "|**CausalNLP: A Practical Toolkit for Causal Inference with Text**<span style=\"font-weight: bold\">](</span><span style=\"color: #0000ff; text-decoration-color: #0000ff; text-decoration: underline\">https://arxiv.org/abs/2106.08043)</span>   \n",
       "A.S. Maiya  \n",
       " *arXiv preprint arXiv:<span style=\"color: #008080; text-decoration-color: #008080; font-weight: bold\">2106.08043</span> .*  Jun <span style=\"color: #008080; text-decoration-color: #008080; font-weight: bold\">2021</span>. |arXiv only<span style=\"font-weight: bold\">]</span>\n",
       "\n",
       "|**A Framework for Comparing Groups of Documents**<span style=\"font-weight: bold\">](</span><span style=\"color: #0000ff; text-decoration-color: #0000ff; text-decoration: underline\">https://arxiv.org/abs/1508.05902)</span>  \n",
       "A.S. Maiya  \n",
       " *Proc. <span style=\"color: #008080; text-decoration-color: #008080; font-weight: bold\">2015</span> Conference on Empirical Methods in Natural Language Processing <span style=\"font-weight: bold\">(</span>EMNLP '<span style=\"color: #008080; text-decoration-color: #008080; font-weight: bold\">15</span><span style=\"font-weight: bold\">)</span>.*  Lisbon, Portugal. Sep \n",
       "<span style=\"color: #008080; text-decoration-color: #008080; font-weight: bold\">2015</span>.\n",
       "\n",
       "|**Mining Measured Information from Text**<span style=\"font-weight: bold\">](</span><span style=\"color: #0000ff; text-decoration-color: #0000ff; text-decoration: underline\">https://arxiv.org/abs/1505.01072)</span>  \n",
       "A.S. Maiya, D. Visser, and A. Wan  \n",
       " *Proc. 38th Annual ACM SIGIR Conference <span style=\"font-weight: bold\">(</span>SIGIR '<span style=\"color: #008080; text-decoration-color: #008080; font-weight: bold\">15</span><span style=\"font-weight: bold\">)</span>.* Santiago, Chile. Aug <span style=\"color: #008080; text-decoration-color: #008080; font-weight: bold\">2015</span>.\n",
       "\n",
       "|**Topic Similarity Networks: Visual Analytics for Large Document Sets**<span style=\"font-weight: bold\">](</span><span style=\"color: #0000ff; text-decoration-color: #0000ff; text-decoration: underline\">https://arxiv.org/abs/1409.7591)</span>  \n",
       "A.S. Maiya and R.M. Rolfe  \n",
       " *Proc. <span style=\"color: #008080; text-decoration-color: #008080; font-weight: bold\">2014</span> IEEE International Conference on Big Data <span style=\"font-weight: bold\">(</span>IEEE BigData '<span style=\"color: #008080; text-decoration-color: #008080; font-weight: bold\">14</span><span style=\"font-weight: bold\">)</span>.* Washington, D.C., Oct <span style=\"color: #008080; text-decoration-color: #008080; font-weight: bold\">2014</span>.\n",
       "\n",
       "|**Exploratory Analysis of Highly Heterogeneous Document Collections**<span style=\"font-weight: bold\">](</span><span style=\"color: #0000ff; text-decoration-color: #0000ff; text-decoration: underline\">https://arxiv.org/abs/1308.2359)</span>  \n",
       "A.S. Maiya, J.P. Thompson, F. Loaiza-Lemos, and R.M. Rolfe  \n",
       " *Proc. 19th ACM SIGKDD Conference on Knowledge Discovery and Data Mining <span style=\"font-weight: bold\">(</span>KDD '<span style=\"color: #008080; text-decoration-color: #008080; font-weight: bold\">13</span><span style=\"font-weight: bold\">)</span>.* Chicago, IL, Aug <span style=\"color: #008080; text-decoration-color: #008080; font-weight: bold\">2013</span>.\n",
       "\n",
       "|**Expansion and Decentralized Search in Complex \n",
       "Networks**<span style=\"font-weight: bold\">](</span><span style=\"color: #0000ff; text-decoration-color: #0000ff; text-decoration: underline\">http://link.springer.com/article/10.1007/s10115-012-0596-4)</span>  \n",
       "A.S. Maiya and T.Y. Berger-Wolf  \n",
       " *Journal of Knowledge and Information Systems.* First published online January <span style=\"color: #008080; text-decoration-color: #008080; font-weight: bold\">2013</span>.\n",
       "\n",
       "|**Supervised Learning in the Wild: Text Classification for Critical \n",
       "Technologies**<span style=\"font-weight: bold\">](</span><span style=\"color: #0000ff; text-decoration-color: #0000ff; text-decoration: underline\">https://ieeexplore.ieee.org/document/6415660)</span>  \n",
       "A.S. Maiya, F. Loaiza-Lemos, and R.M. Rolfe  \n",
       " *Proc. IEEE Military Communications Conference <span style=\"font-weight: bold\">(</span>MILCOM '<span style=\"color: #008080; text-decoration-color: #008080; font-weight: bold\">12</span><span style=\"font-weight: bold\">)</span>.* Orlando, FL, Oct <span style=\"color: #008080; text-decoration-color: #008080; font-weight: bold\">2012</span>.\n",
       "\n",
       "|**Benefits of Bias: Towards Better Characterization of Network Sampling**<span style=\"font-weight: bold\">](</span><span style=\"color: #0000ff; text-decoration-color: #0000ff; text-decoration: underline\">https://arxiv.org/abs/1109.3911)</span>  \n",
       "A.S. Maiya and T.Y. Berger-Wolf  \n",
       " *Proc. 17th ACM SIGKDD Conference on Knowledge Discovery and Data Mining <span style=\"font-weight: bold\">(</span>KDD '<span style=\"color: #008080; text-decoration-color: #008080; font-weight: bold\">11</span><span style=\"font-weight: bold\">)</span>.* San Diego, CA, Aug <span style=\"color: #008080; text-decoration-color: #008080; font-weight: bold\">2011</span>.\n",
       "\n",
       "|**Aggression, Grooming, and Group-level Cooperation in White-faced Capuchins: Insights from Social \n",
       "Networks**<span style=\"font-weight: bold\">](</span><span style=\"color: #0000ff; text-decoration-color: #0000ff; text-decoration: underline\">http://onlinelibrary.wiley.com/doi/10.1002/ajp.20959/abstract)</span>  \n",
       "M.C. Crofoot, D.I. Rubenstein, A.S. Maiya, and T.Y. Berger-Wolf  \n",
       " *American Journal of Primatology.* First published online May <span style=\"color: #008080; text-decoration-color: #008080; font-weight: bold\">2011</span>.\n",
       "\n",
       "|**Sampling and Inference in Complex Networks**<span style=\"font-weight: bold\">](</span><span style=\"color: #0000ff; text-decoration-color: #0000ff; text-decoration: underline\">https://dl.acm.org/doi/abs/10.5555/2395432)</span>  \n",
       "A.S. Maiya  \n",
       " *Ph.D. Dissertation, University of Illinois at Chicago <span style=\"font-weight: bold\">(</span>UIC<span style=\"font-weight: bold\">)</span>.* Chicago, IL, Apr <span style=\"color: #008080; text-decoration-color: #008080; font-weight: bold\">2011</span>.\n",
       "\n",
       "|**Expansion and Search in Networks**<span style=\"font-weight: bold\">](</span><span style=\"color: #0000ff; text-decoration-color: #0000ff; text-decoration: underline\">https://arxiv.org/abs/1009.4383)</span>  \n",
       "A.S. Maiya and T.Y. Berger-Wolf  \n",
       " *Proc. 19th ACM Intl. Conference on Information and Knowledge Management <span style=\"font-weight: bold\">(</span>CIKM '<span style=\"color: #008080; text-decoration-color: #008080; font-weight: bold\">10</span><span style=\"font-weight: bold\">)</span>.* Toronto, Canada, Oct <span style=\"color: #008080; text-decoration-color: #008080; font-weight: bold\">2010</span>.\n",
       "\n",
       "|**Online Sampling of High Centrality Individuals in Social \n",
       "Networks**<span style=\"font-weight: bold\">](</span><span style=\"color: #0000ff; text-decoration-color: #0000ff; text-decoration: underline\">https://link.springer.com/chapter/10.1007/978-3-642-13657-3_12)</span>  \n",
       "A.S. Maiya and T.Y. Berger-Wolf  \n",
       " *Proc. 14th Pacific-Asia Conference on Knowledge Discovery and Data Mining <span style=\"font-weight: bold\">(</span>PAKDD '<span style=\"color: #008080; text-decoration-color: #008080; font-weight: bold\">10</span><span style=\"font-weight: bold\">)</span>.* Hyderabad, India, Jun \n",
       "<span style=\"color: #008080; text-decoration-color: #008080; font-weight: bold\">2010</span>.\n",
       "\n",
       "|**Sampling Community Structure**<span style=\"font-weight: bold\">](</span><span style=\"color: #0000ff; text-decoration-color: #0000ff; text-decoration: underline\">https://dl.acm.org/doi/10.1145/1772690.1772762)</span>  \n",
       "A.S. Maiya and T.Y. Berger-Wolf  \n",
       " *Proc. 19th ACM Intl. Conference on the World Wide Web <span style=\"font-weight: bold\">(</span>WWW '<span style=\"color: #008080; text-decoration-color: #008080; font-weight: bold\">10</span><span style=\"font-weight: bold\">)</span>.* Raleigh, NC, Apr <span style=\"color: #008080; text-decoration-color: #008080; font-weight: bold\">2010</span>.\n",
       "\n",
       "|**Inferring the Maximum Likelihood Hierarchy in Social Networks**<span style=\"font-weight: bold\">](</span><span style=\"color: #0000ff; text-decoration-color: #0000ff; text-decoration: underline\">https://ieeexplore.ieee.org/document/5284124)</span>  \n",
       "A.S. Maiya and T.Y. Berger-Wolf  \n",
       " *Proc. 12th IEEE Intl. Conference on Computational Science and Engineering <span style=\"font-weight: bold\">(</span>CSE '<span style=\"color: #008080; text-decoration-color: #008080; font-weight: bold\">09</span><span style=\"font-weight: bold\">)</span>.* Vancouver, Canada, Aug \n",
       "<span style=\"color: #008080; text-decoration-color: #008080; font-weight: bold\">2009</span>.\n",
       "\n",
       "|**The Impact of Structural Changes on Predictions of Diffusion in \n",
       "Networks**<span style=\"font-weight: bold\">](</span><span style=\"color: #0000ff; text-decoration-color: #0000ff; text-decoration: underline\">https://www.computer.org/csdl/proceedings-article/icdmw/2008/3503a939/12OmNBU1jIK)</span>  \n",
       "M. Lahiri, A.S. Maiya, R. Sulo, Habiba and T.Y. Berger-Wolf  \n",
       "*ICDM '<span style=\"color: #008080; text-decoration-color: #008080; font-weight: bold\">08</span> Workshop on Analysis of Dynamic Networks*. Pisa, Italy, Dec <span style=\"color: #008080; text-decoration-color: #008080; font-weight: bold\">2008</span>.\n",
       "\n",
       "Honors and Awards\n",
       "=================\n",
       "\n",
       "**Goodpaster Award for Excellence in Research**, Institute for Defense Analyses, <span style=\"color: #008080; text-decoration-color: #008080; font-weight: bold\">2021</span> ||News \n",
       "Release<span style=\"font-weight: bold\">](</span><span style=\"color: #0000ff; text-decoration-color: #0000ff; text-decoration: underline\">https://www.ida.org/research-and-publications/publications/all/a/ar/arun-maiya-receives-2021-goodpaster-aw</span>\n",
       "<span style=\"color: #0000ff; text-decoration-color: #0000ff; text-decoration: underline\">ard-for-excellence-in-research)</span><span style=\"font-weight: bold\">]</span>\n",
       "\n",
       "&gt; *This prize is named for Gen. Andrew J. Goodpaster <span style=\"font-weight: bold\">(</span>USA, retired<span style=\"font-weight: bold\">)</span> and is awarded to an individual demonstrating \n",
       "<span style=\"color: #008000; text-decoration-color: #008000\">\"research excellence, exceptional analytic achievement and intellectual leadership.\"</span>*\n",
       "\n",
       "**Welch Award for Best External Research**, Institute for Defense Analyses, <span style=\"color: #008080; text-decoration-color: #008080; font-weight: bold\">2016</span>\n",
       "\n",
       "&gt; *Named in honor of General Larry D. Welch <span style=\"font-weight: bold\">(</span>USAF, ret.<span style=\"font-weight: bold\">)</span>, this award <span style=\"color: #008000; text-decoration-color: #008000\">\"honors individuals whose external research </span>\n",
       "<span style=\"color: #008000; text-decoration-color: #008000\">publications exemplify General Welch's high standards of analytic excellence and relevance.\"</span>*\n",
       "\n",
       "**AFEI Award for Excellence in Enterprise Information**, NDIA <span style=\"font-weight: bold\">(</span>formerly Association for Enterprise Information<span style=\"font-weight: bold\">)</span>, \n",
       "<span style=\"color: #008080; text-decoration-color: #008080; font-weight: bold\">2015</span>\n",
       "\n",
       "&gt; *This award is to <span style=\"color: #008000; text-decoration-color: #008000\">\"recognize and reward the contributions and achievements of project teams that exemplify </span>\n",
       "<span style=\"color: #008000; text-decoration-color: #008000\">excellence in achieving integrated enterprises. Winning teams are models of the best applications of technology and</span>\n",
       "<span style=\"color: #008000; text-decoration-color: #008000\">leadership to improve enterprise performance.\"</span>*\n",
       "\n",
       "&lt;script\n",
       "</pre>\n"
      ],
      "text/plain": [
       "Observations: Arun S. Maiya\n",
       "\n",
       "Arun S. Maiya   \n",
       "    \n",
       "arun |at\u001b[1m]\u001b[0m maiya |dot\u001b[1m]\u001b[0m net  \n",
       "|CV\u001b[1m]\u001b[0m\u001b[1m(\u001b[0masmcv.pdf\u001b[1m)\u001b[0m | |LinkedIn\u001b[1m]\u001b[0m\u001b[1m(\u001b[0m\u001b[4;94mhttps://www.linkedin.com/in/arun-maiya/\u001b[0m\u001b[4;94m)\u001b[0m | |GitHub\u001b[1m]\u001b[0m\u001b[1m(\u001b[0m\u001b[4;94mhttps://github.com/amaiya\u001b[0m\u001b[4;94m)\u001b[0m\n",
       "\n",
       "!|\u001b[1m]\u001b[0m\u001b[1m(\u001b[0masmpic.jpg\u001b[1m)\u001b[0m\n",
       "\n",
       "Basics\n",
       "======\n",
       "\n",
       "I am a computer scientist at the |Institute for Defense Analyses \u001b[1m(\u001b[0mIDA\u001b[1m)\u001b[0m\u001b[1m]\u001b[0m\u001b[1m(\u001b[0m\u001b[4;94mhttp://www.ida.org\u001b[0m\u001b[4;94m)\u001b[0m\u001b[4;94m,\u001b[0m a federally-funded \n",
       "|think tank\u001b[1m]\u001b[0m\u001b[1m(\u001b[0m\u001b[4;94mhttp://en.wikipedia.org/wiki/List_of_federally_funded_research_and_development_centers\u001b[0m\u001b[4;94m)\u001b[0m in the \n",
       "Washington D.C. metro area. My research broadly focuses on the study of computational methods to *extract meaning \n",
       "from raw data* and includes the areas of natural language processing, machine learning, data mining, computer \n",
       "vision, and network science \u001b[1m(\u001b[0me.g., social network analysis\u001b[1m)\u001b[0m. I like building tools to make machine learning easier \n",
       "to apply in new ways and new areas. Through my work, I have contributed to national-level strategic-planning \n",
       "activities and R&D roadmaps. I completed a Ph.D. in Computer Science at the |Laboratory for Computational \n",
       "Population Biology\u001b[1m]\u001b[0m\u001b[1m(\u001b[0m\u001b[4;94mhttp://compbio.cs.uic.edu/\u001b[0m\u001b[4;94m)\u001b[0m\u001b[4;94m,\u001b[0m which is within the |Department of Computer \n",
       "Science\u001b[1m]\u001b[0m\u001b[1m(\u001b[0m\u001b[4;94mhttp://www.cs.uic.edu/\u001b[0m\u001b[4;94m)\u001b[0m at the\n",
       "|University of Illinois at Chicago \u001b[1m(\u001b[0mUIC\u001b[1m)\u001b[0m\u001b[1m]\u001b[0m\u001b[1m(\u001b[0m\u001b[4;94mhttp://www.uic.edu/\u001b[0m\u001b[4;94m)\u001b[0m\u001b[4;94m.\u001b[0m My CV is |here\u001b[1m]\u001b[0m\u001b[1m(\u001b[0m\u001b[4;94mhttp://arun.maiya.net/asmcv.pdf\u001b[0m\u001b[4;94m)\u001b[0m\u001b[4;94m.\u001b[0m\n",
       "\n",
       "Software\n",
       "========\n",
       "\n",
       "* **|ktrain\u001b[1m]\u001b[0m\u001b[1m(\u001b[0m\u001b[4;94mhttps://github.com/amaiya/ktrain\u001b[0m\u001b[4;94m)\u001b[0m** is a Python library that makes deep learning and AI more \n",
       "accessible and easier to apply. With support for many different data types including text, images, and graphs, \n",
       "ktrain has been used for a wide range of use cases in industry, government, and academia. Examples include analyses\n",
       "for the U.S. Economic Census, financial crime analytics at Big \u001b[1;36m4\u001b[0m accounting firms, intelligence analyses, and \n",
       "|CoronaCentral.ai\u001b[1m]\u001b[0m\u001b[1m(\u001b[0m\u001b[4;94mhttps://coronacentral.ai\u001b[0m\u001b[4;94m)\u001b[0m\u001b[4;94m,\u001b[0m a machine-learning-enhanced search engine for coronavirus \n",
       "publications at Stanford University.\n",
       "* **|CausalNLP\u001b[1m]\u001b[0m\u001b[1m(\u001b[0m\u001b[4;94mhttps://github.com/amaiya/causalnlp\u001b[0m\u001b[4;94m)\u001b[0m** is a practical toolkit for causal inference with text as \n",
       "treatment, outcome, or \u001b[32m\"controlled-for\"\u001b[0m variable.\n",
       "* **|IDATA\u001b[1m]\u001b[0m\u001b[1m(\u001b[0m\u001b[4;94mhttps://arxiv.org/abs/1308.2359\u001b[0m\u001b[4;94m)\u001b[0m** is a suite of software capabilities designed to facilitate search, \n",
       "exploration, and analyses of very large document sets using state-of-the-art machine learning, NLP, and information\n",
       "retrieval. It has been used for a variety of different application in the |DoD\u001b[1m]\u001b[0m\u001b[1m(\u001b[0m\u001b[4;94mhttps://www.defense.gov\u001b[0m\u001b[4;94m)\u001b[0m including \n",
       "cyber damage assessments, biosurveillance, and policy analyses.\n",
       "* **|OnPrem.LLM\u001b[1m]\u001b[0m\u001b[1m(\u001b[0m\u001b[4;94mhttps://github.com/amaiya/onprem\u001b[0m\u001b[4;94m)\u001b[0m** is a simple Python package for generative AI that makes it \n",
       "easier to run large language models \u001b[1m(\u001b[0mLLMs\u001b[1m)\u001b[0m on your own machine using non-public data.\n",
       "\n",
       "Publications\n",
       "============\n",
       "\n",
       "|**ktrain: A Low-Code Library for Augmented Machine \n",
       "Learning**\u001b[1m]\u001b[0m\u001b[1m(\u001b[0m\u001b[4;94mhttps://www.jmlr.org/papers/volume23/21-1124/21-1124.pdf\u001b[0m\u001b[4;94m)\u001b[0m  \n",
       "A.S. Maiya  \n",
       " *Journal of Machine Learning Research \u001b[1m(\u001b[0mJMLR\u001b[1m)\u001b[0m.*  May \u001b[1;36m2022\u001b[0m.\n",
       "\n",
       "|**CausalNLP: A Practical Toolkit for Causal Inference with Text**\u001b[1m]\u001b[0m\u001b[1m(\u001b[0m\u001b[4;94mhttps://arxiv.org/abs/2106.08043\u001b[0m\u001b[4;94m)\u001b[0m   \n",
       "A.S. Maiya  \n",
       " *arXiv preprint arXiv:\u001b[1;36m2106.08043\u001b[0m .*  Jun \u001b[1;36m2021\u001b[0m. |arXiv only\u001b[1m]\u001b[0m\n",
       "\n",
       "|**A Framework for Comparing Groups of Documents**\u001b[1m]\u001b[0m\u001b[1m(\u001b[0m\u001b[4;94mhttps://arxiv.org/abs/1508.05902\u001b[0m\u001b[4;94m)\u001b[0m  \n",
       "A.S. Maiya  \n",
       " *Proc. \u001b[1;36m2015\u001b[0m Conference on Empirical Methods in Natural Language Processing \u001b[1m(\u001b[0mEMNLP '\u001b[1;36m15\u001b[0m\u001b[1m)\u001b[0m.*  Lisbon, Portugal. Sep \n",
       "\u001b[1;36m2015\u001b[0m.\n",
       "\n",
       "|**Mining Measured Information from Text**\u001b[1m]\u001b[0m\u001b[1m(\u001b[0m\u001b[4;94mhttps://arxiv.org/abs/1505.01072\u001b[0m\u001b[4;94m)\u001b[0m  \n",
       "A.S. Maiya, D. Visser, and A. Wan  \n",
       " *Proc. 38th Annual ACM SIGIR Conference \u001b[1m(\u001b[0mSIGIR '\u001b[1;36m15\u001b[0m\u001b[1m)\u001b[0m.* Santiago, Chile. Aug \u001b[1;36m2015\u001b[0m.\n",
       "\n",
       "|**Topic Similarity Networks: Visual Analytics for Large Document Sets**\u001b[1m]\u001b[0m\u001b[1m(\u001b[0m\u001b[4;94mhttps://arxiv.org/abs/1409.7591\u001b[0m\u001b[4;94m)\u001b[0m  \n",
       "A.S. Maiya and R.M. Rolfe  \n",
       " *Proc. \u001b[1;36m2014\u001b[0m IEEE International Conference on Big Data \u001b[1m(\u001b[0mIEEE BigData '\u001b[1;36m14\u001b[0m\u001b[1m)\u001b[0m.* Washington, D.C., Oct \u001b[1;36m2014\u001b[0m.\n",
       "\n",
       "|**Exploratory Analysis of Highly Heterogeneous Document Collections**\u001b[1m]\u001b[0m\u001b[1m(\u001b[0m\u001b[4;94mhttps://arxiv.org/abs/1308.2359\u001b[0m\u001b[4;94m)\u001b[0m  \n",
       "A.S. Maiya, J.P. Thompson, F. Loaiza-Lemos, and R.M. Rolfe  \n",
       " *Proc. 19th ACM SIGKDD Conference on Knowledge Discovery and Data Mining \u001b[1m(\u001b[0mKDD '\u001b[1;36m13\u001b[0m\u001b[1m)\u001b[0m.* Chicago, IL, Aug \u001b[1;36m2013\u001b[0m.\n",
       "\n",
       "|**Expansion and Decentralized Search in Complex \n",
       "Networks**\u001b[1m]\u001b[0m\u001b[1m(\u001b[0m\u001b[4;94mhttp://link.springer.com/article/10.1007/s10115-012-0596-4\u001b[0m\u001b[4;94m)\u001b[0m  \n",
       "A.S. Maiya and T.Y. Berger-Wolf  \n",
       " *Journal of Knowledge and Information Systems.* First published online January \u001b[1;36m2013\u001b[0m.\n",
       "\n",
       "|**Supervised Learning in the Wild: Text Classification for Critical \n",
       "Technologies**\u001b[1m]\u001b[0m\u001b[1m(\u001b[0m\u001b[4;94mhttps://ieeexplore.ieee.org/document/6415660\u001b[0m\u001b[4;94m)\u001b[0m  \n",
       "A.S. Maiya, F. Loaiza-Lemos, and R.M. Rolfe  \n",
       " *Proc. IEEE Military Communications Conference \u001b[1m(\u001b[0mMILCOM '\u001b[1;36m12\u001b[0m\u001b[1m)\u001b[0m.* Orlando, FL, Oct \u001b[1;36m2012\u001b[0m.\n",
       "\n",
       "|**Benefits of Bias: Towards Better Characterization of Network Sampling**\u001b[1m]\u001b[0m\u001b[1m(\u001b[0m\u001b[4;94mhttps://arxiv.org/abs/1109.3911\u001b[0m\u001b[4;94m)\u001b[0m  \n",
       "A.S. Maiya and T.Y. Berger-Wolf  \n",
       " *Proc. 17th ACM SIGKDD Conference on Knowledge Discovery and Data Mining \u001b[1m(\u001b[0mKDD '\u001b[1;36m11\u001b[0m\u001b[1m)\u001b[0m.* San Diego, CA, Aug \u001b[1;36m2011\u001b[0m.\n",
       "\n",
       "|**Aggression, Grooming, and Group-level Cooperation in White-faced Capuchins: Insights from Social \n",
       "Networks**\u001b[1m]\u001b[0m\u001b[1m(\u001b[0m\u001b[4;94mhttp://onlinelibrary.wiley.com/doi/10.1002/ajp.20959/abstract\u001b[0m\u001b[4;94m)\u001b[0m  \n",
       "M.C. Crofoot, D.I. Rubenstein, A.S. Maiya, and T.Y. Berger-Wolf  \n",
       " *American Journal of Primatology.* First published online May \u001b[1;36m2011\u001b[0m.\n",
       "\n",
       "|**Sampling and Inference in Complex Networks**\u001b[1m]\u001b[0m\u001b[1m(\u001b[0m\u001b[4;94mhttps://dl.acm.org/doi/abs/10.5555/2395432\u001b[0m\u001b[4;94m)\u001b[0m  \n",
       "A.S. Maiya  \n",
       " *Ph.D. Dissertation, University of Illinois at Chicago \u001b[1m(\u001b[0mUIC\u001b[1m)\u001b[0m.* Chicago, IL, Apr \u001b[1;36m2011\u001b[0m.\n",
       "\n",
       "|**Expansion and Search in Networks**\u001b[1m]\u001b[0m\u001b[1m(\u001b[0m\u001b[4;94mhttps://arxiv.org/abs/1009.4383\u001b[0m\u001b[4;94m)\u001b[0m  \n",
       "A.S. Maiya and T.Y. Berger-Wolf  \n",
       " *Proc. 19th ACM Intl. Conference on Information and Knowledge Management \u001b[1m(\u001b[0mCIKM '\u001b[1;36m10\u001b[0m\u001b[1m)\u001b[0m.* Toronto, Canada, Oct \u001b[1;36m2010\u001b[0m.\n",
       "\n",
       "|**Online Sampling of High Centrality Individuals in Social \n",
       "Networks**\u001b[1m]\u001b[0m\u001b[1m(\u001b[0m\u001b[4;94mhttps://link.springer.com/chapter/10.1007/978-3-642-13657-3_12\u001b[0m\u001b[4;94m)\u001b[0m  \n",
       "A.S. Maiya and T.Y. Berger-Wolf  \n",
       " *Proc. 14th Pacific-Asia Conference on Knowledge Discovery and Data Mining \u001b[1m(\u001b[0mPAKDD '\u001b[1;36m10\u001b[0m\u001b[1m)\u001b[0m.* Hyderabad, India, Jun \n",
       "\u001b[1;36m2010\u001b[0m.\n",
       "\n",
       "|**Sampling Community Structure**\u001b[1m]\u001b[0m\u001b[1m(\u001b[0m\u001b[4;94mhttps://dl.acm.org/doi/10.1145/1772690.1772762\u001b[0m\u001b[4;94m)\u001b[0m  \n",
       "A.S. Maiya and T.Y. Berger-Wolf  \n",
       " *Proc. 19th ACM Intl. Conference on the World Wide Web \u001b[1m(\u001b[0mWWW '\u001b[1;36m10\u001b[0m\u001b[1m)\u001b[0m.* Raleigh, NC, Apr \u001b[1;36m2010\u001b[0m.\n",
       "\n",
       "|**Inferring the Maximum Likelihood Hierarchy in Social Networks**\u001b[1m]\u001b[0m\u001b[1m(\u001b[0m\u001b[4;94mhttps://ieeexplore.ieee.org/document/5284124\u001b[0m\u001b[4;94m)\u001b[0m  \n",
       "A.S. Maiya and T.Y. Berger-Wolf  \n",
       " *Proc. 12th IEEE Intl. Conference on Computational Science and Engineering \u001b[1m(\u001b[0mCSE '\u001b[1;36m09\u001b[0m\u001b[1m)\u001b[0m.* Vancouver, Canada, Aug \n",
       "\u001b[1;36m2009\u001b[0m.\n",
       "\n",
       "|**The Impact of Structural Changes on Predictions of Diffusion in \n",
       "Networks**\u001b[1m]\u001b[0m\u001b[1m(\u001b[0m\u001b[4;94mhttps://www.computer.org/csdl/proceedings-article/icdmw/2008/3503a939/12OmNBU1jIK\u001b[0m\u001b[4;94m)\u001b[0m  \n",
       "M. Lahiri, A.S. Maiya, R. Sulo, Habiba and T.Y. Berger-Wolf  \n",
       "*ICDM '\u001b[1;36m08\u001b[0m Workshop on Analysis of Dynamic Networks*. Pisa, Italy, Dec \u001b[1;36m2008\u001b[0m.\n",
       "\n",
       "Honors and Awards\n",
       "=================\n",
       "\n",
       "**Goodpaster Award for Excellence in Research**, Institute for Defense Analyses, \u001b[1;36m2021\u001b[0m ||News \n",
       "Release\u001b[1m]\u001b[0m\u001b[1m(\u001b[0m\u001b[4;94mhttps://www.ida.org/research-and-publications/publications/all/a/ar/arun-maiya-receives-2021-goodpaster-aw\u001b[0m\n",
       "\u001b[4;94mard-for-excellence-in-research\u001b[0m\u001b[4;94m)\u001b[0m\u001b[1m]\u001b[0m\n",
       "\n",
       "> *This prize is named for Gen. Andrew J. Goodpaster \u001b[1m(\u001b[0mUSA, retired\u001b[1m)\u001b[0m and is awarded to an individual demonstrating \n",
       "\u001b[32m\"research excellence, exceptional analytic achievement and intellectual leadership.\"\u001b[0m*\n",
       "\n",
       "**Welch Award for Best External Research**, Institute for Defense Analyses, \u001b[1;36m2016\u001b[0m\n",
       "\n",
       "> *Named in honor of General Larry D. Welch \u001b[1m(\u001b[0mUSAF, ret.\u001b[1m)\u001b[0m, this award \u001b[32m\"honors individuals whose external research \u001b[0m\n",
       "\u001b[32mpublications exemplify General Welch's high standards of analytic excellence and relevance.\"\u001b[0m*\n",
       "\n",
       "**AFEI Award for Excellence in Enterprise Information**, NDIA \u001b[1m(\u001b[0mformerly Association for Enterprise Information\u001b[1m)\u001b[0m, \n",
       "\u001b[1;36m2015\u001b[0m\n",
       "\n",
       "> *This award is to \u001b[32m\"recognize and reward the contributions and achievements of project teams that exemplify \u001b[0m\n",
       "\u001b[32mexcellence in achieving integrated enterprises. Winning teams are models of the best applications of technology and\u001b[0m\n",
       "\u001b[32mleadership to improve enterprise performance.\"\u001b[0m*\n",
       "\n",
       "<script\n"
      ]
     },
     "metadata": {},
     "output_type": "display_data"
    },
    {
     "data": {
      "text/html": [
       "<pre style=\"white-space:pre;overflow-x:auto;line-height:normal;font-family:Menlo,'DejaVu Sans Mono',consolas,'Courier New',monospace\"><span style=\"color: #7f7f7f; text-decoration-color: #7f7f7f\">[Step 1: Duration 1.50 seconds]</span>\n",
       "</pre>\n"
      ],
      "text/plain": [
       "\u001b[2m[Step 1: Duration 1.50 seconds]\u001b[0m\n"
      ]
     },
     "metadata": {},
     "output_type": "display_data"
    },
    {
     "data": {
      "text/html": [
       "<pre style=\"white-space:pre;overflow-x:auto;line-height:normal;font-family:Menlo,'DejaVu Sans Mono',consolas,'Courier New',monospace\"><span style=\"color: #d4b702; text-decoration-color: #d4b702\">━━━━━━━━━━━━━━━━━━━━━━━━━━━━━━━━━━━━━━━━━━━━━━━━━━━━━ </span><span style=\"font-weight: bold\">Step </span><span style=\"color: #008080; text-decoration-color: #008080; font-weight: bold\">2</span><span style=\"color: #d4b702; text-decoration-color: #d4b702\"> ━━━━━━━━━━━━━━━━━━━━━━━━━━━━━━━━━━━━━━━━━━━━━━━━━━━━━━</span>\n",
       "</pre>\n"
      ],
      "text/plain": [
       "\u001b[38;2;212;183;2m━━━━━━━━━━━━━━━━━━━━━━━━━━━━━━━━━━━━━━━━━━━━━━━━━━━━━ \u001b[0m\u001b[1mStep \u001b[0m\u001b[1;36m2\u001b[0m\u001b[38;2;212;183;2m ━━━━━━━━━━━━━━━━━━━━━━━━━━━━━━━━━━━━━━━━━━━━━━━━━━━━━━\u001b[0m\n"
      ]
     },
     "metadata": {},
     "output_type": "display_data"
    },
    {
     "data": {
      "text/html": [
       "<pre style=\"white-space:pre;overflow-x:auto;line-height:normal;font-family:Menlo,'DejaVu Sans Mono',consolas,'Courier New',monospace\">╭─────────────────────────────────────────────────────────────────────────────────────────────────────────────────╮\n",
       "│ Calling tool: 'final_answer' with arguments: {'answer': 'Ph.D. in Computer Science'}                            │\n",
       "╰─────────────────────────────────────────────────────────────────────────────────────────────────────────────────╯\n",
       "</pre>\n"
      ],
      "text/plain": [
       "╭─────────────────────────────────────────────────────────────────────────────────────────────────────────────────╮\n",
       "│ Calling tool: 'final_answer' with arguments: {'answer': 'Ph.D. in Computer Science'}                            │\n",
       "╰─────────────────────────────────────────────────────────────────────────────────────────────────────────────────╯\n"
      ]
     },
     "metadata": {},
     "output_type": "display_data"
    },
    {
     "data": {
      "text/html": [
       "<pre style=\"white-space:pre;overflow-x:auto;line-height:normal;font-family:Menlo,'DejaVu Sans Mono',consolas,'Courier New',monospace\"><span style=\"color: #d4b702; text-decoration-color: #d4b702; font-weight: bold\">Final answer: Ph.D. in Computer Science</span>\n",
       "</pre>\n"
      ],
      "text/plain": [
       "\u001b[1;38;2;212;183;2mFinal answer: Ph.D. in Computer Science\u001b[0m\n"
      ]
     },
     "metadata": {},
     "output_type": "display_data"
    },
    {
     "data": {
      "text/html": [
       "<pre style=\"white-space:pre;overflow-x:auto;line-height:normal;font-family:Menlo,'DejaVu Sans Mono',consolas,'Courier New',monospace\"><span style=\"color: #7f7f7f; text-decoration-color: #7f7f7f\">[Step 2: Duration 1.43 seconds]</span>\n",
       "</pre>\n"
      ],
      "text/plain": [
       "\u001b[2m[Step 2: Duration 1.43 seconds]\u001b[0m\n"
      ]
     },
     "metadata": {},
     "output_type": "display_data"
    }
   ],
   "source": [
    "# | notest\n",
    "\n",
    "agent = Agent(llm)\n",
    "agent.add_webview_tool()\n",
    "answer = agent.run(\"What is the highest level of education of the person listed on this page: https://arun.maiya.net?\")"
   ]
  },
  {
   "cell_type": "code",
   "execution_count": null,
   "metadata": {},
   "outputs": [
    {
     "name": "stdout",
     "output_type": "stream",
     "text": [
      "Ph.D. in Computer Science\n"
     ]
    }
   ],
   "source": [
    "# | notest\n",
    "\n",
    "print(answer)"
   ]
  },
  {
   "cell_type": "code",
   "execution_count": null,
   "metadata": {},
   "outputs": [],
   "source": []
  },
  {
   "cell_type": "code",
   "execution_count": null,
   "metadata": {},
   "outputs": [],
   "source": []
  },
  {
   "cell_type": "code",
   "execution_count": null,
   "metadata": {},
   "outputs": [],
   "source": []
  },
  {
   "cell_type": "markdown",
   "metadata": {},
   "source": [
    "### Example: Agentic RAG\n",
    "\n",
    "You can also give the agent access to a vector store containing our documents.  In this example, we will ingest a document about Generative AI into a vector store and provide the store to the agent as a tool."
   ]
  },
  {
   "cell_type": "code",
   "execution_count": null,
   "metadata": {},
   "outputs": [
    {
     "name": "stdout",
     "output_type": "stream",
     "text": [
      "Creating new vectorstore at /tmp/myvectordb\n",
      "Loading documents from tests/sample_data/docx_example/\n"
     ]
    },
    {
     "name": "stderr",
     "output_type": "stream",
     "text": [
      "Loading new documents: 100%|██████████████████████| 1/1 [00:04<00:00,  4.05s/it]\n",
      "Processing and chunking 1 new documents: 100%|█████████████████████████████████████| 1/1 [00:00<00:00, 2184.53it/s]\n"
     ]
    },
    {
     "name": "stdout",
     "output_type": "stream",
     "text": [
      "Split into 17 chunks of text (max. 500 chars each for text; max. 2000 chars for tables)\n",
      "Creating embeddings. May take some minutes...\n"
     ]
    },
    {
     "name": "stderr",
     "output_type": "stream",
     "text": [
      "100%|████████████████████████████████████████████████████████████████████████████████| 1/1 [00:00<00:00,  2.67it/s]"
     ]
    },
    {
     "name": "stdout",
     "output_type": "stream",
     "text": [
      "Ingestion complete! You can now query your documents using the LLM.ask or LLM.chat methods\n"
     ]
    },
    {
     "name": "stderr",
     "output_type": "stream",
     "text": [
      "\n"
     ]
    }
   ],
   "source": [
    "# | notest\n",
    "\n",
    "from onprem.ingest.stores import DenseStore\n",
    "\n",
    "store = DenseStore.create('/tmp/myvectordb')\n",
    "store.ingest('tests/sample_data/docx_example/')"
   ]
  },
  {
   "cell_type": "markdown",
   "metadata": {},
   "source": [
    "So far, we have been using the default tool-calling agent, which relies on the LLM to generate precise JSON structures that specify tool names and arguments required to complete a task.  \n",
    "\n",
    "By constrast, the code-agent generates and runs code to solve a task. We will use the code-agent in this final example."
   ]
  },
  {
   "cell_type": "code",
   "execution_count": null,
   "metadata": {},
   "outputs": [
    {
     "data": {
      "text/html": [
       "<pre style=\"white-space:pre;overflow-x:auto;line-height:normal;font-family:Menlo,'DejaVu Sans Mono',consolas,'Courier New',monospace\"><span style=\"color: #d4b702; text-decoration-color: #d4b702\">╭──────────────────────────────────────────────────── </span><span style=\"color: #d4b702; text-decoration-color: #d4b702; font-weight: bold\">New run</span><span style=\"color: #d4b702; text-decoration-color: #d4b702\"> ────────────────────────────────────────────────────╮</span>\n",
       "<span style=\"color: #d4b702; text-decoration-color: #d4b702\">│</span>                                                                                                                 <span style=\"color: #d4b702; text-decoration-color: #d4b702\">│</span>\n",
       "<span style=\"color: #d4b702; text-decoration-color: #d4b702\">│</span> <span style=\"font-weight: bold\">Summarize some generative AI use cases in Markdown format. You may need to run at least three queries of the </span>   <span style=\"color: #d4b702; text-decoration-color: #d4b702\">│</span>\n",
       "<span style=\"color: #d4b702; text-decoration-color: #d4b702\">│</span> <span style=\"font-weight: bold\">database.</span>                                                                                                       <span style=\"color: #d4b702; text-decoration-color: #d4b702\">│</span>\n",
       "<span style=\"color: #d4b702; text-decoration-color: #d4b702\">│</span>                                                                                                                 <span style=\"color: #d4b702; text-decoration-color: #d4b702\">│</span>\n",
       "<span style=\"color: #d4b702; text-decoration-color: #d4b702\">╰─ AgentModel - None ─────────────────────────────────────────────────────────────────────────────────────────────╯</span>\n",
       "</pre>\n"
      ],
      "text/plain": [
       "\u001b[38;2;212;183;2m╭─\u001b[0m\u001b[38;2;212;183;2m───────────────────────────────────────────────────\u001b[0m\u001b[38;2;212;183;2m \u001b[0m\u001b[1;38;2;212;183;2mNew run\u001b[0m\u001b[38;2;212;183;2m \u001b[0m\u001b[38;2;212;183;2m───────────────────────────────────────────────────\u001b[0m\u001b[38;2;212;183;2m─╮\u001b[0m\n",
       "\u001b[38;2;212;183;2m│\u001b[0m                                                                                                                 \u001b[38;2;212;183;2m│\u001b[0m\n",
       "\u001b[38;2;212;183;2m│\u001b[0m \u001b[1mSummarize some generative AI use cases in Markdown format. You may need to run at least three queries of the \u001b[0m   \u001b[38;2;212;183;2m│\u001b[0m\n",
       "\u001b[38;2;212;183;2m│\u001b[0m \u001b[1mdatabase.\u001b[0m                                                                                                       \u001b[38;2;212;183;2m│\u001b[0m\n",
       "\u001b[38;2;212;183;2m│\u001b[0m                                                                                                                 \u001b[38;2;212;183;2m│\u001b[0m\n",
       "\u001b[38;2;212;183;2m╰─\u001b[0m\u001b[38;2;212;183;2m AgentModel - None \u001b[0m\u001b[38;2;212;183;2m────────────────────────────────────────────────────────────────────────────────────────────\u001b[0m\u001b[38;2;212;183;2m─╯\u001b[0m\n"
      ]
     },
     "metadata": {},
     "output_type": "display_data"
    },
    {
     "data": {
      "text/html": [
       "<pre style=\"white-space:pre;overflow-x:auto;line-height:normal;font-family:Menlo,'DejaVu Sans Mono',consolas,'Courier New',monospace\"><span style=\"color: #d4b702; text-decoration-color: #d4b702\">━━━━━━━━━━━━━━━━━━━━━━━━━━━━━━━━━━━━━━━━━━━━━━━━━━━━━ </span><span style=\"font-weight: bold\">Step </span><span style=\"color: #008080; text-decoration-color: #008080; font-weight: bold\">1</span><span style=\"color: #d4b702; text-decoration-color: #d4b702\"> ━━━━━━━━━━━━━━━━━━━━━━━━━━━━━━━━━━━━━━━━━━━━━━━━━━━━━━</span>\n",
       "</pre>\n"
      ],
      "text/plain": [
       "\u001b[38;2;212;183;2m━━━━━━━━━━━━━━━━━━━━━━━━━━━━━━━━━━━━━━━━━━━━━━━━━━━━━ \u001b[0m\u001b[1mStep \u001b[0m\u001b[1;36m1\u001b[0m\u001b[38;2;212;183;2m ━━━━━━━━━━━━━━━━━━━━━━━━━━━━━━━━━━━━━━━━━━━━━━━━━━━━━━\u001b[0m\n"
      ]
     },
     "metadata": {},
     "output_type": "display_data"
    },
    {
     "data": {
      "text/html": [
       "<pre style=\"white-space:pre;overflow-x:auto;line-height:normal;font-family:Menlo,'DejaVu Sans Mono',consolas,'Courier New',monospace\"> ─ <span style=\"font-weight: bold\">Executing parsed code:</span> ──────────────────────────────────────────────────────────────────────────────────────── \n",
       "  <span style=\"color: #f8f8f2; text-decoration-color: #f8f8f2; background-color: #272822\">use_cases_general </span><span style=\"color: #ff4689; text-decoration-color: #ff4689; background-color: #272822\">=</span><span style=\"color: #f8f8f2; text-decoration-color: #f8f8f2; background-color: #272822\"> genai_search(query</span><span style=\"color: #ff4689; text-decoration-color: #ff4689; background-color: #272822\">=</span><span style=\"color: #e6db74; text-decoration-color: #e6db74; background-color: #272822\">\"generative AI use cases\"</span><span style=\"color: #f8f8f2; text-decoration-color: #f8f8f2; background-color: #272822\">)</span><span style=\"background-color: #272822\">                                              </span>  \n",
       "  <span style=\"color: #f8f8f2; text-decoration-color: #f8f8f2; background-color: #272822\">print(use_cases_general)</span><span style=\"background-color: #272822\">                                                                                       </span>  \n",
       " ───────────────────────────────────────────────────────────────────────────────────────────────────────────────── \n",
       "</pre>\n"
      ],
      "text/plain": [
       " ─ \u001b[1mExecuting parsed code:\u001b[0m ──────────────────────────────────────────────────────────────────────────────────────── \n",
       "  \u001b[38;2;248;248;242;48;2;39;40;34muse_cases_general\u001b[0m\u001b[38;2;248;248;242;48;2;39;40;34m \u001b[0m\u001b[38;2;255;70;137;48;2;39;40;34m=\u001b[0m\u001b[38;2;248;248;242;48;2;39;40;34m \u001b[0m\u001b[38;2;248;248;242;48;2;39;40;34mgenai_search\u001b[0m\u001b[38;2;248;248;242;48;2;39;40;34m(\u001b[0m\u001b[38;2;248;248;242;48;2;39;40;34mquery\u001b[0m\u001b[38;2;255;70;137;48;2;39;40;34m=\u001b[0m\u001b[38;2;230;219;116;48;2;39;40;34m\"\u001b[0m\u001b[38;2;230;219;116;48;2;39;40;34mgenerative AI use cases\u001b[0m\u001b[38;2;230;219;116;48;2;39;40;34m\"\u001b[0m\u001b[38;2;248;248;242;48;2;39;40;34m)\u001b[0m\u001b[48;2;39;40;34m                                              \u001b[0m  \n",
       "  \u001b[38;2;248;248;242;48;2;39;40;34mprint\u001b[0m\u001b[38;2;248;248;242;48;2;39;40;34m(\u001b[0m\u001b[38;2;248;248;242;48;2;39;40;34muse_cases_general\u001b[0m\u001b[38;2;248;248;242;48;2;39;40;34m)\u001b[0m\u001b[48;2;39;40;34m                                                                                       \u001b[0m  \n",
       " ───────────────────────────────────────────────────────────────────────────────────────────────────────────────── \n"
      ]
     },
     "metadata": {},
     "output_type": "display_data"
    },
    {
     "data": {
      "text/html": [
       "<pre style=\"white-space:pre;overflow-x:auto;line-height:normal;font-family:Menlo,'DejaVu Sans Mono',consolas,'Courier New',monospace\"><span style=\"font-weight: bold\">Execution logs:</span>\n",
       "[{'id': '901846fb-fc97-42ef-810a-cedc8abfbcb8', 'score': 0.6182159185409546, 'text': '3. What is generative \n",
       "AI?\\n\\nEven though AI is not new, you have probably been hearing a lot about easy-to-use, publicly available \n",
       "Generative AI tools like ChatGPT and Google Gemini.\\u202f \\n\\nBut what is generative AI?\\u202f\\u202f \\n\\nIt is a \n",
       "type of AI technology that automatically generates (or creates) content in response to prompts given to it by \n",
       "users.\\u202f \\n\\nThese tools can generate text, images, music, video, code and other formats.'}, {'id': \n",
       "'0b660b75-3bf3-47ab-a4bb-0f52039ec442', 'score': 0.5850328207015991, 'text': 'An introduction to generative \n",
       "AI\\n\\n1. Introduction\\n\\nThis activity will give a brief overview of what Generative AI is and how it is being \n",
       "used.\\n\\nUsing this tutorial\\n\\nUse the back and next buttons at the bottom right of the screen to navigate through\n",
       "the tutorial. Alternatively, use the contents button to jump to a specific page.\\n\\nYou will need to allow \n",
       "approximately\\xa05\\xa0minutes\\xa0to complete the tutorial.\\n\\nLearning outcomes\\n\\nAfter completing this tutorial \n",
       "you will be able to:'}, {'id': '57831af5-b767-4565-ba01-8845d8e6b261', 'score': 0.568540632724762, 'text': \n",
       "'Question 5 Feedback for Option 3\\n\\nTrue. Generative AI tools rely on pattern recognition and do not truly \n",
       "understand the content, which can lead to plausible but misleading or incorrect outputs.\\n\\nQuestion 5 Feedback for\n",
       "Option 4\\n\\nFalse. Each response is unique; generative AI tools do not provide the same response every \n",
       "time.\\n\\nBeing digital Copyright © 2024 The Open University'}, {'id': '3ab09f45-f5d2-468e-ae8e-710c116f51b7', \n",
       "'score': 0.5618582367897034, 'text': 'Recognise generative AI in daily life: Identify common generative AI \n",
       "applications like chatbots, facial recognition, streaming services, and digital assistants.\\n\\nUnderstand \n",
       "generative AI: Explain generative AI and its ability to create diverse content such as text, images, music, video, \n",
       "and code.\\n\\nDescribe LLMs: Understand how\\xa0Large Language Models (LLMs) work.\\n\\n2. Examples of AI in everyday \n",
       "life'}, {'id': 'ec272b15-9ff9-448b-a39b-3b89f0d6f524', 'score': 0.5566920042037964, 'text': '5. Quiz\\n\\nQuestion 1 \n",
       "of 5\\n\\nWhat is generative AI?\\n\\nAI that only processes data\\n\\nAI that creates content based on user \n",
       "prompts\\n\\nAI that cannot update its data\\n\\nAI that performs physical tasks\\n\\nQuestion 1 Feedback for Option \n",
       "1\\n\\nFalse. Typing on a keyboard is a manual activity that does not involve AI.\\n\\nQuestion 1 Feedback for Option \n",
       "2\\n\\nFalse. Watching a sunset is a natural experience, not related to generative AI.\\n\\nQuestion 1 Feedback for \n",
       "Option 3'}]\n",
       "\n",
       "Out: None\n",
       "</pre>\n"
      ],
      "text/plain": [
       "\u001b[1mExecution logs:\u001b[0m\n",
       "[{'id': '901846fb-fc97-42ef-810a-cedc8abfbcb8', 'score': 0.6182159185409546, 'text': '3. What is generative \n",
       "AI?\\n\\nEven though AI is not new, you have probably been hearing a lot about easy-to-use, publicly available \n",
       "Generative AI tools like ChatGPT and Google Gemini.\\u202f \\n\\nBut what is generative AI?\\u202f\\u202f \\n\\nIt is a \n",
       "type of AI technology that automatically generates (or creates) content in response to prompts given to it by \n",
       "users.\\u202f \\n\\nThese tools can generate text, images, music, video, code and other formats.'}, {'id': \n",
       "'0b660b75-3bf3-47ab-a4bb-0f52039ec442', 'score': 0.5850328207015991, 'text': 'An introduction to generative \n",
       "AI\\n\\n1. Introduction\\n\\nThis activity will give a brief overview of what Generative AI is and how it is being \n",
       "used.\\n\\nUsing this tutorial\\n\\nUse the back and next buttons at the bottom right of the screen to navigate through\n",
       "the tutorial. Alternatively, use the contents button to jump to a specific page.\\n\\nYou will need to allow \n",
       "approximately\\xa05\\xa0minutes\\xa0to complete the tutorial.\\n\\nLearning outcomes\\n\\nAfter completing this tutorial \n",
       "you will be able to:'}, {'id': '57831af5-b767-4565-ba01-8845d8e6b261', 'score': 0.568540632724762, 'text': \n",
       "'Question 5 Feedback for Option 3\\n\\nTrue. Generative AI tools rely on pattern recognition and do not truly \n",
       "understand the content, which can lead to plausible but misleading or incorrect outputs.\\n\\nQuestion 5 Feedback for\n",
       "Option 4\\n\\nFalse. Each response is unique; generative AI tools do not provide the same response every \n",
       "time.\\n\\nBeing digital Copyright © 2024 The Open University'}, {'id': '3ab09f45-f5d2-468e-ae8e-710c116f51b7', \n",
       "'score': 0.5618582367897034, 'text': 'Recognise generative AI in daily life: Identify common generative AI \n",
       "applications like chatbots, facial recognition, streaming services, and digital assistants.\\n\\nUnderstand \n",
       "generative AI: Explain generative AI and its ability to create diverse content such as text, images, music, video, \n",
       "and code.\\n\\nDescribe LLMs: Understand how\\xa0Large Language Models (LLMs) work.\\n\\n2. Examples of AI in everyday \n",
       "life'}, {'id': 'ec272b15-9ff9-448b-a39b-3b89f0d6f524', 'score': 0.5566920042037964, 'text': '5. Quiz\\n\\nQuestion 1 \n",
       "of 5\\n\\nWhat is generative AI?\\n\\nAI that only processes data\\n\\nAI that creates content based on user \n",
       "prompts\\n\\nAI that cannot update its data\\n\\nAI that performs physical tasks\\n\\nQuestion 1 Feedback for Option \n",
       "1\\n\\nFalse. Typing on a keyboard is a manual activity that does not involve AI.\\n\\nQuestion 1 Feedback for Option \n",
       "2\\n\\nFalse. Watching a sunset is a natural experience, not related to generative AI.\\n\\nQuestion 1 Feedback for \n",
       "Option 3'}]\n",
       "\n",
       "Out: None\n"
      ]
     },
     "metadata": {},
     "output_type": "display_data"
    },
    {
     "data": {
      "text/html": [
       "<pre style=\"white-space:pre;overflow-x:auto;line-height:normal;font-family:Menlo,'DejaVu Sans Mono',consolas,'Courier New',monospace\"><span style=\"color: #7f7f7f; text-decoration-color: #7f7f7f\">[Step 1: Duration 2.20 seconds]</span>\n",
       "</pre>\n"
      ],
      "text/plain": [
       "\u001b[2m[Step 1: Duration 2.20 seconds]\u001b[0m\n"
      ]
     },
     "metadata": {},
     "output_type": "display_data"
    },
    {
     "data": {
      "text/html": [
       "<pre style=\"white-space:pre;overflow-x:auto;line-height:normal;font-family:Menlo,'DejaVu Sans Mono',consolas,'Courier New',monospace\"><span style=\"color: #d4b702; text-decoration-color: #d4b702\">━━━━━━━━━━━━━━━━━━━━━━━━━━━━━━━━━━━━━━━━━━━━━━━━━━━━━ </span><span style=\"font-weight: bold\">Step </span><span style=\"color: #008080; text-decoration-color: #008080; font-weight: bold\">2</span><span style=\"color: #d4b702; text-decoration-color: #d4b702\"> ━━━━━━━━━━━━━━━━━━━━━━━━━━━━━━━━━━━━━━━━━━━━━━━━━━━━━━</span>\n",
       "</pre>\n"
      ],
      "text/plain": [
       "\u001b[38;2;212;183;2m━━━━━━━━━━━━━━━━━━━━━━━━━━━━━━━━━━━━━━━━━━━━━━━━━━━━━ \u001b[0m\u001b[1mStep \u001b[0m\u001b[1;36m2\u001b[0m\u001b[38;2;212;183;2m ━━━━━━━━━━━━━━━━━━━━━━━━━━━━━━━━━━━━━━━━━━━━━━━━━━━━━━\u001b[0m\n"
      ]
     },
     "metadata": {},
     "output_type": "display_data"
    },
    {
     "data": {
      "text/html": [
       "<pre style=\"white-space:pre;overflow-x:auto;line-height:normal;font-family:Menlo,'DejaVu Sans Mono',consolas,'Courier New',monospace\"> ─ <span style=\"font-weight: bold\">Executing parsed code:</span> ──────────────────────────────────────────────────────────────────────────────────────── \n",
       "  <span style=\"color: #f8f8f2; text-decoration-color: #f8f8f2; background-color: #272822\">use_cases_content_creation </span><span style=\"color: #ff4689; text-decoration-color: #ff4689; background-color: #272822\">=</span><span style=\"color: #f8f8f2; text-decoration-color: #f8f8f2; background-color: #272822\"> genai_search(query</span><span style=\"color: #ff4689; text-decoration-color: #ff4689; background-color: #272822\">=</span><span style=\"color: #e6db74; text-decoration-color: #e6db74; background-color: #272822\">\"generative AI content creation use cases\"</span><span style=\"color: #f8f8f2; text-decoration-color: #f8f8f2; background-color: #272822\">)</span><span style=\"background-color: #272822\">                    </span>  \n",
       "  <span style=\"color: #f8f8f2; text-decoration-color: #f8f8f2; background-color: #272822\">print(use_cases_content_creation)</span><span style=\"background-color: #272822\">                                                                              </span>  \n",
       " ───────────────────────────────────────────────────────────────────────────────────────────────────────────────── \n",
       "</pre>\n"
      ],
      "text/plain": [
       " ─ \u001b[1mExecuting parsed code:\u001b[0m ──────────────────────────────────────────────────────────────────────────────────────── \n",
       "  \u001b[38;2;248;248;242;48;2;39;40;34muse_cases_content_creation\u001b[0m\u001b[38;2;248;248;242;48;2;39;40;34m \u001b[0m\u001b[38;2;255;70;137;48;2;39;40;34m=\u001b[0m\u001b[38;2;248;248;242;48;2;39;40;34m \u001b[0m\u001b[38;2;248;248;242;48;2;39;40;34mgenai_search\u001b[0m\u001b[38;2;248;248;242;48;2;39;40;34m(\u001b[0m\u001b[38;2;248;248;242;48;2;39;40;34mquery\u001b[0m\u001b[38;2;255;70;137;48;2;39;40;34m=\u001b[0m\u001b[38;2;230;219;116;48;2;39;40;34m\"\u001b[0m\u001b[38;2;230;219;116;48;2;39;40;34mgenerative AI content creation use cases\u001b[0m\u001b[38;2;230;219;116;48;2;39;40;34m\"\u001b[0m\u001b[38;2;248;248;242;48;2;39;40;34m)\u001b[0m\u001b[48;2;39;40;34m                    \u001b[0m  \n",
       "  \u001b[38;2;248;248;242;48;2;39;40;34mprint\u001b[0m\u001b[38;2;248;248;242;48;2;39;40;34m(\u001b[0m\u001b[38;2;248;248;242;48;2;39;40;34muse_cases_content_creation\u001b[0m\u001b[38;2;248;248;242;48;2;39;40;34m)\u001b[0m\u001b[48;2;39;40;34m                                                                              \u001b[0m  \n",
       " ───────────────────────────────────────────────────────────────────────────────────────────────────────────────── \n"
      ]
     },
     "metadata": {},
     "output_type": "display_data"
    },
    {
     "data": {
      "text/html": [
       "<pre style=\"white-space:pre;overflow-x:auto;line-height:normal;font-family:Menlo,'DejaVu Sans Mono',consolas,'Courier New',monospace\"><span style=\"font-weight: bold\">Execution logs:</span>\n",
       "[{'id': '901846fb-fc97-42ef-810a-cedc8abfbcb8', 'score': 0.6875638961791992, 'text': '3. What is generative \n",
       "AI?\\n\\nEven though AI is not new, you have probably been hearing a lot about easy-to-use, publicly available \n",
       "Generative AI tools like ChatGPT and Google Gemini.\\u202f \\n\\nBut what is generative AI?\\u202f\\u202f \\n\\nIt is a \n",
       "type of AI technology that automatically generates (or creates) content in response to prompts given to it by \n",
       "users.\\u202f \\n\\nThese tools can generate text, images, music, video, code and other formats.'}, {'id': \n",
       "'3d776586-b95b-4cad-8915-4d65926a5fe4', 'score': 0.6328049302101135, 'text': 'Question 2 Feedback for Option \n",
       "1\\n\\nFalse. This describes data processing AI, not generative AI.\\n\\nQuestion 2 Feedback for Option 2 \\n\\nTrue. \n",
       "Generative AI creates content like text, images, music, etc., in response to user prompts.\\n\\nQuestion 2 Feedback \n",
       "for Option 3\\n\\nFalse. Generative AI can update its data with new information.\\n\\nQuestion 2 Feedback for Option 4 \n",
       "\\n\\nFalse. Generative AI focuses on content creation, not performing physical tasks.\\n\\nQuestion 3 of 5'}, {'id': \n",
       "'cd369b7e-383b-42e2-bc5e-f514d260d7dd', 'score': 0.6124569177627563, 'text': 'Question 3 of 5\\n\\nWhich of the \n",
       "following is a text generative AI tool?\\n\\nSpotify\\n\\nGoogle Maps\\n\\nDall-E2\\n\\nChatGPT\\n\\nQuestion 3 Feedback for \n",
       "Option 1\\n\\nFalse. Spotify uses AI for music recommendations, not text generation.\\n\\nQuestion 3 Feedback for \n",
       "Option 2\\n\\nFalse. Google Maps uses AI for navigation and travel information, not text generation.\\n\\n\\n\\nQuestion \n",
       "3 Feedback for Option 3\\n\\nFalse. DALL-E2 generates images and art, not text.\\n\\nQuestion 3 Feedback for Option \n",
       "4'}, {'id': '0b660b75-3bf3-47ab-a4bb-0f52039ec442', 'score': 0.582166314125061, 'text': 'An introduction to \n",
       "generative AI\\n\\n1. Introduction\\n\\nThis activity will give a brief overview of what Generative AI is and how it is\n",
       "being used.\\n\\nUsing this tutorial\\n\\nUse the back and next buttons at the bottom right of the screen to navigate \n",
       "through the tutorial. Alternatively, use the contents button to jump to a specific page.\\n\\nYou will need to allow \n",
       "approximately\\xa05\\xa0minutes\\xa0to complete the tutorial.\\n\\nLearning outcomes\\n\\nAfter completing this tutorial \n",
       "you will be able to:'}, {'id': 'ec272b15-9ff9-448b-a39b-3b89f0d6f524', 'score': 0.5623699426651001, 'text': '5. \n",
       "Quiz\\n\\nQuestion 1 of 5\\n\\nWhat is generative AI?\\n\\nAI that only processes data\\n\\nAI that creates content based \n",
       "on user prompts\\n\\nAI that cannot update its data\\n\\nAI that performs physical tasks\\n\\nQuestion 1 Feedback for \n",
       "Option 1\\n\\nFalse. Typing on a keyboard is a manual activity that does not involve AI.\\n\\nQuestion 1 Feedback for \n",
       "Option 2\\n\\nFalse. Watching a sunset is a natural experience, not related to generative AI.\\n\\nQuestion 1 Feedback \n",
       "for Option 3'}]\n",
       "\n",
       "Out: None\n",
       "</pre>\n"
      ],
      "text/plain": [
       "\u001b[1mExecution logs:\u001b[0m\n",
       "[{'id': '901846fb-fc97-42ef-810a-cedc8abfbcb8', 'score': 0.6875638961791992, 'text': '3. What is generative \n",
       "AI?\\n\\nEven though AI is not new, you have probably been hearing a lot about easy-to-use, publicly available \n",
       "Generative AI tools like ChatGPT and Google Gemini.\\u202f \\n\\nBut what is generative AI?\\u202f\\u202f \\n\\nIt is a \n",
       "type of AI technology that automatically generates (or creates) content in response to prompts given to it by \n",
       "users.\\u202f \\n\\nThese tools can generate text, images, music, video, code and other formats.'}, {'id': \n",
       "'3d776586-b95b-4cad-8915-4d65926a5fe4', 'score': 0.6328049302101135, 'text': 'Question 2 Feedback for Option \n",
       "1\\n\\nFalse. This describes data processing AI, not generative AI.\\n\\nQuestion 2 Feedback for Option 2 \\n\\nTrue. \n",
       "Generative AI creates content like text, images, music, etc., in response to user prompts.\\n\\nQuestion 2 Feedback \n",
       "for Option 3\\n\\nFalse. Generative AI can update its data with new information.\\n\\nQuestion 2 Feedback for Option 4 \n",
       "\\n\\nFalse. Generative AI focuses on content creation, not performing physical tasks.\\n\\nQuestion 3 of 5'}, {'id': \n",
       "'cd369b7e-383b-42e2-bc5e-f514d260d7dd', 'score': 0.6124569177627563, 'text': 'Question 3 of 5\\n\\nWhich of the \n",
       "following is a text generative AI tool?\\n\\nSpotify\\n\\nGoogle Maps\\n\\nDall-E2\\n\\nChatGPT\\n\\nQuestion 3 Feedback for \n",
       "Option 1\\n\\nFalse. Spotify uses AI for music recommendations, not text generation.\\n\\nQuestion 3 Feedback for \n",
       "Option 2\\n\\nFalse. Google Maps uses AI for navigation and travel information, not text generation.\\n\\n\\n\\nQuestion \n",
       "3 Feedback for Option 3\\n\\nFalse. DALL-E2 generates images and art, not text.\\n\\nQuestion 3 Feedback for Option \n",
       "4'}, {'id': '0b660b75-3bf3-47ab-a4bb-0f52039ec442', 'score': 0.582166314125061, 'text': 'An introduction to \n",
       "generative AI\\n\\n1. Introduction\\n\\nThis activity will give a brief overview of what Generative AI is and how it is\n",
       "being used.\\n\\nUsing this tutorial\\n\\nUse the back and next buttons at the bottom right of the screen to navigate \n",
       "through the tutorial. Alternatively, use the contents button to jump to a specific page.\\n\\nYou will need to allow \n",
       "approximately\\xa05\\xa0minutes\\xa0to complete the tutorial.\\n\\nLearning outcomes\\n\\nAfter completing this tutorial \n",
       "you will be able to:'}, {'id': 'ec272b15-9ff9-448b-a39b-3b89f0d6f524', 'score': 0.5623699426651001, 'text': '5. \n",
       "Quiz\\n\\nQuestion 1 of 5\\n\\nWhat is generative AI?\\n\\nAI that only processes data\\n\\nAI that creates content based \n",
       "on user prompts\\n\\nAI that cannot update its data\\n\\nAI that performs physical tasks\\n\\nQuestion 1 Feedback for \n",
       "Option 1\\n\\nFalse. Typing on a keyboard is a manual activity that does not involve AI.\\n\\nQuestion 1 Feedback for \n",
       "Option 2\\n\\nFalse. Watching a sunset is a natural experience, not related to generative AI.\\n\\nQuestion 1 Feedback \n",
       "for Option 3'}]\n",
       "\n",
       "Out: None\n"
      ]
     },
     "metadata": {},
     "output_type": "display_data"
    },
    {
     "data": {
      "text/html": [
       "<pre style=\"white-space:pre;overflow-x:auto;line-height:normal;font-family:Menlo,'DejaVu Sans Mono',consolas,'Courier New',monospace\"><span style=\"color: #7f7f7f; text-decoration-color: #7f7f7f\">[Step 2: Duration 2.12 seconds]</span>\n",
       "</pre>\n"
      ],
      "text/plain": [
       "\u001b[2m[Step 2: Duration 2.12 seconds]\u001b[0m\n"
      ]
     },
     "metadata": {},
     "output_type": "display_data"
    },
    {
     "data": {
      "text/html": [
       "<pre style=\"white-space:pre;overflow-x:auto;line-height:normal;font-family:Menlo,'DejaVu Sans Mono',consolas,'Courier New',monospace\"><span style=\"color: #d4b702; text-decoration-color: #d4b702\">━━━━━━━━━━━━━━━━━━━━━━━━━━━━━━━━━━━━━━━━━━━━━━━━━━━━━ </span><span style=\"font-weight: bold\">Step </span><span style=\"color: #008080; text-decoration-color: #008080; font-weight: bold\">3</span><span style=\"color: #d4b702; text-decoration-color: #d4b702\"> ━━━━━━━━━━━━━━━━━━━━━━━━━━━━━━━━━━━━━━━━━━━━━━━━━━━━━━</span>\n",
       "</pre>\n"
      ],
      "text/plain": [
       "\u001b[38;2;212;183;2m━━━━━━━━━━━━━━━━━━━━━━━━━━━━━━━━━━━━━━━━━━━━━━━━━━━━━ \u001b[0m\u001b[1mStep \u001b[0m\u001b[1;36m3\u001b[0m\u001b[38;2;212;183;2m ━━━━━━━━━━━━━━━━━━━━━━━━━━━━━━━━━━━━━━━━━━━━━━━━━━━━━━\u001b[0m\n"
      ]
     },
     "metadata": {},
     "output_type": "display_data"
    },
    {
     "data": {
      "text/html": [
       "<pre style=\"white-space:pre;overflow-x:auto;line-height:normal;font-family:Menlo,'DejaVu Sans Mono',consolas,'Courier New',monospace\"> ─ <span style=\"font-weight: bold\">Executing parsed code:</span> ──────────────────────────────────────────────────────────────────────────────────────── \n",
       "  <span style=\"color: #f8f8f2; text-decoration-color: #f8f8f2; background-color: #272822\">use_cases_applications </span><span style=\"color: #ff4689; text-decoration-color: #ff4689; background-color: #272822\">=</span><span style=\"color: #f8f8f2; text-decoration-color: #f8f8f2; background-color: #272822\"> genai_search(query</span><span style=\"color: #ff4689; text-decoration-color: #ff4689; background-color: #272822\">=</span><span style=\"color: #e6db74; text-decoration-color: #e6db74; background-color: #272822\">\"applications of generative AI in various domains\"</span><span style=\"color: #f8f8f2; text-decoration-color: #f8f8f2; background-color: #272822\">)</span><span style=\"background-color: #272822\">                </span>  \n",
       "  <span style=\"color: #f8f8f2; text-decoration-color: #f8f8f2; background-color: #272822\">print(use_cases_applications)</span><span style=\"background-color: #272822\">                                                                                  </span>  \n",
       " ───────────────────────────────────────────────────────────────────────────────────────────────────────────────── \n",
       "</pre>\n"
      ],
      "text/plain": [
       " ─ \u001b[1mExecuting parsed code:\u001b[0m ──────────────────────────────────────────────────────────────────────────────────────── \n",
       "  \u001b[38;2;248;248;242;48;2;39;40;34muse_cases_applications\u001b[0m\u001b[38;2;248;248;242;48;2;39;40;34m \u001b[0m\u001b[38;2;255;70;137;48;2;39;40;34m=\u001b[0m\u001b[38;2;248;248;242;48;2;39;40;34m \u001b[0m\u001b[38;2;248;248;242;48;2;39;40;34mgenai_search\u001b[0m\u001b[38;2;248;248;242;48;2;39;40;34m(\u001b[0m\u001b[38;2;248;248;242;48;2;39;40;34mquery\u001b[0m\u001b[38;2;255;70;137;48;2;39;40;34m=\u001b[0m\u001b[38;2;230;219;116;48;2;39;40;34m\"\u001b[0m\u001b[38;2;230;219;116;48;2;39;40;34mapplications of generative AI in various domains\u001b[0m\u001b[38;2;230;219;116;48;2;39;40;34m\"\u001b[0m\u001b[38;2;248;248;242;48;2;39;40;34m)\u001b[0m\u001b[48;2;39;40;34m                \u001b[0m  \n",
       "  \u001b[38;2;248;248;242;48;2;39;40;34mprint\u001b[0m\u001b[38;2;248;248;242;48;2;39;40;34m(\u001b[0m\u001b[38;2;248;248;242;48;2;39;40;34muse_cases_applications\u001b[0m\u001b[38;2;248;248;242;48;2;39;40;34m)\u001b[0m\u001b[48;2;39;40;34m                                                                                  \u001b[0m  \n",
       " ───────────────────────────────────────────────────────────────────────────────────────────────────────────────── \n"
      ]
     },
     "metadata": {},
     "output_type": "display_data"
    },
    {
     "data": {
      "text/html": [
       "<pre style=\"white-space:pre;overflow-x:auto;line-height:normal;font-family:Menlo,'DejaVu Sans Mono',consolas,'Courier New',monospace\"><span style=\"font-weight: bold\">Execution logs:</span>\n",
       "[{'id': '0b660b75-3bf3-47ab-a4bb-0f52039ec442', 'score': 0.5789191722869873, 'text': 'An introduction to generative\n",
       "AI\\n\\n1. Introduction\\n\\nThis activity will give a brief overview of what Generative AI is and how it is being \n",
       "used.\\n\\nUsing this tutorial\\n\\nUse the back and next buttons at the bottom right of the screen to navigate through\n",
       "the tutorial. Alternatively, use the contents button to jump to a specific page.\\n\\nYou will need to allow \n",
       "approximately\\xa05\\xa0minutes\\xa0to complete the tutorial.\\n\\nLearning outcomes\\n\\nAfter completing this tutorial \n",
       "you will be able to:'}, {'id': '901846fb-fc97-42ef-810a-cedc8abfbcb8', 'score': 0.5656728744506836, 'text': '3. \n",
       "What is generative AI?\\n\\nEven though AI is not new, you have probably been hearing a lot about easy-to-use, \n",
       "publicly available Generative AI tools like ChatGPT and Google Gemini.\\u202f \\n\\nBut what is generative \n",
       "AI?\\u202f\\u202f \\n\\nIt is a type of AI technology that automatically generates (or creates) content in response to \n",
       "prompts given to it by users.\\u202f \\n\\nThese tools can generate text, images, music, video, code and other \n",
       "formats.'}, {'id': '3ab09f45-f5d2-468e-ae8e-710c116f51b7', 'score': 0.55094313621521, 'text': 'Recognise generative\n",
       "AI in daily life: Identify common generative AI applications like chatbots, facial recognition, streaming services,\n",
       "and digital assistants.\\n\\nUnderstand generative AI: Explain generative AI and its ability to create diverse \n",
       "content such as text, images, music, video, and code.\\n\\nDescribe LLMs: Understand how\\xa0Large Language Models \n",
       "(LLMs) work.\\n\\n2. Examples of AI in everyday life'}, {'id': '14de7734-74a7-43c7-aa72-75a42655e545', 'score': \n",
       "0.5244572162628174, 'text': 'surprisingly knowledgeable, or with an image / computing code. Although outputs \n",
       "produced by Generative AI tools look plausible, they are often misleading, made up, or may be entirely \n",
       "wrong.\\n\\nEach response is unique, you will probably never get the exact same reply twice.\\n\\nResponses are \n",
       "conversational. Once you have asked a question you can just carry on the conversation by adding new questions or \n",
       "prompts, rather than having to redo your search, as you would in a search engine like Google.'}, {'id': \n",
       "'2751a020-1728-46d2-ae5c-0cfac3ee3d88', 'score': 0.5166183710098267, 'text': 'Online shopping – personalised \n",
       "recommendations and adverts.\\n\\nDigital assistants, e.g.\\u202fAmazon Alexa, Google Assistant, Siri.\\n\\nSending an \n",
       "email – spell check and spam filters.\\n\\n\\n\\nTravel and navigation, e.g. Google Maps.\\n\\nWriting assistants, e.g.  \n",
       "Grammarly.\\n\\nHealth and fitness apps, e.g. Fitbit.\\n\\nSocial media feeds – AI controls the feeds that you get to \n",
       "see while browsing through social media platforms (e.g., Facebook, X, Instagram) or the notifications you \n",
       "receive.\\n\\n3. What is generative AI?'}]\n",
       "\n",
       "Out: None\n",
       "</pre>\n"
      ],
      "text/plain": [
       "\u001b[1mExecution logs:\u001b[0m\n",
       "[{'id': '0b660b75-3bf3-47ab-a4bb-0f52039ec442', 'score': 0.5789191722869873, 'text': 'An introduction to generative\n",
       "AI\\n\\n1. Introduction\\n\\nThis activity will give a brief overview of what Generative AI is and how it is being \n",
       "used.\\n\\nUsing this tutorial\\n\\nUse the back and next buttons at the bottom right of the screen to navigate through\n",
       "the tutorial. Alternatively, use the contents button to jump to a specific page.\\n\\nYou will need to allow \n",
       "approximately\\xa05\\xa0minutes\\xa0to complete the tutorial.\\n\\nLearning outcomes\\n\\nAfter completing this tutorial \n",
       "you will be able to:'}, {'id': '901846fb-fc97-42ef-810a-cedc8abfbcb8', 'score': 0.5656728744506836, 'text': '3. \n",
       "What is generative AI?\\n\\nEven though AI is not new, you have probably been hearing a lot about easy-to-use, \n",
       "publicly available Generative AI tools like ChatGPT and Google Gemini.\\u202f \\n\\nBut what is generative \n",
       "AI?\\u202f\\u202f \\n\\nIt is a type of AI technology that automatically generates (or creates) content in response to \n",
       "prompts given to it by users.\\u202f \\n\\nThese tools can generate text, images, music, video, code and other \n",
       "formats.'}, {'id': '3ab09f45-f5d2-468e-ae8e-710c116f51b7', 'score': 0.55094313621521, 'text': 'Recognise generative\n",
       "AI in daily life: Identify common generative AI applications like chatbots, facial recognition, streaming services,\n",
       "and digital assistants.\\n\\nUnderstand generative AI: Explain generative AI and its ability to create diverse \n",
       "content such as text, images, music, video, and code.\\n\\nDescribe LLMs: Understand how\\xa0Large Language Models \n",
       "(LLMs) work.\\n\\n2. Examples of AI in everyday life'}, {'id': '14de7734-74a7-43c7-aa72-75a42655e545', 'score': \n",
       "0.5244572162628174, 'text': 'surprisingly knowledgeable, or with an image / computing code. Although outputs \n",
       "produced by Generative AI tools look plausible, they are often misleading, made up, or may be entirely \n",
       "wrong.\\n\\nEach response is unique, you will probably never get the exact same reply twice.\\n\\nResponses are \n",
       "conversational. Once you have asked a question you can just carry on the conversation by adding new questions or \n",
       "prompts, rather than having to redo your search, as you would in a search engine like Google.'}, {'id': \n",
       "'2751a020-1728-46d2-ae5c-0cfac3ee3d88', 'score': 0.5166183710098267, 'text': 'Online shopping – personalised \n",
       "recommendations and adverts.\\n\\nDigital assistants, e.g.\\u202fAmazon Alexa, Google Assistant, Siri.\\n\\nSending an \n",
       "email – spell check and spam filters.\\n\\n\\n\\nTravel and navigation, e.g. Google Maps.\\n\\nWriting assistants, e.g.  \n",
       "Grammarly.\\n\\nHealth and fitness apps, e.g. Fitbit.\\n\\nSocial media feeds – AI controls the feeds that you get to \n",
       "see while browsing through social media platforms (e.g., Facebook, X, Instagram) or the notifications you \n",
       "receive.\\n\\n3. What is generative AI?'}]\n",
       "\n",
       "Out: None\n"
      ]
     },
     "metadata": {},
     "output_type": "display_data"
    },
    {
     "data": {
      "text/html": [
       "<pre style=\"white-space:pre;overflow-x:auto;line-height:normal;font-family:Menlo,'DejaVu Sans Mono',consolas,'Courier New',monospace\"><span style=\"color: #7f7f7f; text-decoration-color: #7f7f7f\">[Step 3: Duration 2.56 seconds]</span>\n",
       "</pre>\n"
      ],
      "text/plain": [
       "\u001b[2m[Step 3: Duration 2.56 seconds]\u001b[0m\n"
      ]
     },
     "metadata": {},
     "output_type": "display_data"
    },
    {
     "data": {
      "text/html": [
       "<pre style=\"white-space:pre;overflow-x:auto;line-height:normal;font-family:Menlo,'DejaVu Sans Mono',consolas,'Courier New',monospace\"><span style=\"color: #d4b702; text-decoration-color: #d4b702\">━━━━━━━━━━━━━━━━━━━━━━━━━━━━━━━━━━━━━━━━━━━━━━━━━━━━━ </span><span style=\"font-weight: bold\">Step </span><span style=\"color: #008080; text-decoration-color: #008080; font-weight: bold\">4</span><span style=\"color: #d4b702; text-decoration-color: #d4b702\"> ━━━━━━━━━━━━━━━━━━━━━━━━━━━━━━━━━━━━━━━━━━━━━━━━━━━━━━</span>\n",
       "</pre>\n"
      ],
      "text/plain": [
       "\u001b[38;2;212;183;2m━━━━━━━━━━━━━━━━━━━━━━━━━━━━━━━━━━━━━━━━━━━━━━━━━━━━━ \u001b[0m\u001b[1mStep \u001b[0m\u001b[1;36m4\u001b[0m\u001b[38;2;212;183;2m ━━━━━━━━━━━━━━━━━━━━━━━━━━━━━━━━━━━━━━━━━━━━━━━━━━━━━━\u001b[0m\n"
      ]
     },
     "metadata": {},
     "output_type": "display_data"
    },
    {
     "data": {
      "text/html": [
       "<pre style=\"white-space:pre;overflow-x:auto;line-height:normal;font-family:Menlo,'DejaVu Sans Mono',consolas,'Courier New',monospace\"> ─ <span style=\"font-weight: bold\">Executing parsed code:</span> ──────────────────────────────────────────────────────────────────────────────────────── \n",
       "  <span style=\"color: #f8f8f2; text-decoration-color: #f8f8f2; background-color: #272822\">markdown_summary </span><span style=\"color: #ff4689; text-decoration-color: #ff4689; background-color: #272822\">=</span><span style=\"color: #f8f8f2; text-decoration-color: #f8f8f2; background-color: #272822\"> </span><span style=\"color: #e6db74; text-decoration-color: #e6db74; background-color: #272822\">\"\"\"</span><span style=\"background-color: #272822\">                                                                                         </span>  \n",
       "  <span style=\"color: #e6db74; text-decoration-color: #e6db74; background-color: #272822\"># Generative AI Use Cases</span><span style=\"background-color: #272822\">                                                                                      </span>  \n",
       "  <span style=\"background-color: #272822\">                                                                                                               </span>  \n",
       "  <span style=\"color: #e6db74; text-decoration-color: #e6db74; background-color: #272822\">Generative AI refers to a category of artificial intelligence technologies that can create content in response </span>  \n",
       "  <span style=\"color: #e6db74; text-decoration-color: #e6db74; background-color: #272822\">to user prompts. Here are some key applications of generative AI:</span><span style=\"background-color: #272822\">                                              </span>  \n",
       "  <span style=\"background-color: #272822\">                                                                                                               </span>  \n",
       "  <span style=\"color: #e6db74; text-decoration-color: #e6db74; background-color: #272822\">## 1. Content Creation</span><span style=\"background-color: #272822\">                                                                                         </span>  \n",
       "  <span style=\"color: #e6db74; text-decoration-color: #e6db74; background-color: #272822\">- **Text Generation**: Tools like ChatGPT generate coherent and relevant text based on prompts.</span><span style=\"background-color: #272822\">                </span>  \n",
       "  <span style=\"color: #e6db74; text-decoration-color: #e6db74; background-color: #272822\">- **Image Generation**: Models such as DALL-E create unique images from text descriptions.</span><span style=\"background-color: #272822\">                     </span>  \n",
       "  <span style=\"color: #e6db74; text-decoration-color: #e6db74; background-color: #272822\">- **Music and Video Creation**: Generative models can compose music or create video clips based on user inputs.</span>  \n",
       "  <span style=\"background-color: #272822\">                                                                                                               </span>  \n",
       "  <span style=\"color: #e6db74; text-decoration-color: #e6db74; background-color: #272822\">## 2. Business Applications</span><span style=\"background-color: #272822\">                                                                                    </span>  \n",
       "  <span style=\"color: #e6db74; text-decoration-color: #e6db74; background-color: #272822\">- **Personalized Recommendations**: In online shopping, generative AI analyzes user behavior to recommend </span><span style=\"background-color: #272822\">     </span>  \n",
       "  <span style=\"color: #e6db74; text-decoration-color: #e6db74; background-color: #272822\">products tailored to individual preferences.</span><span style=\"background-color: #272822\">                                                                   </span>  \n",
       "  <span style=\"color: #e6db74; text-decoration-color: #e6db74; background-color: #272822\">- **Chatbots and Digital Assistants**: Applications like Amazon Alexa and Google Assistant help users by </span><span style=\"background-color: #272822\">      </span>  \n",
       "  <span style=\"color: #e6db74; text-decoration-color: #e6db74; background-color: #272822\">providing information and performing tasks based on voice commands.</span><span style=\"background-color: #272822\">                                            </span>  \n",
       "  <span style=\"background-color: #272822\">                                                                                                               </span>  \n",
       "  <span style=\"color: #e6db74; text-decoration-color: #e6db74; background-color: #272822\">## 3. Health and Fitness</span><span style=\"background-color: #272822\">                                                                                       </span>  \n",
       "  <span style=\"color: #e6db74; text-decoration-color: #e6db74; background-color: #272822\">- **Health Monitoring**: Apps like Fitbit use generative AI to analyze data and provide health recommendations.</span>  \n",
       "  <span style=\"color: #e6db74; text-decoration-color: #e6db74; background-color: #272822\">- **Telemedicine**: AI systems assist healthcare professionals by generating patient reports and insights based</span>  \n",
       "  <span style=\"color: #e6db74; text-decoration-color: #e6db74; background-color: #272822\">on input data.</span><span style=\"background-color: #272822\">                                                                                                 </span>  \n",
       "  <span style=\"background-color: #272822\">                                                                                                               </span>  \n",
       "  <span style=\"color: #e6db74; text-decoration-color: #e6db74; background-color: #272822\">## 4. Social Media</span><span style=\"background-color: #272822\">                                                                                             </span>  \n",
       "  <span style=\"color: #e6db74; text-decoration-color: #e6db74; background-color: #272822\">- **Content Moderation**: Generative AI helps filter out harmful or inappropriate content from social media </span><span style=\"background-color: #272822\">   </span>  \n",
       "  <span style=\"color: #e6db74; text-decoration-color: #e6db74; background-color: #272822\">feeds.</span><span style=\"background-color: #272822\">                                                                                                         </span>  \n",
       "  <span style=\"color: #e6db74; text-decoration-color: #e6db74; background-color: #272822\">- **Algorithm-Driven Feeds**: AI systems personalize content delivery on platforms like Facebook and Instagram </span>  \n",
       "  <span style=\"color: #e6db74; text-decoration-color: #e6db74; background-color: #272822\">based on user interaction patterns.</span><span style=\"background-color: #272822\">                                                                            </span>  \n",
       "  <span style=\"background-color: #272822\">                                                                                                               </span>  \n",
       "  <span style=\"color: #e6db74; text-decoration-color: #e6db74; background-color: #272822\">These use cases illustrate the versatility of generative AI across various sectors, enhancing both productivity</span>  \n",
       "  <span style=\"color: #e6db74; text-decoration-color: #e6db74; background-color: #272822\">and user experience.</span><span style=\"background-color: #272822\">                                                                                           </span>  \n",
       "  <span style=\"color: #e6db74; text-decoration-color: #e6db74; background-color: #272822\">\"\"\"</span><span style=\"background-color: #272822\">                                                                                                            </span>  \n",
       "  <span style=\"background-color: #272822\">                                                                                                               </span>  \n",
       "  <span style=\"color: #f8f8f2; text-decoration-color: #f8f8f2; background-color: #272822\">print(markdown_summary)</span><span style=\"background-color: #272822\">                                                                                        </span>  \n",
       "  <span style=\"color: #f8f8f2; text-decoration-color: #f8f8f2; background-color: #272822\">final_answer(markdown_summary)</span><span style=\"background-color: #272822\">                                                                                 </span>  \n",
       " ───────────────────────────────────────────────────────────────────────────────────────────────────────────────── \n",
       "</pre>\n"
      ],
      "text/plain": [
       " ─ \u001b[1mExecuting parsed code:\u001b[0m ──────────────────────────────────────────────────────────────────────────────────────── \n",
       "  \u001b[38;2;248;248;242;48;2;39;40;34mmarkdown_summary\u001b[0m\u001b[38;2;248;248;242;48;2;39;40;34m \u001b[0m\u001b[38;2;255;70;137;48;2;39;40;34m=\u001b[0m\u001b[38;2;248;248;242;48;2;39;40;34m \u001b[0m\u001b[38;2;230;219;116;48;2;39;40;34m\"\"\"\u001b[0m\u001b[48;2;39;40;34m                                                                                         \u001b[0m  \n",
       "  \u001b[38;2;230;219;116;48;2;39;40;34m# Generative AI Use Cases\u001b[0m\u001b[48;2;39;40;34m                                                                                      \u001b[0m  \n",
       "  \u001b[48;2;39;40;34m                                                                                                               \u001b[0m  \n",
       "  \u001b[38;2;230;219;116;48;2;39;40;34mGenerative AI refers to a category of artificial intelligence technologies that can create content in response \u001b[0m  \n",
       "  \u001b[38;2;230;219;116;48;2;39;40;34mto user prompts. Here are some key applications of generative AI:\u001b[0m\u001b[48;2;39;40;34m                                              \u001b[0m  \n",
       "  \u001b[48;2;39;40;34m                                                                                                               \u001b[0m  \n",
       "  \u001b[38;2;230;219;116;48;2;39;40;34m## 1. Content Creation\u001b[0m\u001b[48;2;39;40;34m                                                                                         \u001b[0m  \n",
       "  \u001b[38;2;230;219;116;48;2;39;40;34m- **Text Generation**: Tools like ChatGPT generate coherent and relevant text based on prompts.\u001b[0m\u001b[48;2;39;40;34m                \u001b[0m  \n",
       "  \u001b[38;2;230;219;116;48;2;39;40;34m- **Image Generation**: Models such as DALL-E create unique images from text descriptions.\u001b[0m\u001b[48;2;39;40;34m                     \u001b[0m  \n",
       "  \u001b[38;2;230;219;116;48;2;39;40;34m- **Music and Video Creation**: Generative models can compose music or create video clips based on user inputs.\u001b[0m  \n",
       "  \u001b[48;2;39;40;34m                                                                                                               \u001b[0m  \n",
       "  \u001b[38;2;230;219;116;48;2;39;40;34m## 2. Business Applications\u001b[0m\u001b[48;2;39;40;34m                                                                                    \u001b[0m  \n",
       "  \u001b[38;2;230;219;116;48;2;39;40;34m- **Personalized Recommendations**: In online shopping, generative AI analyzes user behavior to recommend \u001b[0m\u001b[48;2;39;40;34m     \u001b[0m  \n",
       "  \u001b[38;2;230;219;116;48;2;39;40;34mproducts tailored to individual preferences.\u001b[0m\u001b[48;2;39;40;34m                                                                   \u001b[0m  \n",
       "  \u001b[38;2;230;219;116;48;2;39;40;34m- **Chatbots and Digital Assistants**: Applications like Amazon Alexa and Google Assistant help users by \u001b[0m\u001b[48;2;39;40;34m      \u001b[0m  \n",
       "  \u001b[38;2;230;219;116;48;2;39;40;34mproviding information and performing tasks based on voice commands.\u001b[0m\u001b[48;2;39;40;34m                                            \u001b[0m  \n",
       "  \u001b[48;2;39;40;34m                                                                                                               \u001b[0m  \n",
       "  \u001b[38;2;230;219;116;48;2;39;40;34m## 3. Health and Fitness\u001b[0m\u001b[48;2;39;40;34m                                                                                       \u001b[0m  \n",
       "  \u001b[38;2;230;219;116;48;2;39;40;34m- **Health Monitoring**: Apps like Fitbit use generative AI to analyze data and provide health recommendations.\u001b[0m  \n",
       "  \u001b[38;2;230;219;116;48;2;39;40;34m- **Telemedicine**: AI systems assist healthcare professionals by generating patient reports and insights based\u001b[0m  \n",
       "  \u001b[38;2;230;219;116;48;2;39;40;34mon input data.\u001b[0m\u001b[48;2;39;40;34m                                                                                                 \u001b[0m  \n",
       "  \u001b[48;2;39;40;34m                                                                                                               \u001b[0m  \n",
       "  \u001b[38;2;230;219;116;48;2;39;40;34m## 4. Social Media\u001b[0m\u001b[48;2;39;40;34m                                                                                             \u001b[0m  \n",
       "  \u001b[38;2;230;219;116;48;2;39;40;34m- **Content Moderation**: Generative AI helps filter out harmful or inappropriate content from social media \u001b[0m\u001b[48;2;39;40;34m   \u001b[0m  \n",
       "  \u001b[38;2;230;219;116;48;2;39;40;34mfeeds.\u001b[0m\u001b[48;2;39;40;34m                                                                                                         \u001b[0m  \n",
       "  \u001b[38;2;230;219;116;48;2;39;40;34m- **Algorithm-Driven Feeds**: AI systems personalize content delivery on platforms like Facebook and Instagram \u001b[0m  \n",
       "  \u001b[38;2;230;219;116;48;2;39;40;34mbased on user interaction patterns.\u001b[0m\u001b[48;2;39;40;34m                                                                            \u001b[0m  \n",
       "  \u001b[48;2;39;40;34m                                                                                                               \u001b[0m  \n",
       "  \u001b[38;2;230;219;116;48;2;39;40;34mThese use cases illustrate the versatility of generative AI across various sectors, enhancing both productivity\u001b[0m  \n",
       "  \u001b[38;2;230;219;116;48;2;39;40;34mand user experience.\u001b[0m\u001b[48;2;39;40;34m                                                                                           \u001b[0m  \n",
       "  \u001b[38;2;230;219;116;48;2;39;40;34m\"\"\"\u001b[0m\u001b[48;2;39;40;34m                                                                                                            \u001b[0m  \n",
       "  \u001b[48;2;39;40;34m                                                                                                               \u001b[0m  \n",
       "  \u001b[38;2;248;248;242;48;2;39;40;34mprint\u001b[0m\u001b[38;2;248;248;242;48;2;39;40;34m(\u001b[0m\u001b[38;2;248;248;242;48;2;39;40;34mmarkdown_summary\u001b[0m\u001b[38;2;248;248;242;48;2;39;40;34m)\u001b[0m\u001b[48;2;39;40;34m                                                                                        \u001b[0m  \n",
       "  \u001b[38;2;248;248;242;48;2;39;40;34mfinal_answer\u001b[0m\u001b[38;2;248;248;242;48;2;39;40;34m(\u001b[0m\u001b[38;2;248;248;242;48;2;39;40;34mmarkdown_summary\u001b[0m\u001b[38;2;248;248;242;48;2;39;40;34m)\u001b[0m\u001b[48;2;39;40;34m                                                                                 \u001b[0m  \n",
       " ───────────────────────────────────────────────────────────────────────────────────────────────────────────────── \n"
      ]
     },
     "metadata": {},
     "output_type": "display_data"
    },
    {
     "data": {
      "text/html": [
       "<pre style=\"white-space:pre;overflow-x:auto;line-height:normal;font-family:Menlo,'DejaVu Sans Mono',consolas,'Courier New',monospace\"><span style=\"font-weight: bold\">Execution logs:</span>\n",
       "\n",
       "# Generative AI Use Cases\n",
       "\n",
       "Generative AI refers to a category of artificial intelligence technologies that can create content in response to \n",
       "user prompts. Here are some key applications of generative AI:\n",
       "\n",
       "## 1. Content Creation\n",
       "- **Text Generation**: Tools like ChatGPT generate coherent and relevant text based on prompts.\n",
       "- **Image Generation**: Models such as DALL-E create unique images from text descriptions.\n",
       "- **Music and Video Creation**: Generative models can compose music or create video clips based on user inputs.\n",
       "\n",
       "## 2. Business Applications\n",
       "- **Personalized Recommendations**: In online shopping, generative AI analyzes user behavior to recommend products \n",
       "tailored to individual preferences.\n",
       "- **Chatbots and Digital Assistants**: Applications like Amazon Alexa and Google Assistant help users by providing \n",
       "information and performing tasks based on voice commands.\n",
       "\n",
       "## 3. Health and Fitness\n",
       "- **Health Monitoring**: Apps like Fitbit use generative AI to analyze data and provide health recommendations.\n",
       "- **Telemedicine**: AI systems assist healthcare professionals by generating patient reports and insights based on \n",
       "input data.\n",
       "\n",
       "## 4. Social Media\n",
       "- **Content Moderation**: Generative AI helps filter out harmful or inappropriate content from social media feeds.\n",
       "- **Algorithm-Driven Feeds**: AI systems personalize content delivery on platforms like Facebook and Instagram \n",
       "based on user interaction patterns.\n",
       "\n",
       "These use cases illustrate the versatility of generative AI across various sectors, enhancing both productivity and\n",
       "user experience.\n",
       "\n",
       "\n",
       "<span style=\"color: #d4b702; text-decoration-color: #d4b702; font-weight: bold\">Out - Final answer: </span>\n",
       "<span style=\"color: #d4b702; text-decoration-color: #d4b702; font-weight: bold\"># Generative AI Use Cases</span>\n",
       "\n",
       "<span style=\"color: #d4b702; text-decoration-color: #d4b702; font-weight: bold\">Generative AI refers to a category of artificial intelligence technologies that can create content in response to </span>\n",
       "<span style=\"color: #d4b702; text-decoration-color: #d4b702; font-weight: bold\">user prompts. Here are some key applications of generative AI:</span>\n",
       "\n",
       "<span style=\"color: #d4b702; text-decoration-color: #d4b702; font-weight: bold\">## 1. Content Creation</span>\n",
       "<span style=\"color: #d4b702; text-decoration-color: #d4b702; font-weight: bold\">- **Text Generation**: Tools like ChatGPT generate coherent and relevant text based on prompts.</span>\n",
       "<span style=\"color: #d4b702; text-decoration-color: #d4b702; font-weight: bold\">- **Image Generation**: Models such as DALL-E create unique images from text descriptions.</span>\n",
       "<span style=\"color: #d4b702; text-decoration-color: #d4b702; font-weight: bold\">- **Music and Video Creation**: Generative models can compose music or create video clips based on user inputs.</span>\n",
       "\n",
       "<span style=\"color: #d4b702; text-decoration-color: #d4b702; font-weight: bold\">## 2. Business Applications</span>\n",
       "<span style=\"color: #d4b702; text-decoration-color: #d4b702; font-weight: bold\">- **Personalized Recommendations**: In online shopping, generative AI analyzes user behavior to recommend products </span>\n",
       "<span style=\"color: #d4b702; text-decoration-color: #d4b702; font-weight: bold\">tailored to individual preferences.</span>\n",
       "<span style=\"color: #d4b702; text-decoration-color: #d4b702; font-weight: bold\">- **Chatbots and Digital Assistants**: Applications like Amazon Alexa and Google Assistant help users by providing </span>\n",
       "<span style=\"color: #d4b702; text-decoration-color: #d4b702; font-weight: bold\">information and performing tasks based on voice commands.</span>\n",
       "\n",
       "<span style=\"color: #d4b702; text-decoration-color: #d4b702; font-weight: bold\">## 3. Health and Fitness</span>\n",
       "<span style=\"color: #d4b702; text-decoration-color: #d4b702; font-weight: bold\">- **Health Monitoring**: Apps like Fitbit use generative AI to analyze data and provide health recommendations.</span>\n",
       "<span style=\"color: #d4b702; text-decoration-color: #d4b702; font-weight: bold\">- **Telemedicine**: AI systems assist healthcare professionals by generating patient reports and insights based on </span>\n",
       "<span style=\"color: #d4b702; text-decoration-color: #d4b702; font-weight: bold\">input data.</span>\n",
       "\n",
       "<span style=\"color: #d4b702; text-decoration-color: #d4b702; font-weight: bold\">## 4. Social Media</span>\n",
       "<span style=\"color: #d4b702; text-decoration-color: #d4b702; font-weight: bold\">- **Content Moderation**: Generative AI helps filter out harmful or inappropriate content from social media feeds.</span>\n",
       "<span style=\"color: #d4b702; text-decoration-color: #d4b702; font-weight: bold\">- **Algorithm-Driven Feeds**: AI systems personalize content delivery on platforms like Facebook and Instagram </span>\n",
       "<span style=\"color: #d4b702; text-decoration-color: #d4b702; font-weight: bold\">based on user interaction patterns.</span>\n",
       "\n",
       "<span style=\"color: #d4b702; text-decoration-color: #d4b702; font-weight: bold\">These use cases illustrate the versatility of generative AI across various sectors, enhancing both productivity and</span>\n",
       "<span style=\"color: #d4b702; text-decoration-color: #d4b702; font-weight: bold\">user experience.</span>\n",
       "\n",
       "</pre>\n"
      ],
      "text/plain": [
       "\u001b[1mExecution logs:\u001b[0m\n",
       "\n",
       "# Generative AI Use Cases\n",
       "\n",
       "Generative AI refers to a category of artificial intelligence technologies that can create content in response to \n",
       "user prompts. Here are some key applications of generative AI:\n",
       "\n",
       "## 1. Content Creation\n",
       "- **Text Generation**: Tools like ChatGPT generate coherent and relevant text based on prompts.\n",
       "- **Image Generation**: Models such as DALL-E create unique images from text descriptions.\n",
       "- **Music and Video Creation**: Generative models can compose music or create video clips based on user inputs.\n",
       "\n",
       "## 2. Business Applications\n",
       "- **Personalized Recommendations**: In online shopping, generative AI analyzes user behavior to recommend products \n",
       "tailored to individual preferences.\n",
       "- **Chatbots and Digital Assistants**: Applications like Amazon Alexa and Google Assistant help users by providing \n",
       "information and performing tasks based on voice commands.\n",
       "\n",
       "## 3. Health and Fitness\n",
       "- **Health Monitoring**: Apps like Fitbit use generative AI to analyze data and provide health recommendations.\n",
       "- **Telemedicine**: AI systems assist healthcare professionals by generating patient reports and insights based on \n",
       "input data.\n",
       "\n",
       "## 4. Social Media\n",
       "- **Content Moderation**: Generative AI helps filter out harmful or inappropriate content from social media feeds.\n",
       "- **Algorithm-Driven Feeds**: AI systems personalize content delivery on platforms like Facebook and Instagram \n",
       "based on user interaction patterns.\n",
       "\n",
       "These use cases illustrate the versatility of generative AI across various sectors, enhancing both productivity and\n",
       "user experience.\n",
       "\n",
       "\n",
       "\u001b[1;38;2;212;183;2mOut - Final answer: \u001b[0m\n",
       "\u001b[1;38;2;212;183;2m# Generative AI Use Cases\u001b[0m\n",
       "\n",
       "\u001b[1;38;2;212;183;2mGenerative AI refers to a category of artificial intelligence technologies that can create content in response to \u001b[0m\n",
       "\u001b[1;38;2;212;183;2muser prompts. Here are some key applications of generative AI:\u001b[0m\n",
       "\n",
       "\u001b[1;38;2;212;183;2m## 1. Content Creation\u001b[0m\n",
       "\u001b[1;38;2;212;183;2m- **Text Generation**: Tools like ChatGPT generate coherent and relevant text based on prompts.\u001b[0m\n",
       "\u001b[1;38;2;212;183;2m- **Image Generation**: Models such as DALL-E create unique images from text descriptions.\u001b[0m\n",
       "\u001b[1;38;2;212;183;2m- **Music and Video Creation**: Generative models can compose music or create video clips based on user inputs.\u001b[0m\n",
       "\n",
       "\u001b[1;38;2;212;183;2m## 2. Business Applications\u001b[0m\n",
       "\u001b[1;38;2;212;183;2m- **Personalized Recommendations**: In online shopping, generative AI analyzes user behavior to recommend products \u001b[0m\n",
       "\u001b[1;38;2;212;183;2mtailored to individual preferences.\u001b[0m\n",
       "\u001b[1;38;2;212;183;2m- **Chatbots and Digital Assistants**: Applications like Amazon Alexa and Google Assistant help users by providing \u001b[0m\n",
       "\u001b[1;38;2;212;183;2minformation and performing tasks based on voice commands.\u001b[0m\n",
       "\n",
       "\u001b[1;38;2;212;183;2m## 3. Health and Fitness\u001b[0m\n",
       "\u001b[1;38;2;212;183;2m- **Health Monitoring**: Apps like Fitbit use generative AI to analyze data and provide health recommendations.\u001b[0m\n",
       "\u001b[1;38;2;212;183;2m- **Telemedicine**: AI systems assist healthcare professionals by generating patient reports and insights based on \u001b[0m\n",
       "\u001b[1;38;2;212;183;2minput data.\u001b[0m\n",
       "\n",
       "\u001b[1;38;2;212;183;2m## 4. Social Media\u001b[0m\n",
       "\u001b[1;38;2;212;183;2m- **Content Moderation**: Generative AI helps filter out harmful or inappropriate content from social media feeds.\u001b[0m\n",
       "\u001b[1;38;2;212;183;2m- **Algorithm-Driven Feeds**: AI systems personalize content delivery on platforms like Facebook and Instagram \u001b[0m\n",
       "\u001b[1;38;2;212;183;2mbased on user interaction patterns.\u001b[0m\n",
       "\n",
       "\u001b[1;38;2;212;183;2mThese use cases illustrate the versatility of generative AI across various sectors, enhancing both productivity and\u001b[0m\n",
       "\u001b[1;38;2;212;183;2muser experience.\u001b[0m\n",
       "\n"
      ]
     },
     "metadata": {},
     "output_type": "display_data"
    },
    {
     "data": {
      "text/html": [
       "<pre style=\"white-space:pre;overflow-x:auto;line-height:normal;font-family:Menlo,'DejaVu Sans Mono',consolas,'Courier New',monospace\"><span style=\"color: #7f7f7f; text-decoration-color: #7f7f7f\">[Step 4: Duration 7.26 seconds]</span>\n",
       "</pre>\n"
      ],
      "text/plain": [
       "\u001b[2m[Step 4: Duration 7.26 seconds]\u001b[0m\n"
      ]
     },
     "metadata": {},
     "output_type": "display_data"
    }
   ],
   "source": [
    "# | notest\n",
    "\n",
    "agent = Agent(llm, agent_type='code')\n",
    "agent.add_vectorstore_tool(name='genai_search', \n",
    "                           description='Searches a database of information on generative AI.',\n",
    "                           store=store)\n",
    "\n",
    "answer = agent.run(\"Summarize some generative AI use cases in Markdown format. You may need to run at least three queries of the database.\")"
   ]
  },
  {
   "cell_type": "code",
   "execution_count": null,
   "metadata": {},
   "outputs": [
    {
     "data": {
      "text/markdown": [
       "\n",
       "# Generative AI Use Cases\n",
       "\n",
       "Generative AI refers to a category of artificial intelligence technologies that can create content in response to user prompts. Here are some key applications of generative AI:\n",
       "\n",
       "## 1. Content Creation\n",
       "- **Text Generation**: Tools like ChatGPT generate coherent and relevant text based on prompts.\n",
       "- **Image Generation**: Models such as DALL-E create unique images from text descriptions.\n",
       "- **Music and Video Creation**: Generative models can compose music or create video clips based on user inputs.\n",
       "\n",
       "## 2. Business Applications\n",
       "- **Personalized Recommendations**: In online shopping, generative AI analyzes user behavior to recommend products tailored to individual preferences.\n",
       "- **Chatbots and Digital Assistants**: Applications like Amazon Alexa and Google Assistant help users by providing information and performing tasks based on voice commands.\n",
       "\n",
       "## 3. Health and Fitness\n",
       "- **Health Monitoring**: Apps like Fitbit use generative AI to analyze data and provide health recommendations.\n",
       "- **Telemedicine**: AI systems assist healthcare professionals by generating patient reports and insights based on input data.\n",
       "\n",
       "## 4. Social Media\n",
       "- **Content Moderation**: Generative AI helps filter out harmful or inappropriate content from social media feeds.\n",
       "- **Algorithm-Driven Feeds**: AI systems personalize content delivery on platforms like Facebook and Instagram based on user interaction patterns.\n",
       "\n",
       "These use cases illustrate the versatility of generative AI across various sectors, enhancing both productivity and user experience.\n"
      ],
      "text/plain": [
       "<IPython.core.display.Markdown object>"
      ]
     },
     "metadata": {},
     "output_type": "display_data"
    }
   ],
   "source": [
    "# |  notest\n",
    "\n",
    "from IPython.display import display, Markdown\n",
    "display(Markdown(answer))"
   ]
  },
  {
   "cell_type": "code",
   "execution_count": null,
   "metadata": {},
   "outputs": [],
   "source": []
  },
  {
   "cell_type": "code",
   "execution_count": null,
   "metadata": {},
   "outputs": [],
   "source": []
  },
  {
   "cell_type": "code",
   "execution_count": null,
   "metadata": {},
   "outputs": [],
   "source": []
  },
  {
   "cell_type": "markdown",
   "metadata": {},
   "source": [
    "## Using Local Models in Agentic Workflows\n",
    "\n",
    "Some local (on-premises) models are better-suited for agentic workflows than others.  For instance, `ollama/llama3.2` is a 3B-parameter model and not recommended. In this example, we will use `ollama/llama3.1:8b` and repeat one of the earlier examples from above. The example below assumes you have already [installed  Ollama](https://ollama.com/) and pulled the Llama3.1:8b model with `ollama pull llama3.1:8b`.\n",
    "\n",
    "**Important Note:** If using a local model, it is important to set the context window to a higher value (e.g., 8192) to support agentic workflows.\n",
    "\n",
    "- For the llama.cpp backend, supply `n_ctx=8192` as a parameter to `LLM`.\n",
    "- For the Ollama backend, supply `num_ctx=8192` as a parameter to `LLM`.\n",
    "- For the Hugging Face transformers backend (e.g., `LLM(model_id='hugging-quants/Meta-Llama-3.1-8B-Instruct-AWQ-INT4', device='cuda'`), context window is set automatically, so no extra parameters are necessary."
   ]
  },
  {
   "cell_type": "code",
   "execution_count": null,
   "metadata": {},
   "outputs": [
    {
     "data": {
      "text/html": [
       "<pre style=\"white-space:pre;overflow-x:auto;line-height:normal;font-family:Menlo,'DejaVu Sans Mono',consolas,'Courier New',monospace\"><span style=\"color: #d4b702; text-decoration-color: #d4b702\">╭──────────────────────────────────────────────────── </span><span style=\"color: #d4b702; text-decoration-color: #d4b702; font-weight: bold\">New run</span><span style=\"color: #d4b702; text-decoration-color: #d4b702\"> ────────────────────────────────────────────────────╮</span>\n",
       "<span style=\"color: #d4b702; text-decoration-color: #d4b702\">│</span>                                                                                                                 <span style=\"color: #d4b702; text-decoration-color: #d4b702\">│</span>\n",
       "<span style=\"color: #d4b702; text-decoration-color: #d4b702\">│</span> <span style=\"font-weight: bold\">What is the highest level of education of the person listed on this page: https://arun.maiya.net?</span>               <span style=\"color: #d4b702; text-decoration-color: #d4b702\">│</span>\n",
       "<span style=\"color: #d4b702; text-decoration-color: #d4b702\">│</span>                                                                                                                 <span style=\"color: #d4b702; text-decoration-color: #d4b702\">│</span>\n",
       "<span style=\"color: #d4b702; text-decoration-color: #d4b702\">╰─ AgentModel - None ─────────────────────────────────────────────────────────────────────────────────────────────╯</span>\n",
       "</pre>\n"
      ],
      "text/plain": [
       "\u001b[38;2;212;183;2m╭─\u001b[0m\u001b[38;2;212;183;2m───────────────────────────────────────────────────\u001b[0m\u001b[38;2;212;183;2m \u001b[0m\u001b[1;38;2;212;183;2mNew run\u001b[0m\u001b[38;2;212;183;2m \u001b[0m\u001b[38;2;212;183;2m───────────────────────────────────────────────────\u001b[0m\u001b[38;2;212;183;2m─╮\u001b[0m\n",
       "\u001b[38;2;212;183;2m│\u001b[0m                                                                                                                 \u001b[38;2;212;183;2m│\u001b[0m\n",
       "\u001b[38;2;212;183;2m│\u001b[0m \u001b[1mWhat is the highest level of education of the person listed on this page: https://arun.maiya.net?\u001b[0m               \u001b[38;2;212;183;2m│\u001b[0m\n",
       "\u001b[38;2;212;183;2m│\u001b[0m                                                                                                                 \u001b[38;2;212;183;2m│\u001b[0m\n",
       "\u001b[38;2;212;183;2m╰─\u001b[0m\u001b[38;2;212;183;2m AgentModel - None \u001b[0m\u001b[38;2;212;183;2m────────────────────────────────────────────────────────────────────────────────────────────\u001b[0m\u001b[38;2;212;183;2m─╯\u001b[0m\n"
      ]
     },
     "metadata": {},
     "output_type": "display_data"
    },
    {
     "data": {
      "text/html": [
       "<pre style=\"white-space:pre;overflow-x:auto;line-height:normal;font-family:Menlo,'DejaVu Sans Mono',consolas,'Courier New',monospace\"><span style=\"color: #d4b702; text-decoration-color: #d4b702\">━━━━━━━━━━━━━━━━━━━━━━━━━━━━━━━━━━━━━━━━━━━━━━━━━━━━━ </span><span style=\"font-weight: bold\">Step </span><span style=\"color: #008080; text-decoration-color: #008080; font-weight: bold\">1</span><span style=\"color: #d4b702; text-decoration-color: #d4b702\"> ━━━━━━━━━━━━━━━━━━━━━━━━━━━━━━━━━━━━━━━━━━━━━━━━━━━━━━</span>\n",
       "</pre>\n"
      ],
      "text/plain": [
       "\u001b[38;2;212;183;2m━━━━━━━━━━━━━━━━━━━━━━━━━━━━━━━━━━━━━━━━━━━━━━━━━━━━━ \u001b[0m\u001b[1mStep \u001b[0m\u001b[1;36m1\u001b[0m\u001b[38;2;212;183;2m ━━━━━━━━━━━━━━━━━━━━━━━━━━━━━━━━━━━━━━━━━━━━━━━━━━━━━━\u001b[0m\n"
      ]
     },
     "metadata": {},
     "output_type": "display_data"
    },
    {
     "data": {
      "text/html": [
       "<pre style=\"white-space:pre;overflow-x:auto;line-height:normal;font-family:Menlo,'DejaVu Sans Mono',consolas,'Courier New',monospace\">╭─────────────────────────────────────────────────────────────────────────────────────────────────────────────────╮\n",
       "│ Calling tool: 'visit_webpage' with arguments: {'url': 'https://arun.maiya.net'}                                 │\n",
       "╰─────────────────────────────────────────────────────────────────────────────────────────────────────────────────╯\n",
       "</pre>\n"
      ],
      "text/plain": [
       "╭─────────────────────────────────────────────────────────────────────────────────────────────────────────────────╮\n",
       "│ Calling tool: 'visit_webpage' with arguments: {'url': 'https://arun.maiya.net'}                                 │\n",
       "╰─────────────────────────────────────────────────────────────────────────────────────────────────────────────────╯\n"
      ]
     },
     "metadata": {},
     "output_type": "display_data"
    },
    {
     "data": {
      "text/html": [
       "<pre style=\"white-space:pre;overflow-x:auto;line-height:normal;font-family:Menlo,'DejaVu Sans Mono',consolas,'Courier New',monospace\">Observations: Arun S. Maiya\n",
       "\n",
       "Arun S. Maiya   \n",
       "\n",
       "    \n",
       "\n",
       "arun |at<span style=\"font-weight: bold\">]</span> maiya |dot<span style=\"font-weight: bold\">]</span> net  \n",
       "\n",
       "|CV<span style=\"font-weight: bold\">](</span>asmcv.pdf<span style=\"font-weight: bold\">)</span> | |LinkedIn<span style=\"font-weight: bold\">](</span><span style=\"color: #0000ff; text-decoration-color: #0000ff; text-decoration: underline\">https://www.linkedin.com/in/arun-maiya/)</span> | |GitHub<span style=\"font-weight: bold\">](</span><span style=\"color: #0000ff; text-decoration-color: #0000ff; text-decoration: underline\">https://github.com/amaiya)</span>\n",
       "\n",
       "!|<span style=\"font-weight: bold\">](</span>asmpic.jpg<span style=\"font-weight: bold\">)</span>  \n",
       "\n",
       " \n",
       "\n",
       "Basics\n",
       "======\n",
       "\n",
       "I am a computer scientist at the |Institute for Defense Analyses <span style=\"font-weight: bold\">(</span>IDA<span style=\"font-weight: bold\">)](</span><span style=\"color: #0000ff; text-decoration-color: #0000ff; text-decoration: underline\">http://www.ida.org),</span> a federally-funded \n",
       "|think tank<span style=\"font-weight: bold\">](</span><span style=\"color: #0000ff; text-decoration-color: #0000ff; text-decoration: underline\">http://en.wikipedia.org/wiki/List_of_federally_funded_research_and_development_centers)</span> in the \n",
       "Washington D.C. metro area. My research broadly focuses on the study of computational methods to *extract meaning \n",
       "from raw data* and includes the areas of natural language processing, machine learning, data mining, computer \n",
       "vision, and network science <span style=\"font-weight: bold\">(</span>e.g., social network analysis<span style=\"font-weight: bold\">)</span>. I like building tools to make machine learning easier \n",
       "to apply in new ways and new areas. Through my work, I have contributed to national-level strategic-planning \n",
       "activities and R&amp;D roadmaps. I completed a Ph.D. in Computer Science at the |Laboratory for Computational \n",
       "Population Biology<span style=\"font-weight: bold\">](</span><span style=\"color: #0000ff; text-decoration-color: #0000ff; text-decoration: underline\">http://compbio.cs.uic.edu/),</span> which is within the |Department of Computer \n",
       "Science<span style=\"font-weight: bold\">](</span><span style=\"color: #0000ff; text-decoration-color: #0000ff; text-decoration: underline\">http://www.cs.uic.edu/)</span> at the\n",
       "|University of Illinois at Chicago <span style=\"font-weight: bold\">(</span>UIC<span style=\"font-weight: bold\">)](</span><span style=\"color: #0000ff; text-decoration-color: #0000ff; text-decoration: underline\">http://www.uic.edu/).</span> My CV is |here<span style=\"font-weight: bold\">](</span><span style=\"color: #0000ff; text-decoration-color: #0000ff; text-decoration: underline\">http://arun.maiya.net/asmcv.pdf).</span>\n",
       "\n",
       "Software\n",
       "========\n",
       "\n",
       "* **|ktrain<span style=\"font-weight: bold\">](</span><span style=\"color: #0000ff; text-decoration-color: #0000ff; text-decoration: underline\">https://github.com/amaiya/ktrain)</span>** is a Python library that makes deep learning and AI more \n",
       "accessible and easier to apply. With support for many different data types including text, images, and graphs, \n",
       "ktrain has been used for a wide range of use cases in industry, government, and academia. Examples include analyses\n",
       "for the U.S. Economic Census, financial crime analytics at Big <span style=\"color: #008080; text-decoration-color: #008080; font-weight: bold\">4</span> accounting firms, intelligence analyses, and \n",
       "|CoronaCentral.ai<span style=\"font-weight: bold\">](</span><span style=\"color: #0000ff; text-decoration-color: #0000ff; text-decoration: underline\">https://coronacentral.ai),</span> a machine-learning-enhanced search engine for coronavirus \n",
       "publications at Stanford University.\n",
       "* **|CausalNLP<span style=\"font-weight: bold\">](</span><span style=\"color: #0000ff; text-decoration-color: #0000ff; text-decoration: underline\">https://github.com/amaiya/causalnlp)</span>** is a practical toolkit for causal inference with text as \n",
       "treatment, outcome, or <span style=\"color: #008000; text-decoration-color: #008000\">\"controlled-for\"</span> variable.\n",
       "* **|IDATA<span style=\"font-weight: bold\">](</span><span style=\"color: #0000ff; text-decoration-color: #0000ff; text-decoration: underline\">https://arxiv.org/abs/1308.2359)</span>** is a suite of software capabilities designed to facilitate search, \n",
       "exploration, and analyses of very large document sets using state-of-the-art machine learning, NLP, and information\n",
       "retrieval. It has been used for a variety of different application in the |DoD<span style=\"font-weight: bold\">](</span><span style=\"color: #0000ff; text-decoration-color: #0000ff; text-decoration: underline\">https://www.defense.gov)</span> including \n",
       "cyber damage assessments, biosurveillance, and policy analyses.\n",
       "* **|OnPrem.LLM<span style=\"font-weight: bold\">](</span><span style=\"color: #0000ff; text-decoration-color: #0000ff; text-decoration: underline\">https://github.com/amaiya/onprem)</span>** is a simple Python package for generative AI that makes it \n",
       "easier to run large language models <span style=\"font-weight: bold\">(</span>LLMs<span style=\"font-weight: bold\">)</span> on your own machine using non-public data.\n",
       "\n",
       "Publications\n",
       "============\n",
       "\n",
       "|**ktrain: A Low-Code Library for Augmented Machine \n",
       "Learning**<span style=\"font-weight: bold\">](</span><span style=\"color: #0000ff; text-decoration-color: #0000ff; text-decoration: underline\">https://www.jmlr.org/papers/volume23/21-1124/21-1124.pdf)</span>  \n",
       "\n",
       "A.S. Maiya  \n",
       "\n",
       " *Journal of Machine Learning Research <span style=\"font-weight: bold\">(</span>JMLR<span style=\"font-weight: bold\">)</span>.*  May <span style=\"color: #008080; text-decoration-color: #008080; font-weight: bold\">2022</span>.\n",
       "\n",
       "|**CausalNLP: A Practical Toolkit for Causal Inference with Text**<span style=\"font-weight: bold\">](</span><span style=\"color: #0000ff; text-decoration-color: #0000ff; text-decoration: underline\">https://arxiv.org/abs/2106.08043)</span>   \n",
       "\n",
       "A.S. Maiya  \n",
       "\n",
       " *arXiv preprint arXiv:<span style=\"color: #008080; text-decoration-color: #008080; font-weight: bold\">2106.08043</span> .*  Jun <span style=\"color: #008080; text-decoration-color: #008080; font-weight: bold\">2021</span>. |arXiv only<span style=\"font-weight: bold\">]</span>\n",
       "\n",
       "|**A Framework for Comparing Groups of Documents**<span style=\"font-weight: bold\">](</span><span style=\"color: #0000ff; text-decoration-color: #0000ff; text-decoration: underline\">https://arxiv.org/abs/1508.05902)</span>  \n",
       "\n",
       "A.S. Maiya  \n",
       "\n",
       " *Proc. <span style=\"color: #008080; text-decoration-color: #008080; font-weight: bold\">2015</span> Conference on Empirical Methods in Natural Language Processing <span style=\"font-weight: bold\">(</span>EMNLP '<span style=\"color: #008080; text-decoration-color: #008080; font-weight: bold\">15</span><span style=\"font-weight: bold\">)</span>.*  Lisbon, Portugal. Sep \n",
       "<span style=\"color: #008080; text-decoration-color: #008080; font-weight: bold\">2015</span>.\n",
       "\n",
       "|**Mining Measured Information from Text**<span style=\"font-weight: bold\">](</span><span style=\"color: #0000ff; text-decoration-color: #0000ff; text-decoration: underline\">https://arxiv.org/abs/1505.01072)</span>  \n",
       "\n",
       "A.S. Maiya, D. Visser, and A. Wan  \n",
       "\n",
       " *Proc. 38th Annual ACM SIGIR Conference <span style=\"font-weight: bold\">(</span>SIGIR '<span style=\"color: #008080; text-decoration-color: #008080; font-weight: bold\">15</span><span style=\"font-weight: bold\">)</span>.* Santiago, Chile. Aug <span style=\"color: #008080; text-decoration-color: #008080; font-weight: bold\">2015</span>.\n",
       "\n",
       "|**Topic Similarity Networks: Visual Analytics for Large Document Sets**<span style=\"font-weight: bold\">](</span><span style=\"color: #0000ff; text-decoration-color: #0000ff; text-decoration: underline\">https://arxiv.org/abs/1409.7591)</span>  \n",
       "\n",
       "A.S. Maiya and R.M. Rolfe  \n",
       "\n",
       " *Proc. <span style=\"color: #008080; text-decoration-color: #008080; font-weight: bold\">2014</span> IEEE International Conference on Big Data <span style=\"font-weight: bold\">(</span>IEEE BigData '<span style=\"color: #008080; text-decoration-color: #008080; font-weight: bold\">14</span><span style=\"font-weight: bold\">)</span>.* Washington, D.C., Oct <span style=\"color: #008080; text-decoration-color: #008080; font-weight: bold\">2014</span>.\n",
       "\n",
       "|**Exploratory Analysis of Highly Heterogeneous Document Collections**<span style=\"font-weight: bold\">](</span><span style=\"color: #0000ff; text-decoration-color: #0000ff; text-decoration: underline\">https://arxiv.org/abs/1308.2359)</span>  \n",
       "\n",
       "A.S. Maiya, J.P. Thompson, F. Loaiza-Lemos, and R.M. Rolfe  \n",
       "\n",
       " *Proc. 19th ACM SIGKDD Conference on Knowledge Discovery and Data Mining <span style=\"font-weight: bold\">(</span>KDD '<span style=\"color: #008080; text-decoration-color: #008080; font-weight: bold\">13</span><span style=\"font-weight: bold\">)</span>.* Chicago, IL, Aug <span style=\"color: #008080; text-decoration-color: #008080; font-weight: bold\">2013</span>.\n",
       "\n",
       "|**Expansion and Decentralized Search in Complex \n",
       "Networks**<span style=\"font-weight: bold\">](</span><span style=\"color: #0000ff; text-decoration-color: #0000ff; text-decoration: underline\">http://link.springer.com/article/10.1007/s10115-012-0596-4)</span>  \n",
       "\n",
       "A.S. Maiya and T.Y. Berger-Wolf  \n",
       "\n",
       " *Journal of Knowledge and Information Systems.* First published online January <span style=\"color: #008080; text-decoration-color: #008080; font-weight: bold\">2013</span>.\n",
       "\n",
       "|**Supervised Learning in the Wild: Text Classification for Critical \n",
       "Technologies**<span style=\"font-weight: bold\">](</span><span style=\"color: #0000ff; text-decoration-color: #0000ff; text-decoration: underline\">https://ieeexplore.ieee.org/document/6415660)</span>  \n",
       "\n",
       "A.S. Maiya, F. Loaiza-Lemos, and R.M. Rolfe  \n",
       "\n",
       " *Proc. IEEE Military Communications Conference <span style=\"font-weight: bold\">(</span>MILCOM '<span style=\"color: #008080; text-decoration-color: #008080; font-weight: bold\">12</span><span style=\"font-weight: bold\">)</span>.* Orlando, FL, Oct <span style=\"color: #008080; text-decoration-color: #008080; font-weight: bold\">2012</span>.\n",
       "\n",
       "|**Benefits of Bias: Towards Better Characterization of Network Sampling**<span style=\"font-weight: bold\">](</span><span style=\"color: #0000ff; text-decoration-color: #0000ff; text-decoration: underline\">https://arxiv.org/abs/1109.3911)</span>  \n",
       "\n",
       "A.S. Maiya and T.Y. Berger-Wolf  \n",
       "\n",
       " *Proc. 17th ACM SIGKDD Conference on Knowledge Discovery and Data Mining <span style=\"font-weight: bold\">(</span>KDD '<span style=\"color: #008080; text-decoration-color: #008080; font-weight: bold\">11</span><span style=\"font-weight: bold\">)</span>.* San Diego, CA, Aug <span style=\"color: #008080; text-decoration-color: #008080; font-weight: bold\">2011</span>.\n",
       "\n",
       "|**Aggression, Grooming, and Group-level Cooperation in White-faced Capuchins: Insights from Social \n",
       "Networks**<span style=\"font-weight: bold\">](</span><span style=\"color: #0000ff; text-decoration-color: #0000ff; text-decoration: underline\">http://onlinelibrary.wiley.com/doi/10.1002/ajp.20959/abstract)</span>  \n",
       "\n",
       "M.C. Crofoot, D.I. Rubenstein, A.S. Maiya, and T.Y. Berger-Wolf  \n",
       "\n",
       " *American Journal of Primatology.* First published online May <span style=\"color: #008080; text-decoration-color: #008080; font-weight: bold\">2011</span>.\n",
       "\n",
       "|**Sampling and Inference in Complex Networks**<span style=\"font-weight: bold\">](</span><span style=\"color: #0000ff; text-decoration-color: #0000ff; text-decoration: underline\">https://dl.acm.org/doi/abs/10.5555/2395432)</span>  \n",
       "\n",
       "A.S. Maiya  \n",
       "\n",
       " *Ph.D. Dissertation, University of Illinois at Chicago <span style=\"font-weight: bold\">(</span>UIC<span style=\"font-weight: bold\">)</span>.* Chicago, IL, Apr <span style=\"color: #008080; text-decoration-color: #008080; font-weight: bold\">2011</span>.\n",
       "\n",
       "|**Expansion and Search in Networks**<span style=\"font-weight: bold\">](</span><span style=\"color: #0000ff; text-decoration-color: #0000ff; text-decoration: underline\">https://arxiv.org/abs/1009.4383)</span>  \n",
       "\n",
       "A.S. Maiya and T.Y. Berger-Wolf  \n",
       "\n",
       " *Proc. 19th ACM Intl. Conference on Information and Knowledge Management <span style=\"font-weight: bold\">(</span>CIKM '<span style=\"color: #008080; text-decoration-color: #008080; font-weight: bold\">10</span><span style=\"font-weight: bold\">)</span>.* Toronto, Canada, Oct <span style=\"color: #008080; text-decoration-color: #008080; font-weight: bold\">2010</span>.\n",
       "\n",
       "|**Online Sampling of High Centrality Individuals in Social \n",
       "Networks**<span style=\"font-weight: bold\">](</span><span style=\"color: #0000ff; text-decoration-color: #0000ff; text-decoration: underline\">https://link.springer.com/chapter/10.1007/978-3-642-13657-3_12)</span>  \n",
       "\n",
       "A.S. Maiya and T.Y. Berger-Wolf  \n",
       "\n",
       " *Proc. 14th Pacific-Asia Conference on Knowledge Discovery and Data Mining <span style=\"font-weight: bold\">(</span>PAKDD '<span style=\"color: #008080; text-decoration-color: #008080; font-weight: bold\">10</span><span style=\"font-weight: bold\">)</span>.* Hyderabad, India, Jun \n",
       "<span style=\"color: #008080; text-decoration-color: #008080; font-weight: bold\">2010</span>.\n",
       "\n",
       "|**Sampling Community Structure**<span style=\"font-weight: bold\">](</span><span style=\"color: #0000ff; text-decoration-color: #0000ff; text-decoration: underline\">https://dl.acm.org/doi/10.1145/1772690.1772762)</span>  \n",
       "\n",
       "A.S. Maiya and T.Y. Berger-Wolf  \n",
       "\n",
       " *Proc. 19th ACM Intl. Conference on the World Wide Web <span style=\"font-weight: bold\">(</span>WWW '<span style=\"color: #008080; text-decoration-color: #008080; font-weight: bold\">10</span><span style=\"font-weight: bold\">)</span>.* Raleigh, NC, Apr <span style=\"color: #008080; text-decoration-color: #008080; font-weight: bold\">2010</span>.\n",
       "\n",
       "|**Inferring the Maximum Likelihood Hierarchy in Social Networks**<span style=\"font-weight: bold\">](</span><span style=\"color: #0000ff; text-decoration-color: #0000ff; text-decoration: underline\">https://ieeexplore.ieee.org/document/5284124)</span>  \n",
       "\n",
       "A.S. Maiya and T.Y. Berger-Wolf  \n",
       "\n",
       " *Proc. 12th IEEE Intl. Conference on Computational Science and Engineering <span style=\"font-weight: bold\">(</span>CSE '<span style=\"color: #008080; text-decoration-color: #008080; font-weight: bold\">09</span><span style=\"font-weight: bold\">)</span>.* Vancouver, Canada, Aug \n",
       "<span style=\"color: #008080; text-decoration-color: #008080; font-weight: bold\">2009</span>.\n",
       "\n",
       "|**The Impact of Structural Changes on Predictions of Diffusion in \n",
       "Networks**<span style=\"font-weight: bold\">](</span><span style=\"color: #0000ff; text-decoration-color: #0000ff; text-decoration: underline\">https://www.computer.org/csdl/proceedings-article/icdmw/2008/3503a939/12OmNBU1jIK)</span>  \n",
       "\n",
       "M. Lahiri, A.S. Maiya, R. Sulo, Habiba and T.Y. Berger-Wolf  \n",
       "\n",
       "*ICDM '<span style=\"color: #008080; text-decoration-color: #008080; font-weight: bold\">08</span> Workshop on Analysis of Dynamic Networks*. Pisa, Italy, Dec <span style=\"color: #008080; text-decoration-color: #008080; font-weight: bold\">2008</span>.\n",
       "\n",
       "Honors and Awards\n",
       "=================\n",
       "\n",
       "**Goodpaster Award for Excellence in Research**, Institute for Defense Analyses, <span style=\"color: #008080; text-decoration-color: #008080; font-weight: bold\">2021</span> ||News \n",
       "Release<span style=\"font-weight: bold\">](</span><span style=\"color: #0000ff; text-decoration-color: #0000ff; text-decoration: underline\">https://www.ida.org/research-and-publications/publications/all/a/ar/arun-maiya-receives-2021-goodpaster-aw</span>\n",
       "<span style=\"color: #0000ff; text-decoration-color: #0000ff; text-decoration: underline\">ard-for-excellence-in-research)</span><span style=\"font-weight: bold\">]</span>\n",
       "\n",
       "&gt; *This prize is named for Gen. Andrew J. Goodpaster <span style=\"font-weight: bold\">(</span>USA, retired<span style=\"font-weight: bold\">)</span> and is awarded to an individual demonstrating \n",
       "<span style=\"color: #008000; text-decoration-color: #008000\">\"research excellence, exceptional analytic achievement and intellectual leadership.\"</span>*\n",
       "\n",
       "**Welch Award for Best External Research**, Institute for Defense Analyses, <span style=\"color: #008080; text-decoration-color: #008080; font-weight: bold\">2016</span>\n",
       "\n",
       "&gt; *Named in honor of General Larry D. Welch <span style=\"font-weight: bold\">(</span>USAF, ret.<span style=\"font-weight: bold\">)</span>, this award <span style=\"color: #008000; text-decoration-color: #008000\">\"honors individuals whose external research </span>\n",
       "<span style=\"color: #008000; text-decoration-color: #008000\">publications exemplify General Welch's high standards of analytic excellence and relevance.\"</span>*\n",
       "\n",
       "**AFEI Award for Excellence in Enterprise Information**, NDIA <span style=\"font-weight: bold\">(</span>formerly Association for Enterprise Information<span style=\"font-weight: bold\">)</span>, \n",
       "<span style=\"color: #008080; text-decoration-color: #008080; font-weight: bold\">2015</span>\n",
       "\n",
       "&gt; *This award is to <span style=\"color: #008000; text-decoration-color: #008000\">\"recognize and reward the contributions and achievements of project teams that exemplify </span>\n",
       "<span style=\"color: #008000; text-decoration-color: #008000\">excellence in achieving integrated enterprises. Winning teams are models of the best applications of technology and</span>\n",
       "<span style=\"color: #008000; text-decoration-color: #008000\">leadership to improve enterprise performance.\"</span>*\n",
       "\n",
       "&lt;script\n",
       "</pre>\n"
      ],
      "text/plain": [
       "Observations: Arun S. Maiya\n",
       "\n",
       "Arun S. Maiya   \n",
       "\n",
       "    \n",
       "\n",
       "arun |at\u001b[1m]\u001b[0m maiya |dot\u001b[1m]\u001b[0m net  \n",
       "\n",
       "|CV\u001b[1m]\u001b[0m\u001b[1m(\u001b[0masmcv.pdf\u001b[1m)\u001b[0m | |LinkedIn\u001b[1m]\u001b[0m\u001b[1m(\u001b[0m\u001b[4;94mhttps://www.linkedin.com/in/arun-maiya/\u001b[0m\u001b[4;94m)\u001b[0m | |GitHub\u001b[1m]\u001b[0m\u001b[1m(\u001b[0m\u001b[4;94mhttps://github.com/amaiya\u001b[0m\u001b[4;94m)\u001b[0m\n",
       "\n",
       "!|\u001b[1m]\u001b[0m\u001b[1m(\u001b[0masmpic.jpg\u001b[1m)\u001b[0m  \n",
       "\n",
       " \n",
       "\n",
       "Basics\n",
       "======\n",
       "\n",
       "I am a computer scientist at the |Institute for Defense Analyses \u001b[1m(\u001b[0mIDA\u001b[1m)\u001b[0m\u001b[1m]\u001b[0m\u001b[1m(\u001b[0m\u001b[4;94mhttp://www.ida.org\u001b[0m\u001b[4;94m)\u001b[0m\u001b[4;94m,\u001b[0m a federally-funded \n",
       "|think tank\u001b[1m]\u001b[0m\u001b[1m(\u001b[0m\u001b[4;94mhttp://en.wikipedia.org/wiki/List_of_federally_funded_research_and_development_centers\u001b[0m\u001b[4;94m)\u001b[0m in the \n",
       "Washington D.C. metro area. My research broadly focuses on the study of computational methods to *extract meaning \n",
       "from raw data* and includes the areas of natural language processing, machine learning, data mining, computer \n",
       "vision, and network science \u001b[1m(\u001b[0me.g., social network analysis\u001b[1m)\u001b[0m. I like building tools to make machine learning easier \n",
       "to apply in new ways and new areas. Through my work, I have contributed to national-level strategic-planning \n",
       "activities and R&D roadmaps. I completed a Ph.D. in Computer Science at the |Laboratory for Computational \n",
       "Population Biology\u001b[1m]\u001b[0m\u001b[1m(\u001b[0m\u001b[4;94mhttp://compbio.cs.uic.edu/\u001b[0m\u001b[4;94m)\u001b[0m\u001b[4;94m,\u001b[0m which is within the |Department of Computer \n",
       "Science\u001b[1m]\u001b[0m\u001b[1m(\u001b[0m\u001b[4;94mhttp://www.cs.uic.edu/\u001b[0m\u001b[4;94m)\u001b[0m at the\n",
       "|University of Illinois at Chicago \u001b[1m(\u001b[0mUIC\u001b[1m)\u001b[0m\u001b[1m]\u001b[0m\u001b[1m(\u001b[0m\u001b[4;94mhttp://www.uic.edu/\u001b[0m\u001b[4;94m)\u001b[0m\u001b[4;94m.\u001b[0m My CV is |here\u001b[1m]\u001b[0m\u001b[1m(\u001b[0m\u001b[4;94mhttp://arun.maiya.net/asmcv.pdf\u001b[0m\u001b[4;94m)\u001b[0m\u001b[4;94m.\u001b[0m\n",
       "\n",
       "Software\n",
       "========\n",
       "\n",
       "* **|ktrain\u001b[1m]\u001b[0m\u001b[1m(\u001b[0m\u001b[4;94mhttps://github.com/amaiya/ktrain\u001b[0m\u001b[4;94m)\u001b[0m** is a Python library that makes deep learning and AI more \n",
       "accessible and easier to apply. With support for many different data types including text, images, and graphs, \n",
       "ktrain has been used for a wide range of use cases in industry, government, and academia. Examples include analyses\n",
       "for the U.S. Economic Census, financial crime analytics at Big \u001b[1;36m4\u001b[0m accounting firms, intelligence analyses, and \n",
       "|CoronaCentral.ai\u001b[1m]\u001b[0m\u001b[1m(\u001b[0m\u001b[4;94mhttps://coronacentral.ai\u001b[0m\u001b[4;94m)\u001b[0m\u001b[4;94m,\u001b[0m a machine-learning-enhanced search engine for coronavirus \n",
       "publications at Stanford University.\n",
       "* **|CausalNLP\u001b[1m]\u001b[0m\u001b[1m(\u001b[0m\u001b[4;94mhttps://github.com/amaiya/causalnlp\u001b[0m\u001b[4;94m)\u001b[0m** is a practical toolkit for causal inference with text as \n",
       "treatment, outcome, or \u001b[32m\"controlled-for\"\u001b[0m variable.\n",
       "* **|IDATA\u001b[1m]\u001b[0m\u001b[1m(\u001b[0m\u001b[4;94mhttps://arxiv.org/abs/1308.2359\u001b[0m\u001b[4;94m)\u001b[0m** is a suite of software capabilities designed to facilitate search, \n",
       "exploration, and analyses of very large document sets using state-of-the-art machine learning, NLP, and information\n",
       "retrieval. It has been used for a variety of different application in the |DoD\u001b[1m]\u001b[0m\u001b[1m(\u001b[0m\u001b[4;94mhttps://www.defense.gov\u001b[0m\u001b[4;94m)\u001b[0m including \n",
       "cyber damage assessments, biosurveillance, and policy analyses.\n",
       "* **|OnPrem.LLM\u001b[1m]\u001b[0m\u001b[1m(\u001b[0m\u001b[4;94mhttps://github.com/amaiya/onprem\u001b[0m\u001b[4;94m)\u001b[0m** is a simple Python package for generative AI that makes it \n",
       "easier to run large language models \u001b[1m(\u001b[0mLLMs\u001b[1m)\u001b[0m on your own machine using non-public data.\n",
       "\n",
       "Publications\n",
       "============\n",
       "\n",
       "|**ktrain: A Low-Code Library for Augmented Machine \n",
       "Learning**\u001b[1m]\u001b[0m\u001b[1m(\u001b[0m\u001b[4;94mhttps://www.jmlr.org/papers/volume23/21-1124/21-1124.pdf\u001b[0m\u001b[4;94m)\u001b[0m  \n",
       "\n",
       "A.S. Maiya  \n",
       "\n",
       " *Journal of Machine Learning Research \u001b[1m(\u001b[0mJMLR\u001b[1m)\u001b[0m.*  May \u001b[1;36m2022\u001b[0m.\n",
       "\n",
       "|**CausalNLP: A Practical Toolkit for Causal Inference with Text**\u001b[1m]\u001b[0m\u001b[1m(\u001b[0m\u001b[4;94mhttps://arxiv.org/abs/2106.08043\u001b[0m\u001b[4;94m)\u001b[0m   \n",
       "\n",
       "A.S. Maiya  \n",
       "\n",
       " *arXiv preprint arXiv:\u001b[1;36m2106.08043\u001b[0m .*  Jun \u001b[1;36m2021\u001b[0m. |arXiv only\u001b[1m]\u001b[0m\n",
       "\n",
       "|**A Framework for Comparing Groups of Documents**\u001b[1m]\u001b[0m\u001b[1m(\u001b[0m\u001b[4;94mhttps://arxiv.org/abs/1508.05902\u001b[0m\u001b[4;94m)\u001b[0m  \n",
       "\n",
       "A.S. Maiya  \n",
       "\n",
       " *Proc. \u001b[1;36m2015\u001b[0m Conference on Empirical Methods in Natural Language Processing \u001b[1m(\u001b[0mEMNLP '\u001b[1;36m15\u001b[0m\u001b[1m)\u001b[0m.*  Lisbon, Portugal. Sep \n",
       "\u001b[1;36m2015\u001b[0m.\n",
       "\n",
       "|**Mining Measured Information from Text**\u001b[1m]\u001b[0m\u001b[1m(\u001b[0m\u001b[4;94mhttps://arxiv.org/abs/1505.01072\u001b[0m\u001b[4;94m)\u001b[0m  \n",
       "\n",
       "A.S. Maiya, D. Visser, and A. Wan  \n",
       "\n",
       " *Proc. 38th Annual ACM SIGIR Conference \u001b[1m(\u001b[0mSIGIR '\u001b[1;36m15\u001b[0m\u001b[1m)\u001b[0m.* Santiago, Chile. Aug \u001b[1;36m2015\u001b[0m.\n",
       "\n",
       "|**Topic Similarity Networks: Visual Analytics for Large Document Sets**\u001b[1m]\u001b[0m\u001b[1m(\u001b[0m\u001b[4;94mhttps://arxiv.org/abs/1409.7591\u001b[0m\u001b[4;94m)\u001b[0m  \n",
       "\n",
       "A.S. Maiya and R.M. Rolfe  \n",
       "\n",
       " *Proc. \u001b[1;36m2014\u001b[0m IEEE International Conference on Big Data \u001b[1m(\u001b[0mIEEE BigData '\u001b[1;36m14\u001b[0m\u001b[1m)\u001b[0m.* Washington, D.C., Oct \u001b[1;36m2014\u001b[0m.\n",
       "\n",
       "|**Exploratory Analysis of Highly Heterogeneous Document Collections**\u001b[1m]\u001b[0m\u001b[1m(\u001b[0m\u001b[4;94mhttps://arxiv.org/abs/1308.2359\u001b[0m\u001b[4;94m)\u001b[0m  \n",
       "\n",
       "A.S. Maiya, J.P. Thompson, F. Loaiza-Lemos, and R.M. Rolfe  \n",
       "\n",
       " *Proc. 19th ACM SIGKDD Conference on Knowledge Discovery and Data Mining \u001b[1m(\u001b[0mKDD '\u001b[1;36m13\u001b[0m\u001b[1m)\u001b[0m.* Chicago, IL, Aug \u001b[1;36m2013\u001b[0m.\n",
       "\n",
       "|**Expansion and Decentralized Search in Complex \n",
       "Networks**\u001b[1m]\u001b[0m\u001b[1m(\u001b[0m\u001b[4;94mhttp://link.springer.com/article/10.1007/s10115-012-0596-4\u001b[0m\u001b[4;94m)\u001b[0m  \n",
       "\n",
       "A.S. Maiya and T.Y. Berger-Wolf  \n",
       "\n",
       " *Journal of Knowledge and Information Systems.* First published online January \u001b[1;36m2013\u001b[0m.\n",
       "\n",
       "|**Supervised Learning in the Wild: Text Classification for Critical \n",
       "Technologies**\u001b[1m]\u001b[0m\u001b[1m(\u001b[0m\u001b[4;94mhttps://ieeexplore.ieee.org/document/6415660\u001b[0m\u001b[4;94m)\u001b[0m  \n",
       "\n",
       "A.S. Maiya, F. Loaiza-Lemos, and R.M. Rolfe  \n",
       "\n",
       " *Proc. IEEE Military Communications Conference \u001b[1m(\u001b[0mMILCOM '\u001b[1;36m12\u001b[0m\u001b[1m)\u001b[0m.* Orlando, FL, Oct \u001b[1;36m2012\u001b[0m.\n",
       "\n",
       "|**Benefits of Bias: Towards Better Characterization of Network Sampling**\u001b[1m]\u001b[0m\u001b[1m(\u001b[0m\u001b[4;94mhttps://arxiv.org/abs/1109.3911\u001b[0m\u001b[4;94m)\u001b[0m  \n",
       "\n",
       "A.S. Maiya and T.Y. Berger-Wolf  \n",
       "\n",
       " *Proc. 17th ACM SIGKDD Conference on Knowledge Discovery and Data Mining \u001b[1m(\u001b[0mKDD '\u001b[1;36m11\u001b[0m\u001b[1m)\u001b[0m.* San Diego, CA, Aug \u001b[1;36m2011\u001b[0m.\n",
       "\n",
       "|**Aggression, Grooming, and Group-level Cooperation in White-faced Capuchins: Insights from Social \n",
       "Networks**\u001b[1m]\u001b[0m\u001b[1m(\u001b[0m\u001b[4;94mhttp://onlinelibrary.wiley.com/doi/10.1002/ajp.20959/abstract\u001b[0m\u001b[4;94m)\u001b[0m  \n",
       "\n",
       "M.C. Crofoot, D.I. Rubenstein, A.S. Maiya, and T.Y. Berger-Wolf  \n",
       "\n",
       " *American Journal of Primatology.* First published online May \u001b[1;36m2011\u001b[0m.\n",
       "\n",
       "|**Sampling and Inference in Complex Networks**\u001b[1m]\u001b[0m\u001b[1m(\u001b[0m\u001b[4;94mhttps://dl.acm.org/doi/abs/10.5555/2395432\u001b[0m\u001b[4;94m)\u001b[0m  \n",
       "\n",
       "A.S. Maiya  \n",
       "\n",
       " *Ph.D. Dissertation, University of Illinois at Chicago \u001b[1m(\u001b[0mUIC\u001b[1m)\u001b[0m.* Chicago, IL, Apr \u001b[1;36m2011\u001b[0m.\n",
       "\n",
       "|**Expansion and Search in Networks**\u001b[1m]\u001b[0m\u001b[1m(\u001b[0m\u001b[4;94mhttps://arxiv.org/abs/1009.4383\u001b[0m\u001b[4;94m)\u001b[0m  \n",
       "\n",
       "A.S. Maiya and T.Y. Berger-Wolf  \n",
       "\n",
       " *Proc. 19th ACM Intl. Conference on Information and Knowledge Management \u001b[1m(\u001b[0mCIKM '\u001b[1;36m10\u001b[0m\u001b[1m)\u001b[0m.* Toronto, Canada, Oct \u001b[1;36m2010\u001b[0m.\n",
       "\n",
       "|**Online Sampling of High Centrality Individuals in Social \n",
       "Networks**\u001b[1m]\u001b[0m\u001b[1m(\u001b[0m\u001b[4;94mhttps://link.springer.com/chapter/10.1007/978-3-642-13657-3_12\u001b[0m\u001b[4;94m)\u001b[0m  \n",
       "\n",
       "A.S. Maiya and T.Y. Berger-Wolf  \n",
       "\n",
       " *Proc. 14th Pacific-Asia Conference on Knowledge Discovery and Data Mining \u001b[1m(\u001b[0mPAKDD '\u001b[1;36m10\u001b[0m\u001b[1m)\u001b[0m.* Hyderabad, India, Jun \n",
       "\u001b[1;36m2010\u001b[0m.\n",
       "\n",
       "|**Sampling Community Structure**\u001b[1m]\u001b[0m\u001b[1m(\u001b[0m\u001b[4;94mhttps://dl.acm.org/doi/10.1145/1772690.1772762\u001b[0m\u001b[4;94m)\u001b[0m  \n",
       "\n",
       "A.S. Maiya and T.Y. Berger-Wolf  \n",
       "\n",
       " *Proc. 19th ACM Intl. Conference on the World Wide Web \u001b[1m(\u001b[0mWWW '\u001b[1;36m10\u001b[0m\u001b[1m)\u001b[0m.* Raleigh, NC, Apr \u001b[1;36m2010\u001b[0m.\n",
       "\n",
       "|**Inferring the Maximum Likelihood Hierarchy in Social Networks**\u001b[1m]\u001b[0m\u001b[1m(\u001b[0m\u001b[4;94mhttps://ieeexplore.ieee.org/document/5284124\u001b[0m\u001b[4;94m)\u001b[0m  \n",
       "\n",
       "A.S. Maiya and T.Y. Berger-Wolf  \n",
       "\n",
       " *Proc. 12th IEEE Intl. Conference on Computational Science and Engineering \u001b[1m(\u001b[0mCSE '\u001b[1;36m09\u001b[0m\u001b[1m)\u001b[0m.* Vancouver, Canada, Aug \n",
       "\u001b[1;36m2009\u001b[0m.\n",
       "\n",
       "|**The Impact of Structural Changes on Predictions of Diffusion in \n",
       "Networks**\u001b[1m]\u001b[0m\u001b[1m(\u001b[0m\u001b[4;94mhttps://www.computer.org/csdl/proceedings-article/icdmw/2008/3503a939/12OmNBU1jIK\u001b[0m\u001b[4;94m)\u001b[0m  \n",
       "\n",
       "M. Lahiri, A.S. Maiya, R. Sulo, Habiba and T.Y. Berger-Wolf  \n",
       "\n",
       "*ICDM '\u001b[1;36m08\u001b[0m Workshop on Analysis of Dynamic Networks*. Pisa, Italy, Dec \u001b[1;36m2008\u001b[0m.\n",
       "\n",
       "Honors and Awards\n",
       "=================\n",
       "\n",
       "**Goodpaster Award for Excellence in Research**, Institute for Defense Analyses, \u001b[1;36m2021\u001b[0m ||News \n",
       "Release\u001b[1m]\u001b[0m\u001b[1m(\u001b[0m\u001b[4;94mhttps://www.ida.org/research-and-publications/publications/all/a/ar/arun-maiya-receives-2021-goodpaster-aw\u001b[0m\n",
       "\u001b[4;94mard-for-excellence-in-research\u001b[0m\u001b[4;94m)\u001b[0m\u001b[1m]\u001b[0m\n",
       "\n",
       "> *This prize is named for Gen. Andrew J. Goodpaster \u001b[1m(\u001b[0mUSA, retired\u001b[1m)\u001b[0m and is awarded to an individual demonstrating \n",
       "\u001b[32m\"research excellence, exceptional analytic achievement and intellectual leadership.\"\u001b[0m*\n",
       "\n",
       "**Welch Award for Best External Research**, Institute for Defense Analyses, \u001b[1;36m2016\u001b[0m\n",
       "\n",
       "> *Named in honor of General Larry D. Welch \u001b[1m(\u001b[0mUSAF, ret.\u001b[1m)\u001b[0m, this award \u001b[32m\"honors individuals whose external research \u001b[0m\n",
       "\u001b[32mpublications exemplify General Welch's high standards of analytic excellence and relevance.\"\u001b[0m*\n",
       "\n",
       "**AFEI Award for Excellence in Enterprise Information**, NDIA \u001b[1m(\u001b[0mformerly Association for Enterprise Information\u001b[1m)\u001b[0m, \n",
       "\u001b[1;36m2015\u001b[0m\n",
       "\n",
       "> *This award is to \u001b[32m\"recognize and reward the contributions and achievements of project teams that exemplify \u001b[0m\n",
       "\u001b[32mexcellence in achieving integrated enterprises. Winning teams are models of the best applications of technology and\u001b[0m\n",
       "\u001b[32mleadership to improve enterprise performance.\"\u001b[0m*\n",
       "\n",
       "<script\n"
      ]
     },
     "metadata": {},
     "output_type": "display_data"
    },
    {
     "data": {
      "text/html": [
       "<pre style=\"white-space:pre;overflow-x:auto;line-height:normal;font-family:Menlo,'DejaVu Sans Mono',consolas,'Courier New',monospace\"><span style=\"color: #7f7f7f; text-decoration-color: #7f7f7f\">[Step 1: Duration 8.83 seconds]</span>\n",
       "</pre>\n"
      ],
      "text/plain": [
       "\u001b[2m[Step 1: Duration 8.83 seconds]\u001b[0m\n"
      ]
     },
     "metadata": {},
     "output_type": "display_data"
    },
    {
     "data": {
      "text/html": [
       "<pre style=\"white-space:pre;overflow-x:auto;line-height:normal;font-family:Menlo,'DejaVu Sans Mono',consolas,'Courier New',monospace\"><span style=\"color: #d4b702; text-decoration-color: #d4b702\">━━━━━━━━━━━━━━━━━━━━━━━━━━━━━━━━━━━━━━━━━━━━━━━━━━━━━ </span><span style=\"font-weight: bold\">Step </span><span style=\"color: #008080; text-decoration-color: #008080; font-weight: bold\">2</span><span style=\"color: #d4b702; text-decoration-color: #d4b702\"> ━━━━━━━━━━━━━━━━━━━━━━━━━━━━━━━━━━━━━━━━━━━━━━━━━━━━━━</span>\n",
       "</pre>\n"
      ],
      "text/plain": [
       "\u001b[38;2;212;183;2m━━━━━━━━━━━━━━━━━━━━━━━━━━━━━━━━━━━━━━━━━━━━━━━━━━━━━ \u001b[0m\u001b[1mStep \u001b[0m\u001b[1;36m2\u001b[0m\u001b[38;2;212;183;2m ━━━━━━━━━━━━━━━━━━━━━━━━━━━━━━━━━━━━━━━━━━━━━━━━━━━━━━\u001b[0m\n"
      ]
     },
     "metadata": {},
     "output_type": "display_data"
    },
    {
     "data": {
      "text/html": [
       "<pre style=\"white-space:pre;overflow-x:auto;line-height:normal;font-family:Menlo,'DejaVu Sans Mono',consolas,'Courier New',monospace\">╭─────────────────────────────────────────────────────────────────────────────────────────────────────────────────╮\n",
       "│ Calling tool: 'final_answer' with arguments: {'answer': 'Ph.D.'}                                                │\n",
       "╰─────────────────────────────────────────────────────────────────────────────────────────────────────────────────╯\n",
       "</pre>\n"
      ],
      "text/plain": [
       "╭─────────────────────────────────────────────────────────────────────────────────────────────────────────────────╮\n",
       "│ Calling tool: 'final_answer' with arguments: {'answer': 'Ph.D.'}                                                │\n",
       "╰─────────────────────────────────────────────────────────────────────────────────────────────────────────────────╯\n"
      ]
     },
     "metadata": {},
     "output_type": "display_data"
    },
    {
     "data": {
      "text/html": [
       "<pre style=\"white-space:pre;overflow-x:auto;line-height:normal;font-family:Menlo,'DejaVu Sans Mono',consolas,'Courier New',monospace\"><span style=\"color: #d4b702; text-decoration-color: #d4b702; font-weight: bold\">Final answer: Ph.D.</span>\n",
       "</pre>\n"
      ],
      "text/plain": [
       "\u001b[1;38;2;212;183;2mFinal answer: Ph.D.\u001b[0m\n"
      ]
     },
     "metadata": {},
     "output_type": "display_data"
    },
    {
     "data": {
      "text/html": [
       "<pre style=\"white-space:pre;overflow-x:auto;line-height:normal;font-family:Menlo,'DejaVu Sans Mono',consolas,'Courier New',monospace\"><span style=\"color: #7f7f7f; text-decoration-color: #7f7f7f\">[Step 2: Duration 10.20 seconds]</span>\n",
       "</pre>\n"
      ],
      "text/plain": [
       "\u001b[2m[Step 2: Duration 10.20 seconds]\u001b[0m\n"
      ]
     },
     "metadata": {},
     "output_type": "display_data"
    }
   ],
   "source": [
    "# | notest\n",
    "\n",
    "from onprem import LLM\n",
    "from onprem.pipelines import Agent\n",
    "llm = LLM(\"ollama/llama3.1:8b\", mute_stream=True, num_ctx=8182) \n",
    "\n",
    "agent = Agent(llm)\n",
    "agent.add_webview_tool()\n",
    "answer = agent.run(\"What is the highest level of education of the person listed on this page: https://arun.maiya.net?\")"
   ]
  },
  {
   "cell_type": "code",
   "execution_count": null,
   "metadata": {},
   "outputs": [
    {
     "name": "stdout",
     "output_type": "stream",
     "text": [
      "Ph.D.\n"
     ]
    }
   ],
   "source": [
    "# | notest\n",
    "print(answer)"
   ]
  },
  {
   "cell_type": "code",
   "execution_count": null,
   "metadata": {},
   "outputs": [],
   "source": []
  }
 ],
 "metadata": {
  "kernelspec": {
   "display_name": "python3",
   "language": "python",
   "name": "python3"
  }
 },
 "nbformat": 4,
 "nbformat_minor": 4
}
